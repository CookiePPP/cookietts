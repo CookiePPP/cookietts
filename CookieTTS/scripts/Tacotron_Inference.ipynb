{
 "cells": [
  {
   "cell_type": "code",
   "execution_count": 1,
   "metadata": {},
   "outputs": [],
   "source": [
    "import torch\n",
    "import torch.nn as nn\n",
    "import torch.nn.functional as F\n",
    "import numpy as np\n",
    "import time"
   ]
  },
  {
   "cell_type": "code",
   "execution_count": null,
   "metadata": {},
   "outputs": [],
   "source": [
    "torch.Size([1, 1200, 41])\n",
    "torch.Size([1, 600, 81])\n",
    "torch.Size([1, 300, 161])"
   ]
  },
  {
   "cell_type": "code",
   "execution_count": 1,
   "metadata": {},
   "outputs": [
    {
     "data": {
      "text/plain": [
       "49200"
      ]
     },
     "execution_count": 1,
     "metadata": {},
     "output_type": "execute_result"
    }
   ],
   "source": [
    "1200*41"
   ]
  },
  {
   "cell_type": "code",
   "execution_count": 2,
   "metadata": {},
   "outputs": [
    {
     "data": {
      "text/plain": [
       "48600"
      ]
     },
     "execution_count": 2,
     "metadata": {},
     "output_type": "execute_result"
    }
   ],
   "source": [
    "600*81"
   ]
  },
  {
   "cell_type": "code",
   "execution_count": 7,
   "metadata": {},
   "outputs": [
    {
     "data": {
      "text/plain": [
       "48000"
      ]
     },
     "execution_count": 7,
     "metadata": {},
     "output_type": "execute_result"
    }
   ],
   "source": [
    "(300*161)//1200*1200"
   ]
  },
  {
   "cell_type": "code",
   "execution_count": null,
   "metadata": {},
   "outputs": [],
   "source": []
  },
  {
   "cell_type": "code",
   "execution_count": 11,
   "metadata": {},
   "outputs": [
    {
     "name": "stdout",
     "output_type": "stream",
     "text": [
      "Unlinking \"H:\\NoiseDataset\\ESIV\\Traps\\trp_cornerwall_up.wav\"\n",
      "Unlinking \"H:\\NoiseDataset\\ESIV\\Spells\\spl_restoration_travel_lp.wav\"\n",
      "Unlinking \"H:\\NoiseDataset\\ESIV\\Spells\\spl_shock_travel_lp.wav\"\n",
      "Unlinking \"H:\\NoiseDataset\\ESIV\\Item\\itm_pickuporganic.wav\"\n",
      "Unlinking \"H:\\NoiseDataset\\ESIV\\Weapons\\shrtbladaway (2).wav\"\n",
      "Unlinking \"H:\\NoiseDataset\\ESIV\\Weapons\\axeaway (2).wav\"\n",
      "Unlinking \"H:\\NoiseDataset\\ESIV\\Weapons\\shrtbladout (2).wav\"\n",
      "Unlinking \"H:\\NoiseDataset\\ESIV\\Weapons\\bluntout (2).wav\"\n",
      "Unlinking \"H:\\NoiseDataset\\ESIV\\Weapons\\spearaway (2).wav\"\n",
      "Unlinking \"H:\\NoiseDataset\\ESIV\\Weapons\\bluntaway (2).wav\"\n",
      "Unlinking \"H:\\NoiseDataset\\ESIV\\Weapons\\longbladaway (2).wav\"\n",
      "Unlinking \"H:\\NoiseDataset\\ESIV\\Weapons\\longbladout (2).wav\"\n",
      "Unlinking \"H:\\NoiseDataset\\ESIV\\Weapons\\spearout (2).wav\"\n",
      "Unlinking \"H:\\NoiseDataset\\ESIV\\Weapons\\axeout (2).wav\"\n",
      "Unlinking \"H:\\NoiseDataset\\ESIV\\Doors\\drs_displaycase_close.wav\"\n",
      "Unlinking \"H:\\NoiseDataset\\ESIV\\Doors\\drs_displaycase_open.wav\"\n"
     ]
    }
   ],
   "source": [
    "import soundfile as sf\n",
    "from glob import glob\n",
    "import os\n",
    "\n",
    "for audio_file in glob(r\"H:\\NoiseDataset\\ESIV\\**\\*.wav\", recursive=True):\n",
    "    audio, sample_rate = sf.read(audio_file)\n",
    "    if sample_rate < 40000:\n",
    "        print(f'Unlinking \"{audio_file}\"')\n",
    "        os.remove(audio_file)"
   ]
  },
  {
   "cell_type": "code",
   "execution_count": 19,
   "metadata": {},
   "outputs": [
    {
     "data": {
      "text/plain": [
       "[93]"
      ]
     },
     "execution_count": 19,
     "metadata": {},
     "output_type": "execute_result"
    }
   ],
   "source": [
    "import random\n",
    "random.sample(range(100), 1)"
   ]
  },
  {
   "cell_type": "code",
   "execution_count": 30,
   "metadata": {},
   "outputs": [
    {
     "data": {
      "text/plain": [
       "'su gnoma'"
      ]
     },
     "execution_count": 30,
     "metadata": {},
     "output_type": "execute_result"
    }
   ],
   "source": [
    "\"among us\"[::-1]"
   ]
  },
  {
   "cell_type": "code",
   "execution_count": 36,
   "metadata": {},
   "outputs": [
    {
     "data": {
      "text/plain": [
       "tensor(-20.9691)"
      ]
     },
     "execution_count": 36,
     "metadata": {},
     "output_type": "execute_result"
    }
   ],
   "source": [
    "import torch\n",
    "torch.tensor(0.08).log10()*10\n",
    "torch.tensor(0.008).log10()*10"
   ]
  },
  {
   "cell_type": "code",
   "execution_count": 53,
   "metadata": {},
   "outputs": [
    {
     "data": {
      "text/plain": [
       "tensor(3.0024)"
      ]
     },
     "execution_count": 53,
     "metadata": {},
     "output_type": "execute_result"
    }
   ],
   "source": [
    "x = torch.rand(100)\n",
    "(x - x.mean()).pow(2).sum().pow(0.5)"
   ]
  },
  {
   "cell_type": "code",
   "execution_count": 54,
   "metadata": {},
   "outputs": [
    {
     "data": {
      "text/plain": [
       "tensor(1.5012)"
      ]
     },
     "execution_count": 54,
     "metadata": {},
     "output_type": "execute_result"
    }
   ],
   "source": [
    "x *= 0.5\n",
    "(x - x.mean()).pow(2).sum().pow(0.5)"
   ]
  },
  {
   "cell_type": "code",
   "execution_count": 91,
   "metadata": {},
   "outputs": [
    {
     "name": "stdout",
     "output_type": "stream",
     "text": [
      "tensor(14.7712)\n"
     ]
    },
    {
     "data": {
      "text/plain": [
       "tensor(30.0000)"
      ]
     },
     "execution_count": 91,
     "metadata": {},
     "output_type": "execute_result"
    }
   ],
   "source": [
    "db = torch.tensor(30.).log10()*10.\n",
    "print(db)\n",
    "torch.tensor(10.).pow(db/10.)"
   ]
  },
  {
   "cell_type": "code",
   "execution_count": 106,
   "metadata": {},
   "outputs": [
    {
     "data": {
      "text/plain": [
       "tensor(1.)"
      ]
     },
     "execution_count": 106,
     "metadata": {},
     "output_type": "execute_result"
    }
   ],
   "source": [
    "torch.tensor(10.).pow(0)"
   ]
  },
  {
   "cell_type": "code",
   "execution_count": 105,
   "metadata": {},
   "outputs": [
    {
     "name": "stdout",
     "output_type": "stream",
     "text": [
      "tensor(20.0000)\n"
     ]
    }
   ],
   "source": [
    "import random\n",
    "import torch\n",
    "\n",
    "audio = torch.rand(500)\n",
    "noise_audio = audio * 0.05\n",
    "\n",
    "SNRdb = 0.\n",
    "target_SNR = 10.**(SNRdb/10.)\n",
    "noise_audio_RMS = (noise_audio - noise_audio.mean()).pow(2).sum().pow(0.5)\n",
    "audio_RMS = (audio - audio.mean()).pow(2).sum().pow(0.5)\n",
    "current_SNR = (audio_RMS**2)/(noise_audio_RMS**2)\n",
    "delta_SNR = current_SNR/target_SNR\n",
    "noise_audio = noise_audio * (delta_SNR**0.5) # balance SNR (Signal-Noise Ratio) by adjusting volume within a range\n"
   ]
  },
  {
   "cell_type": "code",
   "execution_count": 107,
   "metadata": {},
   "outputs": [
    {
     "name": "stdout",
     "output_type": "stream",
     "text": [
      "15 16\n"
     ]
    }
   ],
   "source": [
    "kernel_size = 32\n",
    "left_pad, right_pad = (kernel_size-1)//2, -(-(kernel_size-1)//2)\n",
    "print(left_pad, right_pad)"
   ]
  },
  {
   "cell_type": "code",
   "execution_count": null,
   "metadata": {},
   "outputs": [],
   "source": []
  }
 ],
 "metadata": {
  "kernelspec": {
   "display_name": "Python 3",
   "language": "python",
   "name": "python3"
  },
  "language_info": {
   "codemirror_mode": {
    "name": "ipython",
    "version": 3
   },
   "file_extension": ".py",
   "mimetype": "text/x-python",
   "name": "python",
   "nbconvert_exporter": "python",
   "pygments_lexer": "ipython3",
   "version": "3.7.6"
  }
 },
 "nbformat": 4,
 "nbformat_minor": 4
}
