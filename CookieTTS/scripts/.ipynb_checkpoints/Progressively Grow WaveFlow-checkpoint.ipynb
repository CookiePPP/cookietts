{
 "cells": [
  {
   "cell_type": "markdown",
   "metadata": {},
   "source": [
    "### This notebook should allow adding more channels to the WN layers without resetting the old weights.1\n",
    "\n",
    " - Currently NOT working"
   ]
  },
  {
   "cell_type": "code",
   "execution_count": null,
   "metadata": {},
   "outputs": [],
   "source": [
    "import torch\n",
    "import os\n",
    "\n",
    "# move to waveflow directory\n",
    "os.chdir(r\"G:\\TwiBot\\tacotron2\\waveglow_latest\")"
   ]
  },
  {
   "cell_type": "markdown",
   "metadata": {},
   "source": [
    "# merging arrays"
   ]
  },
  {
   "cell_type": "code",
   "execution_count": 9,
   "metadata": {},
   "outputs": [
    {
     "name": "stdout",
     "output_type": "stream",
     "text": [
      "[['audio_0.wav', 22050], ['audio_1.wav', 44100], ['audio_2.wav', 48000], ['audio_0.wav', 22050], ['audio_1.wav', 44100], ['audio_2.wav', 48000]]\n"
     ]
    }
   ],
   "source": [
    "arr = [[['audio_0.wav',22050], ['audio_1.wav',44100], ['audio_2.wav',48000],],[['audio_0.wav',22050], ['audio_1.wav',44100], ['audio_2.wav',48000],]]\n",
    "out = []\n",
    "_ = [out.extend(x) for x in arr]\n",
    "print(out)"
   ]
  },
  {
   "cell_type": "code",
   "execution_count": 60,
   "metadata": {},
   "outputs": [
    {
     "name": "stdout",
     "output_type": "stream",
     "text": [
      ";dataset                |dataset_type        |speaker_name                    |speaker_id|duration_hrs\n",
      "My Little Pony          |Show                |Twilight                        |279       |  2.5984\n",
      "My Little Pony          |Show                |Mean Twilight Sparkle           |279       |  2.5984\n",
      "My Little Pony          |Show                |Celestia                        |279       |  2.5984\n",
      "A Little Bit Wicked     |Audiobook           |Kristin Chenoworth              |280       |  1.1246\n",
      "VCTK                    |Newspaper Extracts  |p239                            |281       |  0.7531\n",
      "VCTK                    |Newspaper Extracts  |p240                            |282       |  0.6554\n",
      "VCTK                    |Newspaper Extracts  |p241                            |283       |  0.6815\n",
      "LJSpeech                |Audiobook           |LJSpeech                        |284       | 23.4785\n"
     ]
    }
   ],
   "source": [
    "print( f';{\"dataset\":<23}|{\"dataset_type\":<20}|{\"speaker_name\":<32}|{\"speaker_id\":<10}|duration_hrs' )\n",
    "print( f'{\"My Little Pony\":<24}|{\"Show\":<20}|{\"Twilight\":<32}|{279:<10}|{2.5984:>8.4f}' )\n",
    "print( f'{\"My Little Pony\":<24}|{\"Show\":<20}|{\"Mean Twilight Sparkle\":<32}|{279:<10}|{2.5984:>8.4f}' )\n",
    "print( f'{\"My Little Pony\":<24}|{\"Show\":<20}|{\"Celestia\":<32}|{279:<10}|{2.5984:>8.4f}' )\n",
    "print( f'{\"A Little Bit Wicked\":<24}|{\"Audiobook\":<20}|{\"Kristin Chenoworth\":<32}|{280:<10}|{1.1245665464:>8.4f}' )\n",
    "print( f'{\"VCTK\":<24}|{\"Newspaper Extracts\":<20}|{\"p239\":<32}|{281:<10}|{0.7531:>8.4f}' )\n",
    "print( f'{\"VCTK\":<24}|{\"Newspaper Extracts\":<20}|{\"p240\":<32}|{282:<10}|{0.6554:>8.4f}' )\n",
    "print( f'{\"VCTK\":<24}|{\"Newspaper Extracts\":<20}|{\"p241\":<32}|{283:<10}|{0.6815:>8.4f}' )\n",
    "print( f'{\"LJSpeech\":<24}|{\"Audiobook\":<20}|{\"LJSpeech\":<32}|{284:<10}|{23.4785:>8.4f}' )"
   ]
  },
  {
   "cell_type": "markdown",
   "metadata": {},
   "source": [
    "# merging dicts"
   ]
  },
  {
   "cell_type": "code",
   "execution_count": 65,
   "metadata": {},
   "outputs": [
    {
     "name": "stdout",
     "output_type": "stream",
     "text": [
      "dict_items([('audio_0.wav', 22050), ('audio_1.wav', 44100), ('audio_2.wav', 48000), ('audio_3.wav', 16000), ('audio_4.wav', 96000), ('audio_5.wav', 8000)])\n",
      "{'audio_0.wav': 22050, 'audio_1.wav': 44100, 'audio_2.wav': 48000, 'audio_3.wav': 16000, 'audio_4.wav': 96000, 'audio_5.wav': 8000}\n"
     ]
    }
   ],
   "source": [
    "aarr = [[['audio_0.wav',22050], ['audio_1.wav',44100], ['audio_2.wav',48000],],[['audio_0.wav',22050], ['audio_1.wav',44100], ['audio_2.wav',48000],]]\n",
    "dicts = [{'audio_0.wav': 22050, 'audio_1.wav': 44100, 'audio_2.wav': 48000}, {'audio_3.wav': 16000, 'audio_4.wav': 96000, 'audio_5.wav': 8000}]\n",
    "merged_dicts = {k:v for list_item in dicts for (k,v) in list_item.items()}\n",
    "print(merged_dicts.items())\n",
    "print(merged_dicts)"
   ]
  },
  {
   "cell_type": "code",
   "execution_count": 132,
   "metadata": {},
   "outputs": [
    {
     "data": {
      "text/plain": [
       "{'Bored', 'Happy', 'Neutral', 'Sleepy'}"
      ]
     },
     "execution_count": 132,
     "metadata": {},
     "output_type": "execute_result"
    }
   ],
   "source": [
    "meta = {}\n",
    "meta['LJSpeech'] = []\n",
    "meta['LJSpeech'].append({\"path\": \"audio_0.wav\", \"emotions\": ['Neutral']})\n",
    "meta['LJSpeech'].append({\"path\": \"audio_1.wav\", \"emotions\": ['Happy']})\n",
    "meta['VCTK'] = []\n",
    "meta['VCTK'].append({\"path\": \"p249_001.wav\", \"emotions\": ['Bored']})\n",
    "meta['VCTK'].append({\"path\": \"p249_002.wav\", \"emotions\": ['Sleepy']})\n",
    "seen = set()\n"
   ]
  },
  {
   "cell_type": "code",
   "execution_count": 133,
   "metadata": {},
   "outputs": [
    {
     "name": "stdout",
     "output_type": "stream",
     "text": [
      "[4, 1, 2, 3]\n"
     ]
    }
   ],
   "source": [
    "x = [0,1,2,3]\n",
    "x[0] = 4\n",
    "print(x)"
   ]
  },
  {
   "cell_type": "code",
   "execution_count": 196,
   "metadata": {},
   "outputs": [
    {
     "name": "stdout",
     "output_type": "stream",
     "text": [
      "WaveFlow Modified 48.00Khz\n",
      " Receptive Width:  6400\n",
      "Receptive Height:  64\n",
      "----------------------------------------\n",
      "Default WaveFlow 22.05Khz\n",
      " Receptive Width:  2048\n",
      "Receptive Height:  16\n"
     ]
    }
   ],
   "source": [
    "print(\"WaveFlow Modified 48.00Khz\")\n",
    "n_layers = 7\n",
    "n_group = 50\n",
    "kernel_w = 3\n",
    "kernel_h = 2\n",
    "h_dilation_cycle = 8\n",
    "\n",
    "assert (kernel_w%2==1), 'kernel_w must be odd'\n",
    "h_dilation = min(2**(n_layers-1),2**(h_dilation_cycle-1))\n",
    "width = (2**(n_layers-1)) * (kernel_w-1) * n_group\n",
    "height = h_dilation * (kernel_h-1)\n",
    "print(' Receptive Width: ', width)\n",
    "print('Receptive Height: ', height)\n",
    "\n",
    "###################################\n",
    "print(\"-\"*40)######################\n",
    "print(\"Default WaveFlow 22.05Khz\")#\n",
    "###################################\n",
    "\n",
    "n_layers = 8\n",
    "n_group = 8\n",
    "kernel_w = 3\n",
    "kernel_h = 3\n",
    "h_dilation_cycle = 4\n",
    "\n",
    "assert (kernel_w%2==1), 'kernel_w must be odd'\n",
    "h_dilation = min(2**(n_layers-1),2**(h_dilation_cycle-1))\n",
    "width = (2**(n_layers-1)) * (kernel_w-1) * n_group\n",
    "height = h_dilation * (kernel_h-1)\n",
    "print(' Receptive Width: ', width)\n",
    "print('Receptive Height: ', height)"
   ]
  },
  {
   "cell_type": "code",
   "execution_count": 197,
   "metadata": {},
   "outputs": [
    {
     "data": {
      "text/plain": [
       "tensor([4, 3, 2, 1, 0])"
      ]
     },
     "execution_count": 197,
     "metadata": {},
     "output_type": "execute_result"
    }
   ],
   "source": [
    "import torch\n",
    "torch.arange(5)[[4,3,2,1,0],]"
   ]
  },
  {
   "cell_type": "code",
   "execution_count": 206,
   "metadata": {},
   "outputs": [
    {
     "name": "stdout",
     "output_type": "stream",
     "text": [
      "!?,.;:␤#-_'\"()[]\n",
      "\n"
     ]
    },
    {
     "data": {
      "text/plain": [
       "'!?,.;:␤#-_\\'\"()[]\\n'"
      ]
     },
     "execution_count": 206,
     "metadata": {},
     "output_type": "execute_result"
    }
   ],
   "source": [
    "print(\"!?,.;:␤#-_'\\\"()[]\\n\")\n",
    "\"!?,.;:␤#-_'\\\"()[]\\n\""
   ]
  },
  {
   "cell_type": "code",
   "execution_count": 28,
   "metadata": {},
   "outputs": [
    {
     "data": {
      "text/plain": [
       "'.wav'"
      ]
     },
     "execution_count": 28,
     "metadata": {},
     "output_type": "execute_result"
    }
   ],
   "source": [
    "import os\n",
    "os.path.splitext(os.path.split(\"/media/cookie/Samsung PM961/TwiBot/CookiePPPTTS/CookieTTS/_1_preprocess/datasets/Clipper_MLP/Sliced Dialogue/FiM/S7/s7e23/00_19_55_Pinkie_Neutral__Oh, i can't believe you're willing to eat This terrible pie for me.wav\")[-1])[-1]"
   ]
  },
  {
   "cell_type": "code",
   "execution_count": 32,
   "metadata": {},
   "outputs": [
    {
     "name": "stdout",
     "output_type": "stream",
     "text": [
      "/media/cookie/Samsung PM961/TwiBot/CookiePPPTTS/CookieTTS/_1_preprocess/datasets/Clipper_MLP/Sliced Dialogue/FiM/S7/s7e23/00_19_55_Pinkie_Neutral__Oh, i can't believe you're willing to eat This terrible pie for me.\n",
      "/media/cookie/Samsung PM961/TwiBot/CookiePPPTTS/CookieTTS/_1_preprocess/datasets/Clipper_MLP/Sliced Dialogue/FiM/S7/s7e23/00_19_55_Pinkie_Neutral__Oh, i can't believe you're willing to eat This terrible pie for me\n"
     ]
    }
   ],
   "source": [
    "print(\n",
    "    os.path.splitext(\"/media/cookie/Samsung PM961/TwiBot/CookiePPPTTS/CookieTTS/_1_preprocess/datasets/Clipper_MLP/Sliced Dialogue/FiM/S7/s7e23/00_19_55_Pinkie_Neutral__Oh, i can't believe you're willing to eat This terrible pie for me..wav\")[0]\n",
    ")\n",
    "print(\n",
    "    os.path.splitext(\"/media/cookie/Samsung PM961/TwiBot/CookiePPPTTS/CookieTTS/_1_preprocess/datasets/Clipper_MLP/Sliced Dialogue/FiM/S7/s7e23/00_19_55_Pinkie_Neutral__Oh, i can't believe you're willing to eat This terrible pie for me..wav\")[0].rstrip('.')\n",
    ")"
   ]
  },
  {
   "cell_type": "code",
   "execution_count": 33,
   "metadata": {},
   "outputs": [],
   "source": [
    "from glob import glob\n",
    "file_arr = glob('E:\\downloads\\Clipper_MLP\\**\\*.flac', recursive=True)\n",
    "file_dict = {x: (os.path.splitext(x)[0].rstrip('.')+os.path.splitext(x)[-1]) for x in file_arr if x != (os.path.splitext(x)[0].rstrip('.')+os.path.splitext(x)[-1])}"
   ]
  },
  {
   "cell_type": "code",
   "execution_count": 39,
   "metadata": {},
   "outputs": [
    {
     "ename": "FileNotFoundError",
     "evalue": "audio file at \"asdsa.wav\" has no matching txt file.",
     "output_type": "error",
     "traceback": [
      "\u001b[1;31m---------------------------------------------------------------------------\u001b[0m",
      "\u001b[1;31mFileNotFoundError\u001b[0m                         Traceback (most recent call last)",
      "\u001b[1;32m<ipython-input-39-eaa98814ea52>\u001b[0m in \u001b[0;36m<module>\u001b[1;34m\u001b[0m\n\u001b[1;32m----> 1\u001b[1;33m \u001b[1;32mraise\u001b[0m \u001b[0mFileNotFoundError\u001b[0m\u001b[1;33m(\u001b[0m\u001b[1;34mf'audio file at \"asdsa.wav\" has no matching txt file.'\u001b[0m\u001b[1;33m)\u001b[0m\u001b[1;33m\u001b[0m\u001b[1;33m\u001b[0m\u001b[0m\n\u001b[0m",
      "\u001b[1;31mFileNotFoundError\u001b[0m: audio file at \"asdsa.wav\" has no matching txt file."
     ]
    }
   ],
   "source": [
    "raise FileNotFoundError(f'audio file at \"asdsa.wav\" has no matching txt file.')"
   ]
  },
  {
   "cell_type": "code",
   "execution_count": 40,
   "metadata": {},
   "outputs": [
    {
     "ename": "OSError",
     "evalue": "[WinError 17] The system cannot move the file to a different disk drive: 'H:\\\\TTCheckpoints\\\\waveflow\\\\7thHeightDilated\\\\samples\\\\906500-2020_06_28-19_46_50\\\\00_10_25_Applejack_Neutral__They sounded mighty serious when hey threatened to run us out of Business.wav' -> 'E:\\\\downloads\\\\Littlepip\\\\capp.wav'",
     "output_type": "error",
     "traceback": [
      "\u001b[1;31m---------------------------------------------------------------------------\u001b[0m",
      "\u001b[1;31mOSError\u001b[0m                                   Traceback (most recent call last)",
      "\u001b[1;32m<ipython-input-40-b032ff5a91c4>\u001b[0m in \u001b[0;36m<module>\u001b[1;34m\u001b[0m\n\u001b[0;32m      1\u001b[0m os.link(\n\u001b[0;32m      2\u001b[0m     \u001b[1;34mr\"H:\\TTCheckpoints\\waveflow\\7thHeightDilated\\samples\\906500-2020_06_28-19_46_50\\00_10_25_Applejack_Neutral__They sounded mighty serious when hey threatened to run us out of Business.wav\"\u001b[0m\u001b[1;33m,\u001b[0m\u001b[1;33m\u001b[0m\u001b[1;33m\u001b[0m\u001b[0m\n\u001b[1;32m----> 3\u001b[1;33m     \u001b[1;34mr\"E:\\downloads\\Littlepip\\capp.wav\"\u001b[0m\u001b[1;33m\u001b[0m\u001b[1;33m\u001b[0m\u001b[0m\n\u001b[0m\u001b[0;32m      4\u001b[0m )\n",
      "\u001b[1;31mOSError\u001b[0m: [WinError 17] The system cannot move the file to a different disk drive: 'H:\\\\TTCheckpoints\\\\waveflow\\\\7thHeightDilated\\\\samples\\\\906500-2020_06_28-19_46_50\\\\00_10_25_Applejack_Neutral__They sounded mighty serious when hey threatened to run us out of Business.wav' -> 'E:\\\\downloads\\\\Littlepip\\\\capp.wav'"
     ]
    }
   ],
   "source": [
    "os.link(\n",
    "    r\"H:\\TTCheckpoints\\waveflow\\7thHeightDilated\\samples\\906500-2020_06_28-19_46_50\\00_10_25_Applejack_Neutral__They sounded mighty serious when hey threatened to run us out of Business.wav\",\n",
    "    r\"E:\\downloads\\Littlepip\\capp.wav\"\n",
    ")"
   ]
  },
  {
   "cell_type": "code",
   "execution_count": 62,
   "metadata": {},
   "outputs": [
    {
     "name": "stdout",
     "output_type": "stream",
     "text": [
      "0 1 1\n",
      "1 2 2\n"
     ]
    }
   ],
   "source": [
    "_dict = {'1': 1, '2': 2}\n",
    "for i, (key, value) in enumerate(_dict.items()):\n",
    "    print(i, key, value)"
   ]
  },
  {
   "cell_type": "code",
   "execution_count": 64,
   "metadata": {},
   "outputs": [
    {
     "data": {
      "text/plain": [
       "'asdipsapojdas'"
      ]
     },
     "execution_count": 64,
     "metadata": {},
     "output_type": "execute_result"
    }
   ],
   "source": [
    "'\"asdipsapojdas\"'.strip('\"')"
   ]
  },
  {
   "cell_type": "code",
   "execution_count": 79,
   "metadata": {},
   "outputs": [
    {
     "name": "stdout",
     "output_type": "stream",
     "text": [
      "G:\\TwiBot\\CookiePPPTTS\\CookieTTS\\scripts\\audio\\blah.txt\n",
      "G:\\TwiBot\\CookiePPPTTS\\CookieTTS\\scripts\\audio\\blah.txt\n"
     ]
    }
   ],
   "source": [
    "print(\n",
    "    os.path.abspath('audio/blah.txt'),\n",
    "    os.path.abspath('audio\\\\blah.txt'),\n",
    "    sep='\\n')"
   ]
  },
  {
   "cell_type": "markdown",
   "metadata": {},
   "source": [
    "# Montreal Forced Aligner Output Parsing"
   ]
  },
  {
   "cell_type": "code",
   "execution_count": null,
   "metadata": {},
   "outputs": [],
   "source": []
  },
  {
   "cell_type": "code",
   "execution_count": 146,
   "metadata": {},
   "outputs": [],
   "source": [
    "text = \"\"\"File type = \"ooTextFile\"\n",
    "Object class = \"TextGrid\"\n",
    "\n",
    "xmin = 0.0\n",
    "xmax = 4.024125\n",
    "tiers? <exists>\n",
    "size = 2\n",
    "item []:\n",
    "\titem [1]:\n",
    "\t\tclass = \"IntervalTier\"\n",
    "\t\tname = \"words\"\n",
    "\t\txmin = 0.0\n",
    "\t\txmax = 4.024125\n",
    "\t\tintervals: size = 11\n",
    "\t\t\tintervals [1]:\n",
    "\t\t\t\txmin = 0.000\n",
    "\t\t\t\txmax = 0.320\n",
    "\t\t\t\ttext = \"it's\"\n",
    "\t\t\tintervals [2]:\n",
    "\t\t\t\txmin = 0.320\n",
    "\t\t\t\txmax = 0.620\n",
    "\t\t\t\ttext = \"so\"\n",
    "\t\t\tintervals [3]:\n",
    "\t\t\t\txmin = 0.620\n",
    "\t\t\t\txmax = 0.650\n",
    "\t\t\t\ttext = \"\"\n",
    "\t\t\tintervals [4]:\n",
    "\t\t\t\txmin = 0.650\n",
    "\t\t\t\txmax = 1.030\n",
    "\t\t\t\ttext = \"empty\"\n",
    "\t\t\tintervals [5]:\n",
    "\t\t\t\txmin = 1.030\n",
    "\t\t\t\txmax = 1.950\n",
    "\t\t\t\ttext = \"and\"\n",
    "\t\t\tintervals [6]:\n",
    "\t\t\t\txmin = 1.950\n",
    "\t\t\t\txmax = 1.980\n",
    "\t\t\t\ttext = \"\"\n",
    "\t\t\tintervals [7]:\n",
    "\t\t\t\txmin = 1.980\n",
    "\t\t\t\txmax = 2.330\n",
    "\t\t\t\ttext = \"quiet\"\n",
    "\t\t\tintervals [8]:\n",
    "\t\t\t\txmin = 2.330\n",
    "\t\t\t\txmax = 3.000\n",
    "\t\t\t\ttext = \"and\"\n",
    "\t\t\tintervals [9]:\n",
    "\t\t\t\txmin = 3.000\n",
    "\t\t\t\txmax = 3.310\n",
    "\t\t\t\ttext = \"\"\n",
    "\t\t\tintervals [10]:\n",
    "\t\t\t\txmin = 3.310\n",
    "\t\t\t\txmax = 3.750\n",
    "\t\t\t\ttext = \"lonely\"\n",
    "\t\t\tintervals [11]:\n",
    "\t\t\t\txmin = 3.750\n",
    "\t\t\t\txmax = 4.024125\n",
    "\t\t\t\ttext = \"\"\n",
    "\titem [2]:\n",
    "\t\tclass = \"IntervalTier\"\n",
    "\t\tname = \"phones\"\n",
    "\t\txmin = 0.0\n",
    "\t\txmax = 4.024125\n",
    "\t\tintervals: size = 30\n",
    "\t\t\tintervals [1]:\n",
    "\t\t\t\txmin = 0.000\n",
    "\t\t\t\txmax = 0.160\n",
    "\t\t\t\ttext = \"IH0\"\n",
    "\t\t\tintervals [2]:\n",
    "\t\t\t\txmin = 0.160\n",
    "\t\t\t\txmax = 0.260\n",
    "\t\t\t\ttext = \"T\"\n",
    "\t\t\tintervals [3]:\n",
    "\t\t\t\txmin = 0.260\n",
    "\t\t\t\txmax = 0.320\n",
    "\t\t\t\ttext = \"S\"\n",
    "\t\t\tintervals [4]:\n",
    "\t\t\t\txmin = 0.320\n",
    "\t\t\t\txmax = 0.380\n",
    "\t\t\t\ttext = \"S\"\n",
    "\t\t\tintervals [5]:\n",
    "\t\t\t\txmin = 0.380\n",
    "\t\t\t\txmax = 0.620\n",
    "\t\t\t\ttext = \"OW1\"\n",
    "\t\t\tintervals [6]:\n",
    "\t\t\t\txmin = 0.620\n",
    "\t\t\t\txmax = 0.650\n",
    "\t\t\t\ttext = \"sp\"\n",
    "\t\t\tintervals [7]:\n",
    "\t\t\t\txmin = 0.650\n",
    "\t\t\t\txmax = 0.770\n",
    "\t\t\t\ttext = \"EH1\"\n",
    "\t\t\tintervals [8]:\n",
    "\t\t\t\txmin = 0.770\n",
    "\t\t\t\txmax = 0.950\n",
    "\t\t\t\ttext = \"M\"\n",
    "\t\t\tintervals [9]:\n",
    "\t\t\t\txmin = 0.950\n",
    "\t\t\t\txmax = 1.000\n",
    "\t\t\t\ttext = \"T\"\n",
    "\t\t\tintervals [10]:\n",
    "\t\t\t\txmin = 1.000\n",
    "\t\t\t\txmax = 1.030\n",
    "\t\t\t\ttext = \"IY0\"\n",
    "\t\t\tintervals [11]:\n",
    "\t\t\t\txmin = 1.030\n",
    "\t\t\t\txmax = 1.060\n",
    "\t\t\t\ttext = \"AH0\"\n",
    "\t\t\tintervals [12]:\n",
    "\t\t\t\txmin = 1.060\n",
    "\t\t\t\txmax = 1.550\n",
    "\t\t\t\ttext = \"N\"\n",
    "\t\t\tintervals [13]:\n",
    "\t\t\t\txmin = 1.550\n",
    "\t\t\t\txmax = 1.950\n",
    "\t\t\t\ttext = \"D\"\n",
    "\t\t\tintervals [14]:\n",
    "\t\t\t\txmin = 1.950\n",
    "\t\t\t\txmax = 1.980\n",
    "\t\t\t\ttext = \"sp\"\n",
    "\t\t\tintervals [15]:\n",
    "\t\t\t\txmin = 1.980\n",
    "\t\t\t\txmax = 2.020\n",
    "\t\t\t\ttext = \"K\"\n",
    "\t\t\tintervals [16]:\n",
    "\t\t\t\txmin = 2.020\n",
    "\t\t\t\txmax = 2.070\n",
    "\t\t\t\ttext = \"W\"\n",
    "\t\t\tintervals [17]:\n",
    "\t\t\t\txmin = 2.070\n",
    "\t\t\t\txmax = 2.220\n",
    "\t\t\t\ttext = \"AY1\"\n",
    "\t\t\tintervals [18]:\n",
    "\t\t\t\txmin = 2.220\n",
    "\t\t\t\txmax = 2.300\n",
    "\t\t\t\ttext = \"AH0\"\n",
    "\t\t\tintervals [19]:\n",
    "\t\t\t\txmin = 2.300\n",
    "\t\t\t\txmax = 2.330\n",
    "\t\t\t\ttext = \"T\"\n",
    "\t\t\tintervals [20]:\n",
    "\t\t\t\txmin = 2.330\n",
    "\t\t\t\txmax = 2.360\n",
    "\t\t\t\ttext = \"AH0\"\n",
    "\t\t\tintervals [21]:\n",
    "\t\t\t\txmin = 2.360\n",
    "\t\t\t\txmax = 2.390\n",
    "\t\t\t\ttext = \"N\"\n",
    "\t\t\tintervals [22]:\n",
    "\t\t\t\txmin = 2.390\n",
    "\t\t\t\txmax = 3.000\n",
    "\t\t\t\ttext = \"D\"\n",
    "\t\t\tintervals [23]:\n",
    "\t\t\t\txmin = 3.000\n",
    "\t\t\t\txmax = 3.310\n",
    "\t\t\t\ttext = \"sp\"\n",
    "\t\t\tintervals [24]:\n",
    "\t\t\t\txmin = 3.310\n",
    "\t\t\t\txmax = 3.360\n",
    "\t\t\t\ttext = \"L\"\n",
    "\t\t\tintervals [25]:\n",
    "\t\t\t\txmin = 3.360\n",
    "\t\t\t\txmax = 3.460\n",
    "\t\t\t\ttext = \"OW1\"\n",
    "\t\t\tintervals [26]:\n",
    "\t\t\t\txmin = 3.460\n",
    "\t\t\t\txmax = 3.560\n",
    "\t\t\t\ttext = \"N\"\n",
    "\t\t\tintervals [27]:\n",
    "\t\t\t\txmin = 3.560\n",
    "\t\t\t\txmax = 3.630\n",
    "\t\t\t\ttext = \"L\"\n",
    "\t\t\tintervals [28]:\n",
    "\t\t\t\txmin = 3.630\n",
    "\t\t\t\txmax = 3.750\n",
    "\t\t\t\ttext = \"IY0\"\n",
    "\t\t\tintervals [29]:\n",
    "\t\t\t\txmin = 3.750\n",
    "\t\t\t\txmax = 4.000\n",
    "\t\t\t\ttext = \"sp\"\n",
    "\t\t\tintervals [30]:\n",
    "\t\t\t\txmin = 4.000\n",
    "\t\t\t\txmax = 4.024125\n",
    "\t\t\t\ttext = \"\"\n",
    "\"\"\""
   ]
  },
  {
   "cell_type": "code",
   "execution_count": 174,
   "metadata": {},
   "outputs": [
    {
     "name": "stdout",
     "output_type": "stream",
     "text": [
      "IH0-T-S-S-OW1-sp-EH1-M-T-IY0-AH0-N-D-sp-K-W-AY1-AH0-T-AH0-N-D-sp-L-OW1-N-L-IY0-sp-\n",
      "it's-so--empty-and--quiet-and--lonely-\n",
      "It's so empty, and quiet, and lonely.\n",
      "[['IH0']]\n",
      "[['IH0', 'T']]\n",
      "[['IH0', 'T', 'S']]\n",
      "[['IH0', 'T', 'S'], []]\n",
      "[['IH0', 'T', 'S'], ['S']]\n",
      "[['IH0', 'T', 'S'], ['S', 'OW1']]\n",
      "[['IH0', 'T', 'S'], ['S', 'OW1'], []]\n",
      "[['IH0', 'T', 'S'], ['S', 'OW1'], ['sp']]\n",
      "[['IH0', 'T', 'S'], ['S', 'OW1'], ['sp'], []]\n",
      "[['IH0', 'T', 'S'], ['S', 'OW1'], ['sp'], ['EH1']]\n",
      "[['IH0', 'T', 'S'], ['S', 'OW1'], ['sp'], ['EH1', 'M']]\n",
      "[['IH0', 'T', 'S'], ['S', 'OW1'], ['sp'], ['EH1', 'M', 'T']]\n",
      "[['IH0', 'T', 'S'], ['S', 'OW1'], ['sp'], ['EH1', 'M', 'T', 'IY0']]\n",
      "[['IH0', 'T', 'S'], ['S', 'OW1'], ['sp'], ['EH1', 'M', 'T', 'IY0'], []]\n",
      "[['IH0', 'T', 'S'], ['S', 'OW1'], ['sp'], ['EH1', 'M', 'T', 'IY0'], ['AH0']]\n",
      "[['IH0', 'T', 'S'], ['S', 'OW1'], ['sp'], ['EH1', 'M', 'T', 'IY0'], ['AH0', 'N']]\n",
      "[['IH0', 'T', 'S'], ['S', 'OW1'], ['sp'], ['EH1', 'M', 'T', 'IY0'], ['AH0', 'N', 'D']]\n",
      "[['IH0', 'T', 'S'], ['S', 'OW1'], ['sp'], ['EH1', 'M', 'T', 'IY0'], ['AH0', 'N', 'D'], []]\n",
      "[['IH0', 'T', 'S'], ['S', 'OW1'], ['sp'], ['EH1', 'M', 'T', 'IY0'], ['AH0', 'N', 'D'], ['sp']]\n",
      "[['IH0', 'T', 'S'], ['S', 'OW1'], ['sp'], ['EH1', 'M', 'T', 'IY0'], ['AH0', 'N', 'D'], ['sp'], []]\n",
      "[['IH0', 'T', 'S'], ['S', 'OW1'], ['sp'], ['EH1', 'M', 'T', 'IY0'], ['AH0', 'N', 'D'], ['sp'], ['K']]\n",
      "[['IH0', 'T', 'S'], ['S', 'OW1'], ['sp'], ['EH1', 'M', 'T', 'IY0'], ['AH0', 'N', 'D'], ['sp'], ['K', 'W']]\n",
      "[['IH0', 'T', 'S'], ['S', 'OW1'], ['sp'], ['EH1', 'M', 'T', 'IY0'], ['AH0', 'N', 'D'], ['sp'], ['K', 'W', 'AY1']]\n",
      "[['IH0', 'T', 'S'], ['S', 'OW1'], ['sp'], ['EH1', 'M', 'T', 'IY0'], ['AH0', 'N', 'D'], ['sp'], ['K', 'W', 'AY1', 'AH0']]\n",
      "[['IH0', 'T', 'S'], ['S', 'OW1'], ['sp'], ['EH1', 'M', 'T', 'IY0'], ['AH0', 'N', 'D'], ['sp'], ['K', 'W', 'AY1', 'AH0', 'T']]\n",
      "[['IH0', 'T', 'S'], ['S', 'OW1'], ['sp'], ['EH1', 'M', 'T', 'IY0'], ['AH0', 'N', 'D'], ['sp'], ['K', 'W', 'AY1', 'AH0', 'T'], []]\n",
      "[['IH0', 'T', 'S'], ['S', 'OW1'], ['sp'], ['EH1', 'M', 'T', 'IY0'], ['AH0', 'N', 'D'], ['sp'], ['K', 'W', 'AY1', 'AH0', 'T'], ['AH0']]\n",
      "[['IH0', 'T', 'S'], ['S', 'OW1'], ['sp'], ['EH1', 'M', 'T', 'IY0'], ['AH0', 'N', 'D'], ['sp'], ['K', 'W', 'AY1', 'AH0', 'T'], ['AH0', 'N']]\n",
      "[['IH0', 'T', 'S'], ['S', 'OW1'], ['sp'], ['EH1', 'M', 'T', 'IY0'], ['AH0', 'N', 'D'], ['sp'], ['K', 'W', 'AY1', 'AH0', 'T'], ['AH0', 'N', 'D']]\n",
      "[['IH0', 'T', 'S'], ['S', 'OW1'], ['sp'], ['EH1', 'M', 'T', 'IY0'], ['AH0', 'N', 'D'], ['sp'], ['K', 'W', 'AY1', 'AH0', 'T'], ['AH0', 'N', 'D'], []]\n",
      "[['IH0', 'T', 'S'], ['S', 'OW1'], ['sp'], ['EH1', 'M', 'T', 'IY0'], ['AH0', 'N', 'D'], ['sp'], ['K', 'W', 'AY1', 'AH0', 'T'], ['AH0', 'N', 'D'], ['sp']]\n",
      "[['IH0', 'T', 'S'], ['S', 'OW1'], ['sp'], ['EH1', 'M', 'T', 'IY0'], ['AH0', 'N', 'D'], ['sp'], ['K', 'W', 'AY1', 'AH0', 'T'], ['AH0', 'N', 'D'], ['sp'], []]\n",
      "[['IH0', 'T', 'S'], ['S', 'OW1'], ['sp'], ['EH1', 'M', 'T', 'IY0'], ['AH0', 'N', 'D'], ['sp'], ['K', 'W', 'AY1', 'AH0', 'T'], ['AH0', 'N', 'D'], ['sp'], ['L']]\n",
      "[['IH0', 'T', 'S'], ['S', 'OW1'], ['sp'], ['EH1', 'M', 'T', 'IY0'], ['AH0', 'N', 'D'], ['sp'], ['K', 'W', 'AY1', 'AH0', 'T'], ['AH0', 'N', 'D'], ['sp'], ['L', 'OW1']]\n",
      "[['IH0', 'T', 'S'], ['S', 'OW1'], ['sp'], ['EH1', 'M', 'T', 'IY0'], ['AH0', 'N', 'D'], ['sp'], ['K', 'W', 'AY1', 'AH0', 'T'], ['AH0', 'N', 'D'], ['sp'], ['L', 'OW1', 'N']]\n",
      "[['IH0', 'T', 'S'], ['S', 'OW1'], ['sp'], ['EH1', 'M', 'T', 'IY0'], ['AH0', 'N', 'D'], ['sp'], ['K', 'W', 'AY1', 'AH0', 'T'], ['AH0', 'N', 'D'], ['sp'], ['L', 'OW1', 'N', 'L']]\n",
      "[['IH0', 'T', 'S'], ['S', 'OW1'], ['sp'], ['EH1', 'M', 'T', 'IY0'], ['AH0', 'N', 'D'], ['sp'], ['K', 'W', 'AY1', 'AH0', 'T'], ['AH0', 'N', 'D'], ['sp'], ['L', 'OW1', 'N', 'L', 'IY0']]\n",
      "[['IH0', 'T', 'S'], ['S', 'OW1'], ['sp'], ['EH1', 'M', 'T', 'IY0'], ['AH0', 'N', 'D'], ['sp'], ['K', 'W', 'AY1', 'AH0', 'T'], ['AH0', 'N', 'D'], ['sp'], ['L', 'OW1', 'N', 'L', 'IY0'], []]\n",
      "[['IH0', 'T', 'S'], ['S', 'OW1'], ['sp'], ['EH1', 'M', 'T', 'IY0'], ['AH0', 'N', 'D'], ['sp'], ['K', 'W', 'AY1', 'AH0', 'T'], ['AH0', 'N', 'D'], ['sp'], ['L', 'OW1', 'N', 'L', 'IY0'], ['sp']]\n",
      "[['IH0', 'T', 'S'], ['S', 'OW1'], ['sp'], ['EH1', 'M', 'T', 'IY0'], ['AH0', 'N', 'D'], ['sp'], ['K', 'W', 'AY1', 'AH0', 'T'], ['AH0', 'N', 'D'], ['sp'], ['L', 'OW1', 'N', 'L', 'IY0'], ['sp', '']]\n"
     ]
    },
    {
     "ename": "TypeError",
     "evalue": "can only concatenate str (not \"tuple\") to str",
     "output_type": "error",
     "traceback": [
      "\u001b[1;31m---------------------------------------------------------------------------\u001b[0m",
      "\u001b[1;31mTypeError\u001b[0m                                 Traceback (most recent call last)",
      "\u001b[1;32m<ipython-input-174-ecaa60a7318c>\u001b[0m in \u001b[0;36m<module>\u001b[1;34m\u001b[0m\n\u001b[0;32m    119\u001b[0m \u001b[1;33m\u001b[0m\u001b[0m\n\u001b[0;32m    120\u001b[0m \u001b[0mquote\u001b[0m \u001b[1;33m=\u001b[0m \u001b[1;34m\"\"\"It's so empty, and quiet, and lonely.\"\"\"\u001b[0m\u001b[1;33m\u001b[0m\u001b[1;33m\u001b[0m\u001b[0m\n\u001b[1;32m--> 121\u001b[1;33m \u001b[0m_dict\u001b[0m \u001b[1;33m=\u001b[0m \u001b[0mload_TextGrid\u001b[0m\u001b[1;33m(\u001b[0m\u001b[0mtext\u001b[0m\u001b[1;33m,\u001b[0m \u001b[0mquote\u001b[0m\u001b[1;33m=\u001b[0m\u001b[0mquote\u001b[0m\u001b[1;33m)\u001b[0m\u001b[1;33m\u001b[0m\u001b[1;33m\u001b[0m\u001b[0m\n\u001b[0m\u001b[0;32m    122\u001b[0m \u001b[1;31m#print(_dict)\u001b[0m\u001b[1;33m\u001b[0m\u001b[1;33m\u001b[0m\u001b[1;33m\u001b[0m\u001b[0m\n",
      "\u001b[1;32m<ipython-input-174-ecaa60a7318c>\u001b[0m in \u001b[0;36mload_TextGrid\u001b[1;34m(text, quote)\u001b[0m\n\u001b[0;32m    103\u001b[0m         \u001b[0mprint\u001b[0m\u001b[1;33m(\u001b[0m\u001b[1;34m'-'\u001b[0m\u001b[1;33m.\u001b[0m\u001b[0mjoin\u001b[0m\u001b[1;33m(\u001b[0m\u001b[1;33m[\u001b[0m\u001b[0mx\u001b[0m\u001b[1;33m[\u001b[0m\u001b[1;34m'text'\u001b[0m\u001b[1;33m]\u001b[0m \u001b[1;32mfor\u001b[0m \u001b[0mx\u001b[0m \u001b[1;32min\u001b[0m \u001b[0mwords\u001b[0m\u001b[1;33m]\u001b[0m\u001b[1;33m)\u001b[0m\u001b[1;33m)\u001b[0m\u001b[1;33m\u001b[0m\u001b[1;33m\u001b[0m\u001b[0m\n\u001b[0;32m    104\u001b[0m         \u001b[0mprint\u001b[0m\u001b[1;33m(\u001b[0m\u001b[0mquote\u001b[0m\u001b[1;33m)\u001b[0m\u001b[1;33m\u001b[0m\u001b[1;33m\u001b[0m\u001b[0m\n\u001b[1;32m--> 105\u001b[1;33m         \u001b[0m_dict\u001b[0m\u001b[1;33m[\u001b[0m\u001b[1;34m'arpabet_quote'\u001b[0m\u001b[1;33m]\u001b[0m \u001b[1;33m=\u001b[0m \u001b[0mget_arpa\u001b[0m\u001b[1;33m(\u001b[0m\u001b[0mquote\u001b[0m\u001b[1;33m,\u001b[0m \u001b[0mwords\u001b[0m\u001b[1;33m,\u001b[0m \u001b[0mphones\u001b[0m\u001b[1;33m)\u001b[0m\u001b[1;33m\u001b[0m\u001b[1;33m\u001b[0m\u001b[0m\n\u001b[0m\u001b[0;32m    106\u001b[0m \u001b[1;33m\u001b[0m\u001b[0m\n\u001b[0;32m    107\u001b[0m \u001b[1;33m\u001b[0m\u001b[0m\n",
      "\u001b[1;32m<ipython-input-174-ecaa60a7318c>\u001b[0m in \u001b[0;36mget_arpa\u001b[1;34m(quote, words, phonemes)\u001b[0m\n\u001b[0;32m     53\u001b[0m     \u001b[1;31m# replace words in quote with aligned phonemes.\u001b[0m\u001b[1;33m\u001b[0m\u001b[1;33m\u001b[0m\u001b[1;33m\u001b[0m\u001b[0m\n\u001b[0;32m     54\u001b[0m     \u001b[0mword_phones\u001b[0m \u001b[1;33m=\u001b[0m \u001b[0mlist\u001b[0m\u001b[1;33m(\u001b[0m\u001b[0mzip\u001b[0m\u001b[1;33m(\u001b[0m\u001b[1;33m[\u001b[0m\u001b[0mx\u001b[0m\u001b[1;33m[\u001b[0m\u001b[1;34m'text'\u001b[0m\u001b[1;33m]\u001b[0m \u001b[1;32mfor\u001b[0m \u001b[0mx\u001b[0m \u001b[1;32min\u001b[0m \u001b[0mwords\u001b[0m\u001b[1;33m]\u001b[0m\u001b[1;33m,\u001b[0m \u001b[0mword_phones\u001b[0m\u001b[1;33m)\u001b[0m\u001b[1;33m)\u001b[0m\u001b[1;33m\u001b[0m\u001b[1;33m\u001b[0m\u001b[0m\n\u001b[1;32m---> 55\u001b[1;33m     \u001b[0marpa_quote\u001b[0m \u001b[1;33m=\u001b[0m \u001b[0mget\u001b[0m\u001b[1;33m(\u001b[0m\u001b[0mquote\u001b[0m\u001b[1;33m,\u001b[0m \u001b[0mword_phones\u001b[0m\u001b[1;33m)\u001b[0m\u001b[1;33m\u001b[0m\u001b[1;33m\u001b[0m\u001b[0m\n\u001b[0m\u001b[0;32m     56\u001b[0m     \u001b[0mprint\u001b[0m\u001b[1;33m(\u001b[0m\u001b[0mword_phones\u001b[0m\u001b[1;33m)\u001b[0m\u001b[1;33m\u001b[0m\u001b[1;33m\u001b[0m\u001b[0m\n\u001b[0;32m     57\u001b[0m     \u001b[1;32mreturn\u001b[0m\u001b[1;33m\u001b[0m\u001b[1;33m\u001b[0m\u001b[0m\n",
      "\u001b[1;32m<ipython-input-174-ecaa60a7318c>\u001b[0m in \u001b[0;36mget\u001b[1;34m(text, word_phones, punc)\u001b[0m\n\u001b[0;32m     14\u001b[0m                 \u001b[1;32mbreak\u001b[0m\u001b[1;33m\u001b[0m\u001b[1;33m\u001b[0m\u001b[0m\n\u001b[0;32m     15\u001b[0m         \u001b[1;32mtry\u001b[0m\u001b[1;33m:\u001b[0m\u001b[1;33m\u001b[0m\u001b[1;33m\u001b[0m\u001b[0m\n\u001b[1;32m---> 16\u001b[1;33m             \u001b[0mword\u001b[0m \u001b[1;33m=\u001b[0m \u001b[1;34m\"{\"\u001b[0m \u001b[1;33m+\u001b[0m \u001b[0mword_phones\u001b[0m\u001b[1;33m[\u001b[0m\u001b[1;36m0\u001b[0m\u001b[1;33m]\u001b[0m \u001b[1;33m+\u001b[0m \u001b[1;34m\"}\"\u001b[0m\u001b[1;33m\u001b[0m\u001b[1;33m\u001b[0m\u001b[0m\n\u001b[0m\u001b[0;32m     17\u001b[0m             \u001b[0mword_phones\u001b[0m\u001b[1;33m[\u001b[0m\u001b[1;36m1\u001b[0m\u001b[1;33m:\u001b[0m\u001b[1;33m]\u001b[0m\u001b[1;33m\u001b[0m\u001b[1;33m\u001b[0m\u001b[0m\n\u001b[0;32m     18\u001b[0m         \u001b[1;32mexcept\u001b[0m \u001b[0mKeyError\u001b[0m\u001b[1;33m:\u001b[0m\u001b[1;33m\u001b[0m\u001b[1;33m\u001b[0m\u001b[0m\n",
      "\u001b[1;31mTypeError\u001b[0m: can only concatenate str (not \"tuple\") to str"
     ]
    }
   ],
   "source": [
    "def get(text, word_phones, punc=\"!?,.;:␤#-_'\\\"()[]\\n\"):\n",
    "    \"\"\"Convert block of text into ARPAbet.\"\"\"\n",
    "    out = []\n",
    "    for word in text.split(\" \"):\n",
    "        end_chars = ''; start_chars = ''\n",
    "        while any(elem in word for elem in punc) and len(word) > 1:\n",
    "            if word[-1] in punc:\n",
    "                end_chars = word[-1] + end_chars\n",
    "                word = word[:-1]\n",
    "            elif word[0] in punc:\n",
    "                start_chars = start_chars + word[0]\n",
    "                word = word[1:]\n",
    "            else:\n",
    "                break\n",
    "        try:\n",
    "            word = \"{\" + ' '.join(word_phones[0]) + \"}\"\n",
    "            word_phones[1:]\n",
    "        except KeyError:\n",
    "            pass\n",
    "        out.append((start_chars + (word or '') + end_chars).rstrip())\n",
    "    return ' '.join(out)\n",
    "\n",
    "\n",
    "def get_arpa(quote, words, phonemes):\n",
    "    #words = [x['text'] for x in words] # remove timing info\n",
    "    #phonemes = [x['text'] for x in phonemes] # remove timing info\n",
    "    \n",
    "    # IH0-T-S-S-OW1-sp-EH1-M-T-IY0-AH0-N-D-sp-K-W-AY1-AH0-T-AH0-N-D-sp-L-OW1-N-L-IY0-sp-\n",
    "    # it's-so--empty-and--quiet-and--lonely-\n",
    "    # It's so empty, and quiet, and lonely.\n",
    "    \n",
    "    # matchup words and phonemes using the timing info\n",
    "    words_tmp = words\n",
    "    phonemes_tmp = phonemes\n",
    "    word_phones = []\n",
    "    word_phones.append([])\n",
    "    loops=0\n",
    "    while len(words_tmp) and len(phonemes_tmp):\n",
    "        wstart = words_tmp[0]['start']\n",
    "        wend = words_tmp[0]['end']\n",
    "        wtext = words_tmp[0]['text']\n",
    "        if phonemes_tmp[0]['start'] >= wstart and phonemes_tmp[0]['end'] <= wend:\n",
    "            word_phones[-1].append(phonemes_tmp[0]['text'])\n",
    "            phonemes_tmp = phonemes_tmp[1:]\n",
    "        elif phonemes_tmp[0]['end'] > wend:\n",
    "            word_phones.append([])\n",
    "            words_tmp = words_tmp[1:]\n",
    "        loops+=1\n",
    "        if loops > 50:\n",
    "            break\n",
    "        print(word_phones)\n",
    "    \n",
    "    # replace words in quote with aligned phonemes.\n",
    "    word_phones = list(zip([x['text'] for x in words], word_phones))\n",
    "    arpa_quote = get(quote, word_phones)\n",
    "    print(word_phones)\n",
    "    return \n",
    "\n",
    "def load_TextGrid(text, quote=None):\n",
    "    assert text.startswith('File type = \"ooTextFile\"\\nObject class = \"TextGrid\"\\n'), 'Unsupported TextGrid filetype'\n",
    "    text = text.split(\"\\n\")\n",
    "    _dict = {}\n",
    "    clip_start = float(text[3].split(\"=\")[-1])\n",
    "    clip_end = float(text[4].split(\"=\")[-1])\n",
    "    words_start = float(text[11].split(\"=\")[-1])\n",
    "    words_end = float(text[12].split(\"=\")[-1])\n",
    "    \n",
    "    # text relating to word information\n",
    "    end_word_list = 14+(int(text[13].split(\"=\")[-1])*4)\n",
    "    word_list = text[14:end_word_list]\n",
    "    words = []\n",
    "    for i, line in enumerate(word_list):\n",
    "        if i%4==0: # xmin\n",
    "            word = {}\n",
    "        elif i%4==1: # xmin\n",
    "            word['start'] = float(line.split(\"=\")[-1])\n",
    "        elif i%4==2: # xmax\n",
    "            word['end'] = float(line.split(\"=\")[-1])\n",
    "        elif i%4==3: # text\n",
    "            word['text'] = line.split(\"=\")[-1].strip().strip('\"')\n",
    "            words.append(word)\n",
    "    \n",
    "    # text relating to phoneme information\n",
    "    phone_list = text[end_word_list:]\n",
    "    phone_start = float(phone_list[3].split(\"=\")[-1])\n",
    "    phone_end = float(phone_list[4].split(\"=\")[-1])\n",
    "    end_phone_list = end_word_list+(int(phone_list[5].split(\"=\")[-1])*4)\n",
    "    phones = []\n",
    "    for i, line in enumerate(phone_list[6:6+end_phone_list]):\n",
    "        if i%4==0: # xmin\n",
    "            phone = {}\n",
    "        elif i%4==1: # xmin\n",
    "            phone['start'] = float(line.split(\"=\")[-1])\n",
    "        elif i%4==2: # xmax\n",
    "            phone['end'] = float(line.split(\"=\")[-1])\n",
    "        elif i%4==3: # text\n",
    "            phone['text'] = line.split(\"=\")[-1].strip().strip('\"')\n",
    "            phones.append(phone)\n",
    "    \n",
    "    if quote is not None:\n",
    "        # use phonemes to create ARPAbet transcript.\n",
    "        print('-'.join([x['text'] for x in phones]))\n",
    "        print('-'.join([x['text'] for x in words]))\n",
    "        print(quote)\n",
    "        _dict['arpabet_quote'] = get_arpa(quote, words, phones)\n",
    "        \n",
    "    \n",
    "    # collect together\n",
    "    _dict['clip_start'] = clip_start\n",
    "    _dict['clip_end'] = clip_end\n",
    "    _dict['words_start'] = words_start\n",
    "    _dict['words_end'] = words_end\n",
    "    _dict['phone_start'] = words_start\n",
    "    _dict['phone_end'] = words_end\n",
    "    _dict['words'] = words\n",
    "    _dict['phones'] = phones\n",
    "    return _dict\n",
    "\n",
    "\n",
    "quote = \"\"\"It's so empty, and quiet, and lonely.\"\"\"\n",
    "_dict = load_TextGrid(text, quote=quote)\n",
    "#print(_dict)"
   ]
  },
  {
   "cell_type": "code",
   "execution_count": 102,
   "metadata": {},
   "outputs": [
    {
     "name": "stdout",
     "output_type": "stream",
     "text": [
      "[[[0, 1], ['a', 'b']]]\n",
      "0 1 a b\n"
     ]
    }
   ],
   "source": [
    "x = [[[0,1],['a','b']],]\n",
    "print(x)\n",
    "for (a,b),(c,d) in x:\n",
    "    print(a,b,c,d)"
   ]
  },
  {
   "cell_type": "code",
   "execution_count": null,
   "metadata": {},
   "outputs": [],
   "source": []
  },
  {
   "cell_type": "code",
   "execution_count": null,
   "metadata": {},
   "outputs": [],
   "source": []
  },
  {
   "cell_type": "code",
   "execution_count": null,
   "metadata": {},
   "outputs": [],
   "source": []
  },
  {
   "cell_type": "code",
   "execution_count": 73,
   "metadata": {},
   "outputs": [
    {
     "name": "stdout",
     "output_type": "stream",
     "text": [
      "G:\\TwiBot\\CookiePPPTTS\\CookieTTS\\_1_preprocess\\tests\\littlepip_sample\\FoE_S1e02_Radio_Play_1.1\n",
      "G:\\TwiBot\\CookiePPPTTS\\CookieTTS\\_1_preprocess\\tests\\littlepip_sample\\FoE_S1e02_Radio_Play_1.1\\00_00_20_Littlepip_Neutral_Noisy_So this is outside.txt\n",
      "G:\\TwiBot\\CookiePPPTTS\\CookieTTS\\_1_preprocess\\tests\\littlepip_sample\\FoE_S1e02_Radio_Play_1.1\\00_00_20_Littlepip_Neutral_Noisy_So this is outside.wav\n",
      "G:\\TwiBot\\CookiePPPTTS\\CookieTTS\\_1_preprocess\\tests\\littlepip_sample\\FoE_S1e02_Radio_Play_1.1\\00_00_24_Littlepip_Sad_Noisy_It's so empty, and quiet, and lonely.txt\n",
      "G:\\TwiBot\\CookiePPPTTS\\CookieTTS\\_1_preprocess\\tests\\littlepip_sample\\FoE_S1e02_Radio_Play_1.1\\00_00_24_Littlepip_Sad_Noisy_It's so empty, and quiet, and lonely.wav\n",
      "G:\\TwiBot\\CookiePPPTTS\\CookieTTS\\_1_preprocess\\tests\\littlepip_sample\\FoE_S1e02_Radio_Play_1.1\\00_00_28_Littlepip_Neutral_Noisy_It's nothing like the stables at all.txt\n",
      "G:\\TwiBot\\CookiePPPTTS\\CookieTTS\\_1_preprocess\\tests\\littlepip_sample\\FoE_S1e02_Radio_Play_1.1\\00_00_28_Littlepip_Neutral_Noisy_It's nothing like the stables at all.wav\n",
      "G:\\TwiBot\\CookiePPPTTS\\CookieTTS\\_1_preprocess\\tests\\littlepip_sample\\FoE_S1e02_Radio_Play_1.1\\00_00_31_Littlepip_Confused_Noisy_What the hell happend here_.wav\n",
      "G:\\TwiBot\\CookiePPPTTS\\CookieTTS\\_1_preprocess\\tests\\littlepip_sample\\FoE_S1e02_Radio_Play_1.1\\00_00_33_Littlepip_Shouting_Noisy_Velvet_!.txt\n",
      "G:\\TwiBot\\CookiePPPTTS\\CookieTTS\\_1_preprocess\\tests\\littlepip_sample\\FoE_S1e02_Radio_Play_1.1\\00_00_33_Littlepip_Shouting_Noisy_Velvet_!.wav\n",
      "G:\\TwiBot\\CookiePPPTTS\\CookieTTS\\_1_preprocess\\tests\\littlepip_sample\\FoE_S1e02_Radio_Play_1.1\\00_00_35_Littlepip_Shouting_Noisy_It's Littlepip!.txt\n",
      "G:\\TwiBot\\CookiePPPTTS\\CookieTTS\\_1_preprocess\\tests\\littlepip_sample\\FoE_S1e02_Radio_Play_1.1\\00_00_35_Littlepip_Shouting_Noisy_It's Littlepip!.wav\n",
      "G:\\TwiBot\\CookiePPPTTS\\CookieTTS\\_1_preprocess\\tests\\littlepip_sample\\FoE_S1e02_Radio_Play_1.1\\00_00_37_Littlepip_Shouting_Noisy_If you're out there say something!.txt\n",
      "G:\\TwiBot\\CookiePPPTTS\\CookieTTS\\_1_preprocess\\tests\\littlepip_sample\\FoE_S1e02_Radio_Play_1.1\\00_00_31_Littlepip_Confused_Noisy_What the hell happend here_.txt\n",
      "G:\\TwiBot\\CookiePPPTTS\\CookieTTS\\_1_preprocess\\tests\\littlepip_sample\\FoE_S1e02_Radio_Play_1.1\\00_00_37_Littlepip_Shouting_Noisy_If you're out there say something!.wav\n",
      "G:\\TwiBot\\CookiePPPTTS\\CookieTTS\\_1_preprocess\\tests\\littlepip_sample\\FoE_S1e02_Radio_Play_1.1\\00_00_49_Littlepip_Amused Anxious_Noisy_I suppose radiation isn't the best sign to stick around.wav\n",
      "G:\\TwiBot\\CookiePPPTTS\\CookieTTS\\_1_preprocess\\tests\\littlepip_sample\\FoE_S1e02_Radio_Play_1.1\\00_01_01_Littlepip_Neutral_Noisy_Guess I should take a look around this, Sweet Apple Aches my pip buck is telling me I'm at.txt\n",
      "G:\\TwiBot\\CookiePPPTTS\\CookieTTS\\_1_preprocess\\tests\\littlepip_sample\\FoE_S1e02_Radio_Play_1.1\\00_01_32_Littlepip_Sarcastic__Ugh this will definitely help me find Velvet I'm so grateful.txt\n",
      "G:\\TwiBot\\CookiePPPTTS\\CookieTTS\\_1_preprocess\\tests\\littlepip_sample\\FoE_S1e02_Radio_Play_1.1\\00_01_41_Littlepip_Surprised_Noisy_There's an audio recording on it.txt\n",
      "G:\\TwiBot\\CookiePPPTTS\\CookieTTS\\_1_preprocess\\tests\\littlepip_sample\\FoE_S1e02_Radio_Play_1.1\\00_02_20_Littlepip_Fear Whining_Noisy_How am I going to face the over mare now_.wav\n",
      "G:\\TwiBot\\CookiePPPTTS\\CookieTTS\\_1_preprocess\\tests\\littlepip_sample\\FoE_S1e02_Radio_Play_1.1\\00_02_33_Littlepip_Neutral_Noisy_There's only other audio file in here, and that one has a binary encryption.txt\n",
      "G:\\TwiBot\\CookiePPPTTS\\CookieTTS\\_1_preprocess\\tests\\littlepip_sample\\FoE_S1e02_Radio_Play_1.1\\00_02_50_Littlepip_Neutral__So what happens now_.txt\n",
      "G:\\TwiBot\\CookiePPPTTS\\CookieTTS\\_1_preprocess\\tests\\littlepip_sample\\FoE_S1e02_Radio_Play_1.1\\00_03_01_Littlepip_Happy__I guess I should head over there and see what's there!.txt\n",
      "G:\\TwiBot\\CookiePPPTTS\\CookieTTS\\_1_preprocess\\tests\\littlepip_sample\\FoE_S1e02_Radio_Play_1.1\\00_03_07_Littlepip_Neutral__And for that matter, I've really stop talking to myself, this is weird.wav\n",
      "G:\\TwiBot\\CookiePPPTTS\\CookieTTS\\_1_preprocess\\tests\\littlepip_sample\\FoE_S1e02_Radio_Play_1.1\\00_03_37_Littlepip_Neutral_Noisy_Um, hello_.txt\n",
      "G:\\TwiBot\\CookiePPPTTS\\CookieTTS\\_1_preprocess\\tests\\littlepip_sample\\FoE_S1e02_Radio_Play_1.1\\00_00_40_Littlepip_Shouting_Noisy_Okay, if you're out there don't say anything!.txt\n",
      "G:\\TwiBot\\CookiePPPTTS\\CookieTTS\\_1_preprocess\\tests\\littlepip_sample\\FoE_S1e02_Radio_Play_1.1\\00_00_40_Littlepip_Shouting_Noisy_Okay, if you're out there don't say anything!.wav\n",
      "G:\\TwiBot\\CookiePPPTTS\\CookieTTS\\_1_preprocess\\tests\\littlepip_sample\\FoE_S1e02_Radio_Play_1.1\\00_00_46_Littlepip_Neutral_Noisy_Yeah that's that's not going to work.txt\n",
      "G:\\TwiBot\\CookiePPPTTS\\CookieTTS\\_1_preprocess\\tests\\littlepip_sample\\FoE_S1e02_Radio_Play_1.1\\00_00_46_Littlepip_Neutral_Noisy_Yeah that's that's not going to work.wav\n",
      "G:\\TwiBot\\CookiePPPTTS\\CookieTTS\\_1_preprocess\\tests\\littlepip_sample\\FoE_S1e02_Radio_Play_1.1\\00_00_49_Littlepip_Amused Anxious_Noisy_I suppose radiation isn't the best sign to stick around.txt\n",
      "G:\\TwiBot\\CookiePPPTTS\\CookieTTS\\_1_preprocess\\tests\\littlepip_sample\\FoE_S1e02_Radio_Play_1.1\\00_04_01_Littlepip_Anxious_Noisy_Now tell me, what's going on_.wav\n",
      "G:\\TwiBot\\CookiePPPTTS\\CookieTTS\\_1_preprocess\\tests\\littlepip_sample\\FoE_S1e02_Radio_Play_1.1\\00_04_08_Littlepip_Confused_Noisy_Leave_ Why_.txt\n",
      "G:\\TwiBot\\CookiePPPTTS\\CookieTTS\\_1_preprocess\\tests\\littlepip_sample\\FoE_S1e02_Radio_Play_1.1\\00_04_08_Littlepip_Confused_Noisy_Leave_ Why_.wav\n",
      "G:\\TwiBot\\CookiePPPTTS\\CookieTTS\\_1_preprocess\\tests\\littlepip_sample\\FoE_S1e02_Radio_Play_1.1\\00_05_00_Littlepip_Surprised Fear_Very noisy_What's going on_!.txt\n",
      "G:\\TwiBot\\CookiePPPTTS\\CookieTTS\\_1_preprocess\\tests\\littlepip_sample\\FoE_S1e02_Radio_Play_1.1\\00_05_00_Littlepip_Surprised Fear_Very noisy_What's going on_!.wav\n",
      "G:\\TwiBot\\CookiePPPTTS\\CookieTTS\\_1_preprocess\\tests\\littlepip_sample\\FoE_S1e02_Radio_Play_1.1\\00_05_04_Littlepip_Neutral_Very noisy_Oh, well, fuck.wav\n",
      "G:\\TwiBot\\CookiePPPTTS\\CookieTTS\\_1_preprocess\\tests\\littlepip_sample\\FoE_S1e02_Radio_Play_1.1\\00_05_08_Littlepip_Neutral_Very noisy_You've been out here for only a few hours and you've gotten yourself captured by slavers.txt\n",
      "G:\\TwiBot\\CookiePPPTTS\\CookieTTS\\_1_preprocess\\tests\\littlepip_sample\\FoE_S1e02_Radio_Play_1.1\\00_05_08_Littlepip_Neutral_Very noisy_You've been out here for only a few hours and you've gotten yourself captured by slavers.wav\n",
      "G:\\TwiBot\\CookiePPPTTS\\CookieTTS\\_1_preprocess\\tests\\littlepip_sample\\FoE_S1e02_Radio_Play_1.1\\00_05_13_Littlepip_Sarcastic_Very noisy_You rock, Pip. Woo hoo.txt\n",
      "G:\\TwiBot\\CookiePPPTTS\\CookieTTS\\_1_preprocess\\tests\\littlepip_sample\\FoE_S1e02_Radio_Play_1.1\\00_01_41_Littlepip_Surprised_Noisy_There's an audio recording on it.wav\n",
      "G:\\TwiBot\\CookiePPPTTS\\CookieTTS\\_1_preprocess\\tests\\littlepip_sample\\FoE_S1e02_Radio_Play_1.1\\00_02_16_Littlepip_Angry Whining_Noisy_Celestia damn it Velvet it didn't have to turn out this way!.txt\n",
      "G:\\TwiBot\\CookiePPPTTS\\CookieTTS\\_1_preprocess\\tests\\littlepip_sample\\FoE_S1e02_Radio_Play_1.1\\00_02_16_Littlepip_Angry Whining_Noisy_Celestia damn it Velvet it didn't have to turn out this way!.wav\n",
      "G:\\TwiBot\\CookiePPPTTS\\CookieTTS\\_1_preprocess\\tests\\littlepip_sample\\FoE_S1e02_Radio_Play_1.1\\00_02_20_Littlepip_Fear Whining_Noisy_How am I going to face the over mare now_.txt\n",
      "G:\\TwiBot\\CookiePPPTTS\\CookieTTS\\_1_preprocess\\tests\\littlepip_sample\\FoE_S1e02_Radio_Play_1.1\\00_02_23_Littlepip_Whining_Noisy_Oh right, I forgot, I won't be facing the overmare, ever again.txt\n",
      "G:\\TwiBot\\CookiePPPTTS\\CookieTTS\\_1_preprocess\\tests\\littlepip_sample\\FoE_S1e02_Radio_Play_1.1\\00_02_23_Littlepip_Whining_Noisy_Oh right, I forgot, I won't be facing the overmare, ever again.wav\n",
      "G:\\TwiBot\\CookiePPPTTS\\CookieTTS\\_1_preprocess\\tests\\littlepip_sample\\FoE_S1e02_Radio_Play_1.1\\00_02_30_Littlepip_Fear_Noisy_What have I got myself into_.txt\n",
      "G:\\TwiBot\\CookiePPPTTS\\CookieTTS\\_1_preprocess\\tests\\littlepip_sample\\FoE_S1e02_Radio_Play_1.1\\00_02_30_Littlepip_Fear_Noisy_What have I got myself into_.wav\n",
      "G:\\TwiBot\\CookiePPPTTS\\CookieTTS\\_1_preprocess\\tests\\littlepip_sample\\FoE_S1e02_Radio_Play_1.1\\00_02_33_Littlepip_Neutral_Noisy_There's only other audio file in here, and that one has a binary encryption.wav\n",
      "G:\\TwiBot\\CookiePPPTTS\\CookieTTS\\_1_preprocess\\tests\\littlepip_sample\\FoE_S1e02_Radio_Play_1.1\\00_02_40_Littlepip_Neutral_Noisy_To decrypt it I'll have to download the message from both terminals that used and receive the message.txt\n",
      "G:\\TwiBot\\CookiePPPTTS\\CookieTTS\\_1_preprocess\\tests\\littlepip_sample\\FoE_S1e02_Radio_Play_1.1\\00_02_40_Littlepip_Neutral_Noisy_To decrypt it I'll have to download the message from both terminals that used and receive the message.wav\n",
      "G:\\TwiBot\\CookiePPPTTS\\CookieTTS\\_1_preprocess\\tests\\littlepip_sample\\FoE_S1e02_Radio_Play_1.1\\00_02_46_Littlepip_Smug_Noisy_Eh, why the hell not_.txt\n",
      "G:\\TwiBot\\CookiePPPTTS\\CookieTTS\\_1_preprocess\\tests\\littlepip_sample\\FoE_S1e02_Radio_Play_1.1\\00_02_46_Littlepip_Smug_Noisy_Eh, why the hell not_.wav\n",
      "G:\\TwiBot\\CookiePPPTTS\\CookieTTS\\_1_preprocess\\tests\\littlepip_sample\\FoE_S1e02_Radio_Play_1.1\\00_05_18_Littlepip_Whispering_Very noisy_Who are you anyway_.txt\n",
      "G:\\TwiBot\\CookiePPPTTS\\CookieTTS\\_1_preprocess\\tests\\littlepip_sample\\FoE_S1e02_Radio_Play_1.1\\00_05_18_Littlepip_Whispering_Very noisy_Who are you anyway_.wav\n",
      "G:\\TwiBot\\CookiePPPTTS\\CookieTTS\\_1_preprocess\\tests\\littlepip_sample\\FoE_S1e02_Radio_Play_1.1\\00_05_26_Littlepip_Neutral_Very noisy_I don't expect they'd answer my questions even if my tounge survive asking them.txt\n",
      "G:\\TwiBot\\CookiePPPTTS\\CookieTTS\\_1_preprocess\\tests\\littlepip_sample\\FoE_S1e02_Radio_Play_1.1\\00_05_26_Littlepip_Neutral_Very noisy_I don't expect they'd answer my questions even if my tounge survive asking them.wav\n",
      "G:\\TwiBot\\CookiePPPTTS\\CookieTTS\\_1_preprocess\\tests\\littlepip_sample\\FoE_S1e02_Radio_Play_1.1\\00_14_16_Littlepip_Smug_Very noisy_Will you survive being shot with this as many times as I can pull the trigger while you try to reload_.txt\n",
      "G:\\TwiBot\\CookiePPPTTS\\CookieTTS\\_1_preprocess\\tests\\littlepip_sample\\FoE_S1e02_Radio_Play_1.1\\00_14_16_Littlepip_Smug_Very noisy_Will you survive being shot with this as many times as I can pull the trigger while you try to reload_.wav\n",
      "G:\\TwiBot\\CookiePPPTTS\\CookieTTS\\_1_preprocess\\tests\\littlepip_sample\\FoE_S1e02_Radio_Play_1.1\\00_14_23_Littlepip_Smug_Noisy_Got him.txt\n",
      "G:\\TwiBot\\CookiePPPTTS\\CookieTTS\\_1_preprocess\\tests\\littlepip_sample\\FoE_S1e02_Radio_Play_1.1\\00_14_23_Littlepip_Smug_Noisy_Got him.wav\n",
      "G:\\TwiBot\\CookiePPPTTS\\CookieTTS\\_1_preprocess\\tests\\littlepip_sample\\FoE_S1e02_Radio_Play_1.1\\00_14_25_Littlepip_Smug_Very noisy_And I'll be taking my canteens back.txt\n",
      "G:\\TwiBot\\CookiePPPTTS\\CookieTTS\\_1_preprocess\\tests\\littlepip_sample\\FoE_S1e02_Radio_Play_1.1\\00_10_44_Littlepip_Fear_Very noisy_Oh I am so screwed.wav\n",
      "G:\\TwiBot\\CookiePPPTTS\\CookieTTS\\_1_preprocess\\tests\\littlepip_sample\\FoE_S1e02_Radio_Play_1.1\\00_10_52_Littlepip_Neutral_Very noisy_Well, I definitely have one.txt\n",
      "G:\\TwiBot\\CookiePPPTTS\\CookieTTS\\_1_preprocess\\tests\\littlepip_sample\\FoE_S1e02_Radio_Play_1.1\\00_10_52_Littlepip_Neutral_Very noisy_Well, I definitely have one.wav\n",
      "G:\\TwiBot\\CookiePPPTTS\\CookieTTS\\_1_preprocess\\tests\\littlepip_sample\\FoE_S1e02_Radio_Play_1.1\\00_10_55_Littlepip_Fear_Noisy_Never thought I'd ever have to use SATS.txt\n",
      "G:\\TwiBot\\CookiePPPTTS\\CookieTTS\\_1_preprocess\\tests\\littlepip_sample\\FoE_S1e02_Radio_Play_1.1\\00_10_55_Littlepip_Fear_Noisy_Never thought I'd ever have to use SATS.wav\n",
      "G:\\TwiBot\\CookiePPPTTS\\CookieTTS\\_1_preprocess\\tests\\littlepip_sample\\FoE_S1e02_Radio_Play_1.1\\00_10_57_Littlepip_Annoyed_Noisy_Ugh, c'mon focus focus.txt\n",
      "G:\\TwiBot\\CookiePPPTTS\\CookieTTS\\_1_preprocess\\tests\\littlepip_sample\\FoE_S1e02_Radio_Play_1.1\\00_07_56_Littlepip_Neutral_Very noisy_Screw driver, bobby pin, oh thank Celestia for all that time I spent learning how to lockpick back in stables.wav\n",
      "G:\\TwiBot\\CookiePPPTTS\\CookieTTS\\_1_preprocess\\tests\\littlepip_sample\\FoE_S1e02_Radio_Play_1.1\\00_08_07_Littlepip_Whispering_Very noisy_Trust me, I got this.txt\n",
      "G:\\TwiBot\\CookiePPPTTS\\CookieTTS\\_1_preprocess\\tests\\littlepip_sample\\FoE_S1e02_Radio_Play_1.1\\00_08_07_Littlepip_Whispering_Very noisy_Trust me, I got this.wav\n",
      "G:\\TwiBot\\CookiePPPTTS\\CookieTTS\\_1_preprocess\\tests\\littlepip_sample\\FoE_S1e02_Radio_Play_1.1\\00_08_11_Littlepip_Shouting Happy_Noisy_Got it!.txt\n",
      "G:\\TwiBot\\CookiePPPTTS\\CookieTTS\\_1_preprocess\\tests\\littlepip_sample\\FoE_S1e02_Radio_Play_1.1\\00_08_11_Littlepip_Shouting Happy_Noisy_Got it!.wav\n",
      "G:\\TwiBot\\CookiePPPTTS\\CookieTTS\\_1_preprocess\\tests\\littlepip_sample\\FoE_S1e02_Radio_Play_1.1\\00_02_50_Littlepip_Neutral__So what happens now_.wav\n",
      "G:\\TwiBot\\CookiePPPTTS\\CookieTTS\\_1_preprocess\\tests\\littlepip_sample\\FoE_S1e02_Radio_Play_1.1\\00_02_53_Littlepip_Neutral__Taking a look at that window might help.txt\n",
      "G:\\TwiBot\\CookiePPPTTS\\CookieTTS\\_1_preprocess\\tests\\littlepip_sample\\FoE_S1e02_Radio_Play_1.1\\00_02_53_Littlepip_Neutral__Taking a look at that window might help.wav\n",
      "G:\\TwiBot\\CookiePPPTTS\\CookieTTS\\_1_preprocess\\tests\\littlepip_sample\\FoE_S1e02_Radio_Play_1.1\\00_02_57_Littlepip_Surprised Happy__Hey, is that a campfire in the distance_.txt\n",
      "G:\\TwiBot\\CookiePPPTTS\\CookieTTS\\_1_preprocess\\tests\\littlepip_sample\\FoE_S1e02_Radio_Play_1.1\\00_02_57_Littlepip_Surprised Happy__Hey, is that a campfire in the distance_.wav\n",
      "G:\\TwiBot\\CookiePPPTTS\\CookieTTS\\_1_preprocess\\tests\\littlepip_sample\\FoE_S1e02_Radio_Play_1.1\\00_14_32_Littlepip_Smug_Noisy_Oh I think it is.txt\n",
      "G:\\TwiBot\\CookiePPPTTS\\CookieTTS\\_1_preprocess\\tests\\littlepip_sample\\FoE_S1e02_Radio_Play_1.1\\00_14_32_Littlepip_Smug_Noisy_Oh I think it is.wav\n",
      "G:\\TwiBot\\CookiePPPTTS\\CookieTTS\\_1_preprocess\\tests\\littlepip_sample\\FoE_S1e02_Radio_Play_1.1\\00_14_42_Littlepip_Neutral_Noisy_Good riddance.txt\n",
      "G:\\TwiBot\\CookiePPPTTS\\CookieTTS\\_1_preprocess\\tests\\littlepip_sample\\FoE_S1e02_Radio_Play_1.1\\00_14_42_Littlepip_Neutral_Noisy_Good riddance.wav\n",
      "G:\\TwiBot\\CookiePPPTTS\\CookieTTS\\_1_preprocess\\tests\\littlepip_sample\\FoE_S1e02_Radio_Play_1.1\\00_14_52_Littlepip_Neutral_Noisy_Ponyville.txt\n",
      "G:\\TwiBot\\CookiePPPTTS\\CookieTTS\\_1_preprocess\\tests\\littlepip_sample\\FoE_S1e02_Radio_Play_1.1\\00_14_52_Littlepip_Neutral_Noisy_Ponyville.wav\n",
      "G:\\TwiBot\\CookiePPPTTS\\CookieTTS\\_1_preprocess\\tests\\littlepip_sample\\FoE_S1e02_Radio_Play_1.1\\00_16_04_Littlepip_Surprised_Noisy_Oh a stable tech terminal, alright then I guess I might as well give it a shot.txt\n",
      "G:\\TwiBot\\CookiePPPTTS\\CookieTTS\\_1_preprocess\\tests\\littlepip_sample\\FoE_S1e02_Radio_Play_1.1\\00_16_04_Littlepip_Surprised_Noisy_Oh a stable tech terminal, alright then I guess I might as well give it a shot.wav\n",
      "G:\\TwiBot\\CookiePPPTTS\\CookieTTS\\_1_preprocess\\tests\\littlepip_sample\\FoE_S1e02_Radio_Play_1.1\\00_16_11_Littlepip_Tired_Noisy_Oh I'm totally fried, how am I going to find the password for this_.txt\n",
      "G:\\TwiBot\\CookiePPPTTS\\CookieTTS\\_1_preprocess\\tests\\littlepip_sample\\FoE_S1e02_Radio_Play_1.1\\00_16_11_Littlepip_Tired_Noisy_Oh I'm totally fried, how am I going to find the password for this_.wav\n",
      "G:\\TwiBot\\CookiePPPTTS\\CookieTTS\\_1_preprocess\\tests\\littlepip_sample\\FoE_S1e02_Radio_Play_1.1\\00_16_15_Littlepip_Neutral_Noisy_Let's see, the password is, apple.txt\n",
      "G:\\TwiBot\\CookiePPPTTS\\CookieTTS\\_1_preprocess\\tests\\littlepip_sample\\FoE_S1e02_Radio_Play_1.1\\00_00_49_Littlepip_Neutral_Noisy_The geiger counter is going crazy.txt\n",
      "G:\\TwiBot\\CookiePPPTTS\\CookieTTS\\_1_preprocess\\tests\\littlepip_sample\\FoE_S1e02_Radio_Play_1.1\\00_00_49_Littlepip_Neutral_Noisy_The geiger counter is going crazy.wav\n",
      "G:\\TwiBot\\CookiePPPTTS\\CookieTTS\\_1_preprocess\\tests\\littlepip_sample\\FoE_S1e02_Radio_Play_1.1\\00_00_57_Littlepip_Happy_Noisy_Ah ha, the pip buck's map funtion, works every time!.txt\n",
      "G:\\TwiBot\\CookiePPPTTS\\CookieTTS\\_1_preprocess\\tests\\littlepip_sample\\FoE_S1e02_Radio_Play_1.1\\00_00_57_Littlepip_Happy_Noisy_Ah ha, the pip buck's map funtion, works every time!.wav\n",
      "G:\\TwiBot\\CookiePPPTTS\\CookieTTS\\_1_preprocess\\tests\\littlepip_sample\\FoE_S1e02_Radio_Play_1.1\\00_01_01_Littlepip_Neutral_Noisy_Guess I should take a look around this, Sweet Apple Aches my pip buck is telling me I'm at.wav\n",
      "G:\\TwiBot\\CookiePPPTTS\\CookieTTS\\_1_preprocess\\tests\\littlepip_sample\\FoE_S1e02_Radio_Play_1.1\\00_01_08_Littlepip_Neutral_Noisy_Velvet could be anywhere by now.txt\n",
      "G:\\TwiBot\\CookiePPPTTS\\CookieTTS\\_1_preprocess\\tests\\littlepip_sample\\FoE_S1e02_Radio_Play_1.1\\00_01_08_Littlepip_Neutral_Noisy_Velvet could be anywhere by now.wav\n",
      "G:\\TwiBot\\CookiePPPTTS\\CookieTTS\\_1_preprocess\\tests\\littlepip_sample\\FoE_S1e02_Radio_Play_1.1\\00_01_21_Littlepip_Neutral_Noisy_Rusted shoes, soap boxes, old pitch forks and other crap left from better times.txt\n",
      "G:\\TwiBot\\CookiePPPTTS\\CookieTTS\\_1_preprocess\\tests\\littlepip_sample\\FoE_S1e02_Radio_Play_1.1\\00_01_21_Littlepip_Neutral_Noisy_Rusted shoes, soap boxes, old pitch forks and other crap left from better times.wav\n",
      "G:\\TwiBot\\CookiePPPTTS\\CookieTTS\\_1_preprocess\\tests\\littlepip_sample\\FoE_S1e02_Radio_Play_1.1\\00_05_04_Littlepip_Neutral_Very noisy_Oh, well, fuck.txt\n",
      "G:\\TwiBot\\CookiePPPTTS\\CookieTTS\\_1_preprocess\\tests\\littlepip_sample\\FoE_S1e02_Radio_Play_1.1\\00_05_13_Littlepip_Sarcastic_Very noisy_You rock, Pip. Woo hoo.wav\n",
      "G:\\TwiBot\\CookiePPPTTS\\CookieTTS\\_1_preprocess\\tests\\littlepip_sample\\FoE_S1e02_Radio_Play_1.1\\00_05_30_Littlepip_Neutral_Very noisy_Not to mention they're sure being chatty enough with each other to suffice.txt\n",
      "G:\\TwiBot\\CookiePPPTTS\\CookieTTS\\_1_preprocess\\tests\\littlepip_sample\\FoE_S1e02_Radio_Play_1.1\\00_06_26_Littlepip_Amused_Very noisy_Boy, if he only knew.wav\n",
      "G:\\TwiBot\\CookiePPPTTS\\CookieTTS\\_1_preprocess\\tests\\littlepip_sample\\FoE_S1e02_Radio_Play_1.1\\00_07_02_Littlepip_Neutral_Noisy_Time to start forming some kind of escape plan.wav\n",
      "G:\\TwiBot\\CookiePPPTTS\\CookieTTS\\_1_preprocess\\tests\\littlepip_sample\\FoE_S1e02_Radio_Play_1.1\\00_07_56_Littlepip_Neutral_Very noisy_Screw driver, bobby pin, oh thank Celestia for all that time I spent learning how to lockpick back in stables.txt\n",
      "G:\\TwiBot\\CookiePPPTTS\\CookieTTS\\_1_preprocess\\tests\\littlepip_sample\\FoE_S1e02_Radio_Play_1.1\\00_08_12_Littlepip_Fear_Noisy_Or not.txt\n",
      "G:\\TwiBot\\CookiePPPTTS\\CookieTTS\\_1_preprocess\\tests\\littlepip_sample\\FoE_S1e02_Radio_Play_1.1\\00_08_44_Littlepip_Fear_Very noisy_Focus on the locks Littlepip just focus.txt\n",
      "G:\\TwiBot\\CookiePPPTTS\\CookieTTS\\_1_preprocess\\tests\\littlepip_sample\\FoE_S1e02_Radio_Play_1.1\\00_09_36_Littlepip_Fear_Very noisy_I'm checking my options, and I don't like a single one, fuck.txt\n",
      "G:\\TwiBot\\CookiePPPTTS\\CookieTTS\\_1_preprocess\\tests\\littlepip_sample\\FoE_S1e02_Radio_Play_1.1\\00_10_44_Littlepip_Fear_Very noisy_Oh I am so screwed.txt\n",
      "G:\\TwiBot\\CookiePPPTTS\\CookieTTS\\_1_preprocess\\tests\\littlepip_sample\\FoE_S1e02_Radio_Play_1.1\\00_04_01_Littlepip_Anxious_Noisy_Now tell me, what's going on_.txt\n",
      "G:\\TwiBot\\CookiePPPTTS\\CookieTTS\\_1_preprocess\\tests\\littlepip_sample\\FoE_S1e02_Radio_Play_1.1\\00_10_57_Littlepip_Annoyed_Noisy_Ugh, c'mon focus focus.wav\n",
      "G:\\TwiBot\\CookiePPPTTS\\CookieTTS\\_1_preprocess\\tests\\littlepip_sample\\FoE_S1e02_Radio_Play_1.1\\00_01_32_Littlepip_Sarcastic__Ugh this will definitely help me find Velvet I'm so grateful.wav\n",
      "G:\\TwiBot\\CookiePPPTTS\\CookieTTS\\_1_preprocess\\tests\\littlepip_sample\\FoE_S1e02_Radio_Play_1.1\\00_01_33_Littlepip_Neutral_Noisy_No sign of Velvet here.txt\n",
      "G:\\TwiBot\\CookiePPPTTS\\CookieTTS\\_1_preprocess\\tests\\littlepip_sample\\FoE_S1e02_Radio_Play_1.1\\00_01_33_Littlepip_Neutral_Noisy_No sign of Velvet here.wav\n",
      "G:\\TwiBot\\CookiePPPTTS\\CookieTTS\\_1_preprocess\\tests\\littlepip_sample\\FoE_S1e02_Radio_Play_1.1\\00_01_40_Littlepip_Surprised_Noisy_Hold on, is that a stable tech terminal_.txt\n",
      "G:\\TwiBot\\CookiePPPTTS\\CookieTTS\\_1_preprocess\\tests\\littlepip_sample\\FoE_S1e02_Radio_Play_1.1\\00_01_40_Littlepip_Surprised_Noisy_Hold on, is that a stable tech terminal_.wav\n",
      "G:\\TwiBot\\CookiePPPTTS\\CookieTTS\\_1_preprocess\\tests\\littlepip_sample\\FoE_S1e02_Radio_Play_1.1\\00_11_00_Littlepip_Smug_Very noisy_One hit to the knees, and another to the face!.txt\n",
      "G:\\TwiBot\\CookiePPPTTS\\CookieTTS\\_1_preprocess\\tests\\littlepip_sample\\FoE_S1e02_Radio_Play_1.1\\00_11_00_Littlepip_Smug_Very noisy_One hit to the knees, and another to the face!.wav\n",
      "G:\\TwiBot\\CookiePPPTTS\\CookieTTS\\_1_preprocess\\tests\\littlepip_sample\\FoE_S1e02_Radio_Play_1.1\\00_11_12_Littlepip_Neutral_Noisy_She's unconscious, I see you've brought sawn off shotgun with you.txt\n",
      "G:\\TwiBot\\CookiePPPTTS\\CookieTTS\\_1_preprocess\\tests\\littlepip_sample\\FoE_S1e02_Radio_Play_1.1\\00_11_12_Littlepip_Neutral_Noisy_She's unconscious, I see you've brought sawn off shotgun with you.wav\n",
      "G:\\TwiBot\\CookiePPPTTS\\CookieTTS\\_1_preprocess\\tests\\littlepip_sample\\FoE_S1e02_Radio_Play_1.1\\00_06_46_Littlepip_Annoyed_Noisy_Geez, some pony sure is trigger happy.txt\n",
      "G:\\TwiBot\\CookiePPPTTS\\CookieTTS\\_1_preprocess\\tests\\littlepip_sample\\FoE_S1e02_Radio_Play_1.1\\00_06_46_Littlepip_Annoyed_Noisy_Geez, some pony sure is trigger happy.wav\n",
      "G:\\TwiBot\\CookiePPPTTS\\CookieTTS\\_1_preprocess\\tests\\littlepip_sample\\FoE_S1e02_Radio_Play_1.1\\00_06_58_Littlepip_Neutral_Noisy_Well, at least I know how that shotgun works now.txt\n",
      "G:\\TwiBot\\CookiePPPTTS\\CookieTTS\\_1_preprocess\\tests\\littlepip_sample\\FoE_S1e02_Radio_Play_1.1\\00_06_58_Littlepip_Neutral_Noisy_Well, at least I know how that shotgun works now.wav\n",
      "G:\\TwiBot\\CookiePPPTTS\\CookieTTS\\_1_preprocess\\tests\\littlepip_sample\\FoE_S1e02_Radio_Play_1.1\\00_07_02_Littlepip_Neutral_Noisy_Time to start forming some kind of escape plan.txt\n",
      "G:\\TwiBot\\CookiePPPTTS\\CookieTTS\\_1_preprocess\\tests\\littlepip_sample\\FoE_S1e02_Radio_Play_1.1\\00_08_12_Littlepip_Fear_Noisy_Or not.wav\n",
      "G:\\TwiBot\\CookiePPPTTS\\CookieTTS\\_1_preprocess\\tests\\littlepip_sample\\FoE_S1e02_Radio_Play_1.1\\00_08_32_Littlepip_Fear Disgust_Very noisy_Dead, Cagey's dead. Ugh and I've got Cagey all over me.txt\n",
      "G:\\TwiBot\\CookiePPPTTS\\CookieTTS\\_1_preprocess\\tests\\littlepip_sample\\FoE_S1e02_Radio_Play_1.1\\00_08_32_Littlepip_Fear Disgust_Very noisy_Dead, Cagey's dead. Ugh and I've got Cagey all over me.wav\n",
      "G:\\TwiBot\\CookiePPPTTS\\CookieTTS\\_1_preprocess\\tests\\littlepip_sample\\FoE_S1e02_Radio_Play_1.1\\00_08_41_Littlepip_Anxious_Noisy_Uh, alright!.txt\n",
      "G:\\TwiBot\\CookiePPPTTS\\CookieTTS\\_1_preprocess\\tests\\littlepip_sample\\FoE_S1e02_Radio_Play_1.1\\00_08_41_Littlepip_Anxious_Noisy_Uh, alright!.wav\n",
      "G:\\TwiBot\\CookiePPPTTS\\CookieTTS\\_1_preprocess\\tests\\littlepip_sample\\FoE_S1e02_Radio_Play_1.1\\00_08_44_Littlepip_Fear_Very noisy_Focus on the locks Littlepip just focus.wav\n",
      "G:\\TwiBot\\CookiePPPTTS\\CookieTTS\\_1_preprocess\\tests\\littlepip_sample\\FoE_S1e02_Radio_Play_1.1\\00_08_55_Littlepip_Neutral_Very noisy_Huh, one at the sprite bot, one just now. Two shots then reload. It's good to know.txt\n",
      "G:\\TwiBot\\CookiePPPTTS\\CookieTTS\\_1_preprocess\\tests\\littlepip_sample\\FoE_S1e02_Radio_Play_1.1\\00_08_55_Littlepip_Neutral_Very noisy_Huh, one at the sprite bot, one just now. Two shots then reload. It's good to know.wav\n",
      "G:\\TwiBot\\CookiePPPTTS\\CookieTTS\\_1_preprocess\\tests\\littlepip_sample\\FoE_S1e02_Radio_Play_1.1\\00_09_14_Littlepip_Anxious_Very noisy_Right, I'm trying.txt\n",
      "G:\\TwiBot\\CookiePPPTTS\\CookieTTS\\_1_preprocess\\tests\\littlepip_sample\\FoE_S1e02_Radio_Play_1.1\\00_09_14_Littlepip_Anxious_Very noisy_Right, I'm trying.wav\n",
      "G:\\TwiBot\\CookiePPPTTS\\CookieTTS\\_1_preprocess\\tests\\littlepip_sample\\FoE_S1e02_Radio_Play_1.1\\00_11_23_Littlepip_Suprised_Noisy_You killed that raider_.wav\n",
      "G:\\TwiBot\\CookiePPPTTS\\CookieTTS\\_1_preprocess\\tests\\littlepip_sample\\FoE_S1e02_Radio_Play_1.1\\00_11_42_Littlepip_Confused_Noisy_How could I_ She isn't a threat anymore. Why kill when there's no reason to_.txt\n",
      "G:\\TwiBot\\CookiePPPTTS\\CookieTTS\\_1_preprocess\\tests\\littlepip_sample\\FoE_S1e02_Radio_Play_1.1\\00_11_42_Littlepip_Confused_Noisy_How could I_ She isn't a threat anymore. Why kill when there's no reason to_.wav\n",
      "G:\\TwiBot\\CookiePPPTTS\\CookieTTS\\_1_preprocess\\tests\\littlepip_sample\\FoE_S1e02_Radio_Play_1.1\\00_11_57_Littlepip_Neutral_Noisy_But.txt\n",
      "G:\\TwiBot\\CookiePPPTTS\\CookieTTS\\_1_preprocess\\tests\\littlepip_sample\\FoE_S1e02_Radio_Play_1.1\\00_11_57_Littlepip_Neutral_Noisy_But.wav\n",
      "G:\\TwiBot\\CookiePPPTTS\\CookieTTS\\_1_preprocess\\tests\\littlepip_sample\\FoE_S1e02_Radio_Play_1.1\\00_11_59_Littlepip_Confused_Noisy_Huh_.txt\n",
      "G:\\TwiBot\\CookiePPPTTS\\CookieTTS\\_1_preprocess\\tests\\littlepip_sample\\FoE_S1e02_Radio_Play_1.1\\00_11_59_Littlepip_Confused_Noisy_Huh_.wav\n",
      "G:\\TwiBot\\CookiePPPTTS\\CookieTTS\\_1_preprocess\\tests\\littlepip_sample\\FoE_S1e02_Radio_Play_1.1\\00_12_02_Littlepip_Annoyed_Noisy_Hey, what do you think you're_.txt\n",
      "G:\\TwiBot\\CookiePPPTTS\\CookieTTS\\_1_preprocess\\tests\\littlepip_sample\\FoE_S1e02_Radio_Play_1.1\\00_12_02_Littlepip_Annoyed_Noisy_Hey, what do you think you're_.wav\n",
      "G:\\TwiBot\\CookiePPPTTS\\CookieTTS\\_1_preprocess\\tests\\littlepip_sample\\FoE_S1e02_Radio_Play_1.1\\00_12_24_Littlepip_Disgust_Noisy_Ugh, ugh, I'm going to be sick.txt\n",
      "G:\\TwiBot\\CookiePPPTTS\\CookieTTS\\_1_preprocess\\tests\\littlepip_sample\\FoE_S1e02_Radio_Play_1.1\\00_12_24_Littlepip_Disgust_Noisy_Ugh, ugh, I'm going to be sick.wav\n",
      "G:\\TwiBot\\CookiePPPTTS\\CookieTTS\\_1_preprocess\\tests\\littlepip_sample\\FoE_S1e02_Radio_Play_1.1\\00_12_30_Littlepip_Surprised Angry_Very noisy_What_! What do you think you're doing_! I just saved you!.wav\n",
      "G:\\TwiBot\\CookiePPPTTS\\CookieTTS\\_1_preprocess\\tests\\littlepip_sample\\FoE_S1e02_Radio_Play_1.1\\00_12_40_Littlepip_Whining_Noisy_But, but I just saved you!.txt\n",
      "G:\\TwiBot\\CookiePPPTTS\\CookieTTS\\_1_preprocess\\tests\\littlepip_sample\\FoE_S1e02_Radio_Play_1.1\\00_12_40_Littlepip_Whining_Noisy_But, but I just saved you!.wav\n",
      "G:\\TwiBot\\CookiePPPTTS\\CookieTTS\\_1_preprocess\\tests\\littlepip_sample\\FoE_S1e02_Radio_Play_1.1\\00_12_53_Littlepip_Whining_Very noisy_After all that_ We should work together, travel together.txt\n",
      "G:\\TwiBot\\CookiePPPTTS\\CookieTTS\\_1_preprocess\\tests\\littlepip_sample\\FoE_S1e02_Radio_Play_1.1\\00_12_53_Littlepip_Whining_Very noisy_After all that_ We should work together, travel together.wav\n",
      "G:\\TwiBot\\CookiePPPTTS\\CookieTTS\\_1_preprocess\\tests\\littlepip_sample\\FoE_S1e02_Radio_Play_1.1\\00_03_01_Littlepip_Happy__I guess I should head over there and see what's there!.wav\n",
      "G:\\TwiBot\\CookiePPPTTS\\CookieTTS\\_1_preprocess\\tests\\littlepip_sample\\FoE_S1e02_Radio_Play_1.1\\00_03_03_Littlepip_Neutral__Seeing there's nothing better to do.txt\n",
      "G:\\TwiBot\\CookiePPPTTS\\CookieTTS\\_1_preprocess\\tests\\littlepip_sample\\FoE_S1e02_Radio_Play_1.1\\00_03_03_Littlepip_Neutral__Seeing there's nothing better to do.wav\n",
      "G:\\TwiBot\\CookiePPPTTS\\CookieTTS\\_1_preprocess\\tests\\littlepip_sample\\FoE_S1e02_Radio_Play_1.1\\00_03_07_Littlepip_Neutral__And for that matter, I've really stop talking to myself, this is weird.txt\n",
      "G:\\TwiBot\\CookiePPPTTS\\CookieTTS\\_1_preprocess\\tests\\littlepip_sample\\FoE_S1e02_Radio_Play_1.1\\00_03_26_Littlepip_Happy_Noisy_There lying on that straw mat, another unicorn! Oh finally somepony else!.txt\n",
      "G:\\TwiBot\\CookiePPPTTS\\CookieTTS\\_1_preprocess\\tests\\littlepip_sample\\FoE_S1e02_Radio_Play_1.1\\00_03_26_Littlepip_Happy_Noisy_There lying on that straw mat, another unicorn! Oh finally somepony else!.wav\n",
      "G:\\TwiBot\\CookiePPPTTS\\CookieTTS\\_1_preprocess\\tests\\littlepip_sample\\FoE_S1e02_Radio_Play_1.1\\00_03_33_Littlepip_Sad Confused_Noisy_But, why does he look so miserable_.txt\n",
      "G:\\TwiBot\\CookiePPPTTS\\CookieTTS\\_1_preprocess\\tests\\littlepip_sample\\FoE_S1e02_Radio_Play_1.1\\00_03_33_Littlepip_Sad Confused_Noisy_But, why does he look so miserable_.wav\n",
      "G:\\TwiBot\\CookiePPPTTS\\CookieTTS\\_1_preprocess\\tests\\littlepip_sample\\FoE_S1e02_Radio_Play_1.1\\00_17_22_Littlepip_Neutral_Noisy_Just what happened to Equestria before all of this went down_.txt\n",
      "G:\\TwiBot\\CookiePPPTTS\\CookieTTS\\_1_preprocess\\tests\\littlepip_sample\\FoE_S1e02_Radio_Play_1.1\\00_17_22_Littlepip_Neutral_Noisy_Just what happened to Equestria before all of this went down_.wav\n",
      "G:\\TwiBot\\CookiePPPTTS\\CookieTTS\\_1_preprocess\\tests\\littlepip_sample\\FoE_S1e02_Radio_Play_1.1\\00_17_32_Littlepip_Neutral_Noisy_That matress right there looks great.txt\n",
      "G:\\TwiBot\\CookiePPPTTS\\CookieTTS\\_1_preprocess\\tests\\littlepip_sample\\FoE_S1e02_Radio_Play_1.1\\00_17_32_Littlepip_Neutral_Noisy_That matress right there looks great.wav\n",
      "G:\\TwiBot\\CookiePPPTTS\\CookieTTS\\_1_preprocess\\tests\\littlepip_sample\\FoE_S1e02_Radio_Play_1.1\\00_17_35_Littlepip_Neutral__All I got to do is ignore all those stains and it'll be just like my matress back in the stable.txt\n",
      "G:\\TwiBot\\CookiePPPTTS\\CookieTTS\\_1_preprocess\\tests\\littlepip_sample\\FoE_S1e02_Radio_Play_1.1\\00_17_35_Littlepip_Neutral__All I got to do is ignore all those stains and it'll be just like my matress back in the stable.wav\n",
      "G:\\TwiBot\\CookiePPPTTS\\CookieTTS\\_1_preprocess\\tests\\littlepip_sample\\FoE_S1e02_Radio_Play_1.1\\00_17_45_Littlepip_Neutral_Noisy_I don't know how Velvet, but I'll find where you've gone, no matter how far I'll need to go.txt\n",
      "G:\\TwiBot\\CookiePPPTTS\\CookieTTS\\_1_preprocess\\tests\\littlepip_sample\\FoE_S1e02_Radio_Play_1.1\\00_17_45_Littlepip_Neutral_Noisy_I don't know how Velvet, but I'll find where you've gone, no matter how far I'll need to go.wav\n",
      "G:\\TwiBot\\CookiePPPTTS\\CookieTTS\\_1_preprocess\\tests\\littlepip_sample\\FoE_S1e02_Radio_Play_1.1\\00_15_32_Littlepip_Tired_Noisy_Ugh I need to sleep.wav\n",
      "G:\\TwiBot\\CookiePPPTTS\\CookieTTS\\_1_preprocess\\tests\\littlepip_sample\\FoE_S1e02_Radio_Play_1.1\\00_15_33_Littlepip_Neutral_Noisy_Goddess, sleeping here is probably a bad idea.txt\n",
      "G:\\TwiBot\\CookiePPPTTS\\CookieTTS\\_1_preprocess\\tests\\littlepip_sample\\FoE_S1e02_Radio_Play_1.1\\00_15_33_Littlepip_Neutral_Noisy_Goddess, sleeping here is probably a bad idea.wav\n",
      "G:\\TwiBot\\CookiePPPTTS\\CookieTTS\\_1_preprocess\\tests\\littlepip_sample\\FoE_S1e02_Radio_Play_1.1\\00_15_36_Littlepip_Neutral_Noisy_I'll probably wake up dead.txt\n",
      "G:\\TwiBot\\CookiePPPTTS\\CookieTTS\\_1_preprocess\\tests\\littlepip_sample\\FoE_S1e02_Radio_Play_1.1\\00_15_36_Littlepip_Neutral_Noisy_I'll probably wake up dead.wav\n",
      "G:\\TwiBot\\CookiePPPTTS\\CookieTTS\\_1_preprocess\\tests\\littlepip_sample\\FoE_S1e02_Radio_Play_1.1\\00_15_39_Littlepip_Neutral_Noisy_If I wake up at all, then again I'm better off here than out there.txt\n",
      "G:\\TwiBot\\CookiePPPTTS\\CookieTTS\\_1_preprocess\\tests\\littlepip_sample\\FoE_S1e02_Radio_Play_1.1\\00_15_47_Littlepip_Neutral_Noisy_Graffiti, graffiti and more graffiti.txt\n",
      "G:\\TwiBot\\CookiePPPTTS\\CookieTTS\\_1_preprocess\\tests\\littlepip_sample\\FoE_S1e02_Radio_Play_1.1\\00_15_47_Littlepip_Neutral_Noisy_Graffiti, graffiti and more graffiti.wav\n",
      "G:\\TwiBot\\CookiePPPTTS\\CookieTTS\\_1_preprocess\\tests\\littlepip_sample\\FoE_S1e02_Radio_Play_1.1\\00_15_50_Littlepip_Neutral_Noisy_Yup, definitely raider territory.txt\n",
      "G:\\TwiBot\\CookiePPPTTS\\CookieTTS\\_1_preprocess\\tests\\littlepip_sample\\FoE_S1e02_Radio_Play_1.1\\00_15_50_Littlepip_Neutral_Noisy_Yup, definitely raider territory.wav\n",
      "G:\\TwiBot\\CookiePPPTTS\\CookieTTS\\_1_preprocess\\tests\\littlepip_sample\\FoE_S1e02_Radio_Play_1.1\\00_15_53_Littlepip_Neutral_Noisy_At least it's better than a blank canvas.txt\n",
      "G:\\TwiBot\\CookiePPPTTS\\CookieTTS\\_1_preprocess\\tests\\littlepip_sample\\FoE_S1e02_Radio_Play_1.1\\00_15_53_Littlepip_Neutral_Noisy_At least it's better than a blank canvas.wav\n",
      "G:\\TwiBot\\CookiePPPTTS\\CookieTTS\\_1_preprocess\\tests\\littlepip_sample\\FoE_S1e02_Radio_Play_1.1\\00_15_58_Littlepip_Amused_Noisy_I spy with my little eye yet more graffiti.txt\n",
      "G:\\TwiBot\\CookiePPPTTS\\CookieTTS\\_1_preprocess\\tests\\littlepip_sample\\FoE_S1e02_Radio_Play_1.1\\00_15_58_Littlepip_Amused_Noisy_I spy with my little eye yet more graffiti.wav\n",
      "G:\\TwiBot\\CookiePPPTTS\\CookieTTS\\_1_preprocess\\tests\\littlepip_sample\\FoE_S1e02_Radio_Play_1.1\\00_16_02_Littlepip_Neutral_Noisy_And a stable tech terminal.txt\n",
      "G:\\TwiBot\\CookiePPPTTS\\CookieTTS\\_1_preprocess\\tests\\littlepip_sample\\FoE_S1e02_Radio_Play_1.1\\00_11_23_Littlepip_Suprised_Noisy_You killed that raider_.txt\n",
      "G:\\TwiBot\\CookiePPPTTS\\CookieTTS\\_1_preprocess\\tests\\littlepip_sample\\FoE_S1e02_Radio_Play_1.1\\00_12_30_Littlepip_Surprised Angry_Very noisy_What_! What do you think you're doing_! I just saved you!.txt\n",
      "G:\\TwiBot\\CookiePPPTTS\\CookieTTS\\_1_preprocess\\tests\\littlepip_sample\\FoE_S1e02_Radio_Play_1.1\\00_13_24_Littlepip_Annoyed_Noisy_Celestia's hooves up my flank, what a dick.txt\n",
      "G:\\TwiBot\\CookiePPPTTS\\CookieTTS\\_1_preprocess\\tests\\littlepip_sample\\FoE_S1e02_Radio_Play_1.1\\00_14_11_Littlepip_Smug_Very noisy_And by judging by the sprite bot, that gun is such poor repair I'll survive being shot with it.wav\n",
      "G:\\TwiBot\\CookiePPPTTS\\CookieTTS\\_1_preprocess\\tests\\littlepip_sample\\FoE_S1e02_Radio_Play_1.1\\00_14_25_Littlepip_Smug_Very noisy_And I'll be taking my canteens back.wav\n",
      "G:\\TwiBot\\CookiePPPTTS\\CookieTTS\\_1_preprocess\\tests\\littlepip_sample\\FoE_S1e02_Radio_Play_1.1\\00_14_54_Littlepip_Neutral_Noisy_How does my pip buck know the name of these places before I do_.txt\n",
      "G:\\TwiBot\\CookiePPPTTS\\CookieTTS\\_1_preprocess\\tests\\littlepip_sample\\FoE_S1e02_Radio_Play_1.1\\00_15_32_Littlepip_Tired_Noisy_Ugh I need to sleep.txt\n",
      "G:\\TwiBot\\CookiePPPTTS\\CookieTTS\\_1_preprocess\\tests\\littlepip_sample\\FoE_S1e02_Radio_Play_1.1\\00_15_39_Littlepip_Neutral_Noisy_If I wake up at all, then again I'm better off here than out there.wav\n",
      "G:\\TwiBot\\CookiePPPTTS\\CookieTTS\\_1_preprocess\\tests\\littlepip_sample\\FoE_S1e02_Radio_Play_1.1\\00_16_02_Littlepip_Neutral_Noisy_And a stable tech terminal.wav\n",
      "G:\\TwiBot\\CookiePPPTTS\\CookieTTS\\_1_preprocess\\tests\\littlepip_sample\\FoE_S1e02_Radio_Play_1.1\\00_16_15_Littlepip_Neutral_Noisy_Let's see, the password is, apple.wav\n",
      "G:\\TwiBot\\CookiePPPTTS\\CookieTTS\\_1_preprocess\\tests\\littlepip_sample\\FoE_S1e02_Radio_Play_1.1\\00_17_16_Littlepip_Neutral__That voice, it's the same one on the override code message Velvet found.wav\n",
      "G:\\TwiBot\\CookiePPPTTS\\CookieTTS\\_1_preprocess\\tests\\littlepip_sample\\FoE_S1e02_Radio_Play_1.1\\00_13_24_Littlepip_Annoyed_Noisy_Celestia's hooves up my flank, what a dick.wav\n",
      "G:\\TwiBot\\CookiePPPTTS\\CookieTTS\\_1_preprocess\\tests\\littlepip_sample\\FoE_S1e02_Radio_Play_1.1\\00_13_28_Littlepip_Neutral_Noisy_The shotgun! This could work.txt\n",
      "G:\\TwiBot\\CookiePPPTTS\\CookieTTS\\_1_preprocess\\tests\\littlepip_sample\\FoE_S1e02_Radio_Play_1.1\\00_13_28_Littlepip_Neutral_Noisy_The shotgun! This could work.wav\n",
      "G:\\TwiBot\\CookiePPPTTS\\CookieTTS\\_1_preprocess\\tests\\littlepip_sample\\FoE_S1e02_Radio_Play_1.1\\00_14_01_Littlepip_Smug_Very noisy_I'm a quick study.txt\n",
      "G:\\TwiBot\\CookiePPPTTS\\CookieTTS\\_1_preprocess\\tests\\littlepip_sample\\FoE_S1e02_Radio_Play_1.1\\00_14_01_Littlepip_Smug_Very noisy_I'm a quick study.wav\n",
      "G:\\TwiBot\\CookiePPPTTS\\CookieTTS\\_1_preprocess\\tests\\littlepip_sample\\FoE_S1e02_Radio_Play_1.1\\00_14_06_Littlepip_Smug_Very noisy_The question is do you know that you only have one shot left_.txt\n",
      "G:\\TwiBot\\CookiePPPTTS\\CookieTTS\\_1_preprocess\\tests\\littlepip_sample\\FoE_S1e02_Radio_Play_1.1\\00_14_06_Littlepip_Smug_Very noisy_The question is do you know that you only have one shot left_.wav\n",
      "G:\\TwiBot\\CookiePPPTTS\\CookieTTS\\_1_preprocess\\tests\\littlepip_sample\\FoE_S1e02_Radio_Play_1.1\\00_14_11_Littlepip_Smug_Very noisy_And by judging by the sprite bot, that gun is such poor repair I'll survive being shot with it.txt\n",
      "G:\\TwiBot\\CookiePPPTTS\\CookieTTS\\_1_preprocess\\tests\\littlepip_sample\\FoE_S1e02_Radio_Play_1.1\\00_09_36_Littlepip_Fear_Very noisy_I'm checking my options, and I don't like a single one, fuck.wav\n",
      "G:\\TwiBot\\CookiePPPTTS\\CookieTTS\\_1_preprocess\\tests\\littlepip_sample\\FoE_S1e02_Radio_Play_1.1\\00_09_42_Littlepip_Fear_Very noisy_Um, help us_ Heh.txt\n",
      "G:\\TwiBot\\CookiePPPTTS\\CookieTTS\\_1_preprocess\\tests\\littlepip_sample\\FoE_S1e02_Radio_Play_1.1\\00_09_42_Littlepip_Fear_Very noisy_Um, help us_ Heh.wav\n",
      "G:\\TwiBot\\CookiePPPTTS\\CookieTTS\\_1_preprocess\\tests\\littlepip_sample\\FoE_S1e02_Radio_Play_1.1\\00_10_19_Littlepip_Angry Shouting_Very noisy_Oh, it, is, on!.txt\n",
      "G:\\TwiBot\\CookiePPPTTS\\CookieTTS\\_1_preprocess\\tests\\littlepip_sample\\FoE_S1e02_Radio_Play_1.1\\00_10_19_Littlepip_Angry Shouting_Very noisy_Oh, it, is, on!.wav\n",
      "G:\\TwiBot\\CookiePPPTTS\\CookieTTS\\_1_preprocess\\tests\\littlepip_sample\\FoE_S1e02_Radio_Play_1.1\\00_07_06_Littlepip_Whispering Confused_Noisy_Excuse me_.txt\n",
      "G:\\TwiBot\\CookiePPPTTS\\CookieTTS\\_1_preprocess\\tests\\littlepip_sample\\FoE_S1e02_Radio_Play_1.1\\00_07_06_Littlepip_Whispering Confused_Noisy_Excuse me_.wav\n",
      "G:\\TwiBot\\CookiePPPTTS\\CookieTTS\\_1_preprocess\\tests\\littlepip_sample\\FoE_S1e02_Radio_Play_1.1\\00_07_15_Littlepip_Neutral_Noisy_Raider territory_.txt\n",
      "G:\\TwiBot\\CookiePPPTTS\\CookieTTS\\_1_preprocess\\tests\\littlepip_sample\\FoE_S1e02_Radio_Play_1.1\\00_07_15_Littlepip_Neutral_Noisy_Raider territory_.wav\n",
      "G:\\TwiBot\\CookiePPPTTS\\CookieTTS\\_1_preprocess\\tests\\littlepip_sample\\FoE_S1e02_Radio_Play_1.1\\00_07_28_Littlepip_Fear_Noisy_Are those decapitated heads_.txt\n",
      "G:\\TwiBot\\CookiePPPTTS\\CookieTTS\\_1_preprocess\\tests\\littlepip_sample\\FoE_S1e02_Radio_Play_1.1\\00_07_28_Littlepip_Fear_Noisy_Are those decapitated heads_.wav\n",
      "G:\\TwiBot\\CookiePPPTTS\\CookieTTS\\_1_preprocess\\tests\\littlepip_sample\\FoE_S1e02_Radio_Play_1.1\\00_07_52_Littlepip_Neutral_Very noisy_Okay, here's my chance!.txt\n",
      "G:\\TwiBot\\CookiePPPTTS\\CookieTTS\\_1_preprocess\\tests\\littlepip_sample\\FoE_S1e02_Radio_Play_1.1\\00_07_52_Littlepip_Neutral_Very noisy_Okay, here's my chance!.wav\n",
      "G:\\TwiBot\\CookiePPPTTS\\CookieTTS\\_1_preprocess\\tests\\littlepip_sample\\FoE_S1e02_Radio_Play_1.1\\00_03_37_Littlepip_Neutral_Noisy_Um, hello_.wav\n",
      "G:\\TwiBot\\CookiePPPTTS\\CookieTTS\\_1_preprocess\\tests\\littlepip_sample\\FoE_S1e02_Radio_Play_1.1\\00_03_44_Littlepip_Annoyed_Noisy_Well if you're going to tell me to leave you really outta speak proper.txt\n",
      "G:\\TwiBot\\CookiePPPTTS\\CookieTTS\\_1_preprocess\\tests\\littlepip_sample\\FoE_S1e02_Radio_Play_1.1\\00_03_44_Littlepip_Annoyed_Noisy_Well if you're going to tell me to leave you really outta speak proper.wav\n",
      "G:\\TwiBot\\CookiePPPTTS\\CookieTTS\\_1_preprocess\\tests\\littlepip_sample\\FoE_S1e02_Radio_Play_1.1\\00_03_47_Littlepip_Fear_Noisy_Oh, no, wait are those chains_ Luna's moon quakes.txt\n",
      "G:\\TwiBot\\CookiePPPTTS\\CookieTTS\\_1_preprocess\\tests\\littlepip_sample\\FoE_S1e02_Radio_Play_1.1\\00_03_47_Littlepip_Fear_Noisy_Oh, no, wait are those chains_ Luna's moon quakes.wav\n",
      "G:\\TwiBot\\CookiePPPTTS\\CookieTTS\\_1_preprocess\\tests\\littlepip_sample\\FoE_S1e02_Radio_Play_1.1\\00_03_53_Littlepip_Neutral_Noisy_No, first things first, let's get that gag out of his mouth.txt\n",
      "G:\\TwiBot\\CookiePPPTTS\\CookieTTS\\_1_preprocess\\tests\\littlepip_sample\\FoE_S1e02_Radio_Play_1.1\\00_03_53_Littlepip_Neutral_Noisy_No, first things first, let's get that gag out of his mouth.wav\n",
      "G:\\TwiBot\\CookiePPPTTS\\CookieTTS\\_1_preprocess\\tests\\littlepip_sample\\FoE_S1e02_Radio_Play_1.1\\00_05_30_Littlepip_Neutral_Very noisy_Not to mention they're sure being chatty enough with each other to suffice.wav\n",
      "G:\\TwiBot\\CookiePPPTTS\\CookieTTS\\_1_preprocess\\tests\\littlepip_sample\\FoE_S1e02_Radio_Play_1.1\\00_05_43_Littlepip_Disgust_Noisy_Ugh, judging by your stench, I'd just say you hate water in general, buddy.txt\n",
      "G:\\TwiBot\\CookiePPPTTS\\CookieTTS\\_1_preprocess\\tests\\littlepip_sample\\FoE_S1e02_Radio_Play_1.1\\00_05_43_Littlepip_Disgust_Noisy_Ugh, judging by your stench, I'd just say you hate water in general, buddy.wav\n",
      "G:\\TwiBot\\CookiePPPTTS\\CookieTTS\\_1_preprocess\\tests\\littlepip_sample\\FoE_S1e02_Radio_Play_1.1\\00_06_04_Littlepip_Whispering Anger_Noisy_Bastards.txt\n",
      "G:\\TwiBot\\CookiePPPTTS\\CookieTTS\\_1_preprocess\\tests\\littlepip_sample\\FoE_S1e02_Radio_Play_1.1\\00_06_04_Littlepip_Whispering Anger_Noisy_Bastards.wav\n",
      "G:\\TwiBot\\CookiePPPTTS\\CookieTTS\\_1_preprocess\\tests\\littlepip_sample\\FoE_S1e02_Radio_Play_1.1\\00_06_11_Littlepip_Neutral_Noisy_What kind of music is that_.txt\n",
      "G:\\TwiBot\\CookiePPPTTS\\CookieTTS\\_1_preprocess\\tests\\littlepip_sample\\FoE_S1e02_Radio_Play_1.1\\00_06_11_Littlepip_Neutral_Noisy_What kind of music is that_.wav\n",
      "G:\\TwiBot\\CookiePPPTTS\\CookieTTS\\_1_preprocess\\tests\\littlepip_sample\\FoE_S1e02_Radio_Play_1.1\\00_06_26_Littlepip_Amused_Very noisy_Boy, if he only knew.txt\n",
      "G:\\TwiBot\\CookiePPPTTS\\CookieTTS\\_1_preprocess\\tests\\littlepip_sample\\FoE_S1e02_Radio_Play_1.1\\00_16_20_Littlepip_Confused_Noisy_Wait, apple_.txt\n",
      "G:\\TwiBot\\CookiePPPTTS\\CookieTTS\\_1_preprocess\\tests\\littlepip_sample\\FoE_S1e02_Radio_Play_1.1\\00_16_20_Littlepip_Confused_Noisy_Wait, apple_.wav\n",
      "G:\\TwiBot\\CookiePPPTTS\\CookieTTS\\_1_preprocess\\tests\\littlepip_sample\\FoE_S1e02_Radio_Play_1.1\\00_16_23_Littlepip_Neutral_Noisy_Could this be the terminal to which the message back at Sweet Apple Acres was sent_.txt\n",
      "G:\\TwiBot\\CookiePPPTTS\\CookieTTS\\_1_preprocess\\tests\\littlepip_sample\\FoE_S1e02_Radio_Play_1.1\\00_16_23_Littlepip_Neutral_Noisy_Could this be the terminal to which the message back at Sweet Apple Acres was sent_.wav\n",
      "G:\\TwiBot\\CookiePPPTTS\\CookieTTS\\_1_preprocess\\tests\\littlepip_sample\\FoE_S1e02_Radio_Play_1.1\\00_16_29_Littlepip_Surprised_Noisy_Whoa it is.txt\n",
      "G:\\TwiBot\\CookiePPPTTS\\CookieTTS\\_1_preprocess\\tests\\littlepip_sample\\FoE_S1e02_Radio_Play_1.1\\00_16_29_Littlepip_Surprised_Noisy_Whoa it is.wav\n",
      "G:\\TwiBot\\CookiePPPTTS\\CookieTTS\\_1_preprocess\\tests\\littlepip_sample\\FoE_S1e02_Radio_Play_1.1\\00_16_31_Littlepip_Neutral_Noisy_So I guess I'll just listen to what this two hundered year old recoarding says.txt\n",
      "G:\\TwiBot\\CookiePPPTTS\\CookieTTS\\_1_preprocess\\tests\\littlepip_sample\\FoE_S1e02_Radio_Play_1.1\\00_16_31_Littlepip_Neutral_Noisy_So I guess I'll just listen to what this two hundered year old recoarding says.wav\n",
      "G:\\TwiBot\\CookiePPPTTS\\CookieTTS\\_1_preprocess\\tests\\littlepip_sample\\FoE_S1e02_Radio_Play_1.1\\00_17_16_Littlepip_Neutral__That voice, it's the same one on the override code message Velvet found.txt\n",
      "G:\\TwiBot\\CookiePPPTTS\\CookieTTS\\_1_preprocess\\tests\\littlepip_sample\\FoE_S1e02_Radio_Play_1.1\\00_14_54_Littlepip_Neutral_Noisy_How does my pip buck know the name of these places before I do_.wav\n",
      "G:\\TwiBot\\CookiePPPTTS\\CookieTTS\\_1_preprocess\\tests\\littlepip_sample\\FoE_S1e02_Radio_Play_1.1\\00_15_12_Littlepip_Surprised_Noisy_Sniper pony!.txt\n",
      "G:\\TwiBot\\CookiePPPTTS\\CookieTTS\\_1_preprocess\\tests\\littlepip_sample\\FoE_S1e02_Radio_Play_1.1\\00_15_12_Littlepip_Surprised_Noisy_Sniper pony!.wav\n",
      "G:\\TwiBot\\CookiePPPTTS\\CookieTTS\\_1_preprocess\\tests\\littlepip_sample\\FoE_S1e02_Radio_Play_1.1\\00_15_15_Littlepip_Annoyed Shouting_Noisy_Oh now that's not just fair!.txt\n",
      "G:\\TwiBot\\CookiePPPTTS\\CookieTTS\\_1_preprocess\\tests\\littlepip_sample\\FoE_S1e02_Radio_Play_1.1\\00_15_15_Littlepip_Annoyed Shouting_Noisy_Oh now that's not just fair!.wav\n",
      "G:\\TwiBot\\CookiePPPTTS\\CookieTTS\\_1_preprocess\\tests\\littlepip_sample\\FoE_S1e02_Radio_Play_1.1\\00_15_30_Littlepip_Happy_Noisy_Made it.txt\n",
      "G:\\TwiBot\\CookiePPPTTS\\CookieTTS\\_1_preprocess\\tests\\littlepip_sample\\FoE_S1e02_Radio_Play_1.1\\00_15_30_Littlepip_Happy_Noisy_Made it.wav\n",
      "G:\\TwiBot\\CookiePPPTTS\\CookieTTS\\_1_preprocess\\tests\\littlepip_sample\\MFA_output\\FoE_S1e02_Radio_Play_1.1\n",
      "G:\\TwiBot\\CookiePPPTTS\\CookieTTS\\_1_preprocess\\tests\\littlepip_sample\\MFA_output\\oovs_found.txt\n",
      "G:\\TwiBot\\CookiePPPTTS\\CookieTTS\\_1_preprocess\\tests\\littlepip_sample\\MFA_output\\FoE_S1e02_Radio_Play_1.1\\00_00_33_Littlepip_Shouting_Noisy_Velvet_!.TextGrid\n",
      "G:\\TwiBot\\CookiePPPTTS\\CookieTTS\\_1_preprocess\\tests\\littlepip_sample\\MFA_output\\FoE_S1e02_Radio_Play_1.1\\00_11_57_Littlepip_Neutral_Noisy_But.TextGrid\n",
      "G:\\TwiBot\\CookiePPPTTS\\CookieTTS\\_1_preprocess\\tests\\littlepip_sample\\MFA_output\\FoE_S1e02_Radio_Play_1.1\\00_11_59_Littlepip_Confused_Noisy_Huh_.TextGrid\n",
      "G:\\TwiBot\\CookiePPPTTS\\CookieTTS\\_1_preprocess\\tests\\littlepip_sample\\MFA_output\\FoE_S1e02_Radio_Play_1.1\\00_14_52_Littlepip_Neutral_Noisy_Ponyville.TextGrid\n"
     ]
    }
   ],
   "source": [
    "from glob import glob\n",
    "import os\n",
    "for fpath in glob(r\"G:\\TwiBot\\CookiePPPTTS\\CookieTTS\\_1_preprocess\\tests\\littlepip_sample\\**\\*.*\", recursive=True):\n",
    "    print(fpath)\n",
    "    if not os.path.isdir(fpath):\n",
    "        os.rename(fpath, fpath.replace(' ','_'))"
   ]
  },
  {
   "cell_type": "code",
   "execution_count": 42,
   "metadata": {},
   "outputs": [
    {
     "name": "stdout",
     "output_type": "stream",
     "text": [
      "70.5 µs ± 703 ns per loop (mean ± std. dev. of 7 runs, 10000 loops each)\n"
     ]
    }
   ],
   "source": [
    "%%timeit\n",
    "x = torch.rand(8,160,750, device='cuda')"
   ]
  },
  {
   "cell_type": "code",
   "execution_count": 43,
   "metadata": {},
   "outputs": [
    {
     "name": "stdout",
     "output_type": "stream",
     "text": [
      "24 ns ± 0.52 ns per loop (mean ± std. dev. of 7 runs, 10000000 loops each)\n"
     ]
    }
   ],
   "source": [
    "%%timeit\n",
    "y = x"
   ]
  },
  {
   "cell_type": "code",
   "execution_count": 44,
   "metadata": {},
   "outputs": [
    {
     "name": "stdout",
     "output_type": "stream",
     "text": [
      "70.2 µs ± 99.6 ns per loop (mean ± std. dev. of 7 runs, 10000 loops each)\n"
     ]
    }
   ],
   "source": [
    "%%timeit\n",
    "y = x = torch.rand(8,160,750, device='cuda')"
   ]
  },
  {
   "cell_type": "code",
   "execution_count": 38,
   "metadata": {},
   "outputs": [
    {
     "name": "stdout",
     "output_type": "stream",
     "text": [
      "('E:\\\\downloads\\\\Clipper_MLP\\\\Sliced Dialogue\\\\EQG\\\\EQG Dance Magic\\\\00_00_41_Rarity_Neutral__All of this sunshine and suds are doing a number on my hair..flac', 'E:\\\\downloads\\\\Clipper_MLP\\\\Sliced Dialogue\\\\EQG\\\\EQG Dance Magic\\\\00_00_41_Rarity_Neutral__All of this sunshine and suds are doing a number on my hair.flac')\n",
      "(\"E:\\\\downloads\\\\Clipper_MLP\\\\Sliced Dialogue\\\\EQG\\\\EQG Dance Magic\\\\00_00_51_Twilight_Neutral_Very Noisy_I'm here..flac\", \"E:\\\\downloads\\\\Clipper_MLP\\\\Sliced Dialogue\\\\EQG\\\\EQG Dance Magic\\\\00_00_51_Twilight_Neutral_Very Noisy_I'm here.flac\")\n",
      "('E:\\\\downloads\\\\Clipper_MLP\\\\Sliced Dialogue\\\\EQG\\\\EQG Dance Magic\\\\00_00_52_Twilight_Neutral_Very Noisy_I was just going over the numbers again..flac', 'E:\\\\downloads\\\\Clipper_MLP\\\\Sliced Dialogue\\\\EQG\\\\EQG Dance Magic\\\\00_00_52_Twilight_Neutral_Very Noisy_I was just going over the numbers again.flac')\n",
      "(\"E:\\\\downloads\\\\Clipper_MLP\\\\Sliced Dialogue\\\\EQG\\\\EQG Dance Magic\\\\00_00_57_Twilight_Neutral_Noisy_We've only raised half..flac\", \"E:\\\\downloads\\\\Clipper_MLP\\\\Sliced Dialogue\\\\EQG\\\\EQG Dance Magic\\\\00_00_57_Twilight_Neutral_Noisy_We've only raised half.flac\")\n",
      "(\"E:\\\\downloads\\\\Clipper_MLP\\\\Sliced Dialogue\\\\EQG\\\\EQG Dance Magic\\\\00_01_03_Applejack_Neutral_Noisy_It's all right..flac\", \"E:\\\\downloads\\\\Clipper_MLP\\\\Sliced Dialogue\\\\EQG\\\\EQG Dance Magic\\\\00_01_03_Applejack_Neutral_Noisy_It's all right.flac\")\n",
      "(\"E:\\\\downloads\\\\Clipper_MLP\\\\Sliced Dialogue\\\\EQG\\\\EQG Dance Magic\\\\00_01_04_Applejack_Neutral_Very Noisy_We can just wash more cars. there's gotta be some we missed..flac\", \"E:\\\\downloads\\\\Clipper_MLP\\\\Sliced Dialogue\\\\EQG\\\\EQG Dance Magic\\\\00_01_04_Applejack_Neutral_Very Noisy_We can just wash more cars. there's gotta be some we missed.flac\")\n",
      "(\"E:\\\\downloads\\\\Clipper_MLP\\\\Sliced Dialogue\\\\EQG\\\\EQG Dance Magic\\\\00_01_11_Sunset Shimmer_Neutral_Noisy_I uh think we're gonna have to come up with a new plan..flac\", \"E:\\\\downloads\\\\Clipper_MLP\\\\Sliced Dialogue\\\\EQG\\\\EQG Dance Magic\\\\00_01_11_Sunset Shimmer_Neutral_Noisy_I uh think we're gonna have to come up with a new plan.flac\")\n",
      "('E:\\\\downloads\\\\Clipper_MLP\\\\Sliced Dialogue\\\\EQG\\\\EQG Dance Magic\\\\00_01_16_Rainbow_Anxious_Noisy_The camp fundraising deadline is next week..flac', 'E:\\\\downloads\\\\Clipper_MLP\\\\Sliced Dialogue\\\\EQG\\\\EQG Dance Magic\\\\00_01_16_Rainbow_Anxious_Noisy_The camp fundraising deadline is next week.flac')\n",
      "(\"E:\\\\downloads\\\\Clipper_MLP\\\\Sliced Dialogue\\\\EQG\\\\EQG Dance Magic\\\\00_01_19_Rainbow_Neutral_Very Noisy_And pinkie pie's already hosted a bake sale, Twilight and fluttershy had that doggy day care..flac\", \"E:\\\\downloads\\\\Clipper_MLP\\\\Sliced Dialogue\\\\EQG\\\\EQG Dance Magic\\\\00_01_19_Rainbow_Neutral_Very Noisy_And pinkie pie's already hosted a bake sale, Twilight and fluttershy had that doggy day care.flac\")\n",
      "('E:\\\\downloads\\\\Clipper_MLP\\\\Sliced Dialogue\\\\EQG\\\\EQG Dance Magic\\\\00_01_24_Rainbow_Neutral__And sunset shimmer and i planned this car wash..flac', 'E:\\\\downloads\\\\Clipper_MLP\\\\Sliced Dialogue\\\\EQG\\\\EQG Dance Magic\\\\00_01_24_Rainbow_Neutral__And sunset shimmer and i planned this car wash.flac')\n",
      "(\"E:\\\\downloads\\\\Clipper_MLP\\\\Sliced Dialogue\\\\EQG\\\\EQG Dance Magic\\\\00_01_26_Rarity_Neutral_Noisy_Not to worry darlings, it's my turn to devise a plan..flac\", \"E:\\\\downloads\\\\Clipper_MLP\\\\Sliced Dialogue\\\\EQG\\\\EQG Dance Magic\\\\00_01_26_Rarity_Neutral_Noisy_Not to worry darlings, it's my turn to devise a plan.flac\")\n",
      "('E:\\\\downloads\\\\Clipper_MLP\\\\Sliced Dialogue\\\\EQG\\\\EQG Dance Magic\\\\00_00_30_Rainbow_Neutral_Very Noisy_Thanks big mac..flac', 'E:\\\\downloads\\\\Clipper_MLP\\\\Sliced Dialogue\\\\EQG\\\\EQG Dance Magic\\\\00_00_30_Rainbow_Neutral_Very Noisy_Thanks big mac.flac')\n",
      "('E:\\\\downloads\\\\Clipper_MLP\\\\Sliced Dialogue\\\\EQG\\\\EQG Dance Magic\\\\00_00_59_Twilight_Neutral_Very Noisy_I counted the money four times just to be sure..flac', 'E:\\\\downloads\\\\Clipper_MLP\\\\Sliced Dialogue\\\\EQG\\\\EQG Dance Magic\\\\00_00_59_Twilight_Neutral_Very Noisy_I counted the money four times just to be sure.flac')\n",
      "('E:\\\\downloads\\\\Clipper_MLP\\\\Sliced Dialogue\\\\EQG\\\\EQG Dance Magic\\\\00_01_41_Rarity_Neutral_Very Noisy_Meet me in the music room later this afternoon, and i will explain everything..flac', 'E:\\\\downloads\\\\Clipper_MLP\\\\Sliced Dialogue\\\\EQG\\\\EQG Dance Magic\\\\00_01_41_Rarity_Neutral_Very Noisy_Meet me in the music room later this afternoon, and i will explain everything.flac')\n",
      "('E:\\\\downloads\\\\Clipper_MLP\\\\Sliced Dialogue\\\\EQG\\\\EQG Dance Magic\\\\00_02_27_Rarity_Neutral_Very Noisy_Usually window shopping inspires me..flac', 'E:\\\\downloads\\\\Clipper_MLP\\\\Sliced Dialogue\\\\EQG\\\\EQG Dance Magic\\\\00_02_27_Rarity_Neutral_Very Noisy_Usually window shopping inspires me.flac')\n",
      "('E:\\\\downloads\\\\Clipper_MLP\\\\Sliced Dialogue\\\\EQG\\\\EQG Dance Magic\\\\00_01_29_Rarity_Neutral__And i already have something amazing in mind..flac', 'E:\\\\downloads\\\\Clipper_MLP\\\\Sliced Dialogue\\\\EQG\\\\EQG Dance Magic\\\\00_01_29_Rarity_Neutral__And i already have something amazing in mind.flac')\n",
      "('E:\\\\downloads\\\\Clipper_MLP\\\\Sliced Dialogue\\\\EQG\\\\EQG Dance Magic\\\\00_02_21_Rarity_Neutral_Very Noisy_Oh, rats..flac', 'E:\\\\downloads\\\\Clipper_MLP\\\\Sliced Dialogue\\\\EQG\\\\EQG Dance Magic\\\\00_02_21_Rarity_Neutral_Very Noisy_Oh, rats.flac')\n",
      "('E:\\\\downloads\\\\Clipper_MLP\\\\Sliced Dialogue\\\\EQG\\\\EQG Dance Magic\\\\00_02_23_Rarity_Annoyed_Very Noisy_Three hours and still no ideas for a lucrative last minute fundraiser..flac', 'E:\\\\downloads\\\\Clipper_MLP\\\\Sliced Dialogue\\\\EQG\\\\EQG Dance Magic\\\\00_02_23_Rarity_Annoyed_Very Noisy_Three hours and still no ideas for a lucrative last minute fundraiser.flac')\n",
      "('E:\\\\downloads\\\\Clipper_MLP\\\\Sliced Dialogue\\\\EQG\\\\EQG Dance Magic\\\\00_02_34_Rarity_Neutral_Very Noisy_Yes..flac', 'E:\\\\downloads\\\\Clipper_MLP\\\\Sliced Dialogue\\\\EQG\\\\EQG Dance Magic\\\\00_02_34_Rarity_Neutral_Very Noisy_Yes.flac')\n",
      "('E:\\\\downloads\\\\Clipper_MLP\\\\Sliced Dialogue\\\\EQG\\\\EQG Dance Magic\\\\00_03_15_Sour Sweet_Annoyed Whispering_Very Noisy_Not..flac', 'E:\\\\downloads\\\\Clipper_MLP\\\\Sliced Dialogue\\\\EQG\\\\EQG Dance Magic\\\\00_03_15_Sour Sweet_Annoyed Whispering_Very Noisy_Not.flac')\n",
      "(\"E:\\\\downloads\\\\Clipper_MLP\\\\Sliced Dialogue\\\\EQG\\\\EQG Dance Magic\\\\00_03_19_Rarity_Neutral__Why, it's been ages..flac\", \"E:\\\\downloads\\\\Clipper_MLP\\\\Sliced Dialogue\\\\EQG\\\\EQG Dance Magic\\\\00_03_19_Rarity_Neutral__Why, it's been ages.flac\")\n",
      "('E:\\\\downloads\\\\Clipper_MLP\\\\Sliced Dialogue\\\\EQG\\\\EQG Dance Magic\\\\00_03_28_Sunny Flare_Neutral__Oh, things at cpa have never been better since principal cadance took over..flac', 'E:\\\\downloads\\\\Clipper_MLP\\\\Sliced Dialogue\\\\EQG\\\\EQG Dance Magic\\\\00_03_28_Sunny Flare_Neutral__Oh, things at cpa have never been better since principal cadance took over.flac')\n",
      "('E:\\\\downloads\\\\Clipper_MLP\\\\Sliced Dialogue\\\\EQG\\\\EQG Dance Magic\\\\00_03_38_Sour Sweet_Neutral__If we raise the money..flac', 'E:\\\\downloads\\\\Clipper_MLP\\\\Sliced Dialogue\\\\EQG\\\\EQG Dance Magic\\\\00_03_38_Sour Sweet_Neutral__If we raise the money.flac')\n",
      "('E:\\\\downloads\\\\Clipper_MLP\\\\Sliced Dialogue\\\\EQG\\\\EQG Dance Magic\\\\00_03_40_Rarity_Neutral__Sounds divine..flac', 'E:\\\\downloads\\\\Clipper_MLP\\\\Sliced Dialogue\\\\EQG\\\\EQG Dance Magic\\\\00_03_40_Rarity_Neutral__Sounds divine.flac')\n",
      "('E:\\\\downloads\\\\Clipper_MLP\\\\Sliced Dialogue\\\\EQG\\\\EQG Dance Magic\\\\00_03_54_Sour Sweet_Neutral__I assume you already have a video concept figured out..flac', 'E:\\\\downloads\\\\Clipper_MLP\\\\Sliced Dialogue\\\\EQG\\\\EQG Dance Magic\\\\00_03_54_Sour Sweet_Neutral__I assume you already have a video concept figured out.flac')\n",
      "(\"E:\\\\downloads\\\\Clipper_MLP\\\\Sliced Dialogue\\\\EQG\\\\EQG Dance Magic\\\\00_03_58_Sour Sweet_Neutral_Noisy_The competition's going to be pretty fierce..flac\", \"E:\\\\downloads\\\\Clipper_MLP\\\\Sliced Dialogue\\\\EQG\\\\EQG Dance Magic\\\\00_03_58_Sour Sweet_Neutral_Noisy_The competition's going to be pretty fierce.flac\")\n",
      "('E:\\\\downloads\\\\Clipper_MLP\\\\Sliced Dialogue\\\\EQG\\\\EQG Dance Magic\\\\00_04_02_Rarity_Neutral__Yes..flac', 'E:\\\\downloads\\\\Clipper_MLP\\\\Sliced Dialogue\\\\EQG\\\\EQG Dance Magic\\\\00_04_02_Rarity_Neutral__Yes.flac')\n",
      "('E:\\\\downloads\\\\Clipper_MLP\\\\Sliced Dialogue\\\\EQG\\\\EQG Dance Magic\\\\00_04_03_Rarity_Neutral_Very Noisy_It came to me as soon as i saw that gorgeous red ruffled ensemble on the way over here..flac', 'E:\\\\downloads\\\\Clipper_MLP\\\\Sliced Dialogue\\\\EQG\\\\EQG Dance Magic\\\\00_04_03_Rarity_Neutral_Very Noisy_It came to me as soon as i saw that gorgeous red ruffled ensemble on the way over here.flac')\n",
      "('E:\\\\downloads\\\\Clipper_MLP\\\\Sliced Dialogue\\\\EQG\\\\EQG Dance Magic\\\\00_04_11_Rarity_Neutral_Very Noisy_Well..flac', 'E:\\\\downloads\\\\Clipper_MLP\\\\Sliced Dialogue\\\\EQG\\\\EQG Dance Magic\\\\00_04_11_Rarity_Neutral_Very Noisy_Well.flac')\n",
      "('E:\\\\downloads\\\\Clipper_MLP\\\\Sliced Dialogue\\\\EQG\\\\EQG Dance Magic\\\\00_04_12_Rarity_Neutral_Very Noisy_Each member of the rainbooms is going to dance in a different style..flac', 'E:\\\\downloads\\\\Clipper_MLP\\\\Sliced Dialogue\\\\EQG\\\\EQG Dance Magic\\\\00_04_12_Rarity_Neutral_Very Noisy_Each member of the rainbooms is going to dance in a different style.flac')\n",
      "('E:\\\\downloads\\\\Clipper_MLP\\\\Sliced Dialogue\\\\EQG\\\\EQG Dance Magic\\\\00_04_16_Rarity_Neutral_Very Noisy_Like flamenco, hip hop, or street ballet..flac', 'E:\\\\downloads\\\\Clipper_MLP\\\\Sliced Dialogue\\\\EQG\\\\EQG Dance Magic\\\\00_04_16_Rarity_Neutral_Very Noisy_Like flamenco, hip hop, or street ballet.flac')\n",
      "(\"E:\\\\downloads\\\\Clipper_MLP\\\\Sliced Dialogue\\\\EQG\\\\EQG Dance Magic\\\\00_04_18_Rarity_Neutral_Very Noisy_And we'll wear costumes to match each genre..flac\", \"E:\\\\downloads\\\\Clipper_MLP\\\\Sliced Dialogue\\\\EQG\\\\EQG Dance Magic\\\\00_04_18_Rarity_Neutral_Very Noisy_And we'll wear costumes to match each genre.flac\")\n",
      "('E:\\\\downloads\\\\Clipper_MLP\\\\Sliced Dialogue\\\\EQG\\\\EQG Dance Magic\\\\00_04_21_Rarity_Neutral_Very Noisy_Designed by yours truly of course..flac', 'E:\\\\downloads\\\\Clipper_MLP\\\\Sliced Dialogue\\\\EQG\\\\EQG Dance Magic\\\\00_04_21_Rarity_Neutral_Very Noisy_Designed by yours truly of course.flac')\n",
      "('E:\\\\downloads\\\\Clipper_MLP\\\\Sliced Dialogue\\\\EQG\\\\EQG Dance Magic\\\\00_04_29_Sour Sweet_Neutral__Yeah..flac', 'E:\\\\downloads\\\\Clipper_MLP\\\\Sliced Dialogue\\\\EQG\\\\EQG Dance Magic\\\\00_04_29_Sour Sweet_Neutral__Yeah.flac')\n",
      "(\"E:\\\\downloads\\\\Clipper_MLP\\\\Sliced Dialogue\\\\EQG\\\\EQG Dance Magic\\\\00_04_30_Sour Sweet_Neutral__I guess it's okay..flac\", \"E:\\\\downloads\\\\Clipper_MLP\\\\Sliced Dialogue\\\\EQG\\\\EQG Dance Magic\\\\00_04_30_Sour Sweet_Neutral__I guess it's okay.flac\")\n",
      "(\"E:\\\\downloads\\\\Clipper_MLP\\\\Sliced Dialogue\\\\EQG\\\\EQG Dance Magic\\\\00_04_31_Sour Sweet_Whispering_Noisy_If you're going for way too over the top..flac\", \"E:\\\\downloads\\\\Clipper_MLP\\\\Sliced Dialogue\\\\EQG\\\\EQG Dance Magic\\\\00_04_31_Sour Sweet_Whispering_Noisy_If you're going for way too over the top.flac\")\n",
      "(\"E:\\\\downloads\\\\Clipper_MLP\\\\Sliced Dialogue\\\\EQG\\\\EQG Dance Magic\\\\00_04_43_Sour Sweet_Neutral__But it's amazing..flac\", \"E:\\\\downloads\\\\Clipper_MLP\\\\Sliced Dialogue\\\\EQG\\\\EQG Dance Magic\\\\00_04_43_Sour Sweet_Neutral__But it's amazing.flac\")\n",
      "(\"E:\\\\downloads\\\\Clipper_MLP\\\\Sliced Dialogue\\\\EQG\\\\EQG Dance Magic\\\\00_04_44_Sour Sweet_Neutral__It's so original..flac\", \"E:\\\\downloads\\\\Clipper_MLP\\\\Sliced Dialogue\\\\EQG\\\\EQG Dance Magic\\\\00_04_44_Sour Sweet_Neutral__It's so original.flac\")\n",
      "(\"E:\\\\downloads\\\\Clipper_MLP\\\\Sliced Dialogue\\\\EQG\\\\EQG Dance Magic\\\\00_04_47_Rarity_Neutral__Well i can't wait to see it..flac\", \"E:\\\\downloads\\\\Clipper_MLP\\\\Sliced Dialogue\\\\EQG\\\\EQG Dance Magic\\\\00_04_47_Rarity_Neutral__Well i can't wait to see it.flac\")\n",
      "(\"E:\\\\downloads\\\\Clipper_MLP\\\\Sliced Dialogue\\\\EQG\\\\EQG Dance Magic\\\\00_04_52_Rarity_Neutral__See_ it's a wonderful plan..flac\", \"E:\\\\downloads\\\\Clipper_MLP\\\\Sliced Dialogue\\\\EQG\\\\EQG Dance Magic\\\\00_04_52_Rarity_Neutral__See_ it's a wonderful plan.flac\")\n",
      "(\"E:\\\\downloads\\\\Clipper_MLP\\\\Sliced Dialogue\\\\EQG\\\\EQG Dance Magic\\\\00_04_55_Rarity_Neutral_Noisy_We'll write some lyrics for our new song, and we'll choreograph some dance moves..flac\", \"E:\\\\downloads\\\\Clipper_MLP\\\\Sliced Dialogue\\\\EQG\\\\EQG Dance Magic\\\\00_04_55_Rarity_Neutral_Noisy_We'll write some lyrics for our new song, and we'll choreograph some dance moves.flac\")\n",
      "('E:\\\\downloads\\\\Clipper_MLP\\\\Sliced Dialogue\\\\EQG\\\\EQG Dance Magic\\\\00_05_02_Applejack_Neutral__You make it sound simple as pie..flac', 'E:\\\\downloads\\\\Clipper_MLP\\\\Sliced Dialogue\\\\EQG\\\\EQG Dance Magic\\\\00_05_02_Applejack_Neutral__You make it sound simple as pie.flac')\n",
      "('E:\\\\downloads\\\\Clipper_MLP\\\\Sliced Dialogue\\\\EQG\\\\EQG Dance Magic\\\\00_05_06_Rarity_Neutral_Noisy_The girls at crystal prep even agree..flac', 'E:\\\\downloads\\\\Clipper_MLP\\\\Sliced Dialogue\\\\EQG\\\\EQG Dance Magic\\\\00_05_06_Rarity_Neutral_Noisy_The girls at crystal prep even agree.flac')\n",
      "(\"E:\\\\downloads\\\\Clipper_MLP\\\\Sliced Dialogue\\\\EQG\\\\EQG Dance Magic\\\\00_05_08_Rarity_Neutral__They're making a video too..flac\", \"E:\\\\downloads\\\\Clipper_MLP\\\\Sliced Dialogue\\\\EQG\\\\EQG Dance Magic\\\\00_05_08_Rarity_Neutral__They're making a video too.flac\")\n",
      "(\"E:\\\\downloads\\\\Clipper_MLP\\\\Sliced Dialogue\\\\EQG\\\\EQG Dance Magic\\\\00_05_15_Twilight_Neutral_Very Noisy_Just haven't heard much about my old school since i left, i guess..flac\", \"E:\\\\downloads\\\\Clipper_MLP\\\\Sliced Dialogue\\\\EQG\\\\EQG Dance Magic\\\\00_05_15_Twilight_Neutral_Very Noisy_Just haven't heard much about my old school since i left, i guess.flac\")\n",
      "('E:\\\\downloads\\\\Clipper_MLP\\\\Sliced Dialogue\\\\EQG\\\\EQG Dance Magic\\\\00_05_19_Spike_Neutral__Well, if you ask me, crystal prep has got nothing on chs..flac', 'E:\\\\downloads\\\\Clipper_MLP\\\\Sliced Dialogue\\\\EQG\\\\EQG Dance Magic\\\\00_05_19_Spike_Neutral__Well, if you ask me, crystal prep has got nothing on chs.flac')\n",
      "('E:\\\\downloads\\\\Clipper_MLP\\\\Sliced Dialogue\\\\EQG\\\\EQG Dance Magic\\\\00_05_27_Rarity_Neutral__Okay..flac', 'E:\\\\downloads\\\\Clipper_MLP\\\\Sliced Dialogue\\\\EQG\\\\EQG Dance Magic\\\\00_05_27_Rarity_Neutral__Okay.flac')\n",
      "(\"E:\\\\downloads\\\\Clipper_MLP\\\\Sliced Dialogue\\\\EQG\\\\EQG Dance Magic\\\\00_03_33_Sour Sweet_Neutral_Noisy_Yeah. she's going to let us have the spring dance on a yacht..flac\", \"E:\\\\downloads\\\\Clipper_MLP\\\\Sliced Dialogue\\\\EQG\\\\EQG Dance Magic\\\\00_03_33_Sour Sweet_Neutral_Noisy_Yeah. she's going to let us have the spring dance on a yacht.flac\")\n",
      "(\"E:\\\\downloads\\\\Clipper_MLP\\\\Sliced Dialogue\\\\EQG\\\\EQG Dance Magic\\\\00_03_50_Sugarcoat_Sarcastic__We definitely aren't here because we like standing in lines..flac\", \"E:\\\\downloads\\\\Clipper_MLP\\\\Sliced Dialogue\\\\EQG\\\\EQG Dance Magic\\\\00_03_50_Sugarcoat_Sarcastic__We definitely aren't here because we like standing in lines.flac\")\n",
      "('E:\\\\downloads\\\\Clipper_MLP\\\\Sliced Dialogue\\\\EQG\\\\EQG Dance Magic\\\\00_04_08_Sour Sweet_Neutral__Tell me more..flac', 'E:\\\\downloads\\\\Clipper_MLP\\\\Sliced Dialogue\\\\EQG\\\\EQG Dance Magic\\\\00_04_08_Sour Sweet_Neutral__Tell me more.flac')\n",
      "('E:\\\\downloads\\\\Clipper_MLP\\\\Sliced Dialogue\\\\EQG\\\\EQG Dance Magic\\\\00_04_24_Sugarcoat_Neutral__That sounds like a very good concept..flac', 'E:\\\\downloads\\\\Clipper_MLP\\\\Sliced Dialogue\\\\EQG\\\\EQG Dance Magic\\\\00_04_24_Sugarcoat_Neutral__That sounds like a very good concept.flac')\n",
      "(\"E:\\\\downloads\\\\Clipper_MLP\\\\Sliced Dialogue\\\\EQG\\\\EQG Dance Magic\\\\00_04_37_Sugarcoat_Neutral__Nothing. we don't have one yet..flac\", \"E:\\\\downloads\\\\Clipper_MLP\\\\Sliced Dialogue\\\\EQG\\\\EQG Dance Magic\\\\00_04_37_Sugarcoat_Neutral__Nothing. we don't have one yet.flac\")\n",
      "(\"E:\\\\downloads\\\\Clipper_MLP\\\\Sliced Dialogue\\\\EQG\\\\EQG Dance Magic\\\\00_05_13_Twilight_Neutral__Oh, no it's not..flac\", \"E:\\\\downloads\\\\Clipper_MLP\\\\Sliced Dialogue\\\\EQG\\\\EQG Dance Magic\\\\00_05_13_Twilight_Neutral__Oh, no it's not.flac\")\n",
      "('E:\\\\downloads\\\\Clipper_MLP\\\\Sliced Dialogue\\\\EQG\\\\EQG Dance Magic\\\\00_05_28_Rarity_Neutral__Before we get started with the choreographing of our dance moves..flac', 'E:\\\\downloads\\\\Clipper_MLP\\\\Sliced Dialogue\\\\EQG\\\\EQG Dance Magic\\\\00_05_28_Rarity_Neutral__Before we get started with the choreographing of our dance moves.flac')\n",
      "(\"E:\\\\downloads\\\\Clipper_MLP\\\\Sliced Dialogue\\\\EQG\\\\EQG Dance Magic\\\\00_05_33_Rarity_Neutral_Noisy_There's just one tiny, teeny weensey, little thing..flac\", \"E:\\\\downloads\\\\Clipper_MLP\\\\Sliced Dialogue\\\\EQG\\\\EQG Dance Magic\\\\00_05_33_Rarity_Neutral_Noisy_There's just one tiny, teeny weensey, little thing.flac\")\n",
      "('E:\\\\downloads\\\\Clipper_MLP\\\\Sliced Dialogue\\\\EQG\\\\EQG Dance Magic\\\\00_05_37_Rarity_Neutral__I forgot to mention..flac', 'E:\\\\downloads\\\\Clipper_MLP\\\\Sliced Dialogue\\\\EQG\\\\EQG Dance Magic\\\\00_05_37_Rarity_Neutral__I forgot to mention.flac')\n",
      "('E:\\\\downloads\\\\Clipper_MLP\\\\Sliced Dialogue\\\\EQG\\\\EQG Dance Magic\\\\00_05_41_Rarity_Anxious_Very Noisy_I would need to use our fundraiser money to buy costume materials for the video..flac', 'E:\\\\downloads\\\\Clipper_MLP\\\\Sliced Dialogue\\\\EQG\\\\EQG Dance Magic\\\\00_05_41_Rarity_Anxious_Very Noisy_I would need to use our fundraiser money to buy costume materials for the video.flac')\n",
      "('E:\\\\downloads\\\\Clipper_MLP\\\\Sliced Dialogue\\\\EQG\\\\EQG Dance Magic\\\\00_05_56_Applejack_Neutral_Noisy_oh What the hay, why not..flac', 'E:\\\\downloads\\\\Clipper_MLP\\\\Sliced Dialogue\\\\EQG\\\\EQG Dance Magic\\\\00_05_56_Applejack_Neutral_Noisy_oh What the hay, why not.flac')\n",
      "(\"E:\\\\downloads\\\\Clipper_MLP\\\\Sliced Dialogue\\\\EQG\\\\EQG Dance Magic\\\\00_06_01_Twilight_Neutral_Very Noisy_According to my calculations, if we lend rarity the funds we've already raised..flac\", \"E:\\\\downloads\\\\Clipper_MLP\\\\Sliced Dialogue\\\\EQG\\\\EQG Dance Magic\\\\00_06_01_Twilight_Neutral_Very Noisy_According to my calculations, if we lend rarity the funds we've already raised.flac\")\n",
      "('E:\\\\downloads\\\\Clipper_MLP\\\\Sliced Dialogue\\\\EQG\\\\EQG Dance Magic\\\\00_06_04_Twilight_Neutral__We stand to gain four times as much money as we have now..flac', 'E:\\\\downloads\\\\Clipper_MLP\\\\Sliced Dialogue\\\\EQG\\\\EQG Dance Magic\\\\00_06_04_Twilight_Neutral__We stand to gain four times as much money as we have now.flac')\n",
      "('E:\\\\downloads\\\\Clipper_MLP\\\\Sliced Dialogue\\\\EQG\\\\EQG Dance Magic\\\\00_06_09_Twilight_Neutral_Very Noisy_But if we lose the video contest..flac', 'E:\\\\downloads\\\\Clipper_MLP\\\\Sliced Dialogue\\\\EQG\\\\EQG Dance Magic\\\\00_06_09_Twilight_Neutral_Very Noisy_But if we lose the video contest.flac')\n",
      "(\"E:\\\\downloads\\\\Clipper_MLP\\\\Sliced Dialogue\\\\EQG\\\\EQG Dance Magic\\\\00_06_11_Twilight_Neutral__We'll be completely back to square one and zero dollars..flac\", \"E:\\\\downloads\\\\Clipper_MLP\\\\Sliced Dialogue\\\\EQG\\\\EQG Dance Magic\\\\00_06_11_Twilight_Neutral__We'll be completely back to square one and zero dollars.flac\")\n",
      "('E:\\\\downloads\\\\Clipper_MLP\\\\Sliced Dialogue\\\\EQG\\\\EQG Dance Magic\\\\00_06_18_Twilight_Neutral__I mean um..flac', 'E:\\\\downloads\\\\Clipper_MLP\\\\Sliced Dialogue\\\\EQG\\\\EQG Dance Magic\\\\00_06_18_Twilight_Neutral__I mean um.flac')\n",
      "('E:\\\\downloads\\\\Clipper_MLP\\\\Sliced Dialogue\\\\EQG\\\\EQG Dance Magic\\\\00_06_19_Twilight_Anxious__Me neither..flac', 'E:\\\\downloads\\\\Clipper_MLP\\\\Sliced Dialogue\\\\EQG\\\\EQG Dance Magic\\\\00_06_19_Twilight_Anxious__Me neither.flac')\n",
      "('E:\\\\downloads\\\\Clipper_MLP\\\\Sliced Dialogue\\\\EQG\\\\EQG Dance Magic\\\\00_06_21_Rarity_Happy__All right girls..flac', 'E:\\\\downloads\\\\Clipper_MLP\\\\Sliced Dialogue\\\\EQG\\\\EQG Dance Magic\\\\00_06_21_Rarity_Happy__All right girls.flac')\n",
      "(\"E:\\\\downloads\\\\Clipper_MLP\\\\Sliced Dialogue\\\\EQG\\\\EQG Dance Magic\\\\00_06_36_Rarity_Neutral__Rainbow dash, don't forget your cue..flac\", \"E:\\\\downloads\\\\Clipper_MLP\\\\Sliced Dialogue\\\\EQG\\\\EQG Dance Magic\\\\00_06_36_Rarity_Neutral__Rainbow dash, don't forget your cue.flac\")\n",
      "(\"E:\\\\downloads\\\\Clipper_MLP\\\\Sliced Dialogue\\\\EQG\\\\EQG Dance Magic\\\\00_07_07_Fluttershy_Anxious__I know. it's just that..flac\", \"E:\\\\downloads\\\\Clipper_MLP\\\\Sliced Dialogue\\\\EQG\\\\EQG Dance Magic\\\\00_07_07_Fluttershy_Anxious__I know. it's just that.flac\")\n",
      "(\"E:\\\\downloads\\\\Clipper_MLP\\\\Sliced Dialogue\\\\EQG\\\\EQG Dance Magic\\\\00_07_10_Fluttershy_Anxious_Noisy_I-i don't think i can do one of those..flac\", \"E:\\\\downloads\\\\Clipper_MLP\\\\Sliced Dialogue\\\\EQG\\\\EQG Dance Magic\\\\00_07_10_Fluttershy_Anxious_Noisy_I-i don't think i can do one of those.flac\")\n",
      "('E:\\\\downloads\\\\Clipper_MLP\\\\Sliced Dialogue\\\\EQG\\\\EQG Dance Magic\\\\00_07_13_Rarity_Neutral_Very Noisy_Darling of course you can, darling. i believe in you..flac', 'E:\\\\downloads\\\\Clipper_MLP\\\\Sliced Dialogue\\\\EQG\\\\EQG Dance Magic\\\\00_07_13_Rarity_Neutral_Very Noisy_Darling of course you can, darling. i believe in you.flac')\n",
      "('E:\\\\downloads\\\\Clipper_MLP\\\\Sliced Dialogue\\\\EQG\\\\EQG Dance Magic\\\\00_07_21_Sunset Shimmer_Neutral_Noisy_But all these moves are pretty hard..flac', 'E:\\\\downloads\\\\Clipper_MLP\\\\Sliced Dialogue\\\\EQG\\\\EQG Dance Magic\\\\00_07_21_Sunset Shimmer_Neutral_Noisy_But all these moves are pretty hard.flac')\n",
      "('E:\\\\downloads\\\\Clipper_MLP\\\\Sliced Dialogue\\\\EQG\\\\EQG Dance Magic\\\\00_07_24_Rarity_Neutral__I know..flac', 'E:\\\\downloads\\\\Clipper_MLP\\\\Sliced Dialogue\\\\EQG\\\\EQG Dance Magic\\\\00_07_24_Rarity_Neutral__I know.flac')\n",
      "(\"E:\\\\downloads\\\\Clipper_MLP\\\\Sliced Dialogue\\\\EQG\\\\EQG Dance Magic\\\\00_07_28_Twilight_Neutral_Noisy_Crystal prep certainly will, they're excellent dancers..flac\", \"E:\\\\downloads\\\\Clipper_MLP\\\\Sliced Dialogue\\\\EQG\\\\EQG Dance Magic\\\\00_07_28_Twilight_Neutral_Noisy_Crystal prep certainly will, they're excellent dancers.flac\")\n",
      "(\"E:\\\\downloads\\\\Clipper_MLP\\\\Sliced Dialogue\\\\EQG\\\\EQG Dance Magic\\\\00_07_45_Rarity_Neutral_Noisy_Let's take it from rainbow's entrance..flac\", \"E:\\\\downloads\\\\Clipper_MLP\\\\Sliced Dialogue\\\\EQG\\\\EQG Dance Magic\\\\00_07_45_Rarity_Neutral_Noisy_Let's take it from rainbow's entrance.flac\")\n",
      "('E:\\\\downloads\\\\Clipper_MLP\\\\Sliced Dialogue\\\\EQG\\\\EQG Dance Magic\\\\00_08_01_Sunset Shimmer_Neutral__whoops..flac', 'E:\\\\downloads\\\\Clipper_MLP\\\\Sliced Dialogue\\\\EQG\\\\EQG Dance Magic\\\\00_08_01_Sunset Shimmer_Neutral__whoops.flac')\n",
      "('E:\\\\downloads\\\\Clipper_MLP\\\\Sliced Dialogue\\\\EQG\\\\EQG Dance Magic\\\\00_08_02_Sunset Shimmer_Anxious_Noisy_Sorry rarity..flac', 'E:\\\\downloads\\\\Clipper_MLP\\\\Sliced Dialogue\\\\EQG\\\\EQG Dance Magic\\\\00_08_02_Sunset Shimmer_Anxious_Noisy_Sorry rarity.flac')\n",
      "('E:\\\\downloads\\\\Clipper_MLP\\\\Sliced Dialogue\\\\EQG\\\\EQG Dance Magic\\\\00_08_05_Rarity_Anxious__Well i can fix it..flac', 'E:\\\\downloads\\\\Clipper_MLP\\\\Sliced Dialogue\\\\EQG\\\\EQG Dance Magic\\\\00_08_05_Rarity_Anxious__Well i can fix it.flac')\n",
      "('E:\\\\downloads\\\\Clipper_MLP\\\\Sliced Dialogue\\\\EQG\\\\EQG Dance Magic\\\\00_08_15_Rarity_Neutral_Very Noisy_Oh thank goodness i budgeted for backup fabric..flac', 'E:\\\\downloads\\\\Clipper_MLP\\\\Sliced Dialogue\\\\EQG\\\\EQG Dance Magic\\\\00_08_15_Rarity_Neutral_Very Noisy_Oh thank goodness i budgeted for backup fabric.flac')\n",
      "(\"E:\\\\downloads\\\\Clipper_MLP\\\\Sliced Dialogue\\\\EQG\\\\EQG Dance Magic\\\\00_08_30_Rarity_Neutral_Very Noisy_I don't believe it..flac\", \"E:\\\\downloads\\\\Clipper_MLP\\\\Sliced Dialogue\\\\EQG\\\\EQG Dance Magic\\\\00_08_30_Rarity_Neutral_Very Noisy_I don't believe it.flac\")\n",
      "(\"E:\\\\downloads\\\\Clipper_MLP\\\\Sliced Dialogue\\\\EQG\\\\EQG Dance Magic\\\\00_06_33_Rarity_Neutral__Let's take it from the top one more time..flac\", \"E:\\\\downloads\\\\Clipper_MLP\\\\Sliced Dialogue\\\\EQG\\\\EQG Dance Magic\\\\00_06_33_Rarity_Neutral__Let's take it from the top one more time.flac\")\n",
      "(\"E:\\\\downloads\\\\Clipper_MLP\\\\Sliced Dialogue\\\\EQG\\\\EQG Dance Magic\\\\00_07_02_Rarity_Neutral_Very Noisy_Fluttershy, it's supposed to be a triple pirouette..flac\", \"E:\\\\downloads\\\\Clipper_MLP\\\\Sliced Dialogue\\\\EQG\\\\EQG Dance Magic\\\\00_07_02_Rarity_Neutral_Very Noisy_Fluttershy, it's supposed to be a triple pirouette.flac\")\n",
      "('E:\\\\downloads\\\\Clipper_MLP\\\\Sliced Dialogue\\\\EQG\\\\EQG Dance Magic\\\\00_07_20_Sunset Shimmer_Neutral_Very Noisy_Thanks spike..flac', 'E:\\\\downloads\\\\Clipper_MLP\\\\Sliced Dialogue\\\\EQG\\\\EQG Dance Magic\\\\00_07_20_Sunset Shimmer_Neutral_Very Noisy_Thanks spike.flac')\n",
      "('E:\\\\downloads\\\\Clipper_MLP\\\\Sliced Dialogue\\\\EQG\\\\EQG Dance Magic\\\\00_07_31_Twilight_Neutral__And you know how they love to compete..flac', 'E:\\\\downloads\\\\Clipper_MLP\\\\Sliced Dialogue\\\\EQG\\\\EQG Dance Magic\\\\00_07_31_Twilight_Neutral__And you know how they love to compete.flac')\n",
      "('E:\\\\downloads\\\\Clipper_MLP\\\\Sliced Dialogue\\\\EQG\\\\EQG Dance Magic\\\\00_08_45_Twilight_Neutral_Very Noisy_We got your text..flac', 'E:\\\\downloads\\\\Clipper_MLP\\\\Sliced Dialogue\\\\EQG\\\\EQG Dance Magic\\\\00_08_45_Twilight_Neutral_Very Noisy_We got your text.flac')\n",
      "('E:\\\\downloads\\\\Clipper_MLP\\\\Sliced Dialogue\\\\EQG\\\\EQG Dance Magic\\\\00_08_52_Rarity_Sad Anxious_Very Noisy_Since you asked..flac', 'E:\\\\downloads\\\\Clipper_MLP\\\\Sliced Dialogue\\\\EQG\\\\EQG Dance Magic\\\\00_08_52_Rarity_Sad Anxious_Very Noisy_Since you asked.flac')\n",
      "('E:\\\\downloads\\\\Clipper_MLP\\\\Sliced Dialogue\\\\EQG\\\\EQG Dance Magic\\\\00_09_11_Rarity_Neutral_Noisy_So of course they looked absolutely fabulous..flac', 'E:\\\\downloads\\\\Clipper_MLP\\\\Sliced Dialogue\\\\EQG\\\\EQG Dance Magic\\\\00_09_11_Rarity_Neutral_Noisy_So of course they looked absolutely fabulous.flac')\n",
      "('E:\\\\downloads\\\\Clipper_MLP\\\\Sliced Dialogue\\\\EQG\\\\EQG Dance Magic\\\\00_09_21_Rarity_Sad_Noisy_Ta..flac', 'E:\\\\downloads\\\\Clipper_MLP\\\\Sliced Dialogue\\\\EQG\\\\EQG Dance Magic\\\\00_09_21_Rarity_Sad_Noisy_Ta.flac')\n",
      "('E:\\\\downloads\\\\Clipper_MLP\\\\Sliced Dialogue\\\\EQG\\\\EQG Dance Magic\\\\00_09_27_Rarity_Anxious__Everyone is counting on me..flac', 'E:\\\\downloads\\\\Clipper_MLP\\\\Sliced Dialogue\\\\EQG\\\\EQG Dance Magic\\\\00_09_27_Rarity_Anxious__Everyone is counting on me.flac')\n",
      "('E:\\\\downloads\\\\Clipper_MLP\\\\Sliced Dialogue\\\\EQG\\\\EQG Dance Magic\\\\00_09_28_Rarity_Anxious__On the video to win us the prize money for the camp..flac', 'E:\\\\downloads\\\\Clipper_MLP\\\\Sliced Dialogue\\\\EQG\\\\EQG Dance Magic\\\\00_09_28_Rarity_Anxious__On the video to win us the prize money for the camp.flac')\n",
      "(\"E:\\\\downloads\\\\Clipper_MLP\\\\Sliced Dialogue\\\\EQG\\\\EQG Dance Magic\\\\00_09_40_Twilight_Neutral__Don't be too hard on yourself..flac\", \"E:\\\\downloads\\\\Clipper_MLP\\\\Sliced Dialogue\\\\EQG\\\\EQG Dance Magic\\\\00_09_40_Twilight_Neutral__Don't be too hard on yourself.flac\")\n",
      "(\"E:\\\\downloads\\\\Clipper_MLP\\\\Sliced Dialogue\\\\EQG\\\\EQG Dance Magic\\\\00_09_42_Twilight_Neutral__It's gonna take more than one friendship games for those crystal prep girls to learn that winning isn't everything..flac\", \"E:\\\\downloads\\\\Clipper_MLP\\\\Sliced Dialogue\\\\EQG\\\\EQG Dance Magic\\\\00_09_42_Twilight_Neutral__It's gonna take more than one friendship games for those crystal prep girls to learn that winning isn't everything.flac\")\n",
      "('E:\\\\downloads\\\\Clipper_MLP\\\\Sliced Dialogue\\\\EQG\\\\EQG Dance Magic\\\\00_09_48_Applejack_Neutral__Maybe..flac', 'E:\\\\downloads\\\\Clipper_MLP\\\\Sliced Dialogue\\\\EQG\\\\EQG Dance Magic\\\\00_09_48_Applejack_Neutral__Maybe.flac')\n",
      "('E:\\\\downloads\\\\Clipper_MLP\\\\Sliced Dialogue\\\\EQG\\\\EQG Dance Magic\\\\00_09_49_Applejack_Neutral_Noisy_This was all for the best..flac', 'E:\\\\downloads\\\\Clipper_MLP\\\\Sliced Dialogue\\\\EQG\\\\EQG Dance Magic\\\\00_09_49_Applejack_Neutral_Noisy_This was all for the best.flac')\n",
      "('E:\\\\downloads\\\\Clipper_MLP\\\\Sliced Dialogue\\\\EQG\\\\EQG Dance Magic\\\\00_09_53_Applejack_Neutral_Noisy_Your concept and costumes are really awesome, but uh..flac', 'E:\\\\downloads\\\\Clipper_MLP\\\\Sliced Dialogue\\\\EQG\\\\EQG Dance Magic\\\\00_09_53_Applejack_Neutral_Noisy_Your concept and costumes are really awesome, but uh.flac')\n",
      "('E:\\\\downloads\\\\Clipper_MLP\\\\Sliced Dialogue\\\\EQG\\\\EQG Dance Magic\\\\00_09_57_Applejack_Neutral__Our dancing..flac', 'E:\\\\downloads\\\\Clipper_MLP\\\\Sliced Dialogue\\\\EQG\\\\EQG Dance Magic\\\\00_09_57_Applejack_Neutral__Our dancing.flac')\n",
      "('E:\\\\downloads\\\\Clipper_MLP\\\\Sliced Dialogue\\\\EQG\\\\EQG Dance Magic\\\\00_09_59_Sunset Shimmer_Neutral__not so much..flac', 'E:\\\\downloads\\\\Clipper_MLP\\\\Sliced Dialogue\\\\EQG\\\\EQG Dance Magic\\\\00_09_59_Sunset Shimmer_Neutral__not so much.flac')\n",
      "(\"E:\\\\downloads\\\\Clipper_MLP\\\\Sliced Dialogue\\\\EQG\\\\EQG Dance Magic\\\\00_10_03_Applejack_Amused__We could barely get in a two step without tripping over each other's boots..flac\", \"E:\\\\downloads\\\\Clipper_MLP\\\\Sliced Dialogue\\\\EQG\\\\EQG Dance Magic\\\\00_10_03_Applejack_Amused__We could barely get in a two step without tripping over each other's boots.flac\")\n",
      "('E:\\\\downloads\\\\Clipper_MLP\\\\Sliced Dialogue\\\\EQG\\\\EQG Dance Magic\\\\00_10_12_Rarity_Neutral_Very Noisy_Okay maybe not great..flac', 'E:\\\\downloads\\\\Clipper_MLP\\\\Sliced Dialogue\\\\EQG\\\\EQG Dance Magic\\\\00_10_12_Rarity_Neutral_Very Noisy_Okay maybe not great.flac')\n",
      "('E:\\\\downloads\\\\Clipper_MLP\\\\Sliced Dialogue\\\\EQG\\\\EQG Dance Magic\\\\00_10_14_Rarity_Anxious__But, but..flac', 'E:\\\\downloads\\\\Clipper_MLP\\\\Sliced Dialogue\\\\EQG\\\\EQG Dance Magic\\\\00_10_14_Rarity_Anxious__But, but.flac')\n",
      "('E:\\\\downloads\\\\Clipper_MLP\\\\Sliced Dialogue\\\\EQG\\\\EQG Dance Magic\\\\00_10_35_Rarity_Neutral__No no no, seriously..flac', 'E:\\\\downloads\\\\Clipper_MLP\\\\Sliced Dialogue\\\\EQG\\\\EQG Dance Magic\\\\00_10_35_Rarity_Neutral__No no no, seriously.flac')\n",
      "(\"E:\\\\downloads\\\\Clipper_MLP\\\\Sliced Dialogue\\\\EQG\\\\EQG Dance Magic\\\\00_10_41_Twilight_Neutral__I'll go..flac\", \"E:\\\\downloads\\\\Clipper_MLP\\\\Sliced Dialogue\\\\EQG\\\\EQG Dance Magic\\\\00_10_41_Twilight_Neutral__I'll go.flac\")\n"
     ]
    }
   ],
   "source": [
    "print('\\n'.join([str(x) for x in list(file_dict.items())[0:100]]))"
   ]
  },
  {
   "cell_type": "code",
   "execution_count": 17,
   "metadata": {},
   "outputs": [
    {
     "ename": "SyntaxError",
     "evalue": "invalid syntax (<ipython-input-17-4f8edbc41cb3>, line 2)",
     "output_type": "error",
     "traceback": [
      "\u001b[1;36m  File \u001b[1;32m\"<ipython-input-17-4f8edbc41cb3>\"\u001b[1;36m, line \u001b[1;32m2\u001b[0m\n\u001b[1;33m    for x in y for y in z:\u001b[0m\n\u001b[1;37m                 ^\u001b[0m\n\u001b[1;31mSyntaxError\u001b[0m\u001b[1;31m:\u001b[0m invalid syntax\n"
     ]
    }
   ],
   "source": [
    "z = [[0,1,2],[3,4,5]]\n",
    "for x in y for y in z:\n",
    "    print(x)"
   ]
  },
  {
   "cell_type": "markdown",
   "metadata": {},
   "source": [
    "# 1 - Load Checkpoint"
   ]
  },
  {
   "cell_type": "code",
   "execution_count": null,
   "metadata": {},
   "outputs": [],
   "source": [
    "waveflow_path = r\"H:\\TTCheckpoints\\waveflow\\4thLargeKernels\\best_val_model\"\n",
    "checkpoint = torch.load(waveflow_path)"
   ]
  },
  {
   "cell_type": "code",
   "execution_count": null,
   "metadata": {},
   "outputs": [],
   "source": [
    "state_dict = checkpoint['model']"
   ]
  },
  {
   "cell_type": "code",
   "execution_count": 16,
   "metadata": {},
   "outputs": [
    {
     "name": "stdout",
     "output_type": "stream",
     "text": [
      "alpha  |  speaker_embed.weight  |  cond_layers.0.bias  |  cond_layers.0.weight_g  |  cond_layers.0.weight_v  |  cond_layers.1.bias  |  cond_layers.1.weight_g  |  cond_layers.1.weight_v  |  cond_layers.2.bias  |  cond_layers.2.weight_g  |  cond_layers.2.weight_v  |  WN.0.WN.in_layers.0.0.bias  |  WN.0.WN.in_layers.0.0.weight_g  |  WN.0.WN.in_layers.0.0.weight_v  |  WN.0.WN.in_layers.0.1.bias  |  WN.0.WN.in_layers.0.1.weight_g  |  WN.0.WN.in_layers.0.1.weight_v  |  WN.0.WN.in_layers.1.0.bias  |  WN.0.WN.in_layers.1.0.weight_g  |  WN.0.WN.in_layers.1.0.weight_v  |  WN.0.WN.in_layers.1.1.bias  |  WN.0.WN.in_layers.1.1.weight_g  |  WN.0.WN.in_layers.1.1.weight_v  |  WN.0.WN.in_layers.2.0.bias  |  WN.0.WN.in_layers.2.0.weight_g  |  WN.0.WN.in_layers.2.0.weight_v  |  WN.0.WN.in_layers.2.1.bias  |  WN.0.WN.in_layers.2.1.weight_g  |  WN.0.WN.in_layers.2.1.weight_v  |  WN.0.WN.in_layers.3.0.bias  |  WN.0.WN.in_layers.3.0.weight_g  |  WN.0.WN.in_layers.3.0.weight_v  |  WN.0.WN.in_layers.3.1.bias  |  WN.0.WN.in_layers.3.1.weight_g  |  WN.0.WN.in_layers.3.1.weight_v  |  WN.0.WN.in_layers.4.0.bias  |  WN.0.WN.in_layers.4.0.weight_g  |  WN.0.WN.in_layers.4.0.weight_v  |  WN.0.WN.in_layers.4.1.bias  |  WN.0.WN.in_layers.4.1.weight_g  |  WN.0.WN.in_layers.4.1.weight_v  |  WN.0.WN.in_layers.5.0.bias  |  WN.0.WN.in_layers.5.0.weight_g  |  WN.0.WN.in_layers.5.0.weight_v  |  WN.0.WN.in_layers.5.1.bias  |  WN.0.WN.in_layers.5.1.weight_g  |  WN.0.WN.in_layers.5.1.weight_v  |  WN.0.WN.in_layers.6.0.bias  |  WN.0.WN.in_layers.6.0.weight_g  |  WN.0.WN.in_layers.6.0.weight_v  |  WN.0.WN.in_layers.6.1.bias  |  WN.0.WN.in_layers.6.1.weight_g  |  WN.0.WN.in_layers.6.1.weight_v  |  WN.0.WN.in_layers.7.0.bias  |  WN.0.WN.in_layers.7.0.weight_g  |  WN.0.WN.in_layers.7.0.weight_v  |  WN.0.WN.in_layers.7.1.bias  |  WN.0.WN.in_layers.7.1.weight_g  |  WN.0.WN.in_layers.7.1.weight_v  |  WN.0.WN.res_skip_layers.0.bias  |  WN.0.WN.res_skip_layers.0.weight_g  |  WN.0.WN.res_skip_layers.0.weight_v  |  WN.0.WN.res_skip_layers.1.bias  |  WN.0.WN.res_skip_layers.1.weight_g  |  WN.0.WN.res_skip_layers.1.weight_v  |  WN.0.WN.res_skip_layers.2.bias  |  WN.0.WN.res_skip_layers.2.weight_g  |  WN.0.WN.res_skip_layers.2.weight_v  |  WN.0.WN.res_skip_layers.3.bias  |  WN.0.WN.res_skip_layers.3.weight_g  |  WN.0.WN.res_skip_layers.3.weight_v  |  WN.0.WN.res_skip_layers.4.bias  |  WN.0.WN.res_skip_layers.4.weight_g  |  WN.0.WN.res_skip_layers.4.weight_v  |  WN.0.WN.res_skip_layers.5.bias  |  WN.0.WN.res_skip_layers.5.weight_g  |  WN.0.WN.res_skip_layers.5.weight_v  |  WN.0.WN.res_skip_layers.6.bias  |  WN.0.WN.res_skip_layers.6.weight_g  |  WN.0.WN.res_skip_layers.6.weight_v  |  WN.0.WN.res_skip_layers.7.bias  |  WN.0.WN.res_skip_layers.7.weight_g  |  WN.0.WN.res_skip_layers.7.weight_v  |  WN.0.WN.start.bias  |  WN.0.WN.start.weight_g  |  WN.0.WN.start.weight_v  |  WN.0.WN.end.weight  |  WN.0.WN.end.bias  |  WN.0.WN.speaker_embed.weight  |  WN.0.WN.cond_layers.0.bias  |  WN.0.WN.cond_layers.0.weight_g  |  WN.0.WN.cond_layers.0.weight_v  |  WN.0.WN.cond_layers.1.bias  |  WN.0.WN.cond_layers.1.weight_g  |  WN.0.WN.cond_layers.1.weight_v  |  WN.0.WN.cond_layers.2.bias  |  WN.0.WN.cond_layers.2.weight_g  |  WN.0.WN.cond_layers.2.weight_v  |  WN.1.WN.in_layers.0.0.bias  |  WN.1.WN.in_layers.0.0.weight_g  |  WN.1.WN.in_layers.0.0.weight_v  |  WN.1.WN.in_layers.0.1.bias  |  WN.1.WN.in_layers.0.1.weight_g  |  WN.1.WN.in_layers.0.1.weight_v  |  WN.1.WN.in_layers.1.0.bias  |  WN.1.WN.in_layers.1.0.weight_g  |  WN.1.WN.in_layers.1.0.weight_v  |  WN.1.WN.in_layers.1.1.bias  |  WN.1.WN.in_layers.1.1.weight_g  |  WN.1.WN.in_layers.1.1.weight_v  |  WN.1.WN.in_layers.2.0.bias  |  WN.1.WN.in_layers.2.0.weight_g  |  WN.1.WN.in_layers.2.0.weight_v  |  WN.1.WN.in_layers.2.1.bias  |  WN.1.WN.in_layers.2.1.weight_g  |  WN.1.WN.in_layers.2.1.weight_v  |  WN.1.WN.in_layers.3.0.bias  |  WN.1.WN.in_layers.3.0.weight_g  |  WN.1.WN.in_layers.3.0.weight_v  |  WN.1.WN.in_layers.3.1.bias  |  WN.1.WN.in_layers.3.1.weight_g  |  WN.1.WN.in_layers.3.1.weight_v  |  WN.1.WN.in_layers.4.0.bias  |  WN.1.WN.in_layers.4.0.weight_g  |  WN.1.WN.in_layers.4.0.weight_v  |  WN.1.WN.in_layers.4.1.bias  |  WN.1.WN.in_layers.4.1.weight_g  |  WN.1.WN.in_layers.4.1.weight_v  |  WN.1.WN.in_layers.5.0.bias  |  WN.1.WN.in_layers.5.0.weight_g  |  WN.1.WN.in_layers.5.0.weight_v  |  WN.1.WN.in_layers.5.1.bias  |  WN.1.WN.in_layers.5.1.weight_g  |  WN.1.WN.in_layers.5.1.weight_v  |  WN.1.WN.in_layers.6.0.bias  |  WN.1.WN.in_layers.6.0.weight_g  |  WN.1.WN.in_layers.6.0.weight_v  |  WN.1.WN.in_layers.6.1.bias  |  WN.1.WN.in_layers.6.1.weight_g  |  WN.1.WN.in_layers.6.1.weight_v  |  WN.1.WN.in_layers.7.0.bias  |  WN.1.WN.in_layers.7.0.weight_g  |  WN.1.WN.in_layers.7.0.weight_v  |  WN.1.WN.in_layers.7.1.bias  |  WN.1.WN.in_layers.7.1.weight_g  |  WN.1.WN.in_layers.7.1.weight_v  |  WN.1.WN.res_skip_layers.0.bias  |  WN.1.WN.res_skip_layers.0.weight_g  |  WN.1.WN.res_skip_layers.0.weight_v  |  WN.1.WN.res_skip_layers.1.bias  |  WN.1.WN.res_skip_layers.1.weight_g  |  WN.1.WN.res_skip_layers.1.weight_v  |  WN.1.WN.res_skip_layers.2.bias  |  WN.1.WN.res_skip_layers.2.weight_g  |  WN.1.WN.res_skip_layers.2.weight_v  |  WN.1.WN.res_skip_layers.3.bias  |  WN.1.WN.res_skip_layers.3.weight_g  |  WN.1.WN.res_skip_layers.3.weight_v  |  WN.1.WN.res_skip_layers.4.bias  |  WN.1.WN.res_skip_layers.4.weight_g  |  WN.1.WN.res_skip_layers.4.weight_v  |  WN.1.WN.res_skip_layers.5.bias  |  WN.1.WN.res_skip_layers.5.weight_g  |  WN.1.WN.res_skip_layers.5.weight_v  |  WN.1.WN.res_skip_layers.6.bias  |  WN.1.WN.res_skip_layers.6.weight_g  |  WN.1.WN.res_skip_layers.6.weight_v  |  WN.1.WN.res_skip_layers.7.bias  |  WN.1.WN.res_skip_layers.7.weight_g  |  WN.1.WN.res_skip_layers.7.weight_v  |  WN.1.WN.start.bias  |  WN.1.WN.start.weight_g  |  WN.1.WN.start.weight_v  |  WN.1.WN.end.weight  |  WN.1.WN.end.bias  |  WN.1.WN.speaker_embed.weight  |  WN.1.WN.cond_layers.0.bias  |  WN.1.WN.cond_layers.0.weight_g  |  WN.1.WN.cond_layers.0.weight_v  |  WN.1.WN.cond_layers.1.bias  |  WN.1.WN.cond_layers.1.weight_g  |  WN.1.WN.cond_layers.1.weight_v  |  WN.1.WN.cond_layers.2.bias  |  WN.1.WN.cond_layers.2.weight_g  |  WN.1.WN.cond_layers.2.weight_v  |  WN.2.WN.in_layers.0.0.bias  |  WN.2.WN.in_layers.0.0.weight_g  |  WN.2.WN.in_layers.0.0.weight_v  |  WN.2.WN.in_layers.0.1.bias  |  WN.2.WN.in_layers.0.1.weight_g  |  WN.2.WN.in_layers.0.1.weight_v  |  WN.2.WN.in_layers.1.0.bias  |  WN.2.WN.in_layers.1.0.weight_g  |  WN.2.WN.in_layers.1.0.weight_v  |  WN.2.WN.in_layers.1.1.bias  |  WN.2.WN.in_layers.1.1.weight_g  |  WN.2.WN.in_layers.1.1.weight_v  |  WN.2.WN.in_layers.2.0.bias  |  WN.2.WN.in_layers.2.0.weight_g  |  WN.2.WN.in_layers.2.0.weight_v  |  WN.2.WN.in_layers.2.1.bias  |  WN.2.WN.in_layers.2.1.weight_g  |  WN.2.WN.in_layers.2.1.weight_v  |  WN.2.WN.in_layers.3.0.bias  |  WN.2.WN.in_layers.3.0.weight_g  |  WN.2.WN.in_layers.3.0.weight_v  |  WN.2.WN.in_layers.3.1.bias  |  WN.2.WN.in_layers.3.1.weight_g  |  WN.2.WN.in_layers.3.1.weight_v  |  WN.2.WN.in_layers.4.0.bias  |  WN.2.WN.in_layers.4.0.weight_g  |  WN.2.WN.in_layers.4.0.weight_v  |  WN.2.WN.in_layers.4.1.bias  |  WN.2.WN.in_layers.4.1.weight_g  |  WN.2.WN.in_layers.4.1.weight_v  |  WN.2.WN.in_layers.5.0.bias  |  WN.2.WN.in_layers.5.0.weight_g  |  WN.2.WN.in_layers.5.0.weight_v  |  WN.2.WN.in_layers.5.1.bias  |  WN.2.WN.in_layers.5.1.weight_g  |  WN.2.WN.in_layers.5.1.weight_v  |  WN.2.WN.in_layers.6.0.bias  |  WN.2.WN.in_layers.6.0.weight_g  |  WN.2.WN.in_layers.6.0.weight_v  |  WN.2.WN.in_layers.6.1.bias  |  WN.2.WN.in_layers.6.1.weight_g  |  WN.2.WN.in_layers.6.1.weight_v  |  WN.2.WN.in_layers.7.0.bias  |  WN.2.WN.in_layers.7.0.weight_g  |  WN.2.WN.in_layers.7.0.weight_v  |  WN.2.WN.in_layers.7.1.bias  |  WN.2.WN.in_layers.7.1.weight_g  |  WN.2.WN.in_layers.7.1.weight_v  |  WN.2.WN.res_skip_layers.0.bias  |  WN.2.WN.res_skip_layers.0.weight_g  |  WN.2.WN.res_skip_layers.0.weight_v  |  WN.2.WN.res_skip_layers.1.bias  |  WN.2.WN.res_skip_layers.1.weight_g  |  WN.2.WN.res_skip_layers.1.weight_v  |  WN.2.WN.res_skip_layers.2.bias  |  WN.2.WN.res_skip_layers.2.weight_g  |  WN.2.WN.res_skip_layers.2.weight_v  |  WN.2.WN.res_skip_layers.3.bias  |  WN.2.WN.res_skip_layers.3.weight_g  |  WN.2.WN.res_skip_layers.3.weight_v  |  WN.2.WN.res_skip_layers.4.bias  |  WN.2.WN.res_skip_layers.4.weight_g  |  WN.2.WN.res_skip_layers.4.weight_v  |  WN.2.WN.res_skip_layers.5.bias  |  WN.2.WN.res_skip_layers.5.weight_g  |  WN.2.WN.res_skip_layers.5.weight_v  |  WN.2.WN.res_skip_layers.6.bias  |  WN.2.WN.res_skip_layers.6.weight_g  |  WN.2.WN.res_skip_layers.6.weight_v  |  WN.2.WN.res_skip_layers.7.bias  |  WN.2.WN.res_skip_layers.7.weight_g  |  WN.2.WN.res_skip_layers.7.weight_v  |  WN.2.WN.start.bias  |  WN.2.WN.start.weight_g  |  WN.2.WN.start.weight_v  |  WN.2.WN.end.weight  |  WN.2.WN.end.bias  |  WN.2.WN.speaker_embed.weight  |  WN.2.WN.cond_layers.0.bias  |  WN.2.WN.cond_layers.0.weight_g  |  WN.2.WN.cond_layers.0.weight_v  |  WN.2.WN.cond_layers.1.bias  |  WN.2.WN.cond_layers.1.weight_g  |  WN.2.WN.cond_layers.1.weight_v  |  WN.2.WN.cond_layers.2.bias  |  WN.2.WN.cond_layers.2.weight_g  |  WN.2.WN.cond_layers.2.weight_v  |  WN.3.WN.in_layers.0.0.bias  |  WN.3.WN.in_layers.0.0.weight_g  |  WN.3.WN.in_layers.0.0.weight_v  |  WN.3.WN.in_layers.0.1.bias  |  WN.3.WN.in_layers.0.1.weight_g  |  WN.3.WN.in_layers.0.1.weight_v  |  WN.3.WN.in_layers.1.0.bias  |  WN.3.WN.in_layers.1.0.weight_g  |  WN.3.WN.in_layers.1.0.weight_v  |  WN.3.WN.in_layers.1.1.bias  |  WN.3.WN.in_layers.1.1.weight_g  |  WN.3.WN.in_layers.1.1.weight_v  |  WN.3.WN.in_layers.2.0.bias  |  WN.3.WN.in_layers.2.0.weight_g  |  WN.3.WN.in_layers.2.0.weight_v  |  WN.3.WN.in_layers.2.1.bias  |  WN.3.WN.in_layers.2.1.weight_g  |  WN.3.WN.in_layers.2.1.weight_v  |  WN.3.WN.in_layers.3.0.bias  |  WN.3.WN.in_layers.3.0.weight_g  |  WN.3.WN.in_layers.3.0.weight_v  |  WN.3.WN.in_layers.3.1.bias  |  WN.3.WN.in_layers.3.1.weight_g  |  WN.3.WN.in_layers.3.1.weight_v  |  WN.3.WN.in_layers.4.0.bias  |  WN.3.WN.in_layers.4.0.weight_g  |  WN.3.WN.in_layers.4.0.weight_v  |  WN.3.WN.in_layers.4.1.bias  |  WN.3.WN.in_layers.4.1.weight_g  |  WN.3.WN.in_layers.4.1.weight_v  |  WN.3.WN.in_layers.5.0.bias  |  WN.3.WN.in_layers.5.0.weight_g  |  WN.3.WN.in_layers.5.0.weight_v  |  WN.3.WN.in_layers.5.1.bias  |  WN.3.WN.in_layers.5.1.weight_g  |  WN.3.WN.in_layers.5.1.weight_v  |  WN.3.WN.in_layers.6.0.bias  |  WN.3.WN.in_layers.6.0.weight_g  |  WN.3.WN.in_layers.6.0.weight_v  |  WN.3.WN.in_layers.6.1.bias  |  WN.3.WN.in_layers.6.1.weight_g  |  WN.3.WN.in_layers.6.1.weight_v  |  WN.3.WN.in_layers.7.0.bias  |  WN.3.WN.in_layers.7.0.weight_g  |  WN.3.WN.in_layers.7.0.weight_v  |  WN.3.WN.in_layers.7.1.bias  |  WN.3.WN.in_layers.7.1.weight_g  |  WN.3.WN.in_layers.7.1.weight_v  |  WN.3.WN.res_skip_layers.0.bias  |  WN.3.WN.res_skip_layers.0.weight_g  |  WN.3.WN.res_skip_layers.0.weight_v  |  WN.3.WN.res_skip_layers.1.bias  |  WN.3.WN.res_skip_layers.1.weight_g  |  WN.3.WN.res_skip_layers.1.weight_v  |  WN.3.WN.res_skip_layers.2.bias  |  WN.3.WN.res_skip_layers.2.weight_g  |  WN.3.WN.res_skip_layers.2.weight_v  |  WN.3.WN.res_skip_layers.3.bias  |  WN.3.WN.res_skip_layers.3.weight_g  |  WN.3.WN.res_skip_layers.3.weight_v  |  WN.3.WN.res_skip_layers.4.bias  |  WN.3.WN.res_skip_layers.4.weight_g  |  WN.3.WN.res_skip_layers.4.weight_v  |  WN.3.WN.res_skip_layers.5.bias  |  WN.3.WN.res_skip_layers.5.weight_g  |  WN.3.WN.res_skip_layers.5.weight_v  |  WN.3.WN.res_skip_layers.6.bias  |  WN.3.WN.res_skip_layers.6.weight_g  |  WN.3.WN.res_skip_layers.6.weight_v  |  WN.3.WN.res_skip_layers.7.bias  |  WN.3.WN.res_skip_layers.7.weight_g  |  WN.3.WN.res_skip_layers.7.weight_v  |  WN.3.WN.start.bias  |  WN.3.WN.start.weight_g  |  WN.3.WN.start.weight_v  |  WN.3.WN.end.weight  |  WN.3.WN.end.bias  |  WN.3.WN.speaker_embed.weight  |  WN.3.WN.cond_layers.0.bias  |  WN.3.WN.cond_layers.0.weight_g  |  WN.3.WN.cond_layers.0.weight_v  |  WN.3.WN.cond_layers.1.bias  |  WN.3.WN.cond_layers.1.weight_g  |  WN.3.WN.cond_layers.1.weight_v  |  WN.3.WN.cond_layers.2.bias  |  WN.3.WN.cond_layers.2.weight_g  |  WN.3.WN.cond_layers.2.weight_v  |  WN.4.WN.in_layers.0.0.bias  |  WN.4.WN.in_layers.0.0.weight_g  |  WN.4.WN.in_layers.0.0.weight_v  |  WN.4.WN.in_layers.0.1.bias  |  WN.4.WN.in_layers.0.1.weight_g  |  WN.4.WN.in_layers.0.1.weight_v  |  WN.4.WN.in_layers.1.0.bias  |  WN.4.WN.in_layers.1.0.weight_g  |  WN.4.WN.in_layers.1.0.weight_v  |  WN.4.WN.in_layers.1.1.bias  |  WN.4.WN.in_layers.1.1.weight_g  |  WN.4.WN.in_layers.1.1.weight_v  |  WN.4.WN.in_layers.2.0.bias  |  WN.4.WN.in_layers.2.0.weight_g  |  WN.4.WN.in_layers.2.0.weight_v  |  WN.4.WN.in_layers.2.1.bias  |  WN.4.WN.in_layers.2.1.weight_g  |  WN.4.WN.in_layers.2.1.weight_v  |  WN.4.WN.in_layers.3.0.bias  |  WN.4.WN.in_layers.3.0.weight_g  |  WN.4.WN.in_layers.3.0.weight_v  |  WN.4.WN.in_layers.3.1.bias  |  WN.4.WN.in_layers.3.1.weight_g  |  WN.4.WN.in_layers.3.1.weight_v  |  WN.4.WN.in_layers.4.0.bias  |  WN.4.WN.in_layers.4.0.weight_g  |  WN.4.WN.in_layers.4.0.weight_v  |  WN.4.WN.in_layers.4.1.bias  |  WN.4.WN.in_layers.4.1.weight_g  |  WN.4.WN.in_layers.4.1.weight_v  |  WN.4.WN.in_layers.5.0.bias  |  WN.4.WN.in_layers.5.0.weight_g  |  WN.4.WN.in_layers.5.0.weight_v  |  WN.4.WN.in_layers.5.1.bias  |  WN.4.WN.in_layers.5.1.weight_g  |  WN.4.WN.in_layers.5.1.weight_v  |  WN.4.WN.in_layers.6.0.bias  |  WN.4.WN.in_layers.6.0.weight_g  |  WN.4.WN.in_layers.6.0.weight_v  |  WN.4.WN.in_layers.6.1.bias  |  WN.4.WN.in_layers.6.1.weight_g  |  WN.4.WN.in_layers.6.1.weight_v  |  WN.4.WN.in_layers.7.0.bias  |  WN.4.WN.in_layers.7.0.weight_g  |  WN.4.WN.in_layers.7.0.weight_v  |  WN.4.WN.in_layers.7.1.bias  |  WN.4.WN.in_layers.7.1.weight_g  |  WN.4.WN.in_layers.7.1.weight_v  |  WN.4.WN.res_skip_layers.0.bias  |  WN.4.WN.res_skip_layers.0.weight_g  |  WN.4.WN.res_skip_layers.0.weight_v  |  WN.4.WN.res_skip_layers.1.bias  |  WN.4.WN.res_skip_layers.1.weight_g  |  WN.4.WN.res_skip_layers.1.weight_v  |  WN.4.WN.res_skip_layers.2.bias  |  WN.4.WN.res_skip_layers.2.weight_g  |  WN.4.WN.res_skip_layers.2.weight_v  |  WN.4.WN.res_skip_layers.3.bias  |  WN.4.WN.res_skip_layers.3.weight_g  |  WN.4.WN.res_skip_layers.3.weight_v  |  WN.4.WN.res_skip_layers.4.bias  |  WN.4.WN.res_skip_layers.4.weight_g  |  WN.4.WN.res_skip_layers.4.weight_v  |  WN.4.WN.res_skip_layers.5.bias  |  WN.4.WN.res_skip_layers.5.weight_g  |  WN.4.WN.res_skip_layers.5.weight_v  |  WN.4.WN.res_skip_layers.6.bias  |  WN.4.WN.res_skip_layers.6.weight_g  |  WN.4.WN.res_skip_layers.6.weight_v  |  WN.4.WN.res_skip_layers.7.bias  |  WN.4.WN.res_skip_layers.7.weight_g  |  WN.4.WN.res_skip_layers.7.weight_v  |  WN.4.WN.start.bias  |  WN.4.WN.start.weight_g  |  WN.4.WN.start.weight_v  |  WN.4.WN.end.weight  |  WN.4.WN.end.bias  |  WN.4.WN.speaker_embed.weight  |  WN.4.WN.cond_layers.0.bias  |  WN.4.WN.cond_layers.0.weight_g  |  WN.4.WN.cond_layers.0.weight_v  |  WN.4.WN.cond_layers.1.bias  |  WN.4.WN.cond_layers.1.weight_g  |  WN.4.WN.cond_layers.1.weight_v  |  WN.4.WN.cond_layers.2.bias  |  WN.4.WN.cond_layers.2.weight_g  |  WN.4.WN.cond_layers.2.weight_v  |  WN.5.WN.in_layers.0.0.bias  |  WN.5.WN.in_layers.0.0.weight_g  |  WN.5.WN.in_layers.0.0.weight_v  |  WN.5.WN.in_layers.0.1.bias  |  WN.5.WN.in_layers.0.1.weight_g  |  WN.5.WN.in_layers.0.1.weight_v  |  WN.5.WN.in_layers.1.0.bias  |  WN.5.WN.in_layers.1.0.weight_g  |  WN.5.WN.in_layers.1.0.weight_v  |  WN.5.WN.in_layers.1.1.bias  |  WN.5.WN.in_layers.1.1.weight_g  |  WN.5.WN.in_layers.1.1.weight_v  |  WN.5.WN.in_layers.2.0.bias  |  WN.5.WN.in_layers.2.0.weight_g  |  WN.5.WN.in_layers.2.0.weight_v  |  WN.5.WN.in_layers.2.1.bias  |  WN.5.WN.in_layers.2.1.weight_g  |  WN.5.WN.in_layers.2.1.weight_v  |  WN.5.WN.in_layers.3.0.bias  |  WN.5.WN.in_layers.3.0.weight_g  |  WN.5.WN.in_layers.3.0.weight_v  |  WN.5.WN.in_layers.3.1.bias  |  WN.5.WN.in_layers.3.1.weight_g  |  WN.5.WN.in_layers.3.1.weight_v  |  WN.5.WN.in_layers.4.0.bias  |  WN.5.WN.in_layers.4.0.weight_g  |  WN.5.WN.in_layers.4.0.weight_v  |  WN.5.WN.in_layers.4.1.bias  |  WN.5.WN.in_layers.4.1.weight_g  |  WN.5.WN.in_layers.4.1.weight_v  |  WN.5.WN.in_layers.5.0.bias  |  WN.5.WN.in_layers.5.0.weight_g  |  WN.5.WN.in_layers.5.0.weight_v  |  WN.5.WN.in_layers.5.1.bias  |  WN.5.WN.in_layers.5.1.weight_g  |  WN.5.WN.in_layers.5.1.weight_v  |  WN.5.WN.in_layers.6.0.bias  |  WN.5.WN.in_layers.6.0.weight_g  |  WN.5.WN.in_layers.6.0.weight_v  |  WN.5.WN.in_layers.6.1.bias  |  WN.5.WN.in_layers.6.1.weight_g  |  WN.5.WN.in_layers.6.1.weight_v  |  WN.5.WN.in_layers.7.0.bias  |  WN.5.WN.in_layers.7.0.weight_g  |  WN.5.WN.in_layers.7.0.weight_v  |  WN.5.WN.in_layers.7.1.bias  |  WN.5.WN.in_layers.7.1.weight_g  |  WN.5.WN.in_layers.7.1.weight_v  |  WN.5.WN.res_skip_layers.0.bias  |  WN.5.WN.res_skip_layers.0.weight_g  |  WN.5.WN.res_skip_layers.0.weight_v  |  WN.5.WN.res_skip_layers.1.bias  |  WN.5.WN.res_skip_layers.1.weight_g  |  WN.5.WN.res_skip_layers.1.weight_v  |  WN.5.WN.res_skip_layers.2.bias  |  WN.5.WN.res_skip_layers.2.weight_g  |  WN.5.WN.res_skip_layers.2.weight_v  |  WN.5.WN.res_skip_layers.3.bias  |  WN.5.WN.res_skip_layers.3.weight_g  |  WN.5.WN.res_skip_layers.3.weight_v  |  WN.5.WN.res_skip_layers.4.bias  |  WN.5.WN.res_skip_layers.4.weight_g  |  WN.5.WN.res_skip_layers.4.weight_v  |  WN.5.WN.res_skip_layers.5.bias  |  WN.5.WN.res_skip_layers.5.weight_g  |  WN.5.WN.res_skip_layers.5.weight_v  |  WN.5.WN.res_skip_layers.6.bias  |  WN.5.WN.res_skip_layers.6.weight_g  |  WN.5.WN.res_skip_layers.6.weight_v  |  WN.5.WN.res_skip_layers.7.bias  |  WN.5.WN.res_skip_layers.7.weight_g  |  WN.5.WN.res_skip_layers.7.weight_v  |  WN.5.WN.start.bias  |  WN.5.WN.start.weight_g  |  WN.5.WN.start.weight_v  |  WN.5.WN.end.weight  |  WN.5.WN.end.bias  |  WN.5.WN.speaker_embed.weight  |  WN.5.WN.cond_layers.0.bias  |  WN.5.WN.cond_layers.0.weight_g  |  WN.5.WN.cond_layers.0.weight_v  |  WN.5.WN.cond_layers.1.bias  |  WN.5.WN.cond_layers.1.weight_g  |  WN.5.WN.cond_layers.1.weight_v  |  WN.5.WN.cond_layers.2.bias  |  WN.5.WN.cond_layers.2.weight_g  |  WN.5.WN.cond_layers.2.weight_v\n"
     ]
    }
   ],
   "source": [
    "print( \"  |  \".join([key for key in state_dict.keys()])  )"
   ]
  },
  {
   "cell_type": "markdown",
   "metadata": {},
   "source": [
    "# 2 - Increase size of selected Layers"
   ]
  },
  {
   "cell_type": "code",
   "execution_count": 36,
   "metadata": {},
   "outputs": [
    {
     "name": "stdout",
     "output_type": "stream",
     "text": [
      "WN.0.WN.in_layers.0.0.bias      | [128]\n",
      "WN.0.WN.in_layers.0.0.weight_g  | [128, 1, 1, 1]\n",
      "WN.0.WN.in_layers.0.0.weight_v  | [128, 1, 7, 7]\n",
      "WN.0.WN.in_layers.0.1.bias      | [256]\n",
      "WN.0.WN.in_layers.0.1.weight_g  | [256, 1, 1, 1]\n",
      "WN.0.WN.in_layers.0.1.weight_v  | [256, 128, 1, 1]\n",
      "WN.0.WN.in_layers.1.0.bias      | [128]\n",
      "WN.0.WN.in_layers.1.0.weight_g  | [128, 1, 1, 1]\n",
      "WN.0.WN.in_layers.1.0.weight_v  | [128, 1, 7, 7]\n",
      "WN.0.WN.in_layers.1.1.bias      | [256]\n",
      "WN.0.WN.in_layers.1.1.weight_g  | [256, 1, 1, 1]\n",
      "WN.0.WN.in_layers.1.1.weight_v  | [256, 128, 1, 1]\n",
      "WN.0.WN.in_layers.2.0.bias      | [128]\n",
      "WN.0.WN.in_layers.2.0.weight_g  | [128, 1, 1, 1]\n",
      "WN.0.WN.in_layers.2.0.weight_v  | [128, 1, 7, 7]\n",
      "WN.0.WN.in_layers.2.1.bias      | [256]\n",
      "WN.0.WN.in_layers.2.1.weight_g  | [256, 1, 1, 1]\n",
      "WN.0.WN.in_layers.2.1.weight_v  | [256, 128, 1, 1]\n",
      "WN.0.WN.in_layers.3.0.bias      | [128]\n",
      "WN.0.WN.in_layers.3.0.weight_g  | [128, 1, 1, 1]\n",
      "WN.0.WN.in_layers.3.0.weight_v  | [128, 1, 7, 7]\n",
      "WN.0.WN.in_layers.3.1.bias      | [256]\n",
      "WN.0.WN.in_layers.3.1.weight_g  | [256, 1, 1, 1]\n",
      "WN.0.WN.in_layers.3.1.weight_v  | [256, 128, 1, 1]\n",
      "WN.0.WN.in_layers.4.0.bias      | [128]\n",
      "WN.0.WN.in_layers.4.0.weight_g  | [128, 1, 1, 1]\n",
      "WN.0.WN.in_layers.4.0.weight_v  | [128, 1, 7, 7]\n",
      "WN.0.WN.in_layers.4.1.bias      | [256]\n",
      "WN.0.WN.in_layers.4.1.weight_g  | [256, 1, 1, 1]\n",
      "WN.0.WN.in_layers.4.1.weight_v  | [256, 128, 1, 1]\n",
      "WN.0.WN.in_layers.5.0.bias      | [128]\n",
      "WN.0.WN.in_layers.5.0.weight_g  | [128, 1, 1, 1]\n",
      "WN.0.WN.in_layers.5.0.weight_v  | [128, 1, 7, 7]\n",
      "WN.0.WN.in_layers.5.1.bias      | [256]\n",
      "WN.0.WN.in_layers.5.1.weight_g  | [256, 1, 1, 1]\n",
      "WN.0.WN.in_layers.5.1.weight_v  | [256, 128, 1, 1]\n",
      "WN.0.WN.in_layers.6.0.bias      | [128]\n",
      "WN.0.WN.in_layers.6.0.weight_g  | [128, 1, 1, 1]\n",
      "WN.0.WN.in_layers.6.0.weight_v  | [128, 1, 7, 7]\n",
      "WN.0.WN.in_layers.6.1.bias      | [256]\n",
      "WN.0.WN.in_layers.6.1.weight_g  | [256, 1, 1, 1]\n",
      "WN.0.WN.in_layers.6.1.weight_v  | [256, 128, 1, 1]\n",
      "WN.0.WN.in_layers.7.0.bias      | [128]\n",
      "WN.0.WN.in_layers.7.0.weight_g  | [128, 1, 1, 1]\n",
      "WN.0.WN.in_layers.7.0.weight_v  | [128, 1, 7, 7]\n",
      "WN.0.WN.in_layers.7.1.bias      | [256]\n",
      "WN.0.WN.in_layers.7.1.weight_g  | [256, 1, 1, 1]\n",
      "WN.0.WN.in_layers.7.1.weight_v  | [256, 128, 1, 1]\n",
      "WN.1.WN.in_layers.0.0.bias      | [128]\n",
      "WN.1.WN.in_layers.0.0.weight_g  | [128, 1, 1, 1]\n",
      "WN.1.WN.in_layers.0.0.weight_v  | [128, 1, 7, 7]\n",
      "WN.1.WN.in_layers.0.1.bias      | [256]\n",
      "WN.1.WN.in_layers.0.1.weight_g  | [256, 1, 1, 1]\n",
      "WN.1.WN.in_layers.0.1.weight_v  | [256, 128, 1, 1]\n",
      "WN.1.WN.in_layers.1.0.bias      | [128]\n",
      "WN.1.WN.in_layers.1.0.weight_g  | [128, 1, 1, 1]\n",
      "WN.1.WN.in_layers.1.0.weight_v  | [128, 1, 7, 7]\n",
      "WN.1.WN.in_layers.1.1.bias      | [256]\n",
      "WN.1.WN.in_layers.1.1.weight_g  | [256, 1, 1, 1]\n",
      "WN.1.WN.in_layers.1.1.weight_v  | [256, 128, 1, 1]\n",
      "WN.1.WN.in_layers.2.0.bias      | [128]\n",
      "WN.1.WN.in_layers.2.0.weight_g  | [128, 1, 1, 1]\n",
      "WN.1.WN.in_layers.2.0.weight_v  | [128, 1, 7, 7]\n",
      "WN.1.WN.in_layers.2.1.bias      | [256]\n",
      "WN.1.WN.in_layers.2.1.weight_g  | [256, 1, 1, 1]\n",
      "WN.1.WN.in_layers.2.1.weight_v  | [256, 128, 1, 1]\n",
      "WN.1.WN.in_layers.3.0.bias      | [128]\n",
      "WN.1.WN.in_layers.3.0.weight_g  | [128, 1, 1, 1]\n",
      "WN.1.WN.in_layers.3.0.weight_v  | [128, 1, 7, 7]\n",
      "WN.1.WN.in_layers.3.1.bias      | [256]\n",
      "WN.1.WN.in_layers.3.1.weight_g  | [256, 1, 1, 1]\n",
      "WN.1.WN.in_layers.3.1.weight_v  | [256, 128, 1, 1]\n",
      "WN.1.WN.in_layers.4.0.bias      | [128]\n",
      "WN.1.WN.in_layers.4.0.weight_g  | [128, 1, 1, 1]\n",
      "WN.1.WN.in_layers.4.0.weight_v  | [128, 1, 7, 7]\n",
      "WN.1.WN.in_layers.4.1.bias      | [256]\n",
      "WN.1.WN.in_layers.4.1.weight_g  | [256, 1, 1, 1]\n",
      "WN.1.WN.in_layers.4.1.weight_v  | [256, 128, 1, 1]\n",
      "WN.1.WN.in_layers.5.0.bias      | [128]\n",
      "WN.1.WN.in_layers.5.0.weight_g  | [128, 1, 1, 1]\n",
      "WN.1.WN.in_layers.5.0.weight_v  | [128, 1, 7, 7]\n",
      "WN.1.WN.in_layers.5.1.bias      | [256]\n",
      "WN.1.WN.in_layers.5.1.weight_g  | [256, 1, 1, 1]\n",
      "WN.1.WN.in_layers.5.1.weight_v  | [256, 128, 1, 1]\n",
      "WN.1.WN.in_layers.6.0.bias      | [128]\n",
      "WN.1.WN.in_layers.6.0.weight_g  | [128, 1, 1, 1]\n",
      "WN.1.WN.in_layers.6.0.weight_v  | [128, 1, 7, 7]\n",
      "WN.1.WN.in_layers.6.1.bias      | [256]\n",
      "WN.1.WN.in_layers.6.1.weight_g  | [256, 1, 1, 1]\n",
      "WN.1.WN.in_layers.6.1.weight_v  | [256, 128, 1, 1]\n",
      "WN.1.WN.in_layers.7.0.bias      | [128]\n",
      "WN.1.WN.in_layers.7.0.weight_g  | [128, 1, 1, 1]\n",
      "WN.1.WN.in_layers.7.0.weight_v  | [128, 1, 7, 7]\n",
      "WN.1.WN.in_layers.7.1.bias      | [256]\n",
      "WN.1.WN.in_layers.7.1.weight_g  | [256, 1, 1, 1]\n",
      "WN.1.WN.in_layers.7.1.weight_v  | [256, 128, 1, 1]\n",
      "WN.2.WN.in_layers.0.0.bias      | [128]\n",
      "WN.2.WN.in_layers.0.0.weight_g  | [128, 1, 1, 1]\n",
      "WN.2.WN.in_layers.0.0.weight_v  | [128, 1, 7, 7]\n",
      "WN.2.WN.in_layers.0.1.bias      | [256]\n",
      "WN.2.WN.in_layers.0.1.weight_g  | [256, 1, 1, 1]\n",
      "WN.2.WN.in_layers.0.1.weight_v  | [256, 128, 1, 1]\n",
      "WN.2.WN.in_layers.1.0.bias      | [128]\n",
      "WN.2.WN.in_layers.1.0.weight_g  | [128, 1, 1, 1]\n",
      "WN.2.WN.in_layers.1.0.weight_v  | [128, 1, 7, 7]\n",
      "WN.2.WN.in_layers.1.1.bias      | [256]\n",
      "WN.2.WN.in_layers.1.1.weight_g  | [256, 1, 1, 1]\n",
      "WN.2.WN.in_layers.1.1.weight_v  | [256, 128, 1, 1]\n",
      "WN.2.WN.in_layers.2.0.bias      | [128]\n",
      "WN.2.WN.in_layers.2.0.weight_g  | [128, 1, 1, 1]\n",
      "WN.2.WN.in_layers.2.0.weight_v  | [128, 1, 7, 7]\n",
      "WN.2.WN.in_layers.2.1.bias      | [256]\n",
      "WN.2.WN.in_layers.2.1.weight_g  | [256, 1, 1, 1]\n",
      "WN.2.WN.in_layers.2.1.weight_v  | [256, 128, 1, 1]\n",
      "WN.2.WN.in_layers.3.0.bias      | [128]\n",
      "WN.2.WN.in_layers.3.0.weight_g  | [128, 1, 1, 1]\n",
      "WN.2.WN.in_layers.3.0.weight_v  | [128, 1, 7, 7]\n",
      "WN.2.WN.in_layers.3.1.bias      | [256]\n",
      "WN.2.WN.in_layers.3.1.weight_g  | [256, 1, 1, 1]\n",
      "WN.2.WN.in_layers.3.1.weight_v  | [256, 128, 1, 1]\n",
      "WN.2.WN.in_layers.4.0.bias      | [128]\n",
      "WN.2.WN.in_layers.4.0.weight_g  | [128, 1, 1, 1]\n",
      "WN.2.WN.in_layers.4.0.weight_v  | [128, 1, 7, 7]\n",
      "WN.2.WN.in_layers.4.1.bias      | [256]\n",
      "WN.2.WN.in_layers.4.1.weight_g  | [256, 1, 1, 1]\n",
      "WN.2.WN.in_layers.4.1.weight_v  | [256, 128, 1, 1]\n",
      "WN.2.WN.in_layers.5.0.bias      | [128]\n",
      "WN.2.WN.in_layers.5.0.weight_g  | [128, 1, 1, 1]\n",
      "WN.2.WN.in_layers.5.0.weight_v  | [128, 1, 7, 7]\n",
      "WN.2.WN.in_layers.5.1.bias      | [256]\n",
      "WN.2.WN.in_layers.5.1.weight_g  | [256, 1, 1, 1]\n",
      "WN.2.WN.in_layers.5.1.weight_v  | [256, 128, 1, 1]\n",
      "WN.2.WN.in_layers.6.0.bias      | [128]\n",
      "WN.2.WN.in_layers.6.0.weight_g  | [128, 1, 1, 1]\n",
      "WN.2.WN.in_layers.6.0.weight_v  | [128, 1, 7, 7]\n",
      "WN.2.WN.in_layers.6.1.bias      | [256]\n",
      "WN.2.WN.in_layers.6.1.weight_g  | [256, 1, 1, 1]\n",
      "WN.2.WN.in_layers.6.1.weight_v  | [256, 128, 1, 1]\n",
      "WN.2.WN.in_layers.7.0.bias      | [128]\n",
      "WN.2.WN.in_layers.7.0.weight_g  | [128, 1, 1, 1]\n",
      "WN.2.WN.in_layers.7.0.weight_v  | [128, 1, 7, 7]\n",
      "WN.2.WN.in_layers.7.1.bias      | [256]\n",
      "WN.2.WN.in_layers.7.1.weight_g  | [256, 1, 1, 1]\n",
      "WN.2.WN.in_layers.7.1.weight_v  | [256, 128, 1, 1]\n",
      "WN.3.WN.in_layers.0.0.bias      | [128]\n",
      "WN.3.WN.in_layers.0.0.weight_g  | [128, 1, 1, 1]\n",
      "WN.3.WN.in_layers.0.0.weight_v  | [128, 1, 7, 7]\n",
      "WN.3.WN.in_layers.0.1.bias      | [256]\n",
      "WN.3.WN.in_layers.0.1.weight_g  | [256, 1, 1, 1]\n",
      "WN.3.WN.in_layers.0.1.weight_v  | [256, 128, 1, 1]\n",
      "WN.3.WN.in_layers.1.0.bias      | [128]\n",
      "WN.3.WN.in_layers.1.0.weight_g  | [128, 1, 1, 1]\n",
      "WN.3.WN.in_layers.1.0.weight_v  | [128, 1, 7, 7]\n",
      "WN.3.WN.in_layers.1.1.bias      | [256]\n",
      "WN.3.WN.in_layers.1.1.weight_g  | [256, 1, 1, 1]\n",
      "WN.3.WN.in_layers.1.1.weight_v  | [256, 128, 1, 1]\n",
      "WN.3.WN.in_layers.2.0.bias      | [128]\n",
      "WN.3.WN.in_layers.2.0.weight_g  | [128, 1, 1, 1]\n",
      "WN.3.WN.in_layers.2.0.weight_v  | [128, 1, 7, 7]\n",
      "WN.3.WN.in_layers.2.1.bias      | [256]\n",
      "WN.3.WN.in_layers.2.1.weight_g  | [256, 1, 1, 1]\n",
      "WN.3.WN.in_layers.2.1.weight_v  | [256, 128, 1, 1]\n",
      "WN.3.WN.in_layers.3.0.bias      | [128]\n",
      "WN.3.WN.in_layers.3.0.weight_g  | [128, 1, 1, 1]\n",
      "WN.3.WN.in_layers.3.0.weight_v  | [128, 1, 7, 7]\n",
      "WN.3.WN.in_layers.3.1.bias      | [256]\n",
      "WN.3.WN.in_layers.3.1.weight_g  | [256, 1, 1, 1]\n",
      "WN.3.WN.in_layers.3.1.weight_v  | [256, 128, 1, 1]\n",
      "WN.3.WN.in_layers.4.0.bias      | [128]\n",
      "WN.3.WN.in_layers.4.0.weight_g  | [128, 1, 1, 1]\n",
      "WN.3.WN.in_layers.4.0.weight_v  | [128, 1, 7, 7]\n",
      "WN.3.WN.in_layers.4.1.bias      | [256]\n",
      "WN.3.WN.in_layers.4.1.weight_g  | [256, 1, 1, 1]\n",
      "WN.3.WN.in_layers.4.1.weight_v  | [256, 128, 1, 1]\n",
      "WN.3.WN.in_layers.5.0.bias      | [128]\n",
      "WN.3.WN.in_layers.5.0.weight_g  | [128, 1, 1, 1]\n",
      "WN.3.WN.in_layers.5.0.weight_v  | [128, 1, 7, 7]\n",
      "WN.3.WN.in_layers.5.1.bias      | [256]\n",
      "WN.3.WN.in_layers.5.1.weight_g  | [256, 1, 1, 1]\n",
      "WN.3.WN.in_layers.5.1.weight_v  | [256, 128, 1, 1]\n",
      "WN.3.WN.in_layers.6.0.bias      | [128]\n",
      "WN.3.WN.in_layers.6.0.weight_g  | [128, 1, 1, 1]\n",
      "WN.3.WN.in_layers.6.0.weight_v  | [128, 1, 7, 7]\n",
      "WN.3.WN.in_layers.6.1.bias      | [256]\n",
      "WN.3.WN.in_layers.6.1.weight_g  | [256, 1, 1, 1]\n",
      "WN.3.WN.in_layers.6.1.weight_v  | [256, 128, 1, 1]\n",
      "WN.3.WN.in_layers.7.0.bias      | [128]\n",
      "WN.3.WN.in_layers.7.0.weight_g  | [128, 1, 1, 1]\n",
      "WN.3.WN.in_layers.7.0.weight_v  | [128, 1, 7, 7]\n",
      "WN.3.WN.in_layers.7.1.bias      | [256]\n",
      "WN.3.WN.in_layers.7.1.weight_g  | [256, 1, 1, 1]\n",
      "WN.3.WN.in_layers.7.1.weight_v  | [256, 128, 1, 1]\n",
      "WN.4.WN.in_layers.0.0.bias      | [128]\n",
      "WN.4.WN.in_layers.0.0.weight_g  | [128, 1, 1, 1]\n",
      "WN.4.WN.in_layers.0.0.weight_v  | [128, 1, 7, 7]\n",
      "WN.4.WN.in_layers.0.1.bias      | [256]\n",
      "WN.4.WN.in_layers.0.1.weight_g  | [256, 1, 1, 1]\n",
      "WN.4.WN.in_layers.0.1.weight_v  | [256, 128, 1, 1]\n",
      "WN.4.WN.in_layers.1.0.bias      | [128]\n",
      "WN.4.WN.in_layers.1.0.weight_g  | [128, 1, 1, 1]\n",
      "WN.4.WN.in_layers.1.0.weight_v  | [128, 1, 7, 7]\n",
      "WN.4.WN.in_layers.1.1.bias      | [256]\n",
      "WN.4.WN.in_layers.1.1.weight_g  | [256, 1, 1, 1]\n",
      "WN.4.WN.in_layers.1.1.weight_v  | [256, 128, 1, 1]\n",
      "WN.4.WN.in_layers.2.0.bias      | [128]\n",
      "WN.4.WN.in_layers.2.0.weight_g  | [128, 1, 1, 1]\n",
      "WN.4.WN.in_layers.2.0.weight_v  | [128, 1, 7, 7]\n",
      "WN.4.WN.in_layers.2.1.bias      | [256]\n",
      "WN.4.WN.in_layers.2.1.weight_g  | [256, 1, 1, 1]\n",
      "WN.4.WN.in_layers.2.1.weight_v  | [256, 128, 1, 1]\n",
      "WN.4.WN.in_layers.3.0.bias      | [128]\n",
      "WN.4.WN.in_layers.3.0.weight_g  | [128, 1, 1, 1]\n",
      "WN.4.WN.in_layers.3.0.weight_v  | [128, 1, 7, 7]\n",
      "WN.4.WN.in_layers.3.1.bias      | [256]\n",
      "WN.4.WN.in_layers.3.1.weight_g  | [256, 1, 1, 1]\n",
      "WN.4.WN.in_layers.3.1.weight_v  | [256, 128, 1, 1]\n",
      "WN.4.WN.in_layers.4.0.bias      | [128]\n",
      "WN.4.WN.in_layers.4.0.weight_g  | [128, 1, 1, 1]\n",
      "WN.4.WN.in_layers.4.0.weight_v  | [128, 1, 7, 7]\n",
      "WN.4.WN.in_layers.4.1.bias      | [256]\n",
      "WN.4.WN.in_layers.4.1.weight_g  | [256, 1, 1, 1]\n",
      "WN.4.WN.in_layers.4.1.weight_v  | [256, 128, 1, 1]\n",
      "WN.4.WN.in_layers.5.0.bias      | [128]\n",
      "WN.4.WN.in_layers.5.0.weight_g  | [128, 1, 1, 1]\n",
      "WN.4.WN.in_layers.5.0.weight_v  | [128, 1, 7, 7]\n",
      "WN.4.WN.in_layers.5.1.bias      | [256]\n",
      "WN.4.WN.in_layers.5.1.weight_g  | [256, 1, 1, 1]\n",
      "WN.4.WN.in_layers.5.1.weight_v  | [256, 128, 1, 1]\n",
      "WN.4.WN.in_layers.6.0.bias      | [128]\n",
      "WN.4.WN.in_layers.6.0.weight_g  | [128, 1, 1, 1]\n",
      "WN.4.WN.in_layers.6.0.weight_v  | [128, 1, 7, 7]\n",
      "WN.4.WN.in_layers.6.1.bias      | [256]\n",
      "WN.4.WN.in_layers.6.1.weight_g  | [256, 1, 1, 1]\n",
      "WN.4.WN.in_layers.6.1.weight_v  | [256, 128, 1, 1]\n",
      "WN.4.WN.in_layers.7.0.bias      | [128]\n",
      "WN.4.WN.in_layers.7.0.weight_g  | [128, 1, 1, 1]\n",
      "WN.4.WN.in_layers.7.0.weight_v  | [128, 1, 7, 7]\n",
      "WN.4.WN.in_layers.7.1.bias      | [256]\n",
      "WN.4.WN.in_layers.7.1.weight_g  | [256, 1, 1, 1]\n",
      "WN.4.WN.in_layers.7.1.weight_v  | [256, 128, 1, 1]\n",
      "WN.5.WN.in_layers.0.0.bias      | [128]\n",
      "WN.5.WN.in_layers.0.0.weight_g  | [128, 1, 1, 1]\n",
      "WN.5.WN.in_layers.0.0.weight_v  | [128, 1, 7, 7]\n",
      "WN.5.WN.in_layers.0.1.bias      | [256]\n",
      "WN.5.WN.in_layers.0.1.weight_g  | [256, 1, 1, 1]\n",
      "WN.5.WN.in_layers.0.1.weight_v  | [256, 128, 1, 1]\n",
      "WN.5.WN.in_layers.1.0.bias      | [128]\n",
      "WN.5.WN.in_layers.1.0.weight_g  | [128, 1, 1, 1]\n",
      "WN.5.WN.in_layers.1.0.weight_v  | [128, 1, 7, 7]\n",
      "WN.5.WN.in_layers.1.1.bias      | [256]\n",
      "WN.5.WN.in_layers.1.1.weight_g  | [256, 1, 1, 1]\n",
      "WN.5.WN.in_layers.1.1.weight_v  | [256, 128, 1, 1]\n",
      "WN.5.WN.in_layers.2.0.bias      | [128]\n",
      "WN.5.WN.in_layers.2.0.weight_g  | [128, 1, 1, 1]\n",
      "WN.5.WN.in_layers.2.0.weight_v  | [128, 1, 7, 7]\n",
      "WN.5.WN.in_layers.2.1.bias      | [256]\n",
      "WN.5.WN.in_layers.2.1.weight_g  | [256, 1, 1, 1]\n",
      "WN.5.WN.in_layers.2.1.weight_v  | [256, 128, 1, 1]\n",
      "WN.5.WN.in_layers.3.0.bias      | [128]\n",
      "WN.5.WN.in_layers.3.0.weight_g  | [128, 1, 1, 1]\n",
      "WN.5.WN.in_layers.3.0.weight_v  | [128, 1, 7, 7]\n",
      "WN.5.WN.in_layers.3.1.bias      | [256]\n",
      "WN.5.WN.in_layers.3.1.weight_g  | [256, 1, 1, 1]\n",
      "WN.5.WN.in_layers.3.1.weight_v  | [256, 128, 1, 1]\n",
      "WN.5.WN.in_layers.4.0.bias      | [128]\n",
      "WN.5.WN.in_layers.4.0.weight_g  | [128, 1, 1, 1]\n",
      "WN.5.WN.in_layers.4.0.weight_v  | [128, 1, 7, 7]\n",
      "WN.5.WN.in_layers.4.1.bias      | [256]\n",
      "WN.5.WN.in_layers.4.1.weight_g  | [256, 1, 1, 1]\n",
      "WN.5.WN.in_layers.4.1.weight_v  | [256, 128, 1, 1]\n",
      "WN.5.WN.in_layers.5.0.bias      | [128]\n",
      "WN.5.WN.in_layers.5.0.weight_g  | [128, 1, 1, 1]\n",
      "WN.5.WN.in_layers.5.0.weight_v  | [128, 1, 7, 7]\n",
      "WN.5.WN.in_layers.5.1.bias      | [256]\n",
      "WN.5.WN.in_layers.5.1.weight_g  | [256, 1, 1, 1]\n",
      "WN.5.WN.in_layers.5.1.weight_v  | [256, 128, 1, 1]\n",
      "WN.5.WN.in_layers.6.0.bias      | [128]\n",
      "WN.5.WN.in_layers.6.0.weight_g  | [128, 1, 1, 1]\n",
      "WN.5.WN.in_layers.6.0.weight_v  | [128, 1, 7, 7]\n",
      "WN.5.WN.in_layers.6.1.bias      | [256]\n",
      "WN.5.WN.in_layers.6.1.weight_g  | [256, 1, 1, 1]\n",
      "WN.5.WN.in_layers.6.1.weight_v  | [256, 128, 1, 1]\n",
      "WN.5.WN.in_layers.7.0.bias      | [128]\n",
      "WN.5.WN.in_layers.7.0.weight_g  | [128, 1, 1, 1]\n",
      "WN.5.WN.in_layers.7.0.weight_v  | [128, 1, 7, 7]\n",
      "WN.5.WN.in_layers.7.1.bias      | [256]\n",
      "WN.5.WN.in_layers.7.1.weight_g  | [256, 1, 1, 1]\n",
      "WN.5.WN.in_layers.7.1.weight_v  | [256, 128, 1, 1]\n"
     ]
    }
   ],
   "source": [
    "print( \"\\n\".join([f\"{key:32}| {list(state_dict[key].shape)}\" for key in state_dict.keys() if all(x in key for x in ('in_layers',))])  )"
   ]
  },
  {
   "cell_type": "code",
   "execution_count": 25,
   "metadata": {},
   "outputs": [
    {
     "data": {
      "text/plain": [
       "torch.Size([128, 1, 1, 1])"
      ]
     },
     "execution_count": 25,
     "metadata": {},
     "output_type": "execute_result"
    }
   ],
   "source": [
    "state_dict['WN.0.WN.in_layers.0.0.weight_g'].shape"
   ]
  },
  {
   "cell_type": "code",
   "execution_count": null,
   "metadata": {},
   "outputs": [],
   "source": []
  }
 ],
 "metadata": {
  "kernelspec": {
   "display_name": "Python 3",
   "language": "python",
   "name": "python3"
  },
  "language_info": {
   "codemirror_mode": {
    "name": "ipython",
    "version": 3
   },
   "file_extension": ".py",
   "mimetype": "text/x-python",
   "name": "python",
   "nbconvert_exporter": "python",
   "pygments_lexer": "ipython3",
   "version": "3.7.6"
  }
 },
 "nbformat": 4,
 "nbformat_minor": 4
}
