{
 "cells": [
  {
   "cell_type": "markdown",
   "metadata": {},
   "source": [
    "# 1 - Estimated Training Time"
   ]
  },
  {
   "cell_type": "code",
   "execution_count": 5,
   "metadata": {},
   "outputs": [
    {
     "name": "stdout",
     "output_type": "stream",
     "text": [
      "WaveFlow 256 Res-Channel trained on 1.28e+11 samples.\n",
      "It will take 8.78 days to train to the same degree.\n",
      "8.33 days remaining at current iteration of 60000.\n",
      "Reference Learning Rate for this training run: 1.69e-04\n"
     ]
    }
   ],
   "source": [
    "total_samples = 16000*8*1e6\n",
    "print(f\"WaveFlow 256 Res-Channel trained on {total_samples:.2e} samples.\")\n",
    "\n",
    "time_per_iter = 0.64\n",
    "batch_size = 1\n",
    "n_gpus = 3\n",
    "segment_length = 36000\n",
    "samples_per_second = (batch_size*n_gpus*segment_length)/time_per_iter\n",
    "seconds_to_train = total_samples/samples_per_second\n",
    "print(f\"It will take {seconds_to_train/(3600*24):0.3} days to train to the same degree.\")\n",
    "\n",
    "current_iter = 60000\n",
    "seconds_remaining = seconds_to_train - (current_iter*time_per_iter)\n",
    "print(f\"{seconds_remaining/(3600*24):0.3} days remaining at current iteration of {current_iter}.\")\n",
    "\n",
    "ref_samples_per_iter = 16000*8\n",
    "ref_source_lr = 2e-4\n",
    "ref_target_lr = ((batch_size*n_gpus*segment_length)/ref_samples_per_iter)*2e-4\n",
    "print(f\"Reference Learning Rate for this training run: {ref_target_lr:.2e}\")"
   ]
  },
  {
   "cell_type": "markdown",
   "metadata": {},
   "source": [
    "# 2 - n_group Options"
   ]
  },
  {
   "cell_type": "code",
   "execution_count": 19,
   "metadata": {},
   "outputs": [
    {
     "name": "stdout",
     "output_type": "stream",
     "text": [
      "  1  |  2  |  3  |  4  |  5  |  6  |  8  |  10  |  12  |  15  |  20  |  24  |  25  |  30  |  40  |  50  |  60  |  75  |  100  |  120  |  150  |  200  |  300  \n",
      "------------------------------------------------------------------------------------------------------------------------------------------------------------\n",
      "--1--|  2  |--3--|  4  |--5--|  6  |  8  |  10  |  12  |--15--|  20  |  24  |--25--|  30  |  40  |  50  |  60  |--75--|  100  |  120  |  150  |  200  |  300  \n"
     ]
    }
   ],
   "source": [
    "print( \"|\".join( [f'  {x}  ' for x in range(600) if x and (600//x == 600/x)] ) )\n",
    "print(\"-\"*156)\n",
    "print( \"|\".join( [f'  {x}  ' if x%2==0 else f'--{x}--' for x in range(600) if x and (600//x == 600/x)] ) )"
   ]
  },
  {
   "cell_type": "code",
   "execution_count": null,
   "metadata": {},
   "outputs": [],
   "source": []
  }
 ],
 "metadata": {
  "kernelspec": {
   "display_name": "Python 3",
   "language": "python",
   "name": "python3"
  },
  "language_info": {
   "codemirror_mode": {
    "name": "ipython",
    "version": 3
   },
   "file_extension": ".py",
   "mimetype": "text/x-python",
   "name": "python",
   "nbconvert_exporter": "python",
   "pygments_lexer": "ipython3",
   "version": "3.7.6"
  }
 },
 "nbformat": 4,
 "nbformat_minor": 4
}
