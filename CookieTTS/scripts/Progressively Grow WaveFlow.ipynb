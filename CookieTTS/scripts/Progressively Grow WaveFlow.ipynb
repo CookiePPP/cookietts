{
 "cells": [
  {
   "cell_type": "markdown",
   "metadata": {},
   "source": [
    "### This notebook should allow adding more channels to the WN layers without resetting the old weights.1\n",
    "\n",
    " - Currently NOT working"
   ]
  },
  {
   "cell_type": "code",
   "execution_count": null,
   "metadata": {},
   "outputs": [],
   "source": [
    "import torch\n",
    "import os\n",
    "\n",
    "# move to waveflow directory\n",
    "os.chdir(r\"G:\\TwiBot\\tacotron2\\waveglow_latest\")"
   ]
  },
  {
   "cell_type": "markdown",
   "metadata": {},
   "source": [
    "# merging arrays"
   ]
  },
  {
   "cell_type": "code",
   "execution_count": 9,
   "metadata": {},
   "outputs": [
    {
     "name": "stdout",
     "output_type": "stream",
     "text": [
      "[['audio_0.wav', 22050], ['audio_1.wav', 44100], ['audio_2.wav', 48000], ['audio_0.wav', 22050], ['audio_1.wav', 44100], ['audio_2.wav', 48000]]\n"
     ]
    }
   ],
   "source": [
    "arr = [[['audio_0.wav',22050], ['audio_1.wav',44100], ['audio_2.wav',48000],],[['audio_0.wav',22050], ['audio_1.wav',44100], ['audio_2.wav',48000],]]\n",
    "out = []\n",
    "_ = [out.extend(x) for x in arr]\n",
    "print(out)"
   ]
  },
  {
   "cell_type": "code",
   "execution_count": 60,
   "metadata": {},
   "outputs": [
    {
     "name": "stdout",
     "output_type": "stream",
     "text": [
      ";dataset                |dataset_type        |speaker_name                    |speaker_id|duration_hrs\n",
      "My Little Pony          |Show                |Twilight                        |279       |  2.5984\n",
      "My Little Pony          |Show                |Mean Twilight Sparkle           |279       |  2.5984\n",
      "My Little Pony          |Show                |Celestia                        |279       |  2.5984\n",
      "A Little Bit Wicked     |Audiobook           |Kristin Chenoworth              |280       |  1.1246\n",
      "VCTK                    |Newspaper Extracts  |p239                            |281       |  0.7531\n",
      "VCTK                    |Newspaper Extracts  |p240                            |282       |  0.6554\n",
      "VCTK                    |Newspaper Extracts  |p241                            |283       |  0.6815\n",
      "LJSpeech                |Audiobook           |LJSpeech                        |284       | 23.4785\n"
     ]
    }
   ],
   "source": [
    "print( f';{\"dataset\":<23}|{\"dataset_type\":<20}|{\"speaker_name\":<32}|{\"speaker_id\":<10}|duration_hrs' )\n",
    "print( f'{\"My Little Pony\":<24}|{\"Show\":<20}|{\"Twilight\":<32}|{279:<10}|{2.5984:>8.4f}' )\n",
    "print( f'{\"My Little Pony\":<24}|{\"Show\":<20}|{\"Mean Twilight Sparkle\":<32}|{279:<10}|{2.5984:>8.4f}' )\n",
    "print( f'{\"My Little Pony\":<24}|{\"Show\":<20}|{\"Celestia\":<32}|{279:<10}|{2.5984:>8.4f}' )\n",
    "print( f'{\"A Little Bit Wicked\":<24}|{\"Audiobook\":<20}|{\"Kristin Chenoworth\":<32}|{280:<10}|{1.1245665464:>8.4f}' )\n",
    "print( f'{\"VCTK\":<24}|{\"Newspaper Extracts\":<20}|{\"p239\":<32}|{281:<10}|{0.7531:>8.4f}' )\n",
    "print( f'{\"VCTK\":<24}|{\"Newspaper Extracts\":<20}|{\"p240\":<32}|{282:<10}|{0.6554:>8.4f}' )\n",
    "print( f'{\"VCTK\":<24}|{\"Newspaper Extracts\":<20}|{\"p241\":<32}|{283:<10}|{0.6815:>8.4f}' )\n",
    "print( f'{\"LJSpeech\":<24}|{\"Audiobook\":<20}|{\"LJSpeech\":<32}|{284:<10}|{23.4785:>8.4f}' )"
   ]
  },
  {
   "cell_type": "markdown",
   "metadata": {},
   "source": [
    "# merging dicts"
   ]
  },
  {
   "cell_type": "code",
   "execution_count": 65,
   "metadata": {},
   "outputs": [
    {
     "name": "stdout",
     "output_type": "stream",
     "text": [
      "dict_items([('audio_0.wav', 22050), ('audio_1.wav', 44100), ('audio_2.wav', 48000), ('audio_3.wav', 16000), ('audio_4.wav', 96000), ('audio_5.wav', 8000)])\n",
      "{'audio_0.wav': 22050, 'audio_1.wav': 44100, 'audio_2.wav': 48000, 'audio_3.wav': 16000, 'audio_4.wav': 96000, 'audio_5.wav': 8000}\n"
     ]
    }
   ],
   "source": [
    "aarr = [[['audio_0.wav',22050], ['audio_1.wav',44100], ['audio_2.wav',48000],],[['audio_0.wav',22050], ['audio_1.wav',44100], ['audio_2.wav',48000],]]\n",
    "dicts = [{'audio_0.wav': 22050, 'audio_1.wav': 44100, 'audio_2.wav': 48000}, {'audio_3.wav': 16000, 'audio_4.wav': 96000, 'audio_5.wav': 8000}]\n",
    "merged_dicts = {k:v for list_item in dicts for (k,v) in list_item.items()}\n",
    "print(merged_dicts.items())\n",
    "print(merged_dicts)"
   ]
  },
  {
   "cell_type": "code",
   "execution_count": 132,
   "metadata": {},
   "outputs": [
    {
     "data": {
      "text/plain": [
       "{'Bored', 'Happy', 'Neutral', 'Sleepy'}"
      ]
     },
     "execution_count": 132,
     "metadata": {},
     "output_type": "execute_result"
    }
   ],
   "source": [
    "meta = {}\n",
    "meta['LJSpeech'] = []\n",
    "meta['LJSpeech'].append({\"path\": \"audio_0.wav\", \"emotions\": ['Neutral']})\n",
    "meta['LJSpeech'].append({\"path\": \"audio_1.wav\", \"emotions\": ['Happy']})\n",
    "meta['VCTK'] = []\n",
    "meta['VCTK'].append({\"path\": \"p249_001.wav\", \"emotions\": ['Bored']})\n",
    "meta['VCTK'].append({\"path\": \"p249_002.wav\", \"emotions\": ['Sleepy']})\n",
    "seen = set()\n"
   ]
  },
  {
   "cell_type": "code",
   "execution_count": 133,
   "metadata": {},
   "outputs": [
    {
     "name": "stdout",
     "output_type": "stream",
     "text": [
      "[4, 1, 2, 3]\n"
     ]
    }
   ],
   "source": [
    "x = [0,1,2,3]\n",
    "x[0] = 4\n",
    "print(x)"
   ]
  },
  {
   "cell_type": "code",
   "execution_count": 196,
   "metadata": {},
   "outputs": [
    {
     "name": "stdout",
     "output_type": "stream",
     "text": [
      "WaveFlow Modified 48.00Khz\n",
      " Receptive Width:  6400\n",
      "Receptive Height:  64\n",
      "----------------------------------------\n",
      "Default WaveFlow 22.05Khz\n",
      " Receptive Width:  2048\n",
      "Receptive Height:  16\n"
     ]
    }
   ],
   "source": [
    "print(\"WaveFlow Modified 48.00Khz\")\n",
    "n_layers = 7\n",
    "n_group = 50\n",
    "kernel_w = 3\n",
    "kernel_h = 2\n",
    "h_dilation_cycle = 8\n",
    "\n",
    "assert (kernel_w%2==1), 'kernel_w must be odd'\n",
    "h_dilation = min(2**(n_layers-1),2**(h_dilation_cycle-1))\n",
    "width = (2**(n_layers-1)) * (kernel_w-1) * n_group\n",
    "height = h_dilation * (kernel_h-1)\n",
    "print(' Receptive Width: ', width)\n",
    "print('Receptive Height: ', height)\n",
    "\n",
    "###################################\n",
    "print(\"-\"*40)######################\n",
    "print(\"Default WaveFlow 22.05Khz\")#\n",
    "###################################\n",
    "\n",
    "n_layers = 8\n",
    "n_group = 8\n",
    "kernel_w = 3\n",
    "kernel_h = 3\n",
    "h_dilation_cycle = 4\n",
    "\n",
    "assert (kernel_w%2==1), 'kernel_w must be odd'\n",
    "h_dilation = min(2**(n_layers-1),2**(h_dilation_cycle-1))\n",
    "width = (2**(n_layers-1)) * (kernel_w-1) * n_group\n",
    "height = h_dilation * (kernel_h-1)\n",
    "print(' Receptive Width: ', width)\n",
    "print('Receptive Height: ', height)"
   ]
  },
  {
   "cell_type": "code",
   "execution_count": 197,
   "metadata": {},
   "outputs": [
    {
     "data": {
      "text/plain": [
       "tensor([4, 3, 2, 1, 0])"
      ]
     },
     "execution_count": 197,
     "metadata": {},
     "output_type": "execute_result"
    }
   ],
   "source": [
    "import torch\n",
    "torch.arange(5)[[4,3,2,1,0],]"
   ]
  },
  {
   "cell_type": "code",
   "execution_count": 206,
   "metadata": {},
   "outputs": [
    {
     "name": "stdout",
     "output_type": "stream",
     "text": [
      "!?,.;:␤#-_'\"()[]\n",
      "\n"
     ]
    },
    {
     "data": {
      "text/plain": [
       "'!?,.;:␤#-_\\'\"()[]\\n'"
      ]
     },
     "execution_count": 206,
     "metadata": {},
     "output_type": "execute_result"
    }
   ],
   "source": [
    "print(\"!?,.;:␤#-_'\\\"()[]\\n\")\n",
    "\"!?,.;:␤#-_'\\\"()[]\\n\""
   ]
  },
  {
   "cell_type": "code",
   "execution_count": 28,
   "metadata": {},
   "outputs": [
    {
     "data": {
      "text/plain": [
       "'.wav'"
      ]
     },
     "execution_count": 28,
     "metadata": {},
     "output_type": "execute_result"
    }
   ],
   "source": [
    "import os\n",
    "os.path.splitext(os.path.split(\"/media/cookie/Samsung PM961/TwiBot/CookiePPPTTS/CookieTTS/_1_preprocess/datasets/Clipper_MLP/Sliced Dialogue/FiM/S7/s7e23/00_19_55_Pinkie_Neutral__Oh, i can't believe you're willing to eat This terrible pie for me.wav\")[-1])[-1]"
   ]
  },
  {
   "cell_type": "code",
   "execution_count": 32,
   "metadata": {},
   "outputs": [
    {
     "name": "stdout",
     "output_type": "stream",
     "text": [
      "/media/cookie/Samsung PM961/TwiBot/CookiePPPTTS/CookieTTS/_1_preprocess/datasets/Clipper_MLP/Sliced Dialogue/FiM/S7/s7e23/00_19_55_Pinkie_Neutral__Oh, i can't believe you're willing to eat This terrible pie for me.\n",
      "/media/cookie/Samsung PM961/TwiBot/CookiePPPTTS/CookieTTS/_1_preprocess/datasets/Clipper_MLP/Sliced Dialogue/FiM/S7/s7e23/00_19_55_Pinkie_Neutral__Oh, i can't believe you're willing to eat This terrible pie for me\n"
     ]
    }
   ],
   "source": [
    "print(\n",
    "    os.path.splitext(\"/media/cookie/Samsung PM961/TwiBot/CookiePPPTTS/CookieTTS/_1_preprocess/datasets/Clipper_MLP/Sliced Dialogue/FiM/S7/s7e23/00_19_55_Pinkie_Neutral__Oh, i can't believe you're willing to eat This terrible pie for me..wav\")[0]\n",
    ")\n",
    "print(\n",
    "    os.path.splitext(\"/media/cookie/Samsung PM961/TwiBot/CookiePPPTTS/CookieTTS/_1_preprocess/datasets/Clipper_MLP/Sliced Dialogue/FiM/S7/s7e23/00_19_55_Pinkie_Neutral__Oh, i can't believe you're willing to eat This terrible pie for me..wav\")[0].rstrip('.')\n",
    ")"
   ]
  },
  {
   "cell_type": "code",
   "execution_count": 33,
   "metadata": {},
   "outputs": [],
   "source": [
    "from glob import glob\n",
    "file_arr = glob('E:\\downloads\\Clipper_MLP\\**\\*.flac', recursive=True)\n",
    "file_dict = {x: (os.path.splitext(x)[0].rstrip('.')+os.path.splitext(x)[-1]) for x in file_arr if x != (os.path.splitext(x)[0].rstrip('.')+os.path.splitext(x)[-1])}"
   ]
  },
  {
   "cell_type": "code",
   "execution_count": 39,
   "metadata": {},
   "outputs": [
    {
     "ename": "FileNotFoundError",
     "evalue": "audio file at \"asdsa.wav\" has no matching txt file.",
     "output_type": "error",
     "traceback": [
      "\u001b[1;31m---------------------------------------------------------------------------\u001b[0m",
      "\u001b[1;31mFileNotFoundError\u001b[0m                         Traceback (most recent call last)",
      "\u001b[1;32m<ipython-input-39-eaa98814ea52>\u001b[0m in \u001b[0;36m<module>\u001b[1;34m\u001b[0m\n\u001b[1;32m----> 1\u001b[1;33m \u001b[1;32mraise\u001b[0m \u001b[0mFileNotFoundError\u001b[0m\u001b[1;33m(\u001b[0m\u001b[1;34mf'audio file at \"asdsa.wav\" has no matching txt file.'\u001b[0m\u001b[1;33m)\u001b[0m\u001b[1;33m\u001b[0m\u001b[1;33m\u001b[0m\u001b[0m\n\u001b[0m",
      "\u001b[1;31mFileNotFoundError\u001b[0m: audio file at \"asdsa.wav\" has no matching txt file."
     ]
    }
   ],
   "source": [
    "raise FileNotFoundError(f'audio file at \"asdsa.wav\" has no matching txt file.')"
   ]
  },
  {
   "cell_type": "code",
   "execution_count": 40,
   "metadata": {},
   "outputs": [
    {
     "ename": "OSError",
     "evalue": "[WinError 17] The system cannot move the file to a different disk drive: 'H:\\\\TTCheckpoints\\\\waveflow\\\\7thHeightDilated\\\\samples\\\\906500-2020_06_28-19_46_50\\\\00_10_25_Applejack_Neutral__They sounded mighty serious when hey threatened to run us out of Business.wav' -> 'E:\\\\downloads\\\\Littlepip\\\\capp.wav'",
     "output_type": "error",
     "traceback": [
      "\u001b[1;31m---------------------------------------------------------------------------\u001b[0m",
      "\u001b[1;31mOSError\u001b[0m                                   Traceback (most recent call last)",
      "\u001b[1;32m<ipython-input-40-b032ff5a91c4>\u001b[0m in \u001b[0;36m<module>\u001b[1;34m\u001b[0m\n\u001b[0;32m      1\u001b[0m os.link(\n\u001b[0;32m      2\u001b[0m     \u001b[1;34mr\"H:\\TTCheckpoints\\waveflow\\7thHeightDilated\\samples\\906500-2020_06_28-19_46_50\\00_10_25_Applejack_Neutral__They sounded mighty serious when hey threatened to run us out of Business.wav\"\u001b[0m\u001b[1;33m,\u001b[0m\u001b[1;33m\u001b[0m\u001b[1;33m\u001b[0m\u001b[0m\n\u001b[1;32m----> 3\u001b[1;33m     \u001b[1;34mr\"E:\\downloads\\Littlepip\\capp.wav\"\u001b[0m\u001b[1;33m\u001b[0m\u001b[1;33m\u001b[0m\u001b[0m\n\u001b[0m\u001b[0;32m      4\u001b[0m )\n",
      "\u001b[1;31mOSError\u001b[0m: [WinError 17] The system cannot move the file to a different disk drive: 'H:\\\\TTCheckpoints\\\\waveflow\\\\7thHeightDilated\\\\samples\\\\906500-2020_06_28-19_46_50\\\\00_10_25_Applejack_Neutral__They sounded mighty serious when hey threatened to run us out of Business.wav' -> 'E:\\\\downloads\\\\Littlepip\\\\capp.wav'"
     ]
    }
   ],
   "source": [
    "os.link(\n",
    "    r\"H:\\TTCheckpoints\\waveflow\\7thHeightDilated\\samples\\906500-2020_06_28-19_46_50\\00_10_25_Applejack_Neutral__They sounded mighty serious when hey threatened to run us out of Business.wav\",\n",
    "    r\"E:\\downloads\\Littlepip\\capp.wav\"\n",
    ")"
   ]
  },
  {
   "cell_type": "code",
   "execution_count": 62,
   "metadata": {},
   "outputs": [
    {
     "name": "stdout",
     "output_type": "stream",
     "text": [
      "0 1 1\n",
      "1 2 2\n"
     ]
    }
   ],
   "source": [
    "_dict = {'1': 1, '2': 2}\n",
    "for i, (key, value) in enumerate(_dict.items()):\n",
    "    print(i, key, value)"
   ]
  },
  {
   "cell_type": "code",
   "execution_count": 64,
   "metadata": {},
   "outputs": [
    {
     "data": {
      "text/plain": [
       "'asdipsapojdas'"
      ]
     },
     "execution_count": 64,
     "metadata": {},
     "output_type": "execute_result"
    }
   ],
   "source": [
    "'\"asdipsapojdas\"'.strip('\"')"
   ]
  },
  {
   "cell_type": "code",
   "execution_count": 79,
   "metadata": {},
   "outputs": [
    {
     "name": "stdout",
     "output_type": "stream",
     "text": [
      "G:\\TwiBot\\CookiePPPTTS\\CookieTTS\\scripts\\audio\\blah.txt\n",
      "G:\\TwiBot\\CookiePPPTTS\\CookieTTS\\scripts\\audio\\blah.txt\n"
     ]
    }
   ],
   "source": [
    "print(\n",
    "    os.path.abspath('audio/blah.txt'),\n",
    "    os.path.abspath('audio\\\\blah.txt'),\n",
    "    sep='\\n')"
   ]
  },
  {
   "cell_type": "markdown",
   "metadata": {},
   "source": [
    "# Montreal Forced Aligner Output Parsing"
   ]
  },
  {
   "cell_type": "code",
   "execution_count": null,
   "metadata": {},
   "outputs": [],
   "source": []
  },
  {
   "cell_type": "code",
   "execution_count": 146,
   "metadata": {},
   "outputs": [],
   "source": [
    "text = \"\"\"File type = \"ooTextFile\"\n",
    "Object class = \"TextGrid\"\n",
    "\n",
    "xmin = 0.0\n",
    "xmax = 4.024125\n",
    "tiers? <exists>\n",
    "size = 2\n",
    "item []:\n",
    "\titem [1]:\n",
    "\t\tclass = \"IntervalTier\"\n",
    "\t\tname = \"words\"\n",
    "\t\txmin = 0.0\n",
    "\t\txmax = 4.024125\n",
    "\t\tintervals: size = 11\n",
    "\t\t\tintervals [1]:\n",
    "\t\t\t\txmin = 0.000\n",
    "\t\t\t\txmax = 0.320\n",
    "\t\t\t\ttext = \"it's\"\n",
    "\t\t\tintervals [2]:\n",
    "\t\t\t\txmin = 0.320\n",
    "\t\t\t\txmax = 0.620\n",
    "\t\t\t\ttext = \"so\"\n",
    "\t\t\tintervals [3]:\n",
    "\t\t\t\txmin = 0.620\n",
    "\t\t\t\txmax = 0.650\n",
    "\t\t\t\ttext = \"\"\n",
    "\t\t\tintervals [4]:\n",
    "\t\t\t\txmin = 0.650\n",
    "\t\t\t\txmax = 1.030\n",
    "\t\t\t\ttext = \"empty\"\n",
    "\t\t\tintervals [5]:\n",
    "\t\t\t\txmin = 1.030\n",
    "\t\t\t\txmax = 1.950\n",
    "\t\t\t\ttext = \"and\"\n",
    "\t\t\tintervals [6]:\n",
    "\t\t\t\txmin = 1.950\n",
    "\t\t\t\txmax = 1.980\n",
    "\t\t\t\ttext = \"\"\n",
    "\t\t\tintervals [7]:\n",
    "\t\t\t\txmin = 1.980\n",
    "\t\t\t\txmax = 2.330\n",
    "\t\t\t\ttext = \"quiet\"\n",
    "\t\t\tintervals [8]:\n",
    "\t\t\t\txmin = 2.330\n",
    "\t\t\t\txmax = 3.000\n",
    "\t\t\t\ttext = \"and\"\n",
    "\t\t\tintervals [9]:\n",
    "\t\t\t\txmin = 3.000\n",
    "\t\t\t\txmax = 3.310\n",
    "\t\t\t\ttext = \"\"\n",
    "\t\t\tintervals [10]:\n",
    "\t\t\t\txmin = 3.310\n",
    "\t\t\t\txmax = 3.750\n",
    "\t\t\t\ttext = \"lonely\"\n",
    "\t\t\tintervals [11]:\n",
    "\t\t\t\txmin = 3.750\n",
    "\t\t\t\txmax = 4.024125\n",
    "\t\t\t\ttext = \"\"\n",
    "\titem [2]:\n",
    "\t\tclass = \"IntervalTier\"\n",
    "\t\tname = \"phones\"\n",
    "\t\txmin = 0.0\n",
    "\t\txmax = 4.024125\n",
    "\t\tintervals: size = 30\n",
    "\t\t\tintervals [1]:\n",
    "\t\t\t\txmin = 0.000\n",
    "\t\t\t\txmax = 0.160\n",
    "\t\t\t\ttext = \"IH0\"\n",
    "\t\t\tintervals [2]:\n",
    "\t\t\t\txmin = 0.160\n",
    "\t\t\t\txmax = 0.260\n",
    "\t\t\t\ttext = \"T\"\n",
    "\t\t\tintervals [3]:\n",
    "\t\t\t\txmin = 0.260\n",
    "\t\t\t\txmax = 0.320\n",
    "\t\t\t\ttext = \"S\"\n",
    "\t\t\tintervals [4]:\n",
    "\t\t\t\txmin = 0.320\n",
    "\t\t\t\txmax = 0.380\n",
    "\t\t\t\ttext = \"S\"\n",
    "\t\t\tintervals [5]:\n",
    "\t\t\t\txmin = 0.380\n",
    "\t\t\t\txmax = 0.620\n",
    "\t\t\t\ttext = \"OW1\"\n",
    "\t\t\tintervals [6]:\n",
    "\t\t\t\txmin = 0.620\n",
    "\t\t\t\txmax = 0.650\n",
    "\t\t\t\ttext = \"sp\"\n",
    "\t\t\tintervals [7]:\n",
    "\t\t\t\txmin = 0.650\n",
    "\t\t\t\txmax = 0.770\n",
    "\t\t\t\ttext = \"EH1\"\n",
    "\t\t\tintervals [8]:\n",
    "\t\t\t\txmin = 0.770\n",
    "\t\t\t\txmax = 0.950\n",
    "\t\t\t\ttext = \"M\"\n",
    "\t\t\tintervals [9]:\n",
    "\t\t\t\txmin = 0.950\n",
    "\t\t\t\txmax = 1.000\n",
    "\t\t\t\ttext = \"T\"\n",
    "\t\t\tintervals [10]:\n",
    "\t\t\t\txmin = 1.000\n",
    "\t\t\t\txmax = 1.030\n",
    "\t\t\t\ttext = \"IY0\"\n",
    "\t\t\tintervals [11]:\n",
    "\t\t\t\txmin = 1.030\n",
    "\t\t\t\txmax = 1.060\n",
    "\t\t\t\ttext = \"AH0\"\n",
    "\t\t\tintervals [12]:\n",
    "\t\t\t\txmin = 1.060\n",
    "\t\t\t\txmax = 1.550\n",
    "\t\t\t\ttext = \"N\"\n",
    "\t\t\tintervals [13]:\n",
    "\t\t\t\txmin = 1.550\n",
    "\t\t\t\txmax = 1.950\n",
    "\t\t\t\ttext = \"D\"\n",
    "\t\t\tintervals [14]:\n",
    "\t\t\t\txmin = 1.950\n",
    "\t\t\t\txmax = 1.980\n",
    "\t\t\t\ttext = \"sp\"\n",
    "\t\t\tintervals [15]:\n",
    "\t\t\t\txmin = 1.980\n",
    "\t\t\t\txmax = 2.020\n",
    "\t\t\t\ttext = \"K\"\n",
    "\t\t\tintervals [16]:\n",
    "\t\t\t\txmin = 2.020\n",
    "\t\t\t\txmax = 2.070\n",
    "\t\t\t\ttext = \"W\"\n",
    "\t\t\tintervals [17]:\n",
    "\t\t\t\txmin = 2.070\n",
    "\t\t\t\txmax = 2.220\n",
    "\t\t\t\ttext = \"AY1\"\n",
    "\t\t\tintervals [18]:\n",
    "\t\t\t\txmin = 2.220\n",
    "\t\t\t\txmax = 2.300\n",
    "\t\t\t\ttext = \"AH0\"\n",
    "\t\t\tintervals [19]:\n",
    "\t\t\t\txmin = 2.300\n",
    "\t\t\t\txmax = 2.330\n",
    "\t\t\t\ttext = \"T\"\n",
    "\t\t\tintervals [20]:\n",
    "\t\t\t\txmin = 2.330\n",
    "\t\t\t\txmax = 2.360\n",
    "\t\t\t\ttext = \"AH0\"\n",
    "\t\t\tintervals [21]:\n",
    "\t\t\t\txmin = 2.360\n",
    "\t\t\t\txmax = 2.390\n",
    "\t\t\t\ttext = \"N\"\n",
    "\t\t\tintervals [22]:\n",
    "\t\t\t\txmin = 2.390\n",
    "\t\t\t\txmax = 3.000\n",
    "\t\t\t\ttext = \"D\"\n",
    "\t\t\tintervals [23]:\n",
    "\t\t\t\txmin = 3.000\n",
    "\t\t\t\txmax = 3.310\n",
    "\t\t\t\ttext = \"sp\"\n",
    "\t\t\tintervals [24]:\n",
    "\t\t\t\txmin = 3.310\n",
    "\t\t\t\txmax = 3.360\n",
    "\t\t\t\ttext = \"L\"\n",
    "\t\t\tintervals [25]:\n",
    "\t\t\t\txmin = 3.360\n",
    "\t\t\t\txmax = 3.460\n",
    "\t\t\t\ttext = \"OW1\"\n",
    "\t\t\tintervals [26]:\n",
    "\t\t\t\txmin = 3.460\n",
    "\t\t\t\txmax = 3.560\n",
    "\t\t\t\ttext = \"N\"\n",
    "\t\t\tintervals [27]:\n",
    "\t\t\t\txmin = 3.560\n",
    "\t\t\t\txmax = 3.630\n",
    "\t\t\t\ttext = \"L\"\n",
    "\t\t\tintervals [28]:\n",
    "\t\t\t\txmin = 3.630\n",
    "\t\t\t\txmax = 3.750\n",
    "\t\t\t\ttext = \"IY0\"\n",
    "\t\t\tintervals [29]:\n",
    "\t\t\t\txmin = 3.750\n",
    "\t\t\t\txmax = 4.000\n",
    "\t\t\t\ttext = \"sp\"\n",
    "\t\t\tintervals [30]:\n",
    "\t\t\t\txmin = 4.000\n",
    "\t\t\t\txmax = 4.024125\n",
    "\t\t\t\ttext = \"\"\n",
    "\"\"\""
   ]
  },
  {
   "cell_type": "code",
   "execution_count": 184,
   "metadata": {},
   "outputs": [
    {
     "name": "stdout",
     "output_type": "stream",
     "text": [
      "IH0-T-S-S-OW1-sp-EH1-M-T-IY0-AH0-N-D-sp-K-W-AY1-AH0-T-AH0-N-D-sp-L-OW1-N-L-IY0-sp-\n",
      "it's-so--empty-and--quiet-and--lonely-\n",
      "It's so empty, and quiet, and lonely.\n",
      "[(\"it's\", ['IH0', 'T', 'S']), ('so', ['S', 'OW1']), ('', ['sp']), ('empty', ['EH1', 'M', 'T', 'IY0']), ('and', ['AH0', 'N', 'D']), ('', ['sp']), ('quiet', ['K', 'W', 'AY1', 'AH0', 'T']), ('and', ['AH0', 'N', 'D']), ('', ['sp']), ('lonely', ['L', 'OW1', 'N', 'L', 'IY0']), ('', ['sp', ''])]\n",
      " [Original Text] \n",
      "It's so empty, and quiet, and lonely.\n",
      " [ARPAbet Text] \n",
      "{IH0 T S} {S OW1} {EH1 M T IY0}, {AH0 N D} {K W AY1 AH0 T}, {AH0 N D} {L OW1 N L IY0}.\n"
     ]
    }
   ],
   "source": [
    "def get(text, word_phones, punc=\"!?,.;:␤#-_'\\\"()[]\\n\"):\n",
    "    \"\"\"Convert block of text into ARPAbet.\"\"\"\n",
    "    word_phones = [x for x in word_phones if len(x[0])]\n",
    "    out = []\n",
    "    for word in text.split(\" \"):\n",
    "        end_chars = ''; start_chars = ''\n",
    "        while any(elem in word for elem in punc) and len(word) > 1:\n",
    "            if word[-1] in punc:\n",
    "                end_chars = word[-1] + end_chars\n",
    "                word = word[:-1]\n",
    "            elif word[0] in punc:\n",
    "                start_chars = start_chars + word[0]\n",
    "                word = word[1:]\n",
    "            else:\n",
    "                break\n",
    "        try:\n",
    "            word = \"{\" + ' '.join(word_phones[0][1]) + \"}\"\n",
    "            word_phones = word_phones[1:]\n",
    "        except KeyError:\n",
    "            pass\n",
    "        out.append((start_chars + (word or '') + end_chars).rstrip())\n",
    "    return ' '.join(out)\n",
    "\n",
    "\n",
    "def get_arpa(quote, words, phonemes):\n",
    "    #words = [x['text'] for x in words] # remove timing info\n",
    "    #phonemes = [x['text'] for x in phonemes] # remove timing info\n",
    "    \n",
    "    # IH0-T-S-S-OW1-sp-EH1-M-T-IY0-AH0-N-D-sp-K-W-AY1-AH0-T-AH0-N-D-sp-L-OW1-N-L-IY0-sp-\n",
    "    # it's-so--empty-and--quiet-and--lonely-\n",
    "    # It's so empty, and quiet, and lonely.\n",
    "    \n",
    "    # matchup words and phonemes using the timing info\n",
    "    words_tmp = words\n",
    "    phonemes_tmp = phonemes\n",
    "    word_phones = []\n",
    "    word_phones.append([])\n",
    "    loops=0\n",
    "    while len(words_tmp) and len(phonemes_tmp):\n",
    "        wstart = words_tmp[0]['start']\n",
    "        wend = words_tmp[0]['end']\n",
    "        wtext = words_tmp[0]['text']\n",
    "        if phonemes_tmp[0]['start'] >= wstart and phonemes_tmp[0]['end'] <= wend:\n",
    "            word_phones[-1].append(phonemes_tmp[0]['text'])\n",
    "            phonemes_tmp = phonemes_tmp[1:]\n",
    "        elif phonemes_tmp[0]['end'] > wend:\n",
    "            word_phones.append([])\n",
    "            words_tmp = words_tmp[1:]\n",
    "        loops+=1\n",
    "        if loops > 50:\n",
    "            break\n",
    "    \n",
    "    # replace words in quote with aligned phonemes.\n",
    "    word_phones = list(zip([x['text'] for x in words], word_phones))\n",
    "    print(word_phones)\n",
    "    arpa_quote = get(quote, word_phones)\n",
    "    print(' [Original Text] ')\n",
    "    print(quote)\n",
    "    print(' [ARPAbet Text] ')\n",
    "    print(arpa_quote)\n",
    "    return arpa_quote\n",
    "\n",
    "def load_TextGrid(text, quote=None):\n",
    "    assert text.startswith('File type = \"ooTextFile\"\\nObject class = \"TextGrid\"\\n'), 'Unsupported TextGrid filetype'\n",
    "    text = text.split(\"\\n\")\n",
    "    _dict = {}\n",
    "    clip_start = float(text[3].split(\"=\")[-1])\n",
    "    clip_end = float(text[4].split(\"=\")[-1])\n",
    "    words_start = float(text[11].split(\"=\")[-1])\n",
    "    words_end = float(text[12].split(\"=\")[-1])\n",
    "    \n",
    "    # text relating to word information\n",
    "    end_word_list = 14+(int(text[13].split(\"=\")[-1])*4)\n",
    "    word_list = text[14:end_word_list]\n",
    "    words = []\n",
    "    for i, line in enumerate(word_list):\n",
    "        if i%4==0: # xmin\n",
    "            word = {}\n",
    "        elif i%4==1: # xmin\n",
    "            word['start'] = float(line.split(\"=\")[-1])\n",
    "        elif i%4==2: # xmax\n",
    "            word['end'] = float(line.split(\"=\")[-1])\n",
    "        elif i%4==3: # text\n",
    "            word['text'] = line.split(\"=\")[-1].strip().strip('\"')\n",
    "            words.append(word)\n",
    "    \n",
    "    # text relating to phoneme information\n",
    "    phone_list = text[end_word_list:]\n",
    "    phone_start = float(phone_list[3].split(\"=\")[-1])\n",
    "    phone_end = float(phone_list[4].split(\"=\")[-1])\n",
    "    end_phone_list = end_word_list+(int(phone_list[5].split(\"=\")[-1])*4)\n",
    "    phones = []\n",
    "    for i, line in enumerate(phone_list[6:6+end_phone_list]):\n",
    "        if i%4==0: # xmin\n",
    "            phone = {}\n",
    "        elif i%4==1: # xmin\n",
    "            phone['start'] = float(line.split(\"=\")[-1])\n",
    "        elif i%4==2: # xmax\n",
    "            phone['end'] = float(line.split(\"=\")[-1])\n",
    "        elif i%4==3: # text\n",
    "            phone['text'] = line.split(\"=\")[-1].strip().strip('\"')\n",
    "            phones.append(phone)\n",
    "    \n",
    "    if quote is not None:\n",
    "        # use phonemes to create ARPAbet transcript.\n",
    "        print('-'.join([x['text'] for x in phones]))\n",
    "        print('-'.join([x['text'] for x in words]))\n",
    "        print(quote)\n",
    "        _dict['arpabet_quote'] = get_arpa(quote, words, phones)\n",
    "        \n",
    "    \n",
    "    # collect together\n",
    "    _dict['clip_start'] = clip_start\n",
    "    _dict['clip_end'] = clip_end\n",
    "    _dict['words_start'] = words_start\n",
    "    _dict['words_end'] = words_end\n",
    "    _dict['phone_start'] = words_start\n",
    "    _dict['phone_end'] = words_end\n",
    "    _dict['words'] = words\n",
    "    _dict['phones'] = phones\n",
    "    return _dict\n",
    "\n",
    "\n",
    "quote = \"\"\"It's so empty, and quiet, and lonely.\"\"\"\n",
    "_dict = load_TextGrid(text, quote=quote)\n",
    "#print(_dict)"
   ]
  },
  {
   "cell_type": "code",
   "execution_count": 102,
   "metadata": {},
   "outputs": [
    {
     "name": "stdout",
     "output_type": "stream",
     "text": [
      "[[[0, 1], ['a', 'b']]]\n",
      "0 1 a b\n"
     ]
    }
   ],
   "source": [
    "x = [[[0,1],['a','b']],]\n",
    "print(x)\n",
    "for (a,b),(c,d) in x:\n",
    "    print(a,b,c,d)"
   ]
  },
  {
   "cell_type": "code",
   "execution_count": 199,
   "metadata": {},
   "outputs": [
    {
     "data": {
      "text/plain": [
       "2.0"
      ]
     },
     "execution_count": 199,
     "metadata": {},
     "output_type": "execute_result"
    }
   ],
   "source": [
    "THREADS = 2.1\n",
    "-((-THREADS)//2)"
   ]
  },
  {
   "cell_type": "code",
   "execution_count": 16,
   "metadata": {},
   "outputs": [
    {
     "name": "stdout",
     "output_type": "stream",
     "text": [
      "Changed Directory. Searching for Files.\n",
      "157713/157714: E:\\downloads\\Clipper_MLP\\Sliced Dialogue\\EQG\\EQG Friendship Games\\00_24_55_Rainbow_Neutral_Noisy_You really didn't have to do that.txt                                                                                                                                                                                                                                 \r"
     ]
    }
   ],
   "source": [
    "# updating Dataset from local copy, since it'll take multiple days to download otherwise!\n",
    "\n",
    "from glob import glob\n",
    "import shutil\n",
    "import os\n",
    "os.chdir('H:\\ClipperDatasetV2\\SlicedDialogue')\n",
    "out_dir = r'E:\\downloads\\Clipper_MLP\\Sliced Dialogue'\n",
    "print('Changed Directory. Searching for Files...')\n",
    "files = [*glob('**/*.flac', recursive=True), *glob('**/*.txt', recursive=True)]\n",
    "len_files = len(files)\n",
    "for i, file in enumerate(files):\n",
    "    outpath = os.path.join(out_dir, file)\n",
    "    try:\n",
    "        if not os.path.exists(os.path.dirname(outpath)):\n",
    "            os.makedirs(os.path.dirname(outpath))\n",
    "        if not os.path.exists(outpath):\n",
    "            shutil.copyfile(file, outpath)\n",
    "            print(f'{i:>6}/{len_files:<6}: {outpath}{\" \"*100}', end='\\r')\n",
    "        else:\n",
    "            print(f'{i:>6}/{len_files:<6}: {\"Skipped\"}{\" \"*100}', end='\\r')\n",
    "    except:\n",
    "        pass\n",
    "del files, len_files\n",
    "\n",
    "os.chdir(out_dir)\n",
    "files = glob('**/*.wav', recursive=True)\n",
    "len_files = len(files)\n",
    "for i, file in enumerate(files):\n",
    "    print(f'{i:>6}/{len_files:<6}: {file}{\" \"*100}', end='\\r')\n",
    "    os.unlink(file)"
   ]
  },
  {
   "cell_type": "code",
   "execution_count": 4,
   "metadata": {},
   "outputs": [
    {
     "name": "stdout",
     "output_type": "stream",
     "text": [
      "134863/134864: Special source\\s9e26\\00_18_31_Twilight_Neutral__That's all right, because I know exactly where to send you.flac                                                                                                                                                                                                                                                                                                                     \r"
     ]
    }
   ],
   "source": [
    "os.chdir(out_dir)\n",
    "files = glob('**/*.flac', recursive=True)\n",
    "len_files = len(files)\n",
    "for i, file in enumerate(files):\n",
    "    if os.path.exists(os.path.splitext(file)[0]+'..flac'):\n",
    "        os.unlink(file)\n",
    "    print(f'{i:>6}/{len_files:<6}: {file}{\" \"*100}', end='\\r')"
   ]
  },
  {
   "cell_type": "code",
   "execution_count": 12,
   "metadata": {},
   "outputs": [
    {
     "name": "stdout",
     "output_type": "stream",
     "text": [
      "tensor(0.2485)\n"
     ]
    }
   ],
   "source": [
    "import torch\n",
    "x = torch.rand(5,5)\n",
    "print(x.mean()/2)"
   ]
  },
  {
   "cell_type": "code",
   "execution_count": 13,
   "metadata": {},
   "outputs": [
    {
     "name": "stdout",
     "output_type": "stream",
     "text": [
      "tensor(0.2485)\n"
     ]
    }
   ],
   "source": [
    "print((x/2).mean())"
   ]
  },
  {
   "cell_type": "code",
   "execution_count": 201,
   "metadata": {},
   "outputs": [
    {
     "name": "stdout",
     "output_type": "stream",
     "text": [
      "1000.0\n",
      "500.0\n",
      "250.0\n",
      "200.0\n",
      "125.0\n",
      "100.0\n",
      "50.0\n",
      "40.0\n",
      "25.0\n",
      "20.0\n",
      "10.0\n",
      "8.0\n",
      "5.0\n",
      "4.0\n",
      "2.0\n"
     ]
    },
    {
     "data": {
      "text/plain": [
       "[None,\n",
       " None,\n",
       " None,\n",
       " None,\n",
       " None,\n",
       " None,\n",
       " None,\n",
       " None,\n",
       " None,\n",
       " None,\n",
       " None,\n",
       " None,\n",
       " None,\n",
       " None,\n",
       " None]"
      ]
     },
     "execution_count": 201,
     "metadata": {},
     "output_type": "execute_result"
    }
   ],
   "source": [
    "[print(1000/x) for x in range(1,1000) if 1000/x == 1000//x]"
   ]
  },
  {
   "cell_type": "code",
   "execution_count": null,
   "metadata": {},
   "outputs": [],
   "source": []
  },
  {
   "cell_type": "code",
   "execution_count": 195,
   "metadata": {},
   "outputs": [
    {
     "name": "stdout",
     "output_type": "stream",
     "text": [
      "G:\\TwiBot\\CookiePPPTTS\\CookieTTS\\_1_preprocess\\datasets\\Blaze the Cat\\Blaze 2\\00_00_00_Blaze_Angry__By the flame.wav\n",
      "G:\\TwiBot\\CookiePPPTTS\\CookieTTS\\_1_preprocess\\datasets\\Blaze the Cat\\Blaze 2\\00_00_00_Blaze_Angry__Darn! Why can't I get into the station. Silver, is there a way to do this without being noticed.wav\n",
      "G:\\TwiBot\\CookiePPPTTS\\CookieTTS\\_1_preprocess\\datasets\\Blaze the Cat\\Blaze 2\\00_00_00_Blaze_Angry__Haa.wav\n",
      "G:\\TwiBot\\CookiePPPTTS\\CookieTTS\\_1_preprocess\\datasets\\Blaze the Cat\\Blaze 2\\00_00_00_Blaze_Angry__Here as well. That miasma is warping the landscape.wav\n",
      "G:\\TwiBot\\CookiePPPTTS\\CookieTTS\\_1_preprocess\\datasets\\Blaze the Cat\\Blaze 2\\00_00_00_Blaze_Angry__Hey! Are you trying to crash on purpose.wav\n",
      "G:\\TwiBot\\CookiePPPTTS\\CookieTTS\\_1_preprocess\\datasets\\Blaze the Cat\\Blaze 2\\00_00_00_Blaze_Angry__I must strike down that venomous beast before it gets near me.wav\n",
      "G:\\TwiBot\\CookiePPPTTS\\CookieTTS\\_1_preprocess\\datasets\\Blaze the Cat\\Blaze 2\\00_00_00_Blaze_Angry__I thought it fled. Well, I shall give the fiend a good fight, if it so wishes.wav\n",
      "G:\\TwiBot\\CookiePPPTTS\\CookieTTS\\_1_preprocess\\datasets\\Blaze the Cat\\Blaze 2\\00_00_00_Blaze_Angry__I will not be defeated.wav\n",
      "G:\\TwiBot\\CookiePPPTTS\\CookieTTS\\_1_preprocess\\datasets\\Blaze the Cat\\Blaze 2\\00_00_00_Blaze_Angry__I'll slay any that attempt to leap upon me.wav\n",
      "G:\\TwiBot\\CookiePPPTTS\\CookieTTS\\_1_preprocess\\datasets\\Blaze the Cat\\Blaze 2\\00_00_00_Blaze_Angry__I'm not going to go easy on you.wav\n",
      "G:\\TwiBot\\CookiePPPTTS\\CookieTTS\\_1_preprocess\\datasets\\Blaze the Cat\\Blaze 2\\00_00_00_Blaze_Angry__Is that all you've got.wav\n",
      "G:\\TwiBot\\CookiePPPTTS\\CookieTTS\\_1_preprocess\\datasets\\Blaze the Cat\\Blaze 2\\00_00_00_Blaze_Angry__It's not over yet. Don't let your guard down, Silver.wav\n",
      "G:\\TwiBot\\CookiePPPTTS\\CookieTTS\\_1_preprocess\\datasets\\Blaze the Cat\\Blaze 2\\00_00_00_Blaze_Angry__Leave this to me.wav\n",
      "G:\\TwiBot\\CookiePPPTTS\\CookieTTS\\_1_preprocess\\datasets\\Blaze the Cat\\Blaze 2\\00_00_00_Blaze_Angry__Let us end it right here and now.wav\n",
      "G:\\TwiBot\\CookiePPPTTS\\CookieTTS\\_1_preprocess\\datasets\\Blaze the Cat\\Blaze 2\\00_00_00_Blaze_Angry__Nyah.wav\n",
      "G:\\TwiBot\\CookiePPPTTS\\CookieTTS\\_1_preprocess\\datasets\\Blaze the Cat\\Blaze 2\\00_00_00_Blaze_Angry__Oah.wav\n",
      "G:\\TwiBot\\CookiePPPTTS\\CookieTTS\\_1_preprocess\\datasets\\Blaze the Cat\\Blaze 2\\00_00_00_Blaze_Angry__Resistance is futile. Your sword cannot strike me.wav\n",
      "G:\\TwiBot\\CookiePPPTTS\\CookieTTS\\_1_preprocess\\datasets\\Blaze the Cat\\Blaze 2\\00_00_00_Blaze_Angry__Step aside.wav\n",
      "G:\\TwiBot\\CookiePPPTTS\\CookieTTS\\_1_preprocess\\datasets\\Blaze the Cat\\Blaze 2\\00_00_00_Blaze_Annoyed__Attacks are useless while the barriers are in place. The only chance to attack is while the defenses are lowered.wav\n",
      "G:\\TwiBot\\CookiePPPTTS\\CookieTTS\\_1_preprocess\\datasets\\Blaze the Cat\\Blaze 2\\00_00_00_Blaze_Annoyed__Have you made preparations.wav\n",
      "G:\\TwiBot\\CookiePPPTTS\\CookieTTS\\_1_preprocess\\datasets\\Blaze the Cat\\Blaze 2\\00_00_00_Blaze_Annoyed__Here, of all places.wav\n",
      "G:\\TwiBot\\CookiePPPTTS\\CookieTTS\\_1_preprocess\\datasets\\Blaze the Cat\\Blaze 2\\00_00_00_Blaze_Annoyed__Hmm.wav\n",
      "G:\\TwiBot\\CookiePPPTTS\\CookieTTS\\_1_preprocess\\datasets\\Blaze the Cat\\Blaze 2\\00_00_00_Blaze_Annoyed__How about exterminating these things now.wav\n",
      "G:\\TwiBot\\CookiePPPTTS\\CookieTTS\\_1_preprocess\\datasets\\Blaze the Cat\\Blaze 2\\00_00_00_Blaze_Annoyed__I do not wish to engage the dragon in a futile battle. Let us finish here quickly.wav\n",
      "G:\\TwiBot\\CookiePPPTTS\\CookieTTS\\_1_preprocess\\datasets\\Blaze the Cat\\Blaze 2\\00_00_00_Blaze_Annoyed__I think I'm rested now. Shouldn't we get going.wav\n",
      "G:\\TwiBot\\CookiePPPTTS\\CookieTTS\\_1_preprocess\\datasets\\Blaze the Cat\\Blaze 2\\00_00_00_Blaze_Annoyed__I've no intention of taking any damage.wav\n",
      "G:\\TwiBot\\CookiePPPTTS\\CookieTTS\\_1_preprocess\\datasets\\Blaze the Cat\\Blaze 2\\00_00_00_Blaze_Annoyed__Is that all you can muster. And you call yourself a knight.wav\n",
      "G:\\TwiBot\\CookiePPPTTS\\CookieTTS\\_1_preprocess\\datasets\\Blaze the Cat\\Blaze 2\\00_00_00_Blaze_Annoyed__It will take a lot more than that to startle me.wav\n",
      "G:\\TwiBot\\CookiePPPTTS\\CookieTTS\\_1_preprocess\\datasets\\Blaze the Cat\\Blaze 2\\00_00_00_Blaze_Annoyed__Make sure ya don't fall.wav\n",
      "G:\\TwiBot\\CookiePPPTTS\\CookieTTS\\_1_preprocess\\datasets\\Blaze the Cat\\Blaze 2\\00_00_00_Blaze_Annoyed__Rrghh.wav\n",
      "G:\\TwiBot\\CookiePPPTTS\\CookieTTS\\_1_preprocess\\datasets\\Blaze the Cat\\Blaze 2\\00_00_00_Blaze_Annoyed__Sheer folly.wav\n",
      "G:\\TwiBot\\CookiePPPTTS\\CookieTTS\\_1_preprocess\\datasets\\Blaze the Cat\\Blaze 2\\00_00_00_Blaze_Annoyed__Such an ugly weapon. I'm afraid I must dispatch you.wav\n",
      "G:\\TwiBot\\CookiePPPTTS\\CookieTTS\\_1_preprocess\\datasets\\Blaze the Cat\\Blaze 2\\00_00_00_Blaze_Annoyed__Thanks for the help.wav\n",
      "G:\\TwiBot\\CookiePPPTTS\\CookieTTS\\_1_preprocess\\datasets\\Blaze the Cat\\Blaze 2\\00_00_00_Blaze_Annoyed__The time for practice is over.wav\n",
      "G:\\TwiBot\\CookiePPPTTS\\CookieTTS\\_1_preprocess\\datasets\\Blaze the Cat\\Blaze 2\\00_00_00_Blaze_Annoyed__This is a chore.wav\n",
      "G:\\TwiBot\\CookiePPPTTS\\CookieTTS\\_1_preprocess\\datasets\\Blaze the Cat\\Blaze 2\\00_00_00_Blaze_Annoyed__What a nuisance of a creature. Perhaps it is best avoided.wav\n",
      "G:\\TwiBot\\CookiePPPTTS\\CookieTTS\\_1_preprocess\\datasets\\Blaze the Cat\\Blaze 2\\00_00_00_Blaze_Annoyed__You can't attack enemies you can't see. Counterattack the moment they show themselves.wav\n",
      "G:\\TwiBot\\CookiePPPTTS\\CookieTTS\\_1_preprocess\\datasets\\Blaze the Cat\\Blaze 2\\00_00_00_Blaze_Annoyed__You need to defeat all the enemies.wav\n",
      "G:\\TwiBot\\CookiePPPTTS\\CookieTTS\\_1_preprocess\\datasets\\Blaze the Cat\\Blaze 2\\00_00_00_Blaze_Anxious__A fire blitz comes.wav\n",
      "G:\\TwiBot\\CookiePPPTTS\\CookieTTS\\_1_preprocess\\datasets\\Blaze the Cat\\Blaze 2\\00_00_00_Blaze_Anxious__A special attack from the air. It must be stopped, before it can do that again.wav\n",
      "G:\\TwiBot\\CookiePPPTTS\\CookieTTS\\_1_preprocess\\datasets\\Blaze the Cat\\Blaze 2\\00_00_00_Blaze_Anxious__A strike by ice blitz will freeze me, and the next hit might spell my doom.wav\n",
      "G:\\TwiBot\\CookiePPPTTS\\CookieTTS\\_1_preprocess\\datasets\\Blaze the Cat\\Blaze 2\\00_00_00_Blaze_Anxious__A strike by venom blitz will cause a continual loss of rings.wav\n",
      "G:\\TwiBot\\CookiePPPTTS\\CookieTTS\\_1_preprocess\\datasets\\Blaze the Cat\\Blaze 2\\00_00_00_Blaze_Anxious__Action is required, before it is too late.wav\n",
      "G:\\TwiBot\\CookiePPPTTS\\CookieTTS\\_1_preprocess\\datasets\\Blaze the Cat\\Blaze 2\\00_00_00_Blaze_Anxious__Here comes a thunder blitz.wav\n",
      "G:\\TwiBot\\CookiePPPTTS\\CookieTTS\\_1_preprocess\\datasets\\Blaze the Cat\\Blaze 2\\00_00_00_Blaze_Anxious__Hmm. Sercurity's tight. You don't want to be discovered. Be careful.wav\n",
      "G:\\TwiBot\\CookiePPPTTS\\CookieTTS\\_1_preprocess\\datasets\\Blaze the Cat\\Blaze 2\\00_00_00_Blaze_Anxious__I can rescue the people while I reach the barrier stone.wav\n",
      "G:\\TwiBot\\CookiePPPTTS\\CookieTTS\\_1_preprocess\\datasets\\Blaze the Cat\\Blaze 2\\00_00_00_Blaze_Anxious__I sense danger.wav\n",
      "G:\\TwiBot\\CookiePPPTTS\\CookieTTS\\_1_preprocess\\datasets\\Blaze the Cat\\Blaze 2\\00_00_00_Blaze_Anxious__I thought I just saw something.wav\n",
      "G:\\TwiBot\\CookiePPPTTS\\CookieTTS\\_1_preprocess\\datasets\\Blaze the Cat\\Blaze 2\\00_00_00_Blaze_Anxious__Is that an arrow headed this way.wav\n",
      "G:\\TwiBot\\CookiePPPTTS\\CookieTTS\\_1_preprocess\\datasets\\Blaze the Cat\\Blaze 2\\00_00_00_Blaze_Anxious__It is bound to fall sooner or later.wav\n",
      "G:\\TwiBot\\CookiePPPTTS\\CookieTTS\\_1_preprocess\\datasets\\Blaze the Cat\\Blaze 2\\00_00_00_Blaze_Anxious__It looks like he's getting closer to his final form.wav\n",
      "G:\\TwiBot\\CookiePPPTTS\\CookieTTS\\_1_preprocess\\datasets\\Blaze the Cat\\Blaze 2\\00_00_00_Blaze_Anxious__Let's slow it down a notch.wav\n",
      "G:\\TwiBot\\CookiePPPTTS\\CookieTTS\\_1_preprocess\\datasets\\Blaze the Cat\\Blaze 2\\00_00_00_Blaze_Anxious__Ngh! There's too many enemies.wav\n",
      "G:\\TwiBot\\CookiePPPTTS\\CookieTTS\\_1_preprocess\\datasets\\Blaze the Cat\\Blaze 2\\00_00_00_Blaze_Anxious__Panic blitz! Any contact with that, and the battle will go against me.wav\n",
      "G:\\TwiBot\\CookiePPPTTS\\CookieTTS\\_1_preprocess\\datasets\\Blaze the Cat\\Blaze 2\\00_00_00_Blaze_Anxious__Press the Y button to wrap me in flames.wav\n",
      "G:\\TwiBot\\CookiePPPTTS\\CookieTTS\\_1_preprocess\\datasets\\Blaze the Cat\\Blaze 2\\00_00_00_Blaze_Anxious__Silver, use my power.wav\n",
      "G:\\TwiBot\\CookiePPPTTS\\CookieTTS\\_1_preprocess\\datasets\\Blaze the Cat\\Blaze 2\\00_00_00_Blaze_Anxious__Stone blitz. Its petrification effect is fatal.wav\n",
      "G:\\TwiBot\\CookiePPPTTS\\CookieTTS\\_1_preprocess\\datasets\\Blaze the Cat\\Blaze 2\\00_00_00_Blaze_Anxious__The hatches on the wings open to let robots out. That's your chance to attack.wav\n",
      "G:\\TwiBot\\CookiePPPTTS\\CookieTTS\\_1_preprocess\\datasets\\Blaze the Cat\\Blaze 2\\00_00_00_Blaze_Anxious__These butterflies. This is not good, I'd better fend them off.wav\n",
      "G:\\TwiBot\\CookiePPPTTS\\CookieTTS\\_1_preprocess\\datasets\\Blaze the Cat\\Blaze 2\\00_00_00_Blaze_Anxious__Use the debris from the thrown buildings to attack him.wav\n",
      "G:\\TwiBot\\CookiePPPTTS\\CookieTTS\\_1_preprocess\\datasets\\Blaze the Cat\\Blaze 2\\00_00_00_Blaze_Confused__Do you want to investigate more around here.wav\n",
      "G:\\TwiBot\\CookiePPPTTS\\CookieTTS\\_1_preprocess\\datasets\\Blaze the Cat\\Blaze 2\\00_00_00_Blaze_Confused__Hmm.wav\n",
      "G:\\TwiBot\\CookiePPPTTS\\CookieTTS\\_1_preprocess\\datasets\\Blaze the Cat\\Blaze 2\\00_00_00_Blaze_Confused__Someone thought they could hide this from me.wav\n",
      "G:\\TwiBot\\CookiePPPTTS\\CookieTTS\\_1_preprocess\\datasets\\Blaze the Cat\\Blaze 2\\00_00_00_Blaze_Confused__There's a switch somewhere.wav\n",
      "G:\\TwiBot\\CookiePPPTTS\\CookieTTS\\_1_preprocess\\datasets\\Blaze the Cat\\Blaze 2\\00_00_00_Blaze_Confused__What.wav\n",
      "G:\\TwiBot\\CookiePPPTTS\\CookieTTS\\_1_preprocess\\datasets\\Blaze the Cat\\Blaze 2\\00_00_00_Blaze_Confusesd__I didn't expect to find this here.wav\n",
      "G:\\TwiBot\\CookiePPPTTS\\CookieTTS\\_1_preprocess\\datasets\\Blaze the Cat\\Blaze 2\\00_00_00_Blaze_Confusesd__I heard it was somewhere around here.wav\n",
      "G:\\TwiBot\\CookiePPPTTS\\CookieTTS\\_1_preprocess\\datasets\\Blaze the Cat\\Blaze 2\\00_00_00_Blaze_Confusesd__The people are held by trolls. It is worse than I feared.wav\n",
      "G:\\TwiBot\\CookiePPPTTS\\CookieTTS\\_1_preprocess\\datasets\\Blaze the Cat\\Blaze 2\\00_00_00_Blaze_Confusesd__There must be a way to avoid being pushed back by that water.wav\n",
      "G:\\TwiBot\\CookiePPPTTS\\CookieTTS\\_1_preprocess\\datasets\\Blaze the Cat\\Blaze 2\\00_00_00_Blaze_Confusesd__This giant tower, it looks like some sort of massive prison.wav\n",
      "G:\\TwiBot\\CookiePPPTTS\\CookieTTS\\_1_preprocess\\datasets\\Blaze the Cat\\Blaze 2\\00_00_00_Blaze_Crazy__Being this strong should be a crime.wav\n",
      "G:\\TwiBot\\CookiePPPTTS\\CookieTTS\\_1_preprocess\\datasets\\Blaze the Cat\\Blaze 2\\00_00_00_Blaze_Crazy__Catch me if you can.wav\n",
      "G:\\TwiBot\\CookiePPPTTS\\CookieTTS\\_1_preprocess\\datasets\\Blaze the Cat\\Blaze 2\\00_00_00_Blaze_Crazy__Haaa.wav\n",
      "G:\\TwiBot\\CookiePPPTTS\\CookieTTS\\_1_preprocess\\datasets\\Blaze the Cat\\Blaze 2\\00_00_00_Blaze_Crazy__I am starting to relish this battle even more.wav\n",
      "G:\\TwiBot\\CookiePPPTTS\\CookieTTS\\_1_preprocess\\datasets\\Blaze the Cat\\Blaze 2\\00_00_00_Blaze_Crazy__I'll finish in a flash.wav\n",
      "G:\\TwiBot\\CookiePPPTTS\\CookieTTS\\_1_preprocess\\datasets\\Blaze the Cat\\Blaze 2\\00_00_00_Blaze_Crazy__My flame can penetrate anything.wav\n",
      "G:\\TwiBot\\CookiePPPTTS\\CookieTTS\\_1_preprocess\\datasets\\Blaze the Cat\\Blaze 2\\00_00_00_Blaze_Crazy__Resistance is futile.wav\n",
      "G:\\TwiBot\\CookiePPPTTS\\CookieTTS\\_1_preprocess\\datasets\\Blaze the Cat\\Blaze 2\\00_00_00_Blaze_Crazy__That, was pathetic.wav\n",
      "G:\\TwiBot\\CookiePPPTTS\\CookieTTS\\_1_preprocess\\datasets\\Blaze the Cat\\Blaze 2\\00_00_00_Blaze_Crazy__Up we go.wav\n",
      "G:\\TwiBot\\CookiePPPTTS\\CookieTTS\\_1_preprocess\\datasets\\Blaze the Cat\\Blaze 2\\00_00_00_Blaze_Disgusted__These flames are nothing.wav\n",
      "G:\\TwiBot\\CookiePPPTTS\\CookieTTS\\_1_preprocess\\datasets\\Blaze the Cat\\Blaze 2\\00_00_00_Blaze_Disgusted__Truly an offensive sight.wav\n",
      "G:\\TwiBot\\CookiePPPTTS\\CookieTTS\\_1_preprocess\\datasets\\Blaze the Cat\\Blaze 2\\00_00_00_Blaze_Disgusted__What a nuisance.wav\n",
      "G:\\TwiBot\\CookiePPPTTS\\CookieTTS\\_1_preprocess\\datasets\\Blaze the Cat\\Blaze 2\\00_00_00_Blaze_Disgusted__What a waste of time.wav\n",
      "G:\\TwiBot\\CookiePPPTTS\\CookieTTS\\_1_preprocess\\datasets\\Blaze the Cat\\Blaze 2\\00_00_00_Blaze_Disgusted__What's that.wav\n",
      "G:\\TwiBot\\CookiePPPTTS\\CookieTTS\\_1_preprocess\\datasets\\Blaze the Cat\\Blaze 2\\00_00_00_Blaze_Fear__He's going to try to destroy the foothold from a distance this time! Here it comes, Silver.wav\n",
      "G:\\TwiBot\\CookiePPPTTS\\CookieTTS\\_1_preprocess\\datasets\\Blaze the Cat\\Blaze 2\\00_00_00_Blaze_Fear__I must hurry, before the road disappears right beneath my feet.wav\n",
      "G:\\TwiBot\\CookiePPPTTS\\CookieTTS\\_1_preprocess\\datasets\\Blaze the Cat\\Blaze 2\\00_00_00_Blaze_Fear__Ngh, he's trying to destroy this foothold! Silver! Don't let him get you too.wav\n",
      "G:\\TwiBot\\CookiePPPTTS\\CookieTTS\\_1_preprocess\\datasets\\Blaze the Cat\\Blaze 2\\00_00_00_Blaze_Fear__Silver, watch it! He's coming in.wav\n",
      "G:\\TwiBot\\CookiePPPTTS\\CookieTTS\\_1_preprocess\\datasets\\Blaze the Cat\\Blaze 2\\00_00_00_Blaze_Happy__A fine weapon.wav\n",
      "G:\\TwiBot\\CookiePPPTTS\\CookieTTS\\_1_preprocess\\datasets\\Blaze the Cat\\Blaze 2\\00_00_00_Blaze_Happy__A most worthy choice.wav\n",
      "G:\\TwiBot\\CookiePPPTTS\\CookieTTS\\_1_preprocess\\datasets\\Blaze the Cat\\Blaze 2\\00_00_00_Blaze_Happy__A rather unexpected find.wav\n",
      "G:\\TwiBot\\CookiePPPTTS\\CookieTTS\\_1_preprocess\\datasets\\Blaze the Cat\\Blaze 2\\00_00_00_Blaze_Happy__All it takes is a little effort.wav\n",
      "G:\\TwiBot\\CookiePPPTTS\\CookieTTS\\_1_preprocess\\datasets\\Blaze the Cat\\Blaze 2\\00_00_00_Blaze_Happy__All right.wav\n",
      "G:\\TwiBot\\CookiePPPTTS\\CookieTTS\\_1_preprocess\\datasets\\Blaze the Cat\\Blaze 2\\00_00_00_Blaze_Happy__Can't complain.wav\n",
      "G:\\TwiBot\\CookiePPPTTS\\CookieTTS\\_1_preprocess\\datasets\\Blaze the Cat\\Blaze 2\\00_00_00_Blaze_Happy__Done with narry a bit of trouble.wav\n",
      "G:\\TwiBot\\CookiePPPTTS\\CookieTTS\\_1_preprocess\\datasets\\Blaze the Cat\\Blaze 2\\00_00_00_Blaze_Happy__Good fortune is the natural outcome of ability.wav\n",
      "G:\\TwiBot\\CookiePPPTTS\\CookieTTS\\_1_preprocess\\datasets\\Blaze the Cat\\Blaze 2\\00_00_00_Blaze_Happy__Good.wav\n",
      "G:\\TwiBot\\CookiePPPTTS\\CookieTTS\\_1_preprocess\\datasets\\Blaze the Cat\\Blaze 2\\00_00_00_Blaze_Happy__Hello.wav\n",
      "G:\\TwiBot\\CookiePPPTTS\\CookieTTS\\_1_preprocess\\datasets\\Blaze the Cat\\Blaze 2\\00_00_00_Blaze_Happy__Here we go.wav\n",
      "G:\\TwiBot\\CookiePPPTTS\\CookieTTS\\_1_preprocess\\datasets\\Blaze the Cat\\Blaze 2\\00_00_00_Blaze_Happy__I'll be taking this.wav\n",
      "G:\\TwiBot\\CookiePPPTTS\\CookieTTS\\_1_preprocess\\datasets\\Blaze the Cat\\Blaze 2\\00_00_00_Blaze_Happy__It's been ages.wav\n",
      "G:\\TwiBot\\CookiePPPTTS\\CookieTTS\\_1_preprocess\\datasets\\Blaze the Cat\\Blaze 2\\00_00_00_Blaze_Happy__Kicking this log will probably ricochet me up into the air.wav\n",
      "G:\\TwiBot\\CookiePPPTTS\\CookieTTS\\_1_preprocess\\datasets\\Blaze the Cat\\Blaze 2\\00_00_00_Blaze_Happy__Sonic.wav\n",
      "G:\\TwiBot\\CookiePPPTTS\\CookieTTS\\_1_preprocess\\datasets\\Blaze the Cat\\Blaze 2\\00_00_00_Blaze_Happy__That was a fierce battle.wav\n",
      "G:\\TwiBot\\CookiePPPTTS\\CookieTTS\\_1_preprocess\\datasets\\Blaze the Cat\\Blaze 2\\00_00_00_Blaze_Happy__That's right.wav\n",
      "G:\\TwiBot\\CookiePPPTTS\\CookieTTS\\_1_preprocess\\datasets\\Blaze the Cat\\Blaze 2\\00_00_00_Blaze_Happy__The air in here, the stone must lie ahead.wav\n",
      "G:\\TwiBot\\CookiePPPTTS\\CookieTTS\\_1_preprocess\\datasets\\Blaze the Cat\\Blaze 2\\00_00_00_Blaze_Happy__They prepared such a warm welcome. I am most honored.wav\n",
      "G:\\TwiBot\\CookiePPPTTS\\CookieTTS\\_1_preprocess\\datasets\\Blaze the Cat\\Blaze 2\\00_00_00_Blaze_Happy__Very well.wav\n",
      "G:\\TwiBot\\CookiePPPTTS\\CookieTTS\\_1_preprocess\\datasets\\Blaze the Cat\\Blaze 2\\00_00_00_Blaze_Happy__Yes.wav\n",
      "G:\\TwiBot\\CookiePPPTTS\\CookieTTS\\_1_preprocess\\datasets\\Blaze the Cat\\Blaze 2\\00_00_00_Blaze_Neutral__A performance befitting a knight.wav\n",
      "G:\\TwiBot\\CookiePPPTTS\\CookieTTS\\_1_preprocess\\datasets\\Blaze the Cat\\Blaze 2\\00_00_00_Blaze_Neutral__A search, starting with the most obvious hiding place, would be most prudent.wav\n",
      "G:\\TwiBot\\CookiePPPTTS\\CookieTTS\\_1_preprocess\\datasets\\Blaze the Cat\\Blaze 2\\00_00_00_Blaze_Neutral__A slow but steady advance would be prudent here.wav\n",
      "G:\\TwiBot\\CookiePPPTTS\\CookieTTS\\_1_preprocess\\datasets\\Blaze the Cat\\Blaze 2\\00_00_00_Blaze_Neutral__All I need to do is race upwards.wav\n",
      "G:\\TwiBot\\CookiePPPTTS\\CookieTTS\\_1_preprocess\\datasets\\Blaze the Cat\\Blaze 2\\00_00_00_Blaze_Neutral__Any contact would be most troublesome.wav\n",
      "G:\\TwiBot\\CookiePPPTTS\\CookieTTS\\_1_preprocess\\datasets\\Blaze the Cat\\Blaze 2\\00_00_00_Blaze_Neutral__As expected, the stone that holds the fate of the world would be in such a place.wav\n",
      "G:\\TwiBot\\CookiePPPTTS\\CookieTTS\\_1_preprocess\\datasets\\Blaze the Cat\\Blaze 2\\00_00_00_Blaze_Neutral__As much as I dislike relying on others, I'm greatful for your aid. The creature was beyond my skills.wav\n",
      "G:\\TwiBot\\CookiePPPTTS\\CookieTTS\\_1_preprocess\\datasets\\Blaze the Cat\\Blaze 2\\00_00_00_Blaze_Neutral__Call me with the triangle button.wav\n",
      "G:\\TwiBot\\CookiePPPTTS\\CookieTTS\\_1_preprocess\\datasets\\Blaze the Cat\\Blaze 2\\00_00_00_Blaze_Neutral__His armor looks thick, but you might be able to destroy those glowing parts.wav\n",
      "G:\\TwiBot\\CookiePPPTTS\\CookieTTS\\_1_preprocess\\datasets\\Blaze the Cat\\Blaze 2\\00_00_00_Blaze_Neutral__His weak point is the core of the head. Attack him there when you can see it.wav\n",
      "G:\\TwiBot\\CookiePPPTTS\\CookieTTS\\_1_preprocess\\datasets\\Blaze the Cat\\Blaze 2\\00_00_00_Blaze_Neutral__His weak spot is the armored head. Aim for that, Silver.wav\n",
      "G:\\TwiBot\\CookiePPPTTS\\CookieTTS\\_1_preprocess\\datasets\\Blaze the Cat\\Blaze 2\\00_00_00_Blaze_Neutral__I always seek perfection, so I shall merely do as I always do.wav\n",
      "G:\\TwiBot\\CookiePPPTTS\\CookieTTS\\_1_preprocess\\datasets\\Blaze the Cat\\Blaze 2\\00_00_00_Blaze_Neutral__I am Percival, knight of the round table, and knight of the grail. Fealty to the king is the one and true way of chivalry. My destiny is inseperably linked with my trust in my liege.wav\n",
      "G:\\TwiBot\\CookiePPPTTS\\CookieTTS\\_1_preprocess\\datasets\\Blaze the Cat\\Blaze 2\\00_00_00_Blaze_Neutral__I can keep swinging my sword around, even while I'm riding the boat.wav\n",
      "G:\\TwiBot\\CookiePPPTTS\\CookieTTS\\_1_preprocess\\datasets\\Blaze the Cat\\Blaze 2\\00_00_00_Blaze_Neutral__I could get down this way.wav\n",
      "G:\\TwiBot\\CookiePPPTTS\\CookieTTS\\_1_preprocess\\datasets\\Blaze the Cat\\Blaze 2\\00_00_00_Blaze_Neutral__I shall open the way with a flash of my sword.wav\n",
      "G:\\TwiBot\\CookiePPPTTS\\CookieTTS\\_1_preprocess\\datasets\\Blaze the Cat\\Blaze 2\\00_00_00_Blaze_Neutral__I shall prevail, this time.wav\n",
      "G:\\TwiBot\\CookiePPPTTS\\CookieTTS\\_1_preprocess\\datasets\\Blaze the Cat\\Blaze 2\\00_00_00_Blaze_Neutral__I shall simply jump to the side.wav\n",
      "G:\\TwiBot\\CookiePPPTTS\\CookieTTS\\_1_preprocess\\datasets\\Blaze the Cat\\Blaze 2\\00_00_00_Blaze_Neutral__I should try heading up.wav\n",
      "G:\\TwiBot\\CookiePPPTTS\\CookieTTS\\_1_preprocess\\datasets\\Blaze the Cat\\Blaze 2\\00_00_00_Blaze_Neutral__I suppose this will work.wav\n",
      "G:\\TwiBot\\CookiePPPTTS\\CookieTTS\\_1_preprocess\\datasets\\Blaze the Cat\\Blaze 2\\00_00_00_Blaze_Neutral__I will fell all who stand in my way.wav\n",
      "G:\\TwiBot\\CookiePPPTTS\\CookieTTS\\_1_preprocess\\datasets\\Blaze the Cat\\Blaze 2\\00_00_00_Blaze_Neutral__I will not miss a single ring.wav\n",
      "G:\\TwiBot\\CookiePPPTTS\\CookieTTS\\_1_preprocess\\datasets\\Blaze the Cat\\Blaze 2\\00_00_00_Blaze_Neutral__I wish I hadn't needed your help, Sonic, but thank you. By the way, you seem to look less, spikey.wav\n",
      "G:\\TwiBot\\CookiePPPTTS\\CookieTTS\\_1_preprocess\\datasets\\Blaze the Cat\\Blaze 2\\00_00_00_Blaze_Neutral__Eggman's base is ahead. Let's hurry.wav\n",
      "G:\\TwiBot\\CookiePPPTTS\\CookieTTS\\_1_preprocess\\datasets\\Blaze the Cat\\Blaze 2\\00_00_00_Blaze_Neutral__Excellent.wav\n",
      "G:\\TwiBot\\CookiePPPTTS\\CookieTTS\\_1_preprocess\\datasets\\Blaze the Cat\\Blaze 2\\00_00_00_Blaze_Neutral__Fear the power of the flame.wav\n",
      "G:\\TwiBot\\CookiePPPTTS\\CookieTTS\\_1_preprocess\\datasets\\Blaze the Cat\\Blaze 2\\00_00_00_Blaze_Neutral__Grab his lava projectiles with your psychokinesis, and send his attack right back at him.wav\n",
      "G:\\TwiBot\\CookiePPPTTS\\CookieTTS\\_1_preprocess\\datasets\\Blaze the Cat\\Blaze 2\\00_00_00_Blaze_Neutral__Ha.wav\n",
      "G:\\TwiBot\\CookiePPPTTS\\CookieTTS\\_1_preprocess\\datasets\\Blaze the Cat\\Blaze 2\\00_00_00_Blaze_Neutral__Half done, half to go.wav\n",
      "G:\\TwiBot\\CookiePPPTTS\\CookieTTS\\_1_preprocess\\datasets\\Blaze the Cat\\Blaze 2\\00_00_00_Blaze_Neutral__He sends out waves of flames, one after the other. You need to predict the next wave, and evade it.wav\n",
      "G:\\TwiBot\\CookiePPPTTS\\CookieTTS\\_1_preprocess\\datasets\\Blaze the Cat\\Blaze 2\\00_00_00_Blaze_Neutral__He's reeling! Now's your chance.wav\n",
      "G:\\TwiBot\\CookiePPPTTS\\CookieTTS\\_1_preprocess\\datasets\\Blaze the Cat\\Blaze 2\\00_00_00_Blaze_Neutral__I'll go ahead here.wav\n",
      "G:\\TwiBot\\CookiePPPTTS\\CookieTTS\\_1_preprocess\\datasets\\Blaze the Cat\\Blaze 2\\00_00_00_Blaze_Neutral__I'll go all out too. Use my flames as much as you want.wav\n",
      "G:\\TwiBot\\CookiePPPTTS\\CookieTTS\\_1_preprocess\\datasets\\Blaze the Cat\\Blaze 2\\00_00_00_Blaze_Neutral__I'll put out that wall of fire.wav\n",
      "G:\\TwiBot\\CookiePPPTTS\\CookieTTS\\_1_preprocess\\datasets\\Blaze the Cat\\Blaze 2\\00_00_00_Blaze_Neutral__I'll try heading down.wav\n",
      "G:\\TwiBot\\CookiePPPTTS\\CookieTTS\\_1_preprocess\\datasets\\Blaze the Cat\\Blaze 2\\00_00_00_Blaze_Neutral__I've got this.wav\n",
      "G:\\TwiBot\\CookiePPPTTS\\CookieTTS\\_1_preprocess\\datasets\\Blaze the Cat\\Blaze 2\\00_00_00_Blaze_Neutral__If he dives underground, be careful. He'll suddenly burst out to attack.wav\n",
      "G:\\TwiBot\\CookiePPPTTS\\CookieTTS\\_1_preprocess\\datasets\\Blaze the Cat\\Blaze 2\\00_00_00_Blaze_Neutral__If he gets in close, you'll have to do a lot of damage, and push him back.wav\n",
      "G:\\TwiBot\\CookiePPPTTS\\CookieTTS\\_1_preprocess\\datasets\\Blaze the Cat\\Blaze 2\\00_00_00_Blaze_Amused__A quite obvious outcome.wav\n",
      "G:\\TwiBot\\CookiePPPTTS\\CookieTTS\\_1_preprocess\\datasets\\Blaze the Cat\\Blaze 2\\00_00_00_Blaze_Amused__I'm impressed.wav\n",
      "G:\\TwiBot\\CookiePPPTTS\\CookieTTS\\_1_preprocess\\datasets\\Blaze the Cat\\Blaze 2\\00_00_00_Blaze_Amused__Live and let live could be the best course of action here.wav\n",
      "G:\\TwiBot\\CookiePPPTTS\\CookieTTS\\_1_preprocess\\datasets\\Blaze the Cat\\Blaze 2\\00_00_00_Blaze_Amused__Nice job.wav\n",
      "G:\\TwiBot\\CookiePPPTTS\\CookieTTS\\_1_preprocess\\datasets\\Blaze the Cat\\Blaze 2\\00_00_00_Blaze_Amused__Not bad. But not good enough.wav\n",
      "G:\\TwiBot\\CookiePPPTTS\\CookieTTS\\_1_preprocess\\datasets\\Blaze the Cat\\Blaze 2\\00_00_00_Blaze_Amused__Not bad. Not bad at all.wav\n",
      "G:\\TwiBot\\CookiePPPTTS\\CookieTTS\\_1_preprocess\\datasets\\Blaze the Cat\\Blaze 2\\00_00_00_Blaze_Amused__These rats will do me no hard.wav\n",
      "G:\\TwiBot\\CookiePPPTTS\\CookieTTS\\_1_preprocess\\datasets\\Blaze the Cat\\Blaze 2\\00_00_00_Blaze_Angry__A minion of the underworld.wav\n",
      "G:\\TwiBot\\CookiePPPTTS\\CookieTTS\\_1_preprocess\\datasets\\Blaze the Cat\\Blaze 2\\00_00_00_Blaze_Angry__An earthquake. Those stalactites will surely come crashing down.wav\n",
      "G:\\TwiBot\\CookiePPPTTS\\CookieTTS\\_1_preprocess\\datasets\\Blaze the Cat\\Blaze 2\\00_00_00_Blaze_Neutral__If you can find an opening and jump on his head, use the right trigger to use you psychokinesis on his weakpoint.wav\n",
      "G:\\TwiBot\\CookiePPPTTS\\CookieTTS\\_1_preprocess\\datasets\\Blaze the Cat\\Blaze 2\\00_00_00_Blaze_Neutral__If you defeat the one issuing orders, then you can defeat everyone at once.wav\n",
      "G:\\TwiBot\\CookiePPPTTS\\CookieTTS\\_1_preprocess\\datasets\\Blaze the Cat\\Blaze 2\\00_00_00_Blaze_Neutral__If you dodge the drill attack, grab it with your psychokinesis as it's stuck in the ground.wav\n",
      "G:\\TwiBot\\CookiePPPTTS\\CookieTTS\\_1_preprocess\\datasets\\Blaze the Cat\\Blaze 2\\00_00_00_Blaze_Neutral__If you take out its legs, it will be paralyzed. That's your chance to use your psychokinesis.wav\n",
      "G:\\TwiBot\\CookiePPPTTS\\CookieTTS\\_1_preprocess\\datasets\\Blaze the Cat\\Blaze 2\\00_00_00_Blaze_Neutral__If you use your psychokinesis to grab me, you should be able to launch a powerful attack.wav\n",
      "G:\\TwiBot\\CookiePPPTTS\\CookieTTS\\_1_preprocess\\datasets\\Blaze the Cat\\Blaze 2\\00_00_00_Blaze_Neutral__It appears that there are explosives in that container. Be cautious when you open it.wav\n",
      "G:\\TwiBot\\CookiePPPTTS\\CookieTTS\\_1_preprocess\\datasets\\Blaze the Cat\\Blaze 2\\00_00_00_Blaze_Neutral__It looks like the central core is protected by a barrier. Let's start by destroying the things around it.wav\n",
      "G:\\TwiBot\\CookiePPPTTS\\CookieTTS\\_1_preprocess\\datasets\\Blaze the Cat\\Blaze 2\\00_00_00_Blaze_Neutral__It looks like you can take advantage of this concrete ramp.wav\n",
      "G:\\TwiBot\\CookiePPPTTS\\CookieTTS\\_1_preprocess\\datasets\\Blaze the Cat\\Blaze 2\\00_00_00_Blaze_Neutral__It may be large, but the point of impact is easy to foresee. Evasion appears to be the best policy.wav\n",
      "G:\\TwiBot\\CookiePPPTTS\\CookieTTS\\_1_preprocess\\datasets\\Blaze the Cat\\Blaze 2\\00_00_00_Blaze_Neutral__It may be poisonous, but it is still merely slime. It must make contact to cause harm.wav\n",
      "G:\\TwiBot\\CookiePPPTTS\\CookieTTS\\_1_preprocess\\datasets\\Blaze the Cat\\Blaze 2\\00_00_00_Blaze_Neutral__It seems those enemies are involved with that door somehow. In any case, let's try defeating them first.wav\n",
      "G:\\TwiBot\\CookiePPPTTS\\CookieTTS\\_1_preprocess\\datasets\\Blaze the Cat\\Blaze 2\\00_00_00_Blaze_Neutral__It would seem there is a passage on the other side of this wall.wav\n",
      "G:\\TwiBot\\CookiePPPTTS\\CookieTTS\\_1_preprocess\\datasets\\Blaze the Cat\\Blaze 2\\00_00_00_Blaze_Neutral__It's dangerous to be in front of him when he's getting ready to attack, but using my flame ability will allow you to take a frontal approach.wav\n",
      "G:\\TwiBot\\CookiePPPTTS\\CookieTTS\\_1_preprocess\\datasets\\Blaze the Cat\\Blaze 2\\00_00_00_Blaze_Neutral__Leave it to me.wav\n",
      "G:\\TwiBot\\CookiePPPTTS\\CookieTTS\\_1_preprocess\\datasets\\Blaze the Cat\\Blaze 2\\00_00_00_Blaze_Neutral__Let's forge on while avoiding the townsfolk.wav\n",
      "G:\\TwiBot\\CookiePPPTTS\\CookieTTS\\_1_preprocess\\datasets\\Blaze the Cat\\Blaze 2\\00_00_00_Blaze_Neutral__Let's go to the castle town.wav\n",
      "G:\\TwiBot\\CookiePPPTTS\\CookieTTS\\_1_preprocess\\datasets\\Blaze the Cat\\Blaze 2\\00_00_00_Blaze_Neutral__Let's go to the forest.wav\n",
      "G:\\TwiBot\\CookiePPPTTS\\CookieTTS\\_1_preprocess\\datasets\\Blaze the Cat\\Blaze 2\\00_00_00_Blaze_Neutral__Let's go to the store.wav\n",
      "G:\\TwiBot\\CookiePPPTTS\\CookieTTS\\_1_preprocess\\datasets\\Blaze the Cat\\Blaze 2\\00_00_00_Blaze_Neutral__Let's go.wav\n",
      "G:\\TwiBot\\CookiePPPTTS\\CookieTTS\\_1_preprocess\\datasets\\Blaze the Cat\\Blaze 2\\00_00_00_Blaze_Neutral__Let's head to the new city.wav\n",
      "G:\\TwiBot\\CookiePPPTTS\\CookieTTS\\_1_preprocess\\datasets\\Blaze the Cat\\Blaze 2\\00_00_00_Blaze_Neutral__Let's talk to some people in the town.wav\n",
      "G:\\TwiBot\\CookiePPPTTS\\CookieTTS\\_1_preprocess\\datasets\\Blaze the Cat\\Blaze 2\\00_00_00_Blaze_Neutral__My apologies. Please allow me the use of your boat.wav\n",
      "G:\\TwiBot\\CookiePPPTTS\\CookieTTS\\_1_preprocess\\datasets\\Blaze the Cat\\Blaze 2\\00_00_00_Blaze_Neutral__No cause for panic.wav\n",
      "G:\\TwiBot\\CookiePPPTTS\\CookieTTS\\_1_preprocess\\datasets\\Blaze the Cat\\Blaze 2\\00_00_00_Blaze_Angry__Brace yourself, foul beast, for there shall be no mercy, no matter where you are.wav\n",
      "G:\\TwiBot\\CookiePPPTTS\\CookieTTS\\_1_preprocess\\datasets\\Blaze the Cat\\Blaze 2\\00_00_00_Blaze_Angry__I'll take you all on.wav\n",
      "G:\\TwiBot\\CookiePPPTTS\\CookieTTS\\_1_preprocess\\datasets\\Blaze the Cat\\Blaze 2\\00_00_00_Blaze_Angry__Take this.wav\n",
      "G:\\TwiBot\\CookiePPPTTS\\CookieTTS\\_1_preprocess\\datasets\\Blaze the Cat\\Blaze 2\\00_00_00_Blaze_Angry__You dare bar my way.wav\n",
      "G:\\TwiBot\\CookiePPPTTS\\CookieTTS\\_1_preprocess\\datasets\\Blaze the Cat\\Blaze 2\\00_00_00_Blaze_Annoyed__It seems you are bent on hampering my passage.wav\n",
      "G:\\TwiBot\\CookiePPPTTS\\CookieTTS\\_1_preprocess\\datasets\\Blaze the Cat\\Blaze 2\\00_00_00_Blaze_Annoyed__This will be over very shortly.wav\n",
      "G:\\TwiBot\\CookiePPPTTS\\CookieTTS\\_1_preprocess\\datasets\\Blaze the Cat\\Blaze 2\\00_00_00_Blaze_Anxious__Be careful. They'll charge in suddenly, dodge the attack, and counterattack.wav\n",
      "G:\\TwiBot\\CookiePPPTTS\\CookieTTS\\_1_preprocess\\datasets\\Blaze the Cat\\Blaze 2\\00_00_00_Blaze_Anxious__It's good that they're not moving, but I don't think I'll be able to force my way in.wav\n",
      "G:\\TwiBot\\CookiePPPTTS\\CookieTTS\\_1_preprocess\\datasets\\Blaze the Cat\\Blaze 2\\00_00_00_Blaze_Confused__Can't you grind there if you jump on that.wav\n",
      "G:\\TwiBot\\CookiePPPTTS\\CookieTTS\\_1_preprocess\\datasets\\Blaze the Cat\\Blaze 2\\00_00_00_Blaze_Confusesd__These wagons, they're holding the people prisoner.wav\n",
      "G:\\TwiBot\\CookiePPPTTS\\CookieTTS\\_1_preprocess\\datasets\\Blaze the Cat\\Blaze 2\\00_00_00_Blaze_Crazy__This is how to do it.wav\n",
      "G:\\TwiBot\\CookiePPPTTS\\CookieTTS\\_1_preprocess\\datasets\\Blaze the Cat\\Blaze 2\\00_00_00_Blaze_Fear__They're locked on to you. Shake em off.wav\n",
      "G:\\TwiBot\\CookiePPPTTS\\CookieTTS\\_1_preprocess\\datasets\\Blaze the Cat\\Blaze 2\\00_00_00_Blaze_Happy__I merely need to deflect such attacks.wav\n",
      "G:\\TwiBot\\CookiePPPTTS\\CookieTTS\\_1_preprocess\\datasets\\Blaze the Cat\\Blaze 2\\00_00_00_Blaze_Neutral__Here I go.wav\n",
      "G:\\TwiBot\\CookiePPPTTS\\CookieTTS\\_1_preprocess\\datasets\\Blaze the Cat\\Blaze 2\\00_00_00_Blaze_Neutral__I had better leave this and move on to the stone.wav\n",
      "G:\\TwiBot\\CookiePPPTTS\\CookieTTS\\_1_preprocess\\datasets\\Blaze the Cat\\Blaze 2\\00_00_00_Blaze_Neutral__I'll aim for somewhere other than that shield.wav\n",
      "G:\\TwiBot\\CookiePPPTTS\\CookieTTS\\_1_preprocess\\datasets\\Blaze the Cat\\Blaze 2\\00_00_00_Blaze_Neutral__If you can find an opening and jump on his head, use the R one button to use you psychokinesis on his weak spot.wav\n",
      "G:\\TwiBot\\CookiePPPTTS\\CookieTTS\\_1_preprocess\\datasets\\Blaze the Cat\\Blaze 2\\00_00_00_Blaze_Neutral__It is all the same in the end.wav\n",
      "G:\\TwiBot\\CookiePPPTTS\\CookieTTS\\_1_preprocess\\datasets\\Blaze the Cat\\Blaze 2\\00_00_00_Blaze_Neutral__Let us battle with honor.wav\n",
      "G:\\TwiBot\\CookiePPPTTS\\CookieTTS\\_1_preprocess\\datasets\\Blaze the Cat\\Blaze 2\\00_00_00_Blaze_Neutral__Not a bad start.wav\n",
      "G:\\TwiBot\\CookiePPPTTS\\CookieTTS\\_1_preprocess\\datasets\\Blaze the Cat\\Blaze 2\\00_00_00_Blaze_Neutral__Regular attacks are ineffective while the shields are in place. Attack when the defenses are lowered.wav\n",
      "G:\\TwiBot\\CookiePPPTTS\\CookieTTS\\_1_preprocess\\datasets\\Blaze the Cat\\Blaze 2\\00_00_00_Blaze_Neutral__Not much more to go.wav\n",
      "G:\\TwiBot\\CookiePPPTTS\\CookieTTS\\_1_preprocess\\datasets\\Blaze the Cat\\Blaze 2\\00_00_00_Blaze_Neutral__Perhaps a worthy challenge.wav\n",
      "G:\\TwiBot\\CookiePPPTTS\\CookieTTS\\_1_preprocess\\datasets\\Blaze the Cat\\Blaze 2\\00_00_00_Blaze_Neutral__Perhaps this would be a good tool for jumping.wav\n",
      "G:\\TwiBot\\CookiePPPTTS\\CookieTTS\\_1_preprocess\\datasets\\Blaze the Cat\\Blaze 2\\00_00_00_Blaze_Neutral__Pillars, huh. Perhaps a chain reaction will take the beast down.wav\n",
      "G:\\TwiBot\\CookiePPPTTS\\CookieTTS\\_1_preprocess\\datasets\\Blaze the Cat\\Blaze 2\\00_00_00_Blaze_Neutral__Press the triangle button to wrap me in flames.wav\n",
      "G:\\TwiBot\\CookiePPPTTS\\CookieTTS\\_1_preprocess\\datasets\\Blaze the Cat\\Blaze 2\\00_00_00_Blaze_Neutral__Recenter the camera with the L one button.wav\n",
      "G:\\TwiBot\\CookiePPPTTS\\CookieTTS\\_1_preprocess\\datasets\\Blaze the Cat\\Blaze 2\\00_00_00_Blaze_Neutral__Recenter the camera with the left trigger.wav\n",
      "G:\\TwiBot\\CookiePPPTTS\\CookieTTS\\_1_preprocess\\datasets\\Blaze the Cat\\Blaze 2\\00_00_00_Blaze_Neutral__Regular attacks are ineffective against its shell. How about flipping it over.wav\n",
      "G:\\TwiBot\\CookiePPPTTS\\CookieTTS\\_1_preprocess\\datasets\\Blaze the Cat\\Blaze 2\\00_00_00_Blaze_Neutral__Silver! Thank you.wav\n",
      "G:\\TwiBot\\CookiePPPTTS\\CookieTTS\\_1_preprocess\\datasets\\Blaze the Cat\\Blaze 2\\00_00_00_Blaze_Neutral__So the fiend's weakness is its head. I had better begin by closing in on it.wav\n",
      "G:\\TwiBot\\CookiePPPTTS\\CookieTTS\\_1_preprocess\\datasets\\Blaze the Cat\\Blaze 2\\00_00_00_Blaze_Neutral__Something must be done about the barrier. The stone is just ahead.wav\n",
      "G:\\TwiBot\\CookiePPPTTS\\CookieTTS\\_1_preprocess\\datasets\\Blaze the Cat\\Blaze 2\\00_00_00_Blaze_Neutral__Sonic.wav\n",
      "G:\\TwiBot\\CookiePPPTTS\\CookieTTS\\_1_preprocess\\datasets\\Blaze the Cat\\Blaze 2\\00_00_00_Blaze_Neutral__Sorry. Couldja give me a hand.wav\n",
      "G:\\TwiBot\\CookiePPPTTS\\CookieTTS\\_1_preprocess\\datasets\\Blaze the Cat\\Blaze 2\\00_00_00_Blaze_Neutral__The right attack should bring this pillar to the ground.wav\n",
      "G:\\TwiBot\\CookiePPPTTS\\CookieTTS\\_1_preprocess\\datasets\\Blaze the Cat\\Blaze 2\\00_00_00_Blaze_Neutral__The usual approach will work, as long as I pass through the checkpoints within time limit.wav\n",
      "G:\\TwiBot\\CookiePPPTTS\\CookieTTS\\_1_preprocess\\datasets\\Blaze the Cat\\Blaze 2\\00_00_00_Blaze_Neutral__Their spears have a long reach. I had better get in close.wav\n",
      "G:\\TwiBot\\CookiePPPTTS\\CookieTTS\\_1_preprocess\\datasets\\Blaze the Cat\\Blaze 2\\00_00_00_Blaze_Neutral__There should be a switch somewhere that opens this cage.wav\n",
      "G:\\TwiBot\\CookiePPPTTS\\CookieTTS\\_1_preprocess\\datasets\\Blaze the Cat\\Blaze 2\\00_00_00_Blaze_Neutral__There's a way down.wav\n",
      "G:\\TwiBot\\CookiePPPTTS\\CookieTTS\\_1_preprocess\\datasets\\Blaze the Cat\\Blaze 2\\00_00_00_Blaze_Neutral__There's a way up.wav\n",
      "G:\\TwiBot\\CookiePPPTTS\\CookieTTS\\_1_preprocess\\datasets\\Blaze the Cat\\Blaze 2\\00_00_00_Blaze_Neutral__Things should be fine, as long as I keep this pace.wav\n",
      "G:\\TwiBot\\CookiePPPTTS\\CookieTTS\\_1_preprocess\\datasets\\Blaze the Cat\\Blaze 2\\00_00_00_Blaze_Neutral__This handle is connected to something. Try taking hold of it.wav\n",
      "G:\\TwiBot\\CookiePPPTTS\\CookieTTS\\_1_preprocess\\datasets\\Blaze the Cat\\Blaze 2\\00_00_00_Blaze_Neutral__This might be a shortcut.wav\n",
      "G:\\TwiBot\\CookiePPPTTS\\CookieTTS\\_1_preprocess\\datasets\\Blaze the Cat\\Blaze 2\\00_00_00_Blaze_Neutral__Those enemies are involved with that cage somehow it seems. In any case, let's try defeating them first.wav\n",
      "G:\\TwiBot\\CookiePPPTTS\\CookieTTS\\_1_preprocess\\datasets\\Blaze the Cat\\Blaze 2\\00_00_00_Blaze_Neutral__Time to get serious now.wav\n",
      "G:\\TwiBot\\CookiePPPTTS\\CookieTTS\\_1_preprocess\\datasets\\Blaze the Cat\\Blaze 2\\00_00_00_Blaze_Neutral__To move to an adjacent rail, jump while using the left analogue stick.wav\n",
      "G:\\TwiBot\\CookiePPPTTS\\CookieTTS\\_1_preprocess\\datasets\\Blaze the Cat\\Blaze 2\\00_00_00_Blaze_Neutral__To move to an adjacent rail, jump while using the left stick.wav\n",
      "G:\\TwiBot\\CookiePPPTTS\\CookieTTS\\_1_preprocess\\datasets\\Blaze the Cat\\Blaze 2\\00_00_00_Blaze_Neutral__Up and over I say.wav\n",
      "G:\\TwiBot\\CookiePPPTTS\\CookieTTS\\_1_preprocess\\datasets\\Blaze the Cat\\Blaze 2\\00_00_00_Blaze_Neutral__Use your psychokinesis. You should have no problem with the enemy's bullets.wav\n",
      "G:\\TwiBot\\CookiePPPTTS\\CookieTTS\\_1_preprocess\\datasets\\Blaze the Cat\\Blaze 2\\00_00_00_Blaze_Neutral__We need to go across the buildings.wav\n",
      "G:\\TwiBot\\CookiePPPTTS\\CookieTTS\\_1_preprocess\\datasets\\Blaze the Cat\\Blaze 2\\00_00_00_Blaze_Neutral__When it's lost both arms, attacking it will knock it over. Then grab hold of it with your psychokinesis.wav\n",
      "G:\\TwiBot\\CookiePPPTTS\\CookieTTS\\_1_preprocess\\datasets\\Blaze the Cat\\Blaze 2\\00_00_00_Blaze_Neutral__With your power, you should be able to use his missiles, and those robots as your ammunition.wav\n",
      "G:\\TwiBot\\CookiePPPTTS\\CookieTTS\\_1_preprocess\\datasets\\Blaze the Cat\\Blaze 2\\00_00_00_Blaze_Neutral__Yes.wav\n",
      "G:\\TwiBot\\CookiePPPTTS\\CookieTTS\\_1_preprocess\\datasets\\Blaze the Cat\\Blaze 2\\00_00_00_Blaze_Neutral__You can use warp holes for instant travel.wav\n",
      "G:\\TwiBot\\CookiePPPTTS\\CookieTTS\\_1_preprocess\\datasets\\Blaze the Cat\\Blaze 2\\00_00_00_Blaze_Neutral__You can use your power to grab attacks from flying mechs, and counterattack.wav\n",
      "G:\\TwiBot\\CookiePPPTTS\\CookieTTS\\_1_preprocess\\datasets\\Blaze the Cat\\Blaze 2\\00_00_00_Blaze_Neutral__You can use your power to grab the attacks of that flying monster, and counterattack.wav\n",
      "G:\\TwiBot\\CookiePPPTTS\\CookieTTS\\_1_preprocess\\datasets\\Blaze the Cat\\Blaze 2\\00_00_00_Blaze_Neutral__You can use your psychokinesis to grab missiles and throw them back, to make them explode near the enemy.wav\n",
      "G:\\TwiBot\\CookiePPPTTS\\CookieTTS\\_1_preprocess\\datasets\\Blaze the Cat\\Blaze 2\\00_00_00_Blaze_Neutral__You can use your psychokinesis to toss back that robot's bombs.wav\n",
      "G:\\TwiBot\\CookiePPPTTS\\CookieTTS\\_1_preprocess\\datasets\\Blaze the Cat\\Blaze 2\\00_00_00_Blaze_Neutral__You have to use my power to stop it before it's fired, or use your power to grab it.wav\n",
      "G:\\TwiBot\\CookiePPPTTS\\CookieTTS\\_1_preprocess\\datasets\\Blaze the Cat\\Blaze 2\\00_00_00_Blaze_Neutral__You need to short out the electricity in order to stop this laser. We'll need to hit the switches at the same time.wav\n",
      "G:\\TwiBot\\CookiePPPTTS\\CookieTTS\\_1_preprocess\\datasets\\Blaze the Cat\\Blaze 2\\00_00_00_Blaze_Neutral__You'll be in trouble if you let him get close. Try to keep him away from here.wav\n",
      "G:\\TwiBot\\CookiePPPTTS\\CookieTTS\\_1_preprocess\\datasets\\Blaze the Cat\\Blaze 2\\00_00_00_Blaze_Neutral__Your only chance is when it opens its mouth. Dodge, then counterattack.wav\n",
      "G:\\TwiBot\\CookiePPPTTS\\CookieTTS\\_1_preprocess\\datasets\\Blaze the Cat\\Blaze 2\\00_00_00_Blaze_Sad__A false king, and our castle in ruins. What shall become of us.wav\n",
      "G:\\TwiBot\\CookiePPPTTS\\CookieTTS\\_1_preprocess\\datasets\\Blaze the Cat\\Blaze 2\\00_00_00_Blaze_Sad__Darn. Why now.wav\n",
      "G:\\TwiBot\\CookiePPPTTS\\CookieTTS\\_1_preprocess\\datasets\\Blaze the Cat\\Blaze 2\\00_00_00_Blaze_Sad__I can't let myself fall.wav\n",
      "G:\\TwiBot\\CookiePPPTTS\\CookieTTS\\_1_preprocess\\datasets\\Blaze the Cat\\Blaze 2\\00_00_00_Blaze_Sad__I shall withdraw.wav\n",
      "G:\\TwiBot\\CookiePPPTTS\\CookieTTS\\_1_preprocess\\datasets\\Blaze the Cat\\Blaze 2\\00_00_00_Blaze_Sad__I should've done better.wav\n",
      "G:\\TwiBot\\CookiePPPTTS\\CookieTTS\\_1_preprocess\\datasets\\Blaze the Cat\\Blaze 2\\00_00_00_Blaze_Sad__If you're hit when you don't have any rings, you're done for. So watch how many you have left.wav\n",
      "G:\\TwiBot\\CookiePPPTTS\\CookieTTS\\_1_preprocess\\datasets\\Blaze the Cat\\Blaze 2\\00_00_00_Blaze_Sad__No, this can't be.wav\n",
      "G:\\TwiBot\\CookiePPPTTS\\CookieTTS\\_1_preprocess\\datasets\\Blaze the Cat\\Blaze 2\\00_00_00_Blaze_Sad__No.wav\n",
      "G:\\TwiBot\\CookiePPPTTS\\CookieTTS\\_1_preprocess\\datasets\\Blaze the Cat\\Blaze 2\\00_00_00_Blaze_Sad__Ooh.wav\n",
      "G:\\TwiBot\\CookiePPPTTS\\CookieTTS\\_1_preprocess\\datasets\\Blaze the Cat\\Blaze 2\\00_00_00_Blaze_Sad__Our magnificent castle, this is the most ill of omens.wav\n",
      "G:\\TwiBot\\CookiePPPTTS\\CookieTTS\\_1_preprocess\\datasets\\Blaze the Cat\\Blaze 2\\00_00_00_Blaze_Sad__That was so so.wav\n",
      "G:\\TwiBot\\CookiePPPTTS\\CookieTTS\\_1_preprocess\\datasets\\Blaze the Cat\\Blaze 2\\00_00_00_Blaze_Sad__That was weak.wav\n",
      "G:\\TwiBot\\CookiePPPTTS\\CookieTTS\\_1_preprocess\\datasets\\Blaze the Cat\\Blaze 2\\00_00_00_Blaze_Sad__This whole area is destroyed.wav\n",
      "G:\\TwiBot\\CookiePPPTTS\\CookieTTS\\_1_preprocess\\datasets\\Blaze the Cat\\Blaze 2\\00_00_00_Blaze_Sad__Uh.wav\n",
      "G:\\TwiBot\\CookiePPPTTS\\CookieTTS\\_1_preprocess\\datasets\\Blaze the Cat\\Blaze 2\\00_00_00_Blaze_Sarcastic__Down seems wise.wav\n",
      "G:\\TwiBot\\CookiePPPTTS\\CookieTTS\\_1_preprocess\\datasets\\Blaze the Cat\\Blaze 2\\00_00_00_Blaze_Sarcastic__Hopefully this will be competitive.wav\n",
      "G:\\TwiBot\\CookiePPPTTS\\CookieTTS\\_1_preprocess\\datasets\\Blaze the Cat\\Blaze 2\\00_00_00_Blaze_Sarcastic__It's too early to go over there.wav\n",
      "G:\\TwiBot\\CookiePPPTTS\\CookieTTS\\_1_preprocess\\datasets\\Blaze the Cat\\Blaze 2\\00_00_00_Blaze_Sarcastic__Now I shall test your skill, sir knight.wav\n",
      "G:\\TwiBot\\CookiePPPTTS\\CookieTTS\\_1_preprocess\\datasets\\Blaze the Cat\\Blaze 2\\00_00_00_Blaze_Sarcastic__Psychokinesis has no effect against lasers. Looks like you can only avoid them.wav\n",
      "G:\\TwiBot\\CookiePPPTTS\\CookieTTS\\_1_preprocess\\datasets\\Blaze the Cat\\Blaze 2\\00_00_00_Blaze_Sarcastic__There'll be trouble if you're discovered by that lookout mech. Defeat it before it notices you.wav\n",
      "G:\\TwiBot\\CookiePPPTTS\\CookieTTS\\_1_preprocess\\datasets\\Blaze the Cat\\Blaze 2\\00_00_00_Blaze_Shouting__A dragon, eh. Finally a foe, worthy of a knight of the round table.wav\n",
      "G:\\TwiBot\\CookiePPPTTS\\CookieTTS\\_1_preprocess\\datasets\\Blaze the Cat\\Blaze 2\\00_00_00_Blaze_Shouting__Aauugh.wav\n",
      "G:\\TwiBot\\CookiePPPTTS\\CookieTTS\\_1_preprocess\\datasets\\Blaze the Cat\\Blaze 2\\00_00_00_Blaze_Shouting__Ah! Let go of me, foul beast.wav\n",
      "G:\\TwiBot\\CookiePPPTTS\\CookieTTS\\_1_preprocess\\datasets\\Blaze the Cat\\Blaze 2\\00_00_00_Blaze_Shouting__Amy.wav\n",
      "G:\\TwiBot\\CookiePPPTTS\\CookieTTS\\_1_preprocess\\datasets\\Blaze the Cat\\Blaze 2\\00_00_00_Blaze_Shouting__Commence mission.wav\n",
      "G:\\TwiBot\\CookiePPPTTS\\CookieTTS\\_1_preprocess\\datasets\\Blaze the Cat\\Blaze 2\\00_00_00_Blaze_Shouting__Don't hold back.wav\n",
      "G:\\TwiBot\\CookiePPPTTS\\CookieTTS\\_1_preprocess\\datasets\\Blaze the Cat\\Blaze 2\\00_00_00_Blaze_Shouting__Ha.wav\n",
      "G:\\TwiBot\\CookiePPPTTS\\CookieTTS\\_1_preprocess\\datasets\\Blaze the Cat\\Blaze 2\\00_00_00_Blaze_Shouting__Haaa.wav\n",
      "G:\\TwiBot\\CookiePPPTTS\\CookieTTS\\_1_preprocess\\datasets\\Blaze the Cat\\Blaze 2\\00_00_00_Blaze_Shouting__Haah.wav\n",
      "G:\\TwiBot\\CookiePPPTTS\\CookieTTS\\_1_preprocess\\datasets\\Blaze the Cat\\Blaze 2\\00_00_00_Blaze_Shouting__Hah.wav\n",
      "G:\\TwiBot\\CookiePPPTTS\\CookieTTS\\_1_preprocess\\datasets\\Blaze the Cat\\Blaze 2\\00_00_00_Blaze_Shouting__Here we go.wav\n",
      "G:\\TwiBot\\CookiePPPTTS\\CookieTTS\\_1_preprocess\\datasets\\Blaze the Cat\\Blaze 2\\00_00_00_Blaze_Shouting__Hooah.wav\n",
      "G:\\TwiBot\\CookiePPPTTS\\CookieTTS\\_1_preprocess\\datasets\\Blaze the Cat\\Blaze 2\\00_00_00_Blaze_Shouting__Huuah.wav\n",
      "G:\\TwiBot\\CookiePPPTTS\\CookieTTS\\_1_preprocess\\datasets\\Blaze the Cat\\Blaze 2\\00_00_00_Blaze_Shouting__Hyah.wav\n",
      "G:\\TwiBot\\CookiePPPTTS\\CookieTTS\\_1_preprocess\\datasets\\Blaze the Cat\\Blaze 2\\00_00_00_Blaze_Shouting__I shall claim your life by order of King Arthur.wav\n",
      "G:\\TwiBot\\CookiePPPTTS\\CookieTTS\\_1_preprocess\\datasets\\Blaze the Cat\\Blaze 2\\00_00_00_Blaze_Shouting__My enemies always fall before me.wav\n",
      "G:\\TwiBot\\CookiePPPTTS\\CookieTTS\\_1_preprocess\\datasets\\Blaze the Cat\\Blaze 2\\00_00_00_Blaze_Shouting__Now, Silver.wav\n",
      "G:\\TwiBot\\CookiePPPTTS\\CookieTTS\\_1_preprocess\\datasets\\Blaze the Cat\\Blaze 2\\00_00_00_Blaze_Shouting__Oh dragon of thunder, lend me your power.wav\n",
      "G:\\TwiBot\\CookiePPPTTS\\CookieTTS\\_1_preprocess\\datasets\\Blaze the Cat\\Blaze 2\\00_00_00_Blaze_Shouting__Ooaah.wav\n",
      "G:\\TwiBot\\CookiePPPTTS\\CookieTTS\\_1_preprocess\\datasets\\Blaze the Cat\\Blaze 2\\00_00_00_Blaze_Shouting__Race on through.wav\n",
      "G:\\TwiBot\\CookiePPPTTS\\CookieTTS\\_1_preprocess\\datasets\\Blaze the Cat\\Blaze 2\\00_00_00_Blaze_Shouting__Silver.wav\n",
      "G:\\TwiBot\\CookiePPPTTS\\CookieTTS\\_1_preprocess\\datasets\\Blaze the Cat\\Blaze 2\\00_00_00_Blaze_Shouting__The barrier's down. Take out the central control core.wav\n",
      "G:\\TwiBot\\CookiePPPTTS\\CookieTTS\\_1_preprocess\\datasets\\Blaze the Cat\\Blaze 2\\00_00_00_Blaze_Shouting__Yah.wav\n",
      "G:\\TwiBot\\CookiePPPTTS\\CookieTTS\\_1_preprocess\\datasets\\Blaze the Cat\\Blaze 2\\00_00_00_Blaze_Shouting__Your adventure ends here.wav\n",
      "G:\\TwiBot\\CookiePPPTTS\\CookieTTS\\_1_preprocess\\datasets\\Blaze the Cat\\Blaze 2\\00_00_00_Blaze_Smug__A boat is no hinderance to my blade.wav\n",
      "G:\\TwiBot\\CookiePPPTTS\\CookieTTS\\_1_preprocess\\datasets\\Blaze the Cat\\Blaze 2\\00_00_00_Blaze_Smug__Do you still have the courage to face me.wav\n",
      "G:\\TwiBot\\CookiePPPTTS\\CookieTTS\\_1_preprocess\\datasets\\Blaze the Cat\\Blaze 2\\00_00_00_Blaze_Smug__Heh heh, what's wrong.wav\n",
      "G:\\TwiBot\\CookiePPPTTS\\CookieTTS\\_1_preprocess\\datasets\\Blaze the Cat\\Blaze 2\\00_00_00_Blaze_Smug__Here goes.wav\n",
      "G:\\TwiBot\\CookiePPPTTS\\CookieTTS\\_1_preprocess\\datasets\\Blaze the Cat\\Blaze 2\\00_00_00_Blaze_Smug__How's that.wav\n",
      "G:\\TwiBot\\CookiePPPTTS\\CookieTTS\\_1_preprocess\\datasets\\Blaze the Cat\\Blaze 2\\00_00_00_Blaze_Smug__Huh. Even a battle against a dragon leaves something to be desired.wav\n",
      "G:\\TwiBot\\CookiePPPTTS\\CookieTTS\\_1_preprocess\\datasets\\Blaze the Cat\\Blaze 2\\00_00_00_Blaze_Smug__I could go against an army, and the result would be the same.wav\n",
      "G:\\TwiBot\\CookiePPPTTS\\CookieTTS\\_1_preprocess\\datasets\\Blaze the Cat\\Blaze 2\\00_00_00_Blaze_Smug__Leave it to me.wav\n",
      "G:\\TwiBot\\CookiePPPTTS\\CookieTTS\\_1_preprocess\\datasets\\Blaze the Cat\\Blaze 2\\00_00_00_Blaze_Smug__Never get on my bad side.wav\n",
      "G:\\TwiBot\\CookiePPPTTS\\CookieTTS\\_1_preprocess\\datasets\\Blaze the Cat\\Blaze 2\\00_00_00_Blaze_Smug__No point in going easy, I'm looking forward to this.wav\n",
      "G:\\TwiBot\\CookiePPPTTS\\CookieTTS\\_1_preprocess\\datasets\\Blaze the Cat\\Blaze 2\\00_00_00_Blaze_Neutral__Those things will crawl along the walls and ceilings, then jump on you. So be careful.wav\n",
      "G:\\TwiBot\\CookiePPPTTS\\CookieTTS\\_1_preprocess\\datasets\\Blaze the Cat\\Blaze 2\\00_00_00_Blaze_Neutral__When you break open that container, an intense light will be emitted. Use it to freeze the enemy.wav\n",
      "G:\\TwiBot\\CookiePPPTTS\\CookieTTS\\_1_preprocess\\datasets\\Blaze the Cat\\Blaze 2\\00_00_00_Blaze_Neutral__You can't grab vulcan cannon shots, but you can block them with your psychokinesis.wav\n",
      "G:\\TwiBot\\CookiePPPTTS\\CookieTTS\\_1_preprocess\\datasets\\Blaze the Cat\\Blaze 2\\00_00_00_Blaze_Sad__I, too, have my reasons why I must win.wav\n",
      "G:\\TwiBot\\CookiePPPTTS\\CookieTTS\\_1_preprocess\\datasets\\Blaze the Cat\\Blaze 2\\00_00_00_Blaze_Sarcastic__As you wish.wav\n",
      "G:\\TwiBot\\CookiePPPTTS\\CookieTTS\\_1_preprocess\\datasets\\Blaze the Cat\\Blaze 2\\00_00_00_Blaze_Shouting__Chaaarge.wav\n",
      "G:\\TwiBot\\CookiePPPTTS\\CookieTTS\\_1_preprocess\\datasets\\Blaze the Cat\\Blaze 2\\00_00_00_Blaze_Shouting__Jump.wav\n",
      "G:\\TwiBot\\CookiePPPTTS\\CookieTTS\\_1_preprocess\\datasets\\Blaze the Cat\\Blaze 2\\00_00_00_Blaze_Smug__Did they think they'd stop me with this.wav\n",
      "G:\\TwiBot\\CookiePPPTTS\\CookieTTS\\_1_preprocess\\datasets\\Blaze the Cat\\Blaze 2\\00_00_00_Blaze_Smug__They think they can surprise me.wav\n",
      "G:\\TwiBot\\CookiePPPTTS\\CookieTTS\\_1_preprocess\\datasets\\Blaze the Cat\\Blaze 2\\00_00_00_Blaze_Surprised__Evading side to side is the sole course of action.wav\n",
      "G:\\TwiBot\\CookiePPPTTS\\CookieTTS\\_1_preprocess\\datasets\\Blaze the Cat\\Blaze 2\\00_00_00_Blaze_Surprised__This was, some kind of town. It appears the people have all fled.wav\n",
      "G:\\TwiBot\\CookiePPPTTS\\CookieTTS\\_1_preprocess\\datasets\\Blaze the Cat\\Blaze 2\\00_00_00_Blaze_Whispering__Could it really be him.wav\n",
      "G:\\TwiBot\\CookiePPPTTS\\CookieTTS\\_1_preprocess\\datasets\\Blaze the Cat\\Blaze 2\\00_00_00_Blaze_Smug__Time to collect some rings.wav\n",
      "G:\\TwiBot\\CookiePPPTTS\\CookieTTS\\_1_preprocess\\datasets\\Blaze the Cat\\Blaze 2\\00_00_00_Blaze_Smug__You seek to challenge me.wav\n",
      "G:\\TwiBot\\CookiePPPTTS\\CookieTTS\\_1_preprocess\\datasets\\Blaze the Cat\\Blaze 2\\00_00_00_Blaze_Smug__You'll never be a match for me.wav\n",
      "G:\\TwiBot\\CookiePPPTTS\\CookieTTS\\_1_preprocess\\datasets\\Blaze the Cat\\Blaze 2\\00_00_00_Blaze_Surprised__A town in a place like this.wav\n",
      "G:\\TwiBot\\CookiePPPTTS\\CookieTTS\\_1_preprocess\\datasets\\Blaze the Cat\\Blaze 2\\00_00_00_Blaze_Surprised__An explosive ball of energy.wav\n",
      "G:\\TwiBot\\CookiePPPTTS\\CookieTTS\\_1_preprocess\\datasets\\Blaze the Cat\\Blaze 2\\00_00_00_Blaze_Surprised__Another town. And a large one at that. Maybe there is something within.wav\n",
      "G:\\TwiBot\\CookiePPPTTS\\CookieTTS\\_1_preprocess\\datasets\\Blaze the Cat\\Blaze 2\\00_00_00_Blaze_Surprised__Bu, but, how did you.wav\n",
      "G:\\TwiBot\\CookiePPPTTS\\CookieTTS\\_1_preprocess\\datasets\\Blaze the Cat\\Blaze 2\\00_00_00_Blaze_Surprised__Do you truly think you can match my swordsmanship.wav\n",
      "G:\\TwiBot\\CookiePPPTTS\\CookieTTS\\_1_preprocess\\datasets\\Blaze the Cat\\Blaze 2\\00_00_00_Blaze_Surprised__Does the knight of the wind always run like this.wav\n",
      "G:\\TwiBot\\CookiePPPTTS\\CookieTTS\\_1_preprocess\\datasets\\Blaze the Cat\\Blaze 2\\00_00_00_Blaze_Surprised__How will I get over there.wav\n",
      "G:\\TwiBot\\CookiePPPTTS\\CookieTTS\\_1_preprocess\\datasets\\Blaze the Cat\\Blaze 2\\00_00_00_Blaze_Surprised__I wasn't expecting that.wav\n",
      "G:\\TwiBot\\CookiePPPTTS\\CookieTTS\\_1_preprocess\\datasets\\Blaze the Cat\\Blaze 2\\00_00_00_Blaze_Surprised__Impressive, oh knight of the wind.wav\n",
      "G:\\TwiBot\\CookiePPPTTS\\CookieTTS\\_1_preprocess\\datasets\\Blaze the Cat\\Blaze 2\\00_00_00_Blaze_Surprised__Incoming.wav\n",
      "G:\\TwiBot\\CookiePPPTTS\\CookieTTS\\_1_preprocess\\datasets\\Blaze the Cat\\Blaze 2\\00_00_00_Blaze_Surprised__Is it the grass that is slowing me down.wav\n",
      "G:\\TwiBot\\CookiePPPTTS\\CookieTTS\\_1_preprocess\\datasets\\Blaze the Cat\\Blaze 2\\00_00_00_Blaze_Surprised__The fiend has an impressive attack, but it can be avoided by evading left and right.wav\n",
      "G:\\TwiBot\\CookiePPPTTS\\CookieTTS\\_1_preprocess\\datasets\\Blaze the Cat\\Blaze 2\\00_00_00_Blaze_Surprised__This is a little intense.wav\n",
      "G:\\TwiBot\\CookiePPPTTS\\CookieTTS\\_1_preprocess\\datasets\\Blaze the Cat\\Blaze 2\\00_00_00_Blaze_Surprised__This is merely a matter of crossing the finish line within the time limit. All too easy.wav\n",
      "G:\\TwiBot\\CookiePPPTTS\\CookieTTS\\_1_preprocess\\datasets\\Blaze the Cat\\Blaze 2\\00_00_00_Blaze_Surprised__This pole could send me flying.wav\n",
      "G:\\TwiBot\\CookiePPPTTS\\CookieTTS\\_1_preprocess\\datasets\\Blaze the Cat\\Blaze 2\\00_00_00_Blaze_Whispering__Humhum.wav\n",
      "G:\\TwiBot\\CookiePPPTTS\\CookieTTS\\_1_preprocess\\datasets\\Blaze the Cat\\Blaze 2\\00_00_00_Blaze_Whispering__Hyah.wav\n",
      "G:\\TwiBot\\CookiePPPTTS\\CookieTTS\\_1_preprocess\\datasets\\Blaze the Cat\\Blaze 2\\00_00_00_Blaze_Whispering__I'll go up this time.wav\n",
      "G:\\TwiBot\\CookiePPPTTS\\CookieTTS\\_1_preprocess\\datasets\\Blaze the Cat\\Blaze 2\\00_00_00_Blaze_Whispering__Iblis! This time I'll finish you.wav\n",
      "G:\\TwiBot\\CookiePPPTTS\\CookieTTS\\_1_preprocess\\datasets\\Blaze the Cat\\Blaze 2\\00_00_00_Blaze_Whispering__No.wav\n",
      "G:\\TwiBot\\CookiePPPTTS\\CookieTTS\\_1_preprocess\\datasets\\Blaze the Cat\\Blaze 2\\00_00_00_Blaze_Whispering__So this moves to the side.wav\n",
      "G:\\TwiBot\\CookiePPPTTS\\CookieTTS\\_1_preprocess\\datasets\\Blaze the Cat\\Blaze 2\\00_00_00_Blaze_Whispering__Sonic.wav\n",
      "G:\\TwiBot\\CookiePPPTTS\\CookieTTS\\_1_preprocess\\datasets\\Blaze the Cat\\Blaze 2\\00_00_00_Blaze_Whispering__Switch.wav\n",
      "G:\\TwiBot\\CookiePPPTTS\\CookieTTS\\_1_preprocess\\datasets\\Blaze the Cat\\Blaze 2\\00_00_00_Blaze_Whispering__Ta.wav\n",
      "G:\\TwiBot\\CookiePPPTTS\\CookieTTS\\_1_preprocess\\datasets\\Blaze the Cat\\Blaze 2\\00_00_00_Blaze_Whispering__The iblis trigger. A blue hedgehog. Can it be true. I need to find Silver fast.wav\n",
      "G:\\TwiBot\\CookiePPPTTS\\CookieTTS\\_1_preprocess\\datasets\\Blaze the Cat\\Blaze 2\\00_00_00_Blaze_Whispering__This is not good. It's going to cave in.wav\n",
      "G:\\TwiBot\\CookiePPPTTS\\CookieTTS\\_1_preprocess\\datasets\\Blaze the Cat\\Blaze 2\\00_00_00_Blaze_Angry__That huge ball of flame is a dangerous attack that can destroy footholds.wav\n",
      "G:\\TwiBot\\CookiePPPTTS\\CookieTTS\\_1_preprocess\\datasets\\Blaze the Cat\\Blaze 2\\00_00_00_Blaze_Angry__The beast must be slain! Terrain disadvantages are irrelevant.wav\n",
      "G:\\TwiBot\\CookiePPPTTS\\CookieTTS\\_1_preprocess\\datasets\\Blaze the Cat\\Blaze 2\\00_00_00_Blaze_Angry__The enemy is here.wav\n",
      "G:\\TwiBot\\CookiePPPTTS\\CookieTTS\\_1_preprocess\\datasets\\Blaze the Cat\\Blaze 2\\00_00_00_Blaze_Angry__The forest is being choked by this underworld miasma. Unforgivable.wav\n",
      "G:\\TwiBot\\CookiePPPTTS\\CookieTTS\\_1_preprocess\\datasets\\Blaze the Cat\\Blaze 2\\00_00_00_Blaze_Angry__This is nowhere near over.wav\n",
      "G:\\TwiBot\\CookiePPPTTS\\CookieTTS\\_1_preprocess\\datasets\\Blaze the Cat\\Blaze 2\\00_00_00_Blaze_Angry__Time to start again from scratch.wav\n",
      "G:\\TwiBot\\CookiePPPTTS\\CookieTTS\\_1_preprocess\\datasets\\Blaze the Cat\\Blaze 2\\00_00_00_Blaze_Angry__Who would've thought you would make it this far.wav\n",
      "G:\\TwiBot\\CookiePPPTTS\\CookieTTS\\_1_preprocess\\datasets\\Blaze the Cat\\Blaze 2\\00_00_00_Blaze_Angry__You are going to regret this.wav\n",
      "G:\\TwiBot\\CookiePPPTTS\\CookieTTS\\_1_preprocess\\datasets\\Blaze the Cat\\Blaze 2\\00_00_00_Blaze_Neutral__Call me with the Y button.wav\n",
      "G:\\TwiBot\\CookiePPPTTS\\CookieTTS\\_1_preprocess\\datasets\\Blaze the Cat\\Blaze 2\\00_00_00_Blaze_Neutral__There is nothing to fear now.wav\n",
      "G:\\TwiBot\\CookiePPPTTS\\CookieTTS\\_1_preprocess\\datasets\\Blaze the Cat\\Blaze 2\\00_00_00_Blaze_Surprised__What the.wav\n",
      "G:\\TwiBot\\CookiePPPTTS\\CookieTTS\\_1_preprocess\\datasets\\Blaze the Cat\\Blaze 2\\00_00_00_Blaze_Surprised__What's this passage doing here.wav\n",
      "G:\\TwiBot\\CookiePPPTTS\\CookieTTS\\_1_preprocess\\datasets\\Blaze the Cat\\Blaze 2\\00_00_00_Blaze_Surprised__What.wav\n",
      "G:\\TwiBot\\CookiePPPTTS\\CookieTTS\\_1_preprocess\\datasets\\Blaze the Cat\\Blaze 2\\00_00_00_Blaze_Surprised__Whoa.wav\n",
      "G:\\TwiBot\\CookiePPPTTS\\CookieTTS\\_1_preprocess\\datasets\\Blaze the Cat\\Blaze 2\\00_00_00_Blaze_Whining__A falling pillar.wav\n",
      "G:\\TwiBot\\CookiePPPTTS\\CookieTTS\\_1_preprocess\\datasets\\Blaze the Cat\\Blaze 2\\00_00_00_Blaze_Whining__Agh. The foul beast will not let me get near.wav\n",
      "G:\\TwiBot\\CookiePPPTTS\\CookieTTS\\_1_preprocess\\datasets\\Blaze the Cat\\Blaze 2\\00_00_00_Blaze_Whining__Let's get started already.wav\n",
      "G:\\TwiBot\\CookiePPPTTS\\CookieTTS\\_1_preprocess\\datasets\\Blaze the Cat\\Blaze 2\\00_00_00_Blaze_Whining__Let's hurry up.wav\n",
      "G:\\TwiBot\\CookiePPPTTS\\CookieTTS\\_1_preprocess\\datasets\\Blaze the Cat\\Blaze 2\\00_00_00_Blaze_Whining__Such infernal noise.wav\n",
      "G:\\TwiBot\\CookiePPPTTS\\CookieTTS\\_1_preprocess\\datasets\\Blaze the Cat\\Blaze 2\\00_00_00_Blaze_Whining__Why did it have to fall just then.wav\n",
      "G:\\TwiBot\\CookiePPPTTS\\CookieTTS\\_1_preprocess\\datasets\\Blaze the Cat\\Blaze 2\\00_00_00_Blaze_Whispering__Ahh.wav\n"
     ]
    }
   ],
   "source": [
    "from glob import glob\n",
    "import os\n",
    "for fpath in glob(r\"G:\\TwiBot\\CookiePPPTTS\\CookieTTS\\_1_preprocess\\datasets\\Blaze the Cat\\**\\*__*\", recursive=True):\n",
    "    print(fpath)\n",
    "    #if not os.path.isdir(fpath):\n",
    "    #    os.rename(fpath, fpath.replace(' ','_'))"
   ]
  },
  {
   "cell_type": "code",
   "execution_count": 42,
   "metadata": {},
   "outputs": [
    {
     "name": "stdout",
     "output_type": "stream",
     "text": [
      "70.5 µs ± 703 ns per loop (mean ± std. dev. of 7 runs, 10000 loops each)\n"
     ]
    }
   ],
   "source": [
    "%%timeit\n",
    "x = torch.rand(8,160,750, device='cuda')"
   ]
  },
  {
   "cell_type": "code",
   "execution_count": 43,
   "metadata": {},
   "outputs": [
    {
     "name": "stdout",
     "output_type": "stream",
     "text": [
      "24 ns ± 0.52 ns per loop (mean ± std. dev. of 7 runs, 10000000 loops each)\n"
     ]
    }
   ],
   "source": [
    "%%timeit\n",
    "y = x"
   ]
  },
  {
   "cell_type": "code",
   "execution_count": 44,
   "metadata": {},
   "outputs": [
    {
     "name": "stdout",
     "output_type": "stream",
     "text": [
      "70.2 µs ± 99.6 ns per loop (mean ± std. dev. of 7 runs, 10000 loops each)\n"
     ]
    }
   ],
   "source": [
    "%%timeit\n",
    "y = x = torch.rand(8,160,750, device='cuda')"
   ]
  },
  {
   "cell_type": "code",
   "execution_count": 38,
   "metadata": {},
   "outputs": [
    {
     "name": "stdout",
     "output_type": "stream",
     "text": [
      "('E:\\\\downloads\\\\Clipper_MLP\\\\Sliced Dialogue\\\\EQG\\\\EQG Dance Magic\\\\00_00_41_Rarity_Neutral__All of this sunshine and suds are doing a number on my hair..flac', 'E:\\\\downloads\\\\Clipper_MLP\\\\Sliced Dialogue\\\\EQG\\\\EQG Dance Magic\\\\00_00_41_Rarity_Neutral__All of this sunshine and suds are doing a number on my hair.flac')\n",
      "(\"E:\\\\downloads\\\\Clipper_MLP\\\\Sliced Dialogue\\\\EQG\\\\EQG Dance Magic\\\\00_00_51_Twilight_Neutral_Very Noisy_I'm here..flac\", \"E:\\\\downloads\\\\Clipper_MLP\\\\Sliced Dialogue\\\\EQG\\\\EQG Dance Magic\\\\00_00_51_Twilight_Neutral_Very Noisy_I'm here.flac\")\n",
      "('E:\\\\downloads\\\\Clipper_MLP\\\\Sliced Dialogue\\\\EQG\\\\EQG Dance Magic\\\\00_00_52_Twilight_Neutral_Very Noisy_I was just going over the numbers again..flac', 'E:\\\\downloads\\\\Clipper_MLP\\\\Sliced Dialogue\\\\EQG\\\\EQG Dance Magic\\\\00_00_52_Twilight_Neutral_Very Noisy_I was just going over the numbers again.flac')\n",
      "(\"E:\\\\downloads\\\\Clipper_MLP\\\\Sliced Dialogue\\\\EQG\\\\EQG Dance Magic\\\\00_00_57_Twilight_Neutral_Noisy_We've only raised half..flac\", \"E:\\\\downloads\\\\Clipper_MLP\\\\Sliced Dialogue\\\\EQG\\\\EQG Dance Magic\\\\00_00_57_Twilight_Neutral_Noisy_We've only raised half.flac\")\n",
      "(\"E:\\\\downloads\\\\Clipper_MLP\\\\Sliced Dialogue\\\\EQG\\\\EQG Dance Magic\\\\00_01_03_Applejack_Neutral_Noisy_It's all right..flac\", \"E:\\\\downloads\\\\Clipper_MLP\\\\Sliced Dialogue\\\\EQG\\\\EQG Dance Magic\\\\00_01_03_Applejack_Neutral_Noisy_It's all right.flac\")\n",
      "(\"E:\\\\downloads\\\\Clipper_MLP\\\\Sliced Dialogue\\\\EQG\\\\EQG Dance Magic\\\\00_01_04_Applejack_Neutral_Very Noisy_We can just wash more cars. there's gotta be some we missed..flac\", \"E:\\\\downloads\\\\Clipper_MLP\\\\Sliced Dialogue\\\\EQG\\\\EQG Dance Magic\\\\00_01_04_Applejack_Neutral_Very Noisy_We can just wash more cars. there's gotta be some we missed.flac\")\n",
      "(\"E:\\\\downloads\\\\Clipper_MLP\\\\Sliced Dialogue\\\\EQG\\\\EQG Dance Magic\\\\00_01_11_Sunset Shimmer_Neutral_Noisy_I uh think we're gonna have to come up with a new plan..flac\", \"E:\\\\downloads\\\\Clipper_MLP\\\\Sliced Dialogue\\\\EQG\\\\EQG Dance Magic\\\\00_01_11_Sunset Shimmer_Neutral_Noisy_I uh think we're gonna have to come up with a new plan.flac\")\n",
      "('E:\\\\downloads\\\\Clipper_MLP\\\\Sliced Dialogue\\\\EQG\\\\EQG Dance Magic\\\\00_01_16_Rainbow_Anxious_Noisy_The camp fundraising deadline is next week..flac', 'E:\\\\downloads\\\\Clipper_MLP\\\\Sliced Dialogue\\\\EQG\\\\EQG Dance Magic\\\\00_01_16_Rainbow_Anxious_Noisy_The camp fundraising deadline is next week.flac')\n",
      "(\"E:\\\\downloads\\\\Clipper_MLP\\\\Sliced Dialogue\\\\EQG\\\\EQG Dance Magic\\\\00_01_19_Rainbow_Neutral_Very Noisy_And pinkie pie's already hosted a bake sale, Twilight and fluttershy had that doggy day care..flac\", \"E:\\\\downloads\\\\Clipper_MLP\\\\Sliced Dialogue\\\\EQG\\\\EQG Dance Magic\\\\00_01_19_Rainbow_Neutral_Very Noisy_And pinkie pie's already hosted a bake sale, Twilight and fluttershy had that doggy day care.flac\")\n",
      "('E:\\\\downloads\\\\Clipper_MLP\\\\Sliced Dialogue\\\\EQG\\\\EQG Dance Magic\\\\00_01_24_Rainbow_Neutral__And sunset shimmer and i planned this car wash..flac', 'E:\\\\downloads\\\\Clipper_MLP\\\\Sliced Dialogue\\\\EQG\\\\EQG Dance Magic\\\\00_01_24_Rainbow_Neutral__And sunset shimmer and i planned this car wash.flac')\n",
      "(\"E:\\\\downloads\\\\Clipper_MLP\\\\Sliced Dialogue\\\\EQG\\\\EQG Dance Magic\\\\00_01_26_Rarity_Neutral_Noisy_Not to worry darlings, it's my turn to devise a plan..flac\", \"E:\\\\downloads\\\\Clipper_MLP\\\\Sliced Dialogue\\\\EQG\\\\EQG Dance Magic\\\\00_01_26_Rarity_Neutral_Noisy_Not to worry darlings, it's my turn to devise a plan.flac\")\n",
      "('E:\\\\downloads\\\\Clipper_MLP\\\\Sliced Dialogue\\\\EQG\\\\EQG Dance Magic\\\\00_00_30_Rainbow_Neutral_Very Noisy_Thanks big mac..flac', 'E:\\\\downloads\\\\Clipper_MLP\\\\Sliced Dialogue\\\\EQG\\\\EQG Dance Magic\\\\00_00_30_Rainbow_Neutral_Very Noisy_Thanks big mac.flac')\n",
      "('E:\\\\downloads\\\\Clipper_MLP\\\\Sliced Dialogue\\\\EQG\\\\EQG Dance Magic\\\\00_00_59_Twilight_Neutral_Very Noisy_I counted the money four times just to be sure..flac', 'E:\\\\downloads\\\\Clipper_MLP\\\\Sliced Dialogue\\\\EQG\\\\EQG Dance Magic\\\\00_00_59_Twilight_Neutral_Very Noisy_I counted the money four times just to be sure.flac')\n",
      "('E:\\\\downloads\\\\Clipper_MLP\\\\Sliced Dialogue\\\\EQG\\\\EQG Dance Magic\\\\00_01_41_Rarity_Neutral_Very Noisy_Meet me in the music room later this afternoon, and i will explain everything..flac', 'E:\\\\downloads\\\\Clipper_MLP\\\\Sliced Dialogue\\\\EQG\\\\EQG Dance Magic\\\\00_01_41_Rarity_Neutral_Very Noisy_Meet me in the music room later this afternoon, and i will explain everything.flac')\n",
      "('E:\\\\downloads\\\\Clipper_MLP\\\\Sliced Dialogue\\\\EQG\\\\EQG Dance Magic\\\\00_02_27_Rarity_Neutral_Very Noisy_Usually window shopping inspires me..flac', 'E:\\\\downloads\\\\Clipper_MLP\\\\Sliced Dialogue\\\\EQG\\\\EQG Dance Magic\\\\00_02_27_Rarity_Neutral_Very Noisy_Usually window shopping inspires me.flac')\n",
      "('E:\\\\downloads\\\\Clipper_MLP\\\\Sliced Dialogue\\\\EQG\\\\EQG Dance Magic\\\\00_01_29_Rarity_Neutral__And i already have something amazing in mind..flac', 'E:\\\\downloads\\\\Clipper_MLP\\\\Sliced Dialogue\\\\EQG\\\\EQG Dance Magic\\\\00_01_29_Rarity_Neutral__And i already have something amazing in mind.flac')\n",
      "('E:\\\\downloads\\\\Clipper_MLP\\\\Sliced Dialogue\\\\EQG\\\\EQG Dance Magic\\\\00_02_21_Rarity_Neutral_Very Noisy_Oh, rats..flac', 'E:\\\\downloads\\\\Clipper_MLP\\\\Sliced Dialogue\\\\EQG\\\\EQG Dance Magic\\\\00_02_21_Rarity_Neutral_Very Noisy_Oh, rats.flac')\n",
      "('E:\\\\downloads\\\\Clipper_MLP\\\\Sliced Dialogue\\\\EQG\\\\EQG Dance Magic\\\\00_02_23_Rarity_Annoyed_Very Noisy_Three hours and still no ideas for a lucrative last minute fundraiser..flac', 'E:\\\\downloads\\\\Clipper_MLP\\\\Sliced Dialogue\\\\EQG\\\\EQG Dance Magic\\\\00_02_23_Rarity_Annoyed_Very Noisy_Three hours and still no ideas for a lucrative last minute fundraiser.flac')\n",
      "('E:\\\\downloads\\\\Clipper_MLP\\\\Sliced Dialogue\\\\EQG\\\\EQG Dance Magic\\\\00_02_34_Rarity_Neutral_Very Noisy_Yes..flac', 'E:\\\\downloads\\\\Clipper_MLP\\\\Sliced Dialogue\\\\EQG\\\\EQG Dance Magic\\\\00_02_34_Rarity_Neutral_Very Noisy_Yes.flac')\n",
      "('E:\\\\downloads\\\\Clipper_MLP\\\\Sliced Dialogue\\\\EQG\\\\EQG Dance Magic\\\\00_03_15_Sour Sweet_Annoyed Whispering_Very Noisy_Not..flac', 'E:\\\\downloads\\\\Clipper_MLP\\\\Sliced Dialogue\\\\EQG\\\\EQG Dance Magic\\\\00_03_15_Sour Sweet_Annoyed Whispering_Very Noisy_Not.flac')\n",
      "(\"E:\\\\downloads\\\\Clipper_MLP\\\\Sliced Dialogue\\\\EQG\\\\EQG Dance Magic\\\\00_03_19_Rarity_Neutral__Why, it's been ages..flac\", \"E:\\\\downloads\\\\Clipper_MLP\\\\Sliced Dialogue\\\\EQG\\\\EQG Dance Magic\\\\00_03_19_Rarity_Neutral__Why, it's been ages.flac\")\n",
      "('E:\\\\downloads\\\\Clipper_MLP\\\\Sliced Dialogue\\\\EQG\\\\EQG Dance Magic\\\\00_03_28_Sunny Flare_Neutral__Oh, things at cpa have never been better since principal cadance took over..flac', 'E:\\\\downloads\\\\Clipper_MLP\\\\Sliced Dialogue\\\\EQG\\\\EQG Dance Magic\\\\00_03_28_Sunny Flare_Neutral__Oh, things at cpa have never been better since principal cadance took over.flac')\n",
      "('E:\\\\downloads\\\\Clipper_MLP\\\\Sliced Dialogue\\\\EQG\\\\EQG Dance Magic\\\\00_03_38_Sour Sweet_Neutral__If we raise the money..flac', 'E:\\\\downloads\\\\Clipper_MLP\\\\Sliced Dialogue\\\\EQG\\\\EQG Dance Magic\\\\00_03_38_Sour Sweet_Neutral__If we raise the money.flac')\n",
      "('E:\\\\downloads\\\\Clipper_MLP\\\\Sliced Dialogue\\\\EQG\\\\EQG Dance Magic\\\\00_03_40_Rarity_Neutral__Sounds divine..flac', 'E:\\\\downloads\\\\Clipper_MLP\\\\Sliced Dialogue\\\\EQG\\\\EQG Dance Magic\\\\00_03_40_Rarity_Neutral__Sounds divine.flac')\n",
      "('E:\\\\downloads\\\\Clipper_MLP\\\\Sliced Dialogue\\\\EQG\\\\EQG Dance Magic\\\\00_03_54_Sour Sweet_Neutral__I assume you already have a video concept figured out..flac', 'E:\\\\downloads\\\\Clipper_MLP\\\\Sliced Dialogue\\\\EQG\\\\EQG Dance Magic\\\\00_03_54_Sour Sweet_Neutral__I assume you already have a video concept figured out.flac')\n",
      "(\"E:\\\\downloads\\\\Clipper_MLP\\\\Sliced Dialogue\\\\EQG\\\\EQG Dance Magic\\\\00_03_58_Sour Sweet_Neutral_Noisy_The competition's going to be pretty fierce..flac\", \"E:\\\\downloads\\\\Clipper_MLP\\\\Sliced Dialogue\\\\EQG\\\\EQG Dance Magic\\\\00_03_58_Sour Sweet_Neutral_Noisy_The competition's going to be pretty fierce.flac\")\n",
      "('E:\\\\downloads\\\\Clipper_MLP\\\\Sliced Dialogue\\\\EQG\\\\EQG Dance Magic\\\\00_04_02_Rarity_Neutral__Yes..flac', 'E:\\\\downloads\\\\Clipper_MLP\\\\Sliced Dialogue\\\\EQG\\\\EQG Dance Magic\\\\00_04_02_Rarity_Neutral__Yes.flac')\n",
      "('E:\\\\downloads\\\\Clipper_MLP\\\\Sliced Dialogue\\\\EQG\\\\EQG Dance Magic\\\\00_04_03_Rarity_Neutral_Very Noisy_It came to me as soon as i saw that gorgeous red ruffled ensemble on the way over here..flac', 'E:\\\\downloads\\\\Clipper_MLP\\\\Sliced Dialogue\\\\EQG\\\\EQG Dance Magic\\\\00_04_03_Rarity_Neutral_Very Noisy_It came to me as soon as i saw that gorgeous red ruffled ensemble on the way over here.flac')\n",
      "('E:\\\\downloads\\\\Clipper_MLP\\\\Sliced Dialogue\\\\EQG\\\\EQG Dance Magic\\\\00_04_11_Rarity_Neutral_Very Noisy_Well..flac', 'E:\\\\downloads\\\\Clipper_MLP\\\\Sliced Dialogue\\\\EQG\\\\EQG Dance Magic\\\\00_04_11_Rarity_Neutral_Very Noisy_Well.flac')\n",
      "('E:\\\\downloads\\\\Clipper_MLP\\\\Sliced Dialogue\\\\EQG\\\\EQG Dance Magic\\\\00_04_12_Rarity_Neutral_Very Noisy_Each member of the rainbooms is going to dance in a different style..flac', 'E:\\\\downloads\\\\Clipper_MLP\\\\Sliced Dialogue\\\\EQG\\\\EQG Dance Magic\\\\00_04_12_Rarity_Neutral_Very Noisy_Each member of the rainbooms is going to dance in a different style.flac')\n",
      "('E:\\\\downloads\\\\Clipper_MLP\\\\Sliced Dialogue\\\\EQG\\\\EQG Dance Magic\\\\00_04_16_Rarity_Neutral_Very Noisy_Like flamenco, hip hop, or street ballet..flac', 'E:\\\\downloads\\\\Clipper_MLP\\\\Sliced Dialogue\\\\EQG\\\\EQG Dance Magic\\\\00_04_16_Rarity_Neutral_Very Noisy_Like flamenco, hip hop, or street ballet.flac')\n",
      "(\"E:\\\\downloads\\\\Clipper_MLP\\\\Sliced Dialogue\\\\EQG\\\\EQG Dance Magic\\\\00_04_18_Rarity_Neutral_Very Noisy_And we'll wear costumes to match each genre..flac\", \"E:\\\\downloads\\\\Clipper_MLP\\\\Sliced Dialogue\\\\EQG\\\\EQG Dance Magic\\\\00_04_18_Rarity_Neutral_Very Noisy_And we'll wear costumes to match each genre.flac\")\n",
      "('E:\\\\downloads\\\\Clipper_MLP\\\\Sliced Dialogue\\\\EQG\\\\EQG Dance Magic\\\\00_04_21_Rarity_Neutral_Very Noisy_Designed by yours truly of course..flac', 'E:\\\\downloads\\\\Clipper_MLP\\\\Sliced Dialogue\\\\EQG\\\\EQG Dance Magic\\\\00_04_21_Rarity_Neutral_Very Noisy_Designed by yours truly of course.flac')\n",
      "('E:\\\\downloads\\\\Clipper_MLP\\\\Sliced Dialogue\\\\EQG\\\\EQG Dance Magic\\\\00_04_29_Sour Sweet_Neutral__Yeah..flac', 'E:\\\\downloads\\\\Clipper_MLP\\\\Sliced Dialogue\\\\EQG\\\\EQG Dance Magic\\\\00_04_29_Sour Sweet_Neutral__Yeah.flac')\n",
      "(\"E:\\\\downloads\\\\Clipper_MLP\\\\Sliced Dialogue\\\\EQG\\\\EQG Dance Magic\\\\00_04_30_Sour Sweet_Neutral__I guess it's okay..flac\", \"E:\\\\downloads\\\\Clipper_MLP\\\\Sliced Dialogue\\\\EQG\\\\EQG Dance Magic\\\\00_04_30_Sour Sweet_Neutral__I guess it's okay.flac\")\n",
      "(\"E:\\\\downloads\\\\Clipper_MLP\\\\Sliced Dialogue\\\\EQG\\\\EQG Dance Magic\\\\00_04_31_Sour Sweet_Whispering_Noisy_If you're going for way too over the top..flac\", \"E:\\\\downloads\\\\Clipper_MLP\\\\Sliced Dialogue\\\\EQG\\\\EQG Dance Magic\\\\00_04_31_Sour Sweet_Whispering_Noisy_If you're going for way too over the top.flac\")\n",
      "(\"E:\\\\downloads\\\\Clipper_MLP\\\\Sliced Dialogue\\\\EQG\\\\EQG Dance Magic\\\\00_04_43_Sour Sweet_Neutral__But it's amazing..flac\", \"E:\\\\downloads\\\\Clipper_MLP\\\\Sliced Dialogue\\\\EQG\\\\EQG Dance Magic\\\\00_04_43_Sour Sweet_Neutral__But it's amazing.flac\")\n",
      "(\"E:\\\\downloads\\\\Clipper_MLP\\\\Sliced Dialogue\\\\EQG\\\\EQG Dance Magic\\\\00_04_44_Sour Sweet_Neutral__It's so original..flac\", \"E:\\\\downloads\\\\Clipper_MLP\\\\Sliced Dialogue\\\\EQG\\\\EQG Dance Magic\\\\00_04_44_Sour Sweet_Neutral__It's so original.flac\")\n",
      "(\"E:\\\\downloads\\\\Clipper_MLP\\\\Sliced Dialogue\\\\EQG\\\\EQG Dance Magic\\\\00_04_47_Rarity_Neutral__Well i can't wait to see it..flac\", \"E:\\\\downloads\\\\Clipper_MLP\\\\Sliced Dialogue\\\\EQG\\\\EQG Dance Magic\\\\00_04_47_Rarity_Neutral__Well i can't wait to see it.flac\")\n",
      "(\"E:\\\\downloads\\\\Clipper_MLP\\\\Sliced Dialogue\\\\EQG\\\\EQG Dance Magic\\\\00_04_52_Rarity_Neutral__See_ it's a wonderful plan..flac\", \"E:\\\\downloads\\\\Clipper_MLP\\\\Sliced Dialogue\\\\EQG\\\\EQG Dance Magic\\\\00_04_52_Rarity_Neutral__See_ it's a wonderful plan.flac\")\n",
      "(\"E:\\\\downloads\\\\Clipper_MLP\\\\Sliced Dialogue\\\\EQG\\\\EQG Dance Magic\\\\00_04_55_Rarity_Neutral_Noisy_We'll write some lyrics for our new song, and we'll choreograph some dance moves..flac\", \"E:\\\\downloads\\\\Clipper_MLP\\\\Sliced Dialogue\\\\EQG\\\\EQG Dance Magic\\\\00_04_55_Rarity_Neutral_Noisy_We'll write some lyrics for our new song, and we'll choreograph some dance moves.flac\")\n",
      "('E:\\\\downloads\\\\Clipper_MLP\\\\Sliced Dialogue\\\\EQG\\\\EQG Dance Magic\\\\00_05_02_Applejack_Neutral__You make it sound simple as pie..flac', 'E:\\\\downloads\\\\Clipper_MLP\\\\Sliced Dialogue\\\\EQG\\\\EQG Dance Magic\\\\00_05_02_Applejack_Neutral__You make it sound simple as pie.flac')\n",
      "('E:\\\\downloads\\\\Clipper_MLP\\\\Sliced Dialogue\\\\EQG\\\\EQG Dance Magic\\\\00_05_06_Rarity_Neutral_Noisy_The girls at crystal prep even agree..flac', 'E:\\\\downloads\\\\Clipper_MLP\\\\Sliced Dialogue\\\\EQG\\\\EQG Dance Magic\\\\00_05_06_Rarity_Neutral_Noisy_The girls at crystal prep even agree.flac')\n",
      "(\"E:\\\\downloads\\\\Clipper_MLP\\\\Sliced Dialogue\\\\EQG\\\\EQG Dance Magic\\\\00_05_08_Rarity_Neutral__They're making a video too..flac\", \"E:\\\\downloads\\\\Clipper_MLP\\\\Sliced Dialogue\\\\EQG\\\\EQG Dance Magic\\\\00_05_08_Rarity_Neutral__They're making a video too.flac\")\n",
      "(\"E:\\\\downloads\\\\Clipper_MLP\\\\Sliced Dialogue\\\\EQG\\\\EQG Dance Magic\\\\00_05_15_Twilight_Neutral_Very Noisy_Just haven't heard much about my old school since i left, i guess..flac\", \"E:\\\\downloads\\\\Clipper_MLP\\\\Sliced Dialogue\\\\EQG\\\\EQG Dance Magic\\\\00_05_15_Twilight_Neutral_Very Noisy_Just haven't heard much about my old school since i left, i guess.flac\")\n",
      "('E:\\\\downloads\\\\Clipper_MLP\\\\Sliced Dialogue\\\\EQG\\\\EQG Dance Magic\\\\00_05_19_Spike_Neutral__Well, if you ask me, crystal prep has got nothing on chs..flac', 'E:\\\\downloads\\\\Clipper_MLP\\\\Sliced Dialogue\\\\EQG\\\\EQG Dance Magic\\\\00_05_19_Spike_Neutral__Well, if you ask me, crystal prep has got nothing on chs.flac')\n",
      "('E:\\\\downloads\\\\Clipper_MLP\\\\Sliced Dialogue\\\\EQG\\\\EQG Dance Magic\\\\00_05_27_Rarity_Neutral__Okay..flac', 'E:\\\\downloads\\\\Clipper_MLP\\\\Sliced Dialogue\\\\EQG\\\\EQG Dance Magic\\\\00_05_27_Rarity_Neutral__Okay.flac')\n",
      "(\"E:\\\\downloads\\\\Clipper_MLP\\\\Sliced Dialogue\\\\EQG\\\\EQG Dance Magic\\\\00_03_33_Sour Sweet_Neutral_Noisy_Yeah. she's going to let us have the spring dance on a yacht..flac\", \"E:\\\\downloads\\\\Clipper_MLP\\\\Sliced Dialogue\\\\EQG\\\\EQG Dance Magic\\\\00_03_33_Sour Sweet_Neutral_Noisy_Yeah. she's going to let us have the spring dance on a yacht.flac\")\n",
      "(\"E:\\\\downloads\\\\Clipper_MLP\\\\Sliced Dialogue\\\\EQG\\\\EQG Dance Magic\\\\00_03_50_Sugarcoat_Sarcastic__We definitely aren't here because we like standing in lines..flac\", \"E:\\\\downloads\\\\Clipper_MLP\\\\Sliced Dialogue\\\\EQG\\\\EQG Dance Magic\\\\00_03_50_Sugarcoat_Sarcastic__We definitely aren't here because we like standing in lines.flac\")\n",
      "('E:\\\\downloads\\\\Clipper_MLP\\\\Sliced Dialogue\\\\EQG\\\\EQG Dance Magic\\\\00_04_08_Sour Sweet_Neutral__Tell me more..flac', 'E:\\\\downloads\\\\Clipper_MLP\\\\Sliced Dialogue\\\\EQG\\\\EQG Dance Magic\\\\00_04_08_Sour Sweet_Neutral__Tell me more.flac')\n",
      "('E:\\\\downloads\\\\Clipper_MLP\\\\Sliced Dialogue\\\\EQG\\\\EQG Dance Magic\\\\00_04_24_Sugarcoat_Neutral__That sounds like a very good concept..flac', 'E:\\\\downloads\\\\Clipper_MLP\\\\Sliced Dialogue\\\\EQG\\\\EQG Dance Magic\\\\00_04_24_Sugarcoat_Neutral__That sounds like a very good concept.flac')\n",
      "(\"E:\\\\downloads\\\\Clipper_MLP\\\\Sliced Dialogue\\\\EQG\\\\EQG Dance Magic\\\\00_04_37_Sugarcoat_Neutral__Nothing. we don't have one yet..flac\", \"E:\\\\downloads\\\\Clipper_MLP\\\\Sliced Dialogue\\\\EQG\\\\EQG Dance Magic\\\\00_04_37_Sugarcoat_Neutral__Nothing. we don't have one yet.flac\")\n",
      "(\"E:\\\\downloads\\\\Clipper_MLP\\\\Sliced Dialogue\\\\EQG\\\\EQG Dance Magic\\\\00_05_13_Twilight_Neutral__Oh, no it's not..flac\", \"E:\\\\downloads\\\\Clipper_MLP\\\\Sliced Dialogue\\\\EQG\\\\EQG Dance Magic\\\\00_05_13_Twilight_Neutral__Oh, no it's not.flac\")\n",
      "('E:\\\\downloads\\\\Clipper_MLP\\\\Sliced Dialogue\\\\EQG\\\\EQG Dance Magic\\\\00_05_28_Rarity_Neutral__Before we get started with the choreographing of our dance moves..flac', 'E:\\\\downloads\\\\Clipper_MLP\\\\Sliced Dialogue\\\\EQG\\\\EQG Dance Magic\\\\00_05_28_Rarity_Neutral__Before we get started with the choreographing of our dance moves.flac')\n",
      "(\"E:\\\\downloads\\\\Clipper_MLP\\\\Sliced Dialogue\\\\EQG\\\\EQG Dance Magic\\\\00_05_33_Rarity_Neutral_Noisy_There's just one tiny, teeny weensey, little thing..flac\", \"E:\\\\downloads\\\\Clipper_MLP\\\\Sliced Dialogue\\\\EQG\\\\EQG Dance Magic\\\\00_05_33_Rarity_Neutral_Noisy_There's just one tiny, teeny weensey, little thing.flac\")\n",
      "('E:\\\\downloads\\\\Clipper_MLP\\\\Sliced Dialogue\\\\EQG\\\\EQG Dance Magic\\\\00_05_37_Rarity_Neutral__I forgot to mention..flac', 'E:\\\\downloads\\\\Clipper_MLP\\\\Sliced Dialogue\\\\EQG\\\\EQG Dance Magic\\\\00_05_37_Rarity_Neutral__I forgot to mention.flac')\n",
      "('E:\\\\downloads\\\\Clipper_MLP\\\\Sliced Dialogue\\\\EQG\\\\EQG Dance Magic\\\\00_05_41_Rarity_Anxious_Very Noisy_I would need to use our fundraiser money to buy costume materials for the video..flac', 'E:\\\\downloads\\\\Clipper_MLP\\\\Sliced Dialogue\\\\EQG\\\\EQG Dance Magic\\\\00_05_41_Rarity_Anxious_Very Noisy_I would need to use our fundraiser money to buy costume materials for the video.flac')\n",
      "('E:\\\\downloads\\\\Clipper_MLP\\\\Sliced Dialogue\\\\EQG\\\\EQG Dance Magic\\\\00_05_56_Applejack_Neutral_Noisy_oh What the hay, why not..flac', 'E:\\\\downloads\\\\Clipper_MLP\\\\Sliced Dialogue\\\\EQG\\\\EQG Dance Magic\\\\00_05_56_Applejack_Neutral_Noisy_oh What the hay, why not.flac')\n",
      "(\"E:\\\\downloads\\\\Clipper_MLP\\\\Sliced Dialogue\\\\EQG\\\\EQG Dance Magic\\\\00_06_01_Twilight_Neutral_Very Noisy_According to my calculations, if we lend rarity the funds we've already raised..flac\", \"E:\\\\downloads\\\\Clipper_MLP\\\\Sliced Dialogue\\\\EQG\\\\EQG Dance Magic\\\\00_06_01_Twilight_Neutral_Very Noisy_According to my calculations, if we lend rarity the funds we've already raised.flac\")\n",
      "('E:\\\\downloads\\\\Clipper_MLP\\\\Sliced Dialogue\\\\EQG\\\\EQG Dance Magic\\\\00_06_04_Twilight_Neutral__We stand to gain four times as much money as we have now..flac', 'E:\\\\downloads\\\\Clipper_MLP\\\\Sliced Dialogue\\\\EQG\\\\EQG Dance Magic\\\\00_06_04_Twilight_Neutral__We stand to gain four times as much money as we have now.flac')\n",
      "('E:\\\\downloads\\\\Clipper_MLP\\\\Sliced Dialogue\\\\EQG\\\\EQG Dance Magic\\\\00_06_09_Twilight_Neutral_Very Noisy_But if we lose the video contest..flac', 'E:\\\\downloads\\\\Clipper_MLP\\\\Sliced Dialogue\\\\EQG\\\\EQG Dance Magic\\\\00_06_09_Twilight_Neutral_Very Noisy_But if we lose the video contest.flac')\n",
      "(\"E:\\\\downloads\\\\Clipper_MLP\\\\Sliced Dialogue\\\\EQG\\\\EQG Dance Magic\\\\00_06_11_Twilight_Neutral__We'll be completely back to square one and zero dollars..flac\", \"E:\\\\downloads\\\\Clipper_MLP\\\\Sliced Dialogue\\\\EQG\\\\EQG Dance Magic\\\\00_06_11_Twilight_Neutral__We'll be completely back to square one and zero dollars.flac\")\n",
      "('E:\\\\downloads\\\\Clipper_MLP\\\\Sliced Dialogue\\\\EQG\\\\EQG Dance Magic\\\\00_06_18_Twilight_Neutral__I mean um..flac', 'E:\\\\downloads\\\\Clipper_MLP\\\\Sliced Dialogue\\\\EQG\\\\EQG Dance Magic\\\\00_06_18_Twilight_Neutral__I mean um.flac')\n",
      "('E:\\\\downloads\\\\Clipper_MLP\\\\Sliced Dialogue\\\\EQG\\\\EQG Dance Magic\\\\00_06_19_Twilight_Anxious__Me neither..flac', 'E:\\\\downloads\\\\Clipper_MLP\\\\Sliced Dialogue\\\\EQG\\\\EQG Dance Magic\\\\00_06_19_Twilight_Anxious__Me neither.flac')\n",
      "('E:\\\\downloads\\\\Clipper_MLP\\\\Sliced Dialogue\\\\EQG\\\\EQG Dance Magic\\\\00_06_21_Rarity_Happy__All right girls..flac', 'E:\\\\downloads\\\\Clipper_MLP\\\\Sliced Dialogue\\\\EQG\\\\EQG Dance Magic\\\\00_06_21_Rarity_Happy__All right girls.flac')\n",
      "(\"E:\\\\downloads\\\\Clipper_MLP\\\\Sliced Dialogue\\\\EQG\\\\EQG Dance Magic\\\\00_06_36_Rarity_Neutral__Rainbow dash, don't forget your cue..flac\", \"E:\\\\downloads\\\\Clipper_MLP\\\\Sliced Dialogue\\\\EQG\\\\EQG Dance Magic\\\\00_06_36_Rarity_Neutral__Rainbow dash, don't forget your cue.flac\")\n",
      "(\"E:\\\\downloads\\\\Clipper_MLP\\\\Sliced Dialogue\\\\EQG\\\\EQG Dance Magic\\\\00_07_07_Fluttershy_Anxious__I know. it's just that..flac\", \"E:\\\\downloads\\\\Clipper_MLP\\\\Sliced Dialogue\\\\EQG\\\\EQG Dance Magic\\\\00_07_07_Fluttershy_Anxious__I know. it's just that.flac\")\n",
      "(\"E:\\\\downloads\\\\Clipper_MLP\\\\Sliced Dialogue\\\\EQG\\\\EQG Dance Magic\\\\00_07_10_Fluttershy_Anxious_Noisy_I-i don't think i can do one of those..flac\", \"E:\\\\downloads\\\\Clipper_MLP\\\\Sliced Dialogue\\\\EQG\\\\EQG Dance Magic\\\\00_07_10_Fluttershy_Anxious_Noisy_I-i don't think i can do one of those.flac\")\n",
      "('E:\\\\downloads\\\\Clipper_MLP\\\\Sliced Dialogue\\\\EQG\\\\EQG Dance Magic\\\\00_07_13_Rarity_Neutral_Very Noisy_Darling of course you can, darling. i believe in you..flac', 'E:\\\\downloads\\\\Clipper_MLP\\\\Sliced Dialogue\\\\EQG\\\\EQG Dance Magic\\\\00_07_13_Rarity_Neutral_Very Noisy_Darling of course you can, darling. i believe in you.flac')\n",
      "('E:\\\\downloads\\\\Clipper_MLP\\\\Sliced Dialogue\\\\EQG\\\\EQG Dance Magic\\\\00_07_21_Sunset Shimmer_Neutral_Noisy_But all these moves are pretty hard..flac', 'E:\\\\downloads\\\\Clipper_MLP\\\\Sliced Dialogue\\\\EQG\\\\EQG Dance Magic\\\\00_07_21_Sunset Shimmer_Neutral_Noisy_But all these moves are pretty hard.flac')\n",
      "('E:\\\\downloads\\\\Clipper_MLP\\\\Sliced Dialogue\\\\EQG\\\\EQG Dance Magic\\\\00_07_24_Rarity_Neutral__I know..flac', 'E:\\\\downloads\\\\Clipper_MLP\\\\Sliced Dialogue\\\\EQG\\\\EQG Dance Magic\\\\00_07_24_Rarity_Neutral__I know.flac')\n",
      "(\"E:\\\\downloads\\\\Clipper_MLP\\\\Sliced Dialogue\\\\EQG\\\\EQG Dance Magic\\\\00_07_28_Twilight_Neutral_Noisy_Crystal prep certainly will, they're excellent dancers..flac\", \"E:\\\\downloads\\\\Clipper_MLP\\\\Sliced Dialogue\\\\EQG\\\\EQG Dance Magic\\\\00_07_28_Twilight_Neutral_Noisy_Crystal prep certainly will, they're excellent dancers.flac\")\n",
      "(\"E:\\\\downloads\\\\Clipper_MLP\\\\Sliced Dialogue\\\\EQG\\\\EQG Dance Magic\\\\00_07_45_Rarity_Neutral_Noisy_Let's take it from rainbow's entrance..flac\", \"E:\\\\downloads\\\\Clipper_MLP\\\\Sliced Dialogue\\\\EQG\\\\EQG Dance Magic\\\\00_07_45_Rarity_Neutral_Noisy_Let's take it from rainbow's entrance.flac\")\n",
      "('E:\\\\downloads\\\\Clipper_MLP\\\\Sliced Dialogue\\\\EQG\\\\EQG Dance Magic\\\\00_08_01_Sunset Shimmer_Neutral__whoops..flac', 'E:\\\\downloads\\\\Clipper_MLP\\\\Sliced Dialogue\\\\EQG\\\\EQG Dance Magic\\\\00_08_01_Sunset Shimmer_Neutral__whoops.flac')\n",
      "('E:\\\\downloads\\\\Clipper_MLP\\\\Sliced Dialogue\\\\EQG\\\\EQG Dance Magic\\\\00_08_02_Sunset Shimmer_Anxious_Noisy_Sorry rarity..flac', 'E:\\\\downloads\\\\Clipper_MLP\\\\Sliced Dialogue\\\\EQG\\\\EQG Dance Magic\\\\00_08_02_Sunset Shimmer_Anxious_Noisy_Sorry rarity.flac')\n",
      "('E:\\\\downloads\\\\Clipper_MLP\\\\Sliced Dialogue\\\\EQG\\\\EQG Dance Magic\\\\00_08_05_Rarity_Anxious__Well i can fix it..flac', 'E:\\\\downloads\\\\Clipper_MLP\\\\Sliced Dialogue\\\\EQG\\\\EQG Dance Magic\\\\00_08_05_Rarity_Anxious__Well i can fix it.flac')\n",
      "('E:\\\\downloads\\\\Clipper_MLP\\\\Sliced Dialogue\\\\EQG\\\\EQG Dance Magic\\\\00_08_15_Rarity_Neutral_Very Noisy_Oh thank goodness i budgeted for backup fabric..flac', 'E:\\\\downloads\\\\Clipper_MLP\\\\Sliced Dialogue\\\\EQG\\\\EQG Dance Magic\\\\00_08_15_Rarity_Neutral_Very Noisy_Oh thank goodness i budgeted for backup fabric.flac')\n",
      "(\"E:\\\\downloads\\\\Clipper_MLP\\\\Sliced Dialogue\\\\EQG\\\\EQG Dance Magic\\\\00_08_30_Rarity_Neutral_Very Noisy_I don't believe it..flac\", \"E:\\\\downloads\\\\Clipper_MLP\\\\Sliced Dialogue\\\\EQG\\\\EQG Dance Magic\\\\00_08_30_Rarity_Neutral_Very Noisy_I don't believe it.flac\")\n",
      "(\"E:\\\\downloads\\\\Clipper_MLP\\\\Sliced Dialogue\\\\EQG\\\\EQG Dance Magic\\\\00_06_33_Rarity_Neutral__Let's take it from the top one more time..flac\", \"E:\\\\downloads\\\\Clipper_MLP\\\\Sliced Dialogue\\\\EQG\\\\EQG Dance Magic\\\\00_06_33_Rarity_Neutral__Let's take it from the top one more time.flac\")\n",
      "(\"E:\\\\downloads\\\\Clipper_MLP\\\\Sliced Dialogue\\\\EQG\\\\EQG Dance Magic\\\\00_07_02_Rarity_Neutral_Very Noisy_Fluttershy, it's supposed to be a triple pirouette..flac\", \"E:\\\\downloads\\\\Clipper_MLP\\\\Sliced Dialogue\\\\EQG\\\\EQG Dance Magic\\\\00_07_02_Rarity_Neutral_Very Noisy_Fluttershy, it's supposed to be a triple pirouette.flac\")\n",
      "('E:\\\\downloads\\\\Clipper_MLP\\\\Sliced Dialogue\\\\EQG\\\\EQG Dance Magic\\\\00_07_20_Sunset Shimmer_Neutral_Very Noisy_Thanks spike..flac', 'E:\\\\downloads\\\\Clipper_MLP\\\\Sliced Dialogue\\\\EQG\\\\EQG Dance Magic\\\\00_07_20_Sunset Shimmer_Neutral_Very Noisy_Thanks spike.flac')\n",
      "('E:\\\\downloads\\\\Clipper_MLP\\\\Sliced Dialogue\\\\EQG\\\\EQG Dance Magic\\\\00_07_31_Twilight_Neutral__And you know how they love to compete..flac', 'E:\\\\downloads\\\\Clipper_MLP\\\\Sliced Dialogue\\\\EQG\\\\EQG Dance Magic\\\\00_07_31_Twilight_Neutral__And you know how they love to compete.flac')\n",
      "('E:\\\\downloads\\\\Clipper_MLP\\\\Sliced Dialogue\\\\EQG\\\\EQG Dance Magic\\\\00_08_45_Twilight_Neutral_Very Noisy_We got your text..flac', 'E:\\\\downloads\\\\Clipper_MLP\\\\Sliced Dialogue\\\\EQG\\\\EQG Dance Magic\\\\00_08_45_Twilight_Neutral_Very Noisy_We got your text.flac')\n",
      "('E:\\\\downloads\\\\Clipper_MLP\\\\Sliced Dialogue\\\\EQG\\\\EQG Dance Magic\\\\00_08_52_Rarity_Sad Anxious_Very Noisy_Since you asked..flac', 'E:\\\\downloads\\\\Clipper_MLP\\\\Sliced Dialogue\\\\EQG\\\\EQG Dance Magic\\\\00_08_52_Rarity_Sad Anxious_Very Noisy_Since you asked.flac')\n",
      "('E:\\\\downloads\\\\Clipper_MLP\\\\Sliced Dialogue\\\\EQG\\\\EQG Dance Magic\\\\00_09_11_Rarity_Neutral_Noisy_So of course they looked absolutely fabulous..flac', 'E:\\\\downloads\\\\Clipper_MLP\\\\Sliced Dialogue\\\\EQG\\\\EQG Dance Magic\\\\00_09_11_Rarity_Neutral_Noisy_So of course they looked absolutely fabulous.flac')\n",
      "('E:\\\\downloads\\\\Clipper_MLP\\\\Sliced Dialogue\\\\EQG\\\\EQG Dance Magic\\\\00_09_21_Rarity_Sad_Noisy_Ta..flac', 'E:\\\\downloads\\\\Clipper_MLP\\\\Sliced Dialogue\\\\EQG\\\\EQG Dance Magic\\\\00_09_21_Rarity_Sad_Noisy_Ta.flac')\n",
      "('E:\\\\downloads\\\\Clipper_MLP\\\\Sliced Dialogue\\\\EQG\\\\EQG Dance Magic\\\\00_09_27_Rarity_Anxious__Everyone is counting on me..flac', 'E:\\\\downloads\\\\Clipper_MLP\\\\Sliced Dialogue\\\\EQG\\\\EQG Dance Magic\\\\00_09_27_Rarity_Anxious__Everyone is counting on me.flac')\n",
      "('E:\\\\downloads\\\\Clipper_MLP\\\\Sliced Dialogue\\\\EQG\\\\EQG Dance Magic\\\\00_09_28_Rarity_Anxious__On the video to win us the prize money for the camp..flac', 'E:\\\\downloads\\\\Clipper_MLP\\\\Sliced Dialogue\\\\EQG\\\\EQG Dance Magic\\\\00_09_28_Rarity_Anxious__On the video to win us the prize money for the camp.flac')\n",
      "(\"E:\\\\downloads\\\\Clipper_MLP\\\\Sliced Dialogue\\\\EQG\\\\EQG Dance Magic\\\\00_09_40_Twilight_Neutral__Don't be too hard on yourself..flac\", \"E:\\\\downloads\\\\Clipper_MLP\\\\Sliced Dialogue\\\\EQG\\\\EQG Dance Magic\\\\00_09_40_Twilight_Neutral__Don't be too hard on yourself.flac\")\n",
      "(\"E:\\\\downloads\\\\Clipper_MLP\\\\Sliced Dialogue\\\\EQG\\\\EQG Dance Magic\\\\00_09_42_Twilight_Neutral__It's gonna take more than one friendship games for those crystal prep girls to learn that winning isn't everything..flac\", \"E:\\\\downloads\\\\Clipper_MLP\\\\Sliced Dialogue\\\\EQG\\\\EQG Dance Magic\\\\00_09_42_Twilight_Neutral__It's gonna take more than one friendship games for those crystal prep girls to learn that winning isn't everything.flac\")\n",
      "('E:\\\\downloads\\\\Clipper_MLP\\\\Sliced Dialogue\\\\EQG\\\\EQG Dance Magic\\\\00_09_48_Applejack_Neutral__Maybe..flac', 'E:\\\\downloads\\\\Clipper_MLP\\\\Sliced Dialogue\\\\EQG\\\\EQG Dance Magic\\\\00_09_48_Applejack_Neutral__Maybe.flac')\n",
      "('E:\\\\downloads\\\\Clipper_MLP\\\\Sliced Dialogue\\\\EQG\\\\EQG Dance Magic\\\\00_09_49_Applejack_Neutral_Noisy_This was all for the best..flac', 'E:\\\\downloads\\\\Clipper_MLP\\\\Sliced Dialogue\\\\EQG\\\\EQG Dance Magic\\\\00_09_49_Applejack_Neutral_Noisy_This was all for the best.flac')\n",
      "('E:\\\\downloads\\\\Clipper_MLP\\\\Sliced Dialogue\\\\EQG\\\\EQG Dance Magic\\\\00_09_53_Applejack_Neutral_Noisy_Your concept and costumes are really awesome, but uh..flac', 'E:\\\\downloads\\\\Clipper_MLP\\\\Sliced Dialogue\\\\EQG\\\\EQG Dance Magic\\\\00_09_53_Applejack_Neutral_Noisy_Your concept and costumes are really awesome, but uh.flac')\n",
      "('E:\\\\downloads\\\\Clipper_MLP\\\\Sliced Dialogue\\\\EQG\\\\EQG Dance Magic\\\\00_09_57_Applejack_Neutral__Our dancing..flac', 'E:\\\\downloads\\\\Clipper_MLP\\\\Sliced Dialogue\\\\EQG\\\\EQG Dance Magic\\\\00_09_57_Applejack_Neutral__Our dancing.flac')\n",
      "('E:\\\\downloads\\\\Clipper_MLP\\\\Sliced Dialogue\\\\EQG\\\\EQG Dance Magic\\\\00_09_59_Sunset Shimmer_Neutral__not so much..flac', 'E:\\\\downloads\\\\Clipper_MLP\\\\Sliced Dialogue\\\\EQG\\\\EQG Dance Magic\\\\00_09_59_Sunset Shimmer_Neutral__not so much.flac')\n",
      "(\"E:\\\\downloads\\\\Clipper_MLP\\\\Sliced Dialogue\\\\EQG\\\\EQG Dance Magic\\\\00_10_03_Applejack_Amused__We could barely get in a two step without tripping over each other's boots..flac\", \"E:\\\\downloads\\\\Clipper_MLP\\\\Sliced Dialogue\\\\EQG\\\\EQG Dance Magic\\\\00_10_03_Applejack_Amused__We could barely get in a two step without tripping over each other's boots.flac\")\n",
      "('E:\\\\downloads\\\\Clipper_MLP\\\\Sliced Dialogue\\\\EQG\\\\EQG Dance Magic\\\\00_10_12_Rarity_Neutral_Very Noisy_Okay maybe not great..flac', 'E:\\\\downloads\\\\Clipper_MLP\\\\Sliced Dialogue\\\\EQG\\\\EQG Dance Magic\\\\00_10_12_Rarity_Neutral_Very Noisy_Okay maybe not great.flac')\n",
      "('E:\\\\downloads\\\\Clipper_MLP\\\\Sliced Dialogue\\\\EQG\\\\EQG Dance Magic\\\\00_10_14_Rarity_Anxious__But, but..flac', 'E:\\\\downloads\\\\Clipper_MLP\\\\Sliced Dialogue\\\\EQG\\\\EQG Dance Magic\\\\00_10_14_Rarity_Anxious__But, but.flac')\n",
      "('E:\\\\downloads\\\\Clipper_MLP\\\\Sliced Dialogue\\\\EQG\\\\EQG Dance Magic\\\\00_10_35_Rarity_Neutral__No no no, seriously..flac', 'E:\\\\downloads\\\\Clipper_MLP\\\\Sliced Dialogue\\\\EQG\\\\EQG Dance Magic\\\\00_10_35_Rarity_Neutral__No no no, seriously.flac')\n",
      "(\"E:\\\\downloads\\\\Clipper_MLP\\\\Sliced Dialogue\\\\EQG\\\\EQG Dance Magic\\\\00_10_41_Twilight_Neutral__I'll go..flac\", \"E:\\\\downloads\\\\Clipper_MLP\\\\Sliced Dialogue\\\\EQG\\\\EQG Dance Magic\\\\00_10_41_Twilight_Neutral__I'll go.flac\")\n"
     ]
    }
   ],
   "source": [
    "print('\\n'.join([str(x) for x in list(file_dict.items())[0:100]]))"
   ]
  },
  {
   "cell_type": "code",
   "execution_count": 17,
   "metadata": {},
   "outputs": [
    {
     "ename": "SyntaxError",
     "evalue": "invalid syntax (<ipython-input-17-4f8edbc41cb3>, line 2)",
     "output_type": "error",
     "traceback": [
      "\u001b[1;36m  File \u001b[1;32m\"<ipython-input-17-4f8edbc41cb3>\"\u001b[1;36m, line \u001b[1;32m2\u001b[0m\n\u001b[1;33m    for x in y for y in z:\u001b[0m\n\u001b[1;37m                 ^\u001b[0m\n\u001b[1;31mSyntaxError\u001b[0m\u001b[1;31m:\u001b[0m invalid syntax\n"
     ]
    }
   ],
   "source": [
    "z = [[0,1,2],[3,4,5]]\n",
    "for x in y for y in z:\n",
    "    print(x)"
   ]
  },
  {
   "cell_type": "markdown",
   "metadata": {},
   "source": [
    "# 1 - Load Checkpoint"
   ]
  },
  {
   "cell_type": "code",
   "execution_count": null,
   "metadata": {},
   "outputs": [],
   "source": [
    "waveflow_path = r\"H:\\TTCheckpoints\\waveflow\\4thLargeKernels\\best_val_model\"\n",
    "checkpoint = torch.load(waveflow_path)"
   ]
  },
  {
   "cell_type": "code",
   "execution_count": null,
   "metadata": {},
   "outputs": [],
   "source": [
    "state_dict = checkpoint['model']"
   ]
  },
  {
   "cell_type": "code",
   "execution_count": 16,
   "metadata": {},
   "outputs": [
    {
     "name": "stdout",
     "output_type": "stream",
     "text": [
      "alpha  |  speaker_embed.weight  |  cond_layers.0.bias  |  cond_layers.0.weight_g  |  cond_layers.0.weight_v  |  cond_layers.1.bias  |  cond_layers.1.weight_g  |  cond_layers.1.weight_v  |  cond_layers.2.bias  |  cond_layers.2.weight_g  |  cond_layers.2.weight_v  |  WN.0.WN.in_layers.0.0.bias  |  WN.0.WN.in_layers.0.0.weight_g  |  WN.0.WN.in_layers.0.0.weight_v  |  WN.0.WN.in_layers.0.1.bias  |  WN.0.WN.in_layers.0.1.weight_g  |  WN.0.WN.in_layers.0.1.weight_v  |  WN.0.WN.in_layers.1.0.bias  |  WN.0.WN.in_layers.1.0.weight_g  |  WN.0.WN.in_layers.1.0.weight_v  |  WN.0.WN.in_layers.1.1.bias  |  WN.0.WN.in_layers.1.1.weight_g  |  WN.0.WN.in_layers.1.1.weight_v  |  WN.0.WN.in_layers.2.0.bias  |  WN.0.WN.in_layers.2.0.weight_g  |  WN.0.WN.in_layers.2.0.weight_v  |  WN.0.WN.in_layers.2.1.bias  |  WN.0.WN.in_layers.2.1.weight_g  |  WN.0.WN.in_layers.2.1.weight_v  |  WN.0.WN.in_layers.3.0.bias  |  WN.0.WN.in_layers.3.0.weight_g  |  WN.0.WN.in_layers.3.0.weight_v  |  WN.0.WN.in_layers.3.1.bias  |  WN.0.WN.in_layers.3.1.weight_g  |  WN.0.WN.in_layers.3.1.weight_v  |  WN.0.WN.in_layers.4.0.bias  |  WN.0.WN.in_layers.4.0.weight_g  |  WN.0.WN.in_layers.4.0.weight_v  |  WN.0.WN.in_layers.4.1.bias  |  WN.0.WN.in_layers.4.1.weight_g  |  WN.0.WN.in_layers.4.1.weight_v  |  WN.0.WN.in_layers.5.0.bias  |  WN.0.WN.in_layers.5.0.weight_g  |  WN.0.WN.in_layers.5.0.weight_v  |  WN.0.WN.in_layers.5.1.bias  |  WN.0.WN.in_layers.5.1.weight_g  |  WN.0.WN.in_layers.5.1.weight_v  |  WN.0.WN.in_layers.6.0.bias  |  WN.0.WN.in_layers.6.0.weight_g  |  WN.0.WN.in_layers.6.0.weight_v  |  WN.0.WN.in_layers.6.1.bias  |  WN.0.WN.in_layers.6.1.weight_g  |  WN.0.WN.in_layers.6.1.weight_v  |  WN.0.WN.in_layers.7.0.bias  |  WN.0.WN.in_layers.7.0.weight_g  |  WN.0.WN.in_layers.7.0.weight_v  |  WN.0.WN.in_layers.7.1.bias  |  WN.0.WN.in_layers.7.1.weight_g  |  WN.0.WN.in_layers.7.1.weight_v  |  WN.0.WN.res_skip_layers.0.bias  |  WN.0.WN.res_skip_layers.0.weight_g  |  WN.0.WN.res_skip_layers.0.weight_v  |  WN.0.WN.res_skip_layers.1.bias  |  WN.0.WN.res_skip_layers.1.weight_g  |  WN.0.WN.res_skip_layers.1.weight_v  |  WN.0.WN.res_skip_layers.2.bias  |  WN.0.WN.res_skip_layers.2.weight_g  |  WN.0.WN.res_skip_layers.2.weight_v  |  WN.0.WN.res_skip_layers.3.bias  |  WN.0.WN.res_skip_layers.3.weight_g  |  WN.0.WN.res_skip_layers.3.weight_v  |  WN.0.WN.res_skip_layers.4.bias  |  WN.0.WN.res_skip_layers.4.weight_g  |  WN.0.WN.res_skip_layers.4.weight_v  |  WN.0.WN.res_skip_layers.5.bias  |  WN.0.WN.res_skip_layers.5.weight_g  |  WN.0.WN.res_skip_layers.5.weight_v  |  WN.0.WN.res_skip_layers.6.bias  |  WN.0.WN.res_skip_layers.6.weight_g  |  WN.0.WN.res_skip_layers.6.weight_v  |  WN.0.WN.res_skip_layers.7.bias  |  WN.0.WN.res_skip_layers.7.weight_g  |  WN.0.WN.res_skip_layers.7.weight_v  |  WN.0.WN.start.bias  |  WN.0.WN.start.weight_g  |  WN.0.WN.start.weight_v  |  WN.0.WN.end.weight  |  WN.0.WN.end.bias  |  WN.0.WN.speaker_embed.weight  |  WN.0.WN.cond_layers.0.bias  |  WN.0.WN.cond_layers.0.weight_g  |  WN.0.WN.cond_layers.0.weight_v  |  WN.0.WN.cond_layers.1.bias  |  WN.0.WN.cond_layers.1.weight_g  |  WN.0.WN.cond_layers.1.weight_v  |  WN.0.WN.cond_layers.2.bias  |  WN.0.WN.cond_layers.2.weight_g  |  WN.0.WN.cond_layers.2.weight_v  |  WN.1.WN.in_layers.0.0.bias  |  WN.1.WN.in_layers.0.0.weight_g  |  WN.1.WN.in_layers.0.0.weight_v  |  WN.1.WN.in_layers.0.1.bias  |  WN.1.WN.in_layers.0.1.weight_g  |  WN.1.WN.in_layers.0.1.weight_v  |  WN.1.WN.in_layers.1.0.bias  |  WN.1.WN.in_layers.1.0.weight_g  |  WN.1.WN.in_layers.1.0.weight_v  |  WN.1.WN.in_layers.1.1.bias  |  WN.1.WN.in_layers.1.1.weight_g  |  WN.1.WN.in_layers.1.1.weight_v  |  WN.1.WN.in_layers.2.0.bias  |  WN.1.WN.in_layers.2.0.weight_g  |  WN.1.WN.in_layers.2.0.weight_v  |  WN.1.WN.in_layers.2.1.bias  |  WN.1.WN.in_layers.2.1.weight_g  |  WN.1.WN.in_layers.2.1.weight_v  |  WN.1.WN.in_layers.3.0.bias  |  WN.1.WN.in_layers.3.0.weight_g  |  WN.1.WN.in_layers.3.0.weight_v  |  WN.1.WN.in_layers.3.1.bias  |  WN.1.WN.in_layers.3.1.weight_g  |  WN.1.WN.in_layers.3.1.weight_v  |  WN.1.WN.in_layers.4.0.bias  |  WN.1.WN.in_layers.4.0.weight_g  |  WN.1.WN.in_layers.4.0.weight_v  |  WN.1.WN.in_layers.4.1.bias  |  WN.1.WN.in_layers.4.1.weight_g  |  WN.1.WN.in_layers.4.1.weight_v  |  WN.1.WN.in_layers.5.0.bias  |  WN.1.WN.in_layers.5.0.weight_g  |  WN.1.WN.in_layers.5.0.weight_v  |  WN.1.WN.in_layers.5.1.bias  |  WN.1.WN.in_layers.5.1.weight_g  |  WN.1.WN.in_layers.5.1.weight_v  |  WN.1.WN.in_layers.6.0.bias  |  WN.1.WN.in_layers.6.0.weight_g  |  WN.1.WN.in_layers.6.0.weight_v  |  WN.1.WN.in_layers.6.1.bias  |  WN.1.WN.in_layers.6.1.weight_g  |  WN.1.WN.in_layers.6.1.weight_v  |  WN.1.WN.in_layers.7.0.bias  |  WN.1.WN.in_layers.7.0.weight_g  |  WN.1.WN.in_layers.7.0.weight_v  |  WN.1.WN.in_layers.7.1.bias  |  WN.1.WN.in_layers.7.1.weight_g  |  WN.1.WN.in_layers.7.1.weight_v  |  WN.1.WN.res_skip_layers.0.bias  |  WN.1.WN.res_skip_layers.0.weight_g  |  WN.1.WN.res_skip_layers.0.weight_v  |  WN.1.WN.res_skip_layers.1.bias  |  WN.1.WN.res_skip_layers.1.weight_g  |  WN.1.WN.res_skip_layers.1.weight_v  |  WN.1.WN.res_skip_layers.2.bias  |  WN.1.WN.res_skip_layers.2.weight_g  |  WN.1.WN.res_skip_layers.2.weight_v  |  WN.1.WN.res_skip_layers.3.bias  |  WN.1.WN.res_skip_layers.3.weight_g  |  WN.1.WN.res_skip_layers.3.weight_v  |  WN.1.WN.res_skip_layers.4.bias  |  WN.1.WN.res_skip_layers.4.weight_g  |  WN.1.WN.res_skip_layers.4.weight_v  |  WN.1.WN.res_skip_layers.5.bias  |  WN.1.WN.res_skip_layers.5.weight_g  |  WN.1.WN.res_skip_layers.5.weight_v  |  WN.1.WN.res_skip_layers.6.bias  |  WN.1.WN.res_skip_layers.6.weight_g  |  WN.1.WN.res_skip_layers.6.weight_v  |  WN.1.WN.res_skip_layers.7.bias  |  WN.1.WN.res_skip_layers.7.weight_g  |  WN.1.WN.res_skip_layers.7.weight_v  |  WN.1.WN.start.bias  |  WN.1.WN.start.weight_g  |  WN.1.WN.start.weight_v  |  WN.1.WN.end.weight  |  WN.1.WN.end.bias  |  WN.1.WN.speaker_embed.weight  |  WN.1.WN.cond_layers.0.bias  |  WN.1.WN.cond_layers.0.weight_g  |  WN.1.WN.cond_layers.0.weight_v  |  WN.1.WN.cond_layers.1.bias  |  WN.1.WN.cond_layers.1.weight_g  |  WN.1.WN.cond_layers.1.weight_v  |  WN.1.WN.cond_layers.2.bias  |  WN.1.WN.cond_layers.2.weight_g  |  WN.1.WN.cond_layers.2.weight_v  |  WN.2.WN.in_layers.0.0.bias  |  WN.2.WN.in_layers.0.0.weight_g  |  WN.2.WN.in_layers.0.0.weight_v  |  WN.2.WN.in_layers.0.1.bias  |  WN.2.WN.in_layers.0.1.weight_g  |  WN.2.WN.in_layers.0.1.weight_v  |  WN.2.WN.in_layers.1.0.bias  |  WN.2.WN.in_layers.1.0.weight_g  |  WN.2.WN.in_layers.1.0.weight_v  |  WN.2.WN.in_layers.1.1.bias  |  WN.2.WN.in_layers.1.1.weight_g  |  WN.2.WN.in_layers.1.1.weight_v  |  WN.2.WN.in_layers.2.0.bias  |  WN.2.WN.in_layers.2.0.weight_g  |  WN.2.WN.in_layers.2.0.weight_v  |  WN.2.WN.in_layers.2.1.bias  |  WN.2.WN.in_layers.2.1.weight_g  |  WN.2.WN.in_layers.2.1.weight_v  |  WN.2.WN.in_layers.3.0.bias  |  WN.2.WN.in_layers.3.0.weight_g  |  WN.2.WN.in_layers.3.0.weight_v  |  WN.2.WN.in_layers.3.1.bias  |  WN.2.WN.in_layers.3.1.weight_g  |  WN.2.WN.in_layers.3.1.weight_v  |  WN.2.WN.in_layers.4.0.bias  |  WN.2.WN.in_layers.4.0.weight_g  |  WN.2.WN.in_layers.4.0.weight_v  |  WN.2.WN.in_layers.4.1.bias  |  WN.2.WN.in_layers.4.1.weight_g  |  WN.2.WN.in_layers.4.1.weight_v  |  WN.2.WN.in_layers.5.0.bias  |  WN.2.WN.in_layers.5.0.weight_g  |  WN.2.WN.in_layers.5.0.weight_v  |  WN.2.WN.in_layers.5.1.bias  |  WN.2.WN.in_layers.5.1.weight_g  |  WN.2.WN.in_layers.5.1.weight_v  |  WN.2.WN.in_layers.6.0.bias  |  WN.2.WN.in_layers.6.0.weight_g  |  WN.2.WN.in_layers.6.0.weight_v  |  WN.2.WN.in_layers.6.1.bias  |  WN.2.WN.in_layers.6.1.weight_g  |  WN.2.WN.in_layers.6.1.weight_v  |  WN.2.WN.in_layers.7.0.bias  |  WN.2.WN.in_layers.7.0.weight_g  |  WN.2.WN.in_layers.7.0.weight_v  |  WN.2.WN.in_layers.7.1.bias  |  WN.2.WN.in_layers.7.1.weight_g  |  WN.2.WN.in_layers.7.1.weight_v  |  WN.2.WN.res_skip_layers.0.bias  |  WN.2.WN.res_skip_layers.0.weight_g  |  WN.2.WN.res_skip_layers.0.weight_v  |  WN.2.WN.res_skip_layers.1.bias  |  WN.2.WN.res_skip_layers.1.weight_g  |  WN.2.WN.res_skip_layers.1.weight_v  |  WN.2.WN.res_skip_layers.2.bias  |  WN.2.WN.res_skip_layers.2.weight_g  |  WN.2.WN.res_skip_layers.2.weight_v  |  WN.2.WN.res_skip_layers.3.bias  |  WN.2.WN.res_skip_layers.3.weight_g  |  WN.2.WN.res_skip_layers.3.weight_v  |  WN.2.WN.res_skip_layers.4.bias  |  WN.2.WN.res_skip_layers.4.weight_g  |  WN.2.WN.res_skip_layers.4.weight_v  |  WN.2.WN.res_skip_layers.5.bias  |  WN.2.WN.res_skip_layers.5.weight_g  |  WN.2.WN.res_skip_layers.5.weight_v  |  WN.2.WN.res_skip_layers.6.bias  |  WN.2.WN.res_skip_layers.6.weight_g  |  WN.2.WN.res_skip_layers.6.weight_v  |  WN.2.WN.res_skip_layers.7.bias  |  WN.2.WN.res_skip_layers.7.weight_g  |  WN.2.WN.res_skip_layers.7.weight_v  |  WN.2.WN.start.bias  |  WN.2.WN.start.weight_g  |  WN.2.WN.start.weight_v  |  WN.2.WN.end.weight  |  WN.2.WN.end.bias  |  WN.2.WN.speaker_embed.weight  |  WN.2.WN.cond_layers.0.bias  |  WN.2.WN.cond_layers.0.weight_g  |  WN.2.WN.cond_layers.0.weight_v  |  WN.2.WN.cond_layers.1.bias  |  WN.2.WN.cond_layers.1.weight_g  |  WN.2.WN.cond_layers.1.weight_v  |  WN.2.WN.cond_layers.2.bias  |  WN.2.WN.cond_layers.2.weight_g  |  WN.2.WN.cond_layers.2.weight_v  |  WN.3.WN.in_layers.0.0.bias  |  WN.3.WN.in_layers.0.0.weight_g  |  WN.3.WN.in_layers.0.0.weight_v  |  WN.3.WN.in_layers.0.1.bias  |  WN.3.WN.in_layers.0.1.weight_g  |  WN.3.WN.in_layers.0.1.weight_v  |  WN.3.WN.in_layers.1.0.bias  |  WN.3.WN.in_layers.1.0.weight_g  |  WN.3.WN.in_layers.1.0.weight_v  |  WN.3.WN.in_layers.1.1.bias  |  WN.3.WN.in_layers.1.1.weight_g  |  WN.3.WN.in_layers.1.1.weight_v  |  WN.3.WN.in_layers.2.0.bias  |  WN.3.WN.in_layers.2.0.weight_g  |  WN.3.WN.in_layers.2.0.weight_v  |  WN.3.WN.in_layers.2.1.bias  |  WN.3.WN.in_layers.2.1.weight_g  |  WN.3.WN.in_layers.2.1.weight_v  |  WN.3.WN.in_layers.3.0.bias  |  WN.3.WN.in_layers.3.0.weight_g  |  WN.3.WN.in_layers.3.0.weight_v  |  WN.3.WN.in_layers.3.1.bias  |  WN.3.WN.in_layers.3.1.weight_g  |  WN.3.WN.in_layers.3.1.weight_v  |  WN.3.WN.in_layers.4.0.bias  |  WN.3.WN.in_layers.4.0.weight_g  |  WN.3.WN.in_layers.4.0.weight_v  |  WN.3.WN.in_layers.4.1.bias  |  WN.3.WN.in_layers.4.1.weight_g  |  WN.3.WN.in_layers.4.1.weight_v  |  WN.3.WN.in_layers.5.0.bias  |  WN.3.WN.in_layers.5.0.weight_g  |  WN.3.WN.in_layers.5.0.weight_v  |  WN.3.WN.in_layers.5.1.bias  |  WN.3.WN.in_layers.5.1.weight_g  |  WN.3.WN.in_layers.5.1.weight_v  |  WN.3.WN.in_layers.6.0.bias  |  WN.3.WN.in_layers.6.0.weight_g  |  WN.3.WN.in_layers.6.0.weight_v  |  WN.3.WN.in_layers.6.1.bias  |  WN.3.WN.in_layers.6.1.weight_g  |  WN.3.WN.in_layers.6.1.weight_v  |  WN.3.WN.in_layers.7.0.bias  |  WN.3.WN.in_layers.7.0.weight_g  |  WN.3.WN.in_layers.7.0.weight_v  |  WN.3.WN.in_layers.7.1.bias  |  WN.3.WN.in_layers.7.1.weight_g  |  WN.3.WN.in_layers.7.1.weight_v  |  WN.3.WN.res_skip_layers.0.bias  |  WN.3.WN.res_skip_layers.0.weight_g  |  WN.3.WN.res_skip_layers.0.weight_v  |  WN.3.WN.res_skip_layers.1.bias  |  WN.3.WN.res_skip_layers.1.weight_g  |  WN.3.WN.res_skip_layers.1.weight_v  |  WN.3.WN.res_skip_layers.2.bias  |  WN.3.WN.res_skip_layers.2.weight_g  |  WN.3.WN.res_skip_layers.2.weight_v  |  WN.3.WN.res_skip_layers.3.bias  |  WN.3.WN.res_skip_layers.3.weight_g  |  WN.3.WN.res_skip_layers.3.weight_v  |  WN.3.WN.res_skip_layers.4.bias  |  WN.3.WN.res_skip_layers.4.weight_g  |  WN.3.WN.res_skip_layers.4.weight_v  |  WN.3.WN.res_skip_layers.5.bias  |  WN.3.WN.res_skip_layers.5.weight_g  |  WN.3.WN.res_skip_layers.5.weight_v  |  WN.3.WN.res_skip_layers.6.bias  |  WN.3.WN.res_skip_layers.6.weight_g  |  WN.3.WN.res_skip_layers.6.weight_v  |  WN.3.WN.res_skip_layers.7.bias  |  WN.3.WN.res_skip_layers.7.weight_g  |  WN.3.WN.res_skip_layers.7.weight_v  |  WN.3.WN.start.bias  |  WN.3.WN.start.weight_g  |  WN.3.WN.start.weight_v  |  WN.3.WN.end.weight  |  WN.3.WN.end.bias  |  WN.3.WN.speaker_embed.weight  |  WN.3.WN.cond_layers.0.bias  |  WN.3.WN.cond_layers.0.weight_g  |  WN.3.WN.cond_layers.0.weight_v  |  WN.3.WN.cond_layers.1.bias  |  WN.3.WN.cond_layers.1.weight_g  |  WN.3.WN.cond_layers.1.weight_v  |  WN.3.WN.cond_layers.2.bias  |  WN.3.WN.cond_layers.2.weight_g  |  WN.3.WN.cond_layers.2.weight_v  |  WN.4.WN.in_layers.0.0.bias  |  WN.4.WN.in_layers.0.0.weight_g  |  WN.4.WN.in_layers.0.0.weight_v  |  WN.4.WN.in_layers.0.1.bias  |  WN.4.WN.in_layers.0.1.weight_g  |  WN.4.WN.in_layers.0.1.weight_v  |  WN.4.WN.in_layers.1.0.bias  |  WN.4.WN.in_layers.1.0.weight_g  |  WN.4.WN.in_layers.1.0.weight_v  |  WN.4.WN.in_layers.1.1.bias  |  WN.4.WN.in_layers.1.1.weight_g  |  WN.4.WN.in_layers.1.1.weight_v  |  WN.4.WN.in_layers.2.0.bias  |  WN.4.WN.in_layers.2.0.weight_g  |  WN.4.WN.in_layers.2.0.weight_v  |  WN.4.WN.in_layers.2.1.bias  |  WN.4.WN.in_layers.2.1.weight_g  |  WN.4.WN.in_layers.2.1.weight_v  |  WN.4.WN.in_layers.3.0.bias  |  WN.4.WN.in_layers.3.0.weight_g  |  WN.4.WN.in_layers.3.0.weight_v  |  WN.4.WN.in_layers.3.1.bias  |  WN.4.WN.in_layers.3.1.weight_g  |  WN.4.WN.in_layers.3.1.weight_v  |  WN.4.WN.in_layers.4.0.bias  |  WN.4.WN.in_layers.4.0.weight_g  |  WN.4.WN.in_layers.4.0.weight_v  |  WN.4.WN.in_layers.4.1.bias  |  WN.4.WN.in_layers.4.1.weight_g  |  WN.4.WN.in_layers.4.1.weight_v  |  WN.4.WN.in_layers.5.0.bias  |  WN.4.WN.in_layers.5.0.weight_g  |  WN.4.WN.in_layers.5.0.weight_v  |  WN.4.WN.in_layers.5.1.bias  |  WN.4.WN.in_layers.5.1.weight_g  |  WN.4.WN.in_layers.5.1.weight_v  |  WN.4.WN.in_layers.6.0.bias  |  WN.4.WN.in_layers.6.0.weight_g  |  WN.4.WN.in_layers.6.0.weight_v  |  WN.4.WN.in_layers.6.1.bias  |  WN.4.WN.in_layers.6.1.weight_g  |  WN.4.WN.in_layers.6.1.weight_v  |  WN.4.WN.in_layers.7.0.bias  |  WN.4.WN.in_layers.7.0.weight_g  |  WN.4.WN.in_layers.7.0.weight_v  |  WN.4.WN.in_layers.7.1.bias  |  WN.4.WN.in_layers.7.1.weight_g  |  WN.4.WN.in_layers.7.1.weight_v  |  WN.4.WN.res_skip_layers.0.bias  |  WN.4.WN.res_skip_layers.0.weight_g  |  WN.4.WN.res_skip_layers.0.weight_v  |  WN.4.WN.res_skip_layers.1.bias  |  WN.4.WN.res_skip_layers.1.weight_g  |  WN.4.WN.res_skip_layers.1.weight_v  |  WN.4.WN.res_skip_layers.2.bias  |  WN.4.WN.res_skip_layers.2.weight_g  |  WN.4.WN.res_skip_layers.2.weight_v  |  WN.4.WN.res_skip_layers.3.bias  |  WN.4.WN.res_skip_layers.3.weight_g  |  WN.4.WN.res_skip_layers.3.weight_v  |  WN.4.WN.res_skip_layers.4.bias  |  WN.4.WN.res_skip_layers.4.weight_g  |  WN.4.WN.res_skip_layers.4.weight_v  |  WN.4.WN.res_skip_layers.5.bias  |  WN.4.WN.res_skip_layers.5.weight_g  |  WN.4.WN.res_skip_layers.5.weight_v  |  WN.4.WN.res_skip_layers.6.bias  |  WN.4.WN.res_skip_layers.6.weight_g  |  WN.4.WN.res_skip_layers.6.weight_v  |  WN.4.WN.res_skip_layers.7.bias  |  WN.4.WN.res_skip_layers.7.weight_g  |  WN.4.WN.res_skip_layers.7.weight_v  |  WN.4.WN.start.bias  |  WN.4.WN.start.weight_g  |  WN.4.WN.start.weight_v  |  WN.4.WN.end.weight  |  WN.4.WN.end.bias  |  WN.4.WN.speaker_embed.weight  |  WN.4.WN.cond_layers.0.bias  |  WN.4.WN.cond_layers.0.weight_g  |  WN.4.WN.cond_layers.0.weight_v  |  WN.4.WN.cond_layers.1.bias  |  WN.4.WN.cond_layers.1.weight_g  |  WN.4.WN.cond_layers.1.weight_v  |  WN.4.WN.cond_layers.2.bias  |  WN.4.WN.cond_layers.2.weight_g  |  WN.4.WN.cond_layers.2.weight_v  |  WN.5.WN.in_layers.0.0.bias  |  WN.5.WN.in_layers.0.0.weight_g  |  WN.5.WN.in_layers.0.0.weight_v  |  WN.5.WN.in_layers.0.1.bias  |  WN.5.WN.in_layers.0.1.weight_g  |  WN.5.WN.in_layers.0.1.weight_v  |  WN.5.WN.in_layers.1.0.bias  |  WN.5.WN.in_layers.1.0.weight_g  |  WN.5.WN.in_layers.1.0.weight_v  |  WN.5.WN.in_layers.1.1.bias  |  WN.5.WN.in_layers.1.1.weight_g  |  WN.5.WN.in_layers.1.1.weight_v  |  WN.5.WN.in_layers.2.0.bias  |  WN.5.WN.in_layers.2.0.weight_g  |  WN.5.WN.in_layers.2.0.weight_v  |  WN.5.WN.in_layers.2.1.bias  |  WN.5.WN.in_layers.2.1.weight_g  |  WN.5.WN.in_layers.2.1.weight_v  |  WN.5.WN.in_layers.3.0.bias  |  WN.5.WN.in_layers.3.0.weight_g  |  WN.5.WN.in_layers.3.0.weight_v  |  WN.5.WN.in_layers.3.1.bias  |  WN.5.WN.in_layers.3.1.weight_g  |  WN.5.WN.in_layers.3.1.weight_v  |  WN.5.WN.in_layers.4.0.bias  |  WN.5.WN.in_layers.4.0.weight_g  |  WN.5.WN.in_layers.4.0.weight_v  |  WN.5.WN.in_layers.4.1.bias  |  WN.5.WN.in_layers.4.1.weight_g  |  WN.5.WN.in_layers.4.1.weight_v  |  WN.5.WN.in_layers.5.0.bias  |  WN.5.WN.in_layers.5.0.weight_g  |  WN.5.WN.in_layers.5.0.weight_v  |  WN.5.WN.in_layers.5.1.bias  |  WN.5.WN.in_layers.5.1.weight_g  |  WN.5.WN.in_layers.5.1.weight_v  |  WN.5.WN.in_layers.6.0.bias  |  WN.5.WN.in_layers.6.0.weight_g  |  WN.5.WN.in_layers.6.0.weight_v  |  WN.5.WN.in_layers.6.1.bias  |  WN.5.WN.in_layers.6.1.weight_g  |  WN.5.WN.in_layers.6.1.weight_v  |  WN.5.WN.in_layers.7.0.bias  |  WN.5.WN.in_layers.7.0.weight_g  |  WN.5.WN.in_layers.7.0.weight_v  |  WN.5.WN.in_layers.7.1.bias  |  WN.5.WN.in_layers.7.1.weight_g  |  WN.5.WN.in_layers.7.1.weight_v  |  WN.5.WN.res_skip_layers.0.bias  |  WN.5.WN.res_skip_layers.0.weight_g  |  WN.5.WN.res_skip_layers.0.weight_v  |  WN.5.WN.res_skip_layers.1.bias  |  WN.5.WN.res_skip_layers.1.weight_g  |  WN.5.WN.res_skip_layers.1.weight_v  |  WN.5.WN.res_skip_layers.2.bias  |  WN.5.WN.res_skip_layers.2.weight_g  |  WN.5.WN.res_skip_layers.2.weight_v  |  WN.5.WN.res_skip_layers.3.bias  |  WN.5.WN.res_skip_layers.3.weight_g  |  WN.5.WN.res_skip_layers.3.weight_v  |  WN.5.WN.res_skip_layers.4.bias  |  WN.5.WN.res_skip_layers.4.weight_g  |  WN.5.WN.res_skip_layers.4.weight_v  |  WN.5.WN.res_skip_layers.5.bias  |  WN.5.WN.res_skip_layers.5.weight_g  |  WN.5.WN.res_skip_layers.5.weight_v  |  WN.5.WN.res_skip_layers.6.bias  |  WN.5.WN.res_skip_layers.6.weight_g  |  WN.5.WN.res_skip_layers.6.weight_v  |  WN.5.WN.res_skip_layers.7.bias  |  WN.5.WN.res_skip_layers.7.weight_g  |  WN.5.WN.res_skip_layers.7.weight_v  |  WN.5.WN.start.bias  |  WN.5.WN.start.weight_g  |  WN.5.WN.start.weight_v  |  WN.5.WN.end.weight  |  WN.5.WN.end.bias  |  WN.5.WN.speaker_embed.weight  |  WN.5.WN.cond_layers.0.bias  |  WN.5.WN.cond_layers.0.weight_g  |  WN.5.WN.cond_layers.0.weight_v  |  WN.5.WN.cond_layers.1.bias  |  WN.5.WN.cond_layers.1.weight_g  |  WN.5.WN.cond_layers.1.weight_v  |  WN.5.WN.cond_layers.2.bias  |  WN.5.WN.cond_layers.2.weight_g  |  WN.5.WN.cond_layers.2.weight_v\n"
     ]
    }
   ],
   "source": [
    "print( \"  |  \".join([key for key in state_dict.keys()])  )"
   ]
  },
  {
   "cell_type": "markdown",
   "metadata": {},
   "source": [
    "# 2 - Increase size of selected Layers"
   ]
  },
  {
   "cell_type": "code",
   "execution_count": 36,
   "metadata": {},
   "outputs": [
    {
     "name": "stdout",
     "output_type": "stream",
     "text": [
      "WN.0.WN.in_layers.0.0.bias      | [128]\n",
      "WN.0.WN.in_layers.0.0.weight_g  | [128, 1, 1, 1]\n",
      "WN.0.WN.in_layers.0.0.weight_v  | [128, 1, 7, 7]\n",
      "WN.0.WN.in_layers.0.1.bias      | [256]\n",
      "WN.0.WN.in_layers.0.1.weight_g  | [256, 1, 1, 1]\n",
      "WN.0.WN.in_layers.0.1.weight_v  | [256, 128, 1, 1]\n",
      "WN.0.WN.in_layers.1.0.bias      | [128]\n",
      "WN.0.WN.in_layers.1.0.weight_g  | [128, 1, 1, 1]\n",
      "WN.0.WN.in_layers.1.0.weight_v  | [128, 1, 7, 7]\n",
      "WN.0.WN.in_layers.1.1.bias      | [256]\n",
      "WN.0.WN.in_layers.1.1.weight_g  | [256, 1, 1, 1]\n",
      "WN.0.WN.in_layers.1.1.weight_v  | [256, 128, 1, 1]\n",
      "WN.0.WN.in_layers.2.0.bias      | [128]\n",
      "WN.0.WN.in_layers.2.0.weight_g  | [128, 1, 1, 1]\n",
      "WN.0.WN.in_layers.2.0.weight_v  | [128, 1, 7, 7]\n",
      "WN.0.WN.in_layers.2.1.bias      | [256]\n",
      "WN.0.WN.in_layers.2.1.weight_g  | [256, 1, 1, 1]\n",
      "WN.0.WN.in_layers.2.1.weight_v  | [256, 128, 1, 1]\n",
      "WN.0.WN.in_layers.3.0.bias      | [128]\n",
      "WN.0.WN.in_layers.3.0.weight_g  | [128, 1, 1, 1]\n",
      "WN.0.WN.in_layers.3.0.weight_v  | [128, 1, 7, 7]\n",
      "WN.0.WN.in_layers.3.1.bias      | [256]\n",
      "WN.0.WN.in_layers.3.1.weight_g  | [256, 1, 1, 1]\n",
      "WN.0.WN.in_layers.3.1.weight_v  | [256, 128, 1, 1]\n",
      "WN.0.WN.in_layers.4.0.bias      | [128]\n",
      "WN.0.WN.in_layers.4.0.weight_g  | [128, 1, 1, 1]\n",
      "WN.0.WN.in_layers.4.0.weight_v  | [128, 1, 7, 7]\n",
      "WN.0.WN.in_layers.4.1.bias      | [256]\n",
      "WN.0.WN.in_layers.4.1.weight_g  | [256, 1, 1, 1]\n",
      "WN.0.WN.in_layers.4.1.weight_v  | [256, 128, 1, 1]\n",
      "WN.0.WN.in_layers.5.0.bias      | [128]\n",
      "WN.0.WN.in_layers.5.0.weight_g  | [128, 1, 1, 1]\n",
      "WN.0.WN.in_layers.5.0.weight_v  | [128, 1, 7, 7]\n",
      "WN.0.WN.in_layers.5.1.bias      | [256]\n",
      "WN.0.WN.in_layers.5.1.weight_g  | [256, 1, 1, 1]\n",
      "WN.0.WN.in_layers.5.1.weight_v  | [256, 128, 1, 1]\n",
      "WN.0.WN.in_layers.6.0.bias      | [128]\n",
      "WN.0.WN.in_layers.6.0.weight_g  | [128, 1, 1, 1]\n",
      "WN.0.WN.in_layers.6.0.weight_v  | [128, 1, 7, 7]\n",
      "WN.0.WN.in_layers.6.1.bias      | [256]\n",
      "WN.0.WN.in_layers.6.1.weight_g  | [256, 1, 1, 1]\n",
      "WN.0.WN.in_layers.6.1.weight_v  | [256, 128, 1, 1]\n",
      "WN.0.WN.in_layers.7.0.bias      | [128]\n",
      "WN.0.WN.in_layers.7.0.weight_g  | [128, 1, 1, 1]\n",
      "WN.0.WN.in_layers.7.0.weight_v  | [128, 1, 7, 7]\n",
      "WN.0.WN.in_layers.7.1.bias      | [256]\n",
      "WN.0.WN.in_layers.7.1.weight_g  | [256, 1, 1, 1]\n",
      "WN.0.WN.in_layers.7.1.weight_v  | [256, 128, 1, 1]\n",
      "WN.1.WN.in_layers.0.0.bias      | [128]\n",
      "WN.1.WN.in_layers.0.0.weight_g  | [128, 1, 1, 1]\n",
      "WN.1.WN.in_layers.0.0.weight_v  | [128, 1, 7, 7]\n",
      "WN.1.WN.in_layers.0.1.bias      | [256]\n",
      "WN.1.WN.in_layers.0.1.weight_g  | [256, 1, 1, 1]\n",
      "WN.1.WN.in_layers.0.1.weight_v  | [256, 128, 1, 1]\n",
      "WN.1.WN.in_layers.1.0.bias      | [128]\n",
      "WN.1.WN.in_layers.1.0.weight_g  | [128, 1, 1, 1]\n",
      "WN.1.WN.in_layers.1.0.weight_v  | [128, 1, 7, 7]\n",
      "WN.1.WN.in_layers.1.1.bias      | [256]\n",
      "WN.1.WN.in_layers.1.1.weight_g  | [256, 1, 1, 1]\n",
      "WN.1.WN.in_layers.1.1.weight_v  | [256, 128, 1, 1]\n",
      "WN.1.WN.in_layers.2.0.bias      | [128]\n",
      "WN.1.WN.in_layers.2.0.weight_g  | [128, 1, 1, 1]\n",
      "WN.1.WN.in_layers.2.0.weight_v  | [128, 1, 7, 7]\n",
      "WN.1.WN.in_layers.2.1.bias      | [256]\n",
      "WN.1.WN.in_layers.2.1.weight_g  | [256, 1, 1, 1]\n",
      "WN.1.WN.in_layers.2.1.weight_v  | [256, 128, 1, 1]\n",
      "WN.1.WN.in_layers.3.0.bias      | [128]\n",
      "WN.1.WN.in_layers.3.0.weight_g  | [128, 1, 1, 1]\n",
      "WN.1.WN.in_layers.3.0.weight_v  | [128, 1, 7, 7]\n",
      "WN.1.WN.in_layers.3.1.bias      | [256]\n",
      "WN.1.WN.in_layers.3.1.weight_g  | [256, 1, 1, 1]\n",
      "WN.1.WN.in_layers.3.1.weight_v  | [256, 128, 1, 1]\n",
      "WN.1.WN.in_layers.4.0.bias      | [128]\n",
      "WN.1.WN.in_layers.4.0.weight_g  | [128, 1, 1, 1]\n",
      "WN.1.WN.in_layers.4.0.weight_v  | [128, 1, 7, 7]\n",
      "WN.1.WN.in_layers.4.1.bias      | [256]\n",
      "WN.1.WN.in_layers.4.1.weight_g  | [256, 1, 1, 1]\n",
      "WN.1.WN.in_layers.4.1.weight_v  | [256, 128, 1, 1]\n",
      "WN.1.WN.in_layers.5.0.bias      | [128]\n",
      "WN.1.WN.in_layers.5.0.weight_g  | [128, 1, 1, 1]\n",
      "WN.1.WN.in_layers.5.0.weight_v  | [128, 1, 7, 7]\n",
      "WN.1.WN.in_layers.5.1.bias      | [256]\n",
      "WN.1.WN.in_layers.5.1.weight_g  | [256, 1, 1, 1]\n",
      "WN.1.WN.in_layers.5.1.weight_v  | [256, 128, 1, 1]\n",
      "WN.1.WN.in_layers.6.0.bias      | [128]\n",
      "WN.1.WN.in_layers.6.0.weight_g  | [128, 1, 1, 1]\n",
      "WN.1.WN.in_layers.6.0.weight_v  | [128, 1, 7, 7]\n",
      "WN.1.WN.in_layers.6.1.bias      | [256]\n",
      "WN.1.WN.in_layers.6.1.weight_g  | [256, 1, 1, 1]\n",
      "WN.1.WN.in_layers.6.1.weight_v  | [256, 128, 1, 1]\n",
      "WN.1.WN.in_layers.7.0.bias      | [128]\n",
      "WN.1.WN.in_layers.7.0.weight_g  | [128, 1, 1, 1]\n",
      "WN.1.WN.in_layers.7.0.weight_v  | [128, 1, 7, 7]\n",
      "WN.1.WN.in_layers.7.1.bias      | [256]\n",
      "WN.1.WN.in_layers.7.1.weight_g  | [256, 1, 1, 1]\n",
      "WN.1.WN.in_layers.7.1.weight_v  | [256, 128, 1, 1]\n",
      "WN.2.WN.in_layers.0.0.bias      | [128]\n",
      "WN.2.WN.in_layers.0.0.weight_g  | [128, 1, 1, 1]\n",
      "WN.2.WN.in_layers.0.0.weight_v  | [128, 1, 7, 7]\n",
      "WN.2.WN.in_layers.0.1.bias      | [256]\n",
      "WN.2.WN.in_layers.0.1.weight_g  | [256, 1, 1, 1]\n",
      "WN.2.WN.in_layers.0.1.weight_v  | [256, 128, 1, 1]\n",
      "WN.2.WN.in_layers.1.0.bias      | [128]\n",
      "WN.2.WN.in_layers.1.0.weight_g  | [128, 1, 1, 1]\n",
      "WN.2.WN.in_layers.1.0.weight_v  | [128, 1, 7, 7]\n",
      "WN.2.WN.in_layers.1.1.bias      | [256]\n",
      "WN.2.WN.in_layers.1.1.weight_g  | [256, 1, 1, 1]\n",
      "WN.2.WN.in_layers.1.1.weight_v  | [256, 128, 1, 1]\n",
      "WN.2.WN.in_layers.2.0.bias      | [128]\n",
      "WN.2.WN.in_layers.2.0.weight_g  | [128, 1, 1, 1]\n",
      "WN.2.WN.in_layers.2.0.weight_v  | [128, 1, 7, 7]\n",
      "WN.2.WN.in_layers.2.1.bias      | [256]\n",
      "WN.2.WN.in_layers.2.1.weight_g  | [256, 1, 1, 1]\n",
      "WN.2.WN.in_layers.2.1.weight_v  | [256, 128, 1, 1]\n",
      "WN.2.WN.in_layers.3.0.bias      | [128]\n",
      "WN.2.WN.in_layers.3.0.weight_g  | [128, 1, 1, 1]\n",
      "WN.2.WN.in_layers.3.0.weight_v  | [128, 1, 7, 7]\n",
      "WN.2.WN.in_layers.3.1.bias      | [256]\n",
      "WN.2.WN.in_layers.3.1.weight_g  | [256, 1, 1, 1]\n",
      "WN.2.WN.in_layers.3.1.weight_v  | [256, 128, 1, 1]\n",
      "WN.2.WN.in_layers.4.0.bias      | [128]\n",
      "WN.2.WN.in_layers.4.0.weight_g  | [128, 1, 1, 1]\n",
      "WN.2.WN.in_layers.4.0.weight_v  | [128, 1, 7, 7]\n",
      "WN.2.WN.in_layers.4.1.bias      | [256]\n",
      "WN.2.WN.in_layers.4.1.weight_g  | [256, 1, 1, 1]\n",
      "WN.2.WN.in_layers.4.1.weight_v  | [256, 128, 1, 1]\n",
      "WN.2.WN.in_layers.5.0.bias      | [128]\n",
      "WN.2.WN.in_layers.5.0.weight_g  | [128, 1, 1, 1]\n",
      "WN.2.WN.in_layers.5.0.weight_v  | [128, 1, 7, 7]\n",
      "WN.2.WN.in_layers.5.1.bias      | [256]\n",
      "WN.2.WN.in_layers.5.1.weight_g  | [256, 1, 1, 1]\n",
      "WN.2.WN.in_layers.5.1.weight_v  | [256, 128, 1, 1]\n",
      "WN.2.WN.in_layers.6.0.bias      | [128]\n",
      "WN.2.WN.in_layers.6.0.weight_g  | [128, 1, 1, 1]\n",
      "WN.2.WN.in_layers.6.0.weight_v  | [128, 1, 7, 7]\n",
      "WN.2.WN.in_layers.6.1.bias      | [256]\n",
      "WN.2.WN.in_layers.6.1.weight_g  | [256, 1, 1, 1]\n",
      "WN.2.WN.in_layers.6.1.weight_v  | [256, 128, 1, 1]\n",
      "WN.2.WN.in_layers.7.0.bias      | [128]\n",
      "WN.2.WN.in_layers.7.0.weight_g  | [128, 1, 1, 1]\n",
      "WN.2.WN.in_layers.7.0.weight_v  | [128, 1, 7, 7]\n",
      "WN.2.WN.in_layers.7.1.bias      | [256]\n",
      "WN.2.WN.in_layers.7.1.weight_g  | [256, 1, 1, 1]\n",
      "WN.2.WN.in_layers.7.1.weight_v  | [256, 128, 1, 1]\n",
      "WN.3.WN.in_layers.0.0.bias      | [128]\n",
      "WN.3.WN.in_layers.0.0.weight_g  | [128, 1, 1, 1]\n",
      "WN.3.WN.in_layers.0.0.weight_v  | [128, 1, 7, 7]\n",
      "WN.3.WN.in_layers.0.1.bias      | [256]\n",
      "WN.3.WN.in_layers.0.1.weight_g  | [256, 1, 1, 1]\n",
      "WN.3.WN.in_layers.0.1.weight_v  | [256, 128, 1, 1]\n",
      "WN.3.WN.in_layers.1.0.bias      | [128]\n",
      "WN.3.WN.in_layers.1.0.weight_g  | [128, 1, 1, 1]\n",
      "WN.3.WN.in_layers.1.0.weight_v  | [128, 1, 7, 7]\n",
      "WN.3.WN.in_layers.1.1.bias      | [256]\n",
      "WN.3.WN.in_layers.1.1.weight_g  | [256, 1, 1, 1]\n",
      "WN.3.WN.in_layers.1.1.weight_v  | [256, 128, 1, 1]\n",
      "WN.3.WN.in_layers.2.0.bias      | [128]\n",
      "WN.3.WN.in_layers.2.0.weight_g  | [128, 1, 1, 1]\n",
      "WN.3.WN.in_layers.2.0.weight_v  | [128, 1, 7, 7]\n",
      "WN.3.WN.in_layers.2.1.bias      | [256]\n",
      "WN.3.WN.in_layers.2.1.weight_g  | [256, 1, 1, 1]\n",
      "WN.3.WN.in_layers.2.1.weight_v  | [256, 128, 1, 1]\n",
      "WN.3.WN.in_layers.3.0.bias      | [128]\n",
      "WN.3.WN.in_layers.3.0.weight_g  | [128, 1, 1, 1]\n",
      "WN.3.WN.in_layers.3.0.weight_v  | [128, 1, 7, 7]\n",
      "WN.3.WN.in_layers.3.1.bias      | [256]\n",
      "WN.3.WN.in_layers.3.1.weight_g  | [256, 1, 1, 1]\n",
      "WN.3.WN.in_layers.3.1.weight_v  | [256, 128, 1, 1]\n",
      "WN.3.WN.in_layers.4.0.bias      | [128]\n",
      "WN.3.WN.in_layers.4.0.weight_g  | [128, 1, 1, 1]\n",
      "WN.3.WN.in_layers.4.0.weight_v  | [128, 1, 7, 7]\n",
      "WN.3.WN.in_layers.4.1.bias      | [256]\n",
      "WN.3.WN.in_layers.4.1.weight_g  | [256, 1, 1, 1]\n",
      "WN.3.WN.in_layers.4.1.weight_v  | [256, 128, 1, 1]\n",
      "WN.3.WN.in_layers.5.0.bias      | [128]\n",
      "WN.3.WN.in_layers.5.0.weight_g  | [128, 1, 1, 1]\n",
      "WN.3.WN.in_layers.5.0.weight_v  | [128, 1, 7, 7]\n",
      "WN.3.WN.in_layers.5.1.bias      | [256]\n",
      "WN.3.WN.in_layers.5.1.weight_g  | [256, 1, 1, 1]\n",
      "WN.3.WN.in_layers.5.1.weight_v  | [256, 128, 1, 1]\n",
      "WN.3.WN.in_layers.6.0.bias      | [128]\n",
      "WN.3.WN.in_layers.6.0.weight_g  | [128, 1, 1, 1]\n",
      "WN.3.WN.in_layers.6.0.weight_v  | [128, 1, 7, 7]\n",
      "WN.3.WN.in_layers.6.1.bias      | [256]\n",
      "WN.3.WN.in_layers.6.1.weight_g  | [256, 1, 1, 1]\n",
      "WN.3.WN.in_layers.6.1.weight_v  | [256, 128, 1, 1]\n",
      "WN.3.WN.in_layers.7.0.bias      | [128]\n",
      "WN.3.WN.in_layers.7.0.weight_g  | [128, 1, 1, 1]\n",
      "WN.3.WN.in_layers.7.0.weight_v  | [128, 1, 7, 7]\n",
      "WN.3.WN.in_layers.7.1.bias      | [256]\n",
      "WN.3.WN.in_layers.7.1.weight_g  | [256, 1, 1, 1]\n",
      "WN.3.WN.in_layers.7.1.weight_v  | [256, 128, 1, 1]\n",
      "WN.4.WN.in_layers.0.0.bias      | [128]\n",
      "WN.4.WN.in_layers.0.0.weight_g  | [128, 1, 1, 1]\n",
      "WN.4.WN.in_layers.0.0.weight_v  | [128, 1, 7, 7]\n",
      "WN.4.WN.in_layers.0.1.bias      | [256]\n",
      "WN.4.WN.in_layers.0.1.weight_g  | [256, 1, 1, 1]\n",
      "WN.4.WN.in_layers.0.1.weight_v  | [256, 128, 1, 1]\n",
      "WN.4.WN.in_layers.1.0.bias      | [128]\n",
      "WN.4.WN.in_layers.1.0.weight_g  | [128, 1, 1, 1]\n",
      "WN.4.WN.in_layers.1.0.weight_v  | [128, 1, 7, 7]\n",
      "WN.4.WN.in_layers.1.1.bias      | [256]\n",
      "WN.4.WN.in_layers.1.1.weight_g  | [256, 1, 1, 1]\n",
      "WN.4.WN.in_layers.1.1.weight_v  | [256, 128, 1, 1]\n",
      "WN.4.WN.in_layers.2.0.bias      | [128]\n",
      "WN.4.WN.in_layers.2.0.weight_g  | [128, 1, 1, 1]\n",
      "WN.4.WN.in_layers.2.0.weight_v  | [128, 1, 7, 7]\n",
      "WN.4.WN.in_layers.2.1.bias      | [256]\n",
      "WN.4.WN.in_layers.2.1.weight_g  | [256, 1, 1, 1]\n",
      "WN.4.WN.in_layers.2.1.weight_v  | [256, 128, 1, 1]\n",
      "WN.4.WN.in_layers.3.0.bias      | [128]\n",
      "WN.4.WN.in_layers.3.0.weight_g  | [128, 1, 1, 1]\n",
      "WN.4.WN.in_layers.3.0.weight_v  | [128, 1, 7, 7]\n",
      "WN.4.WN.in_layers.3.1.bias      | [256]\n",
      "WN.4.WN.in_layers.3.1.weight_g  | [256, 1, 1, 1]\n",
      "WN.4.WN.in_layers.3.1.weight_v  | [256, 128, 1, 1]\n",
      "WN.4.WN.in_layers.4.0.bias      | [128]\n",
      "WN.4.WN.in_layers.4.0.weight_g  | [128, 1, 1, 1]\n",
      "WN.4.WN.in_layers.4.0.weight_v  | [128, 1, 7, 7]\n",
      "WN.4.WN.in_layers.4.1.bias      | [256]\n",
      "WN.4.WN.in_layers.4.1.weight_g  | [256, 1, 1, 1]\n",
      "WN.4.WN.in_layers.4.1.weight_v  | [256, 128, 1, 1]\n",
      "WN.4.WN.in_layers.5.0.bias      | [128]\n",
      "WN.4.WN.in_layers.5.0.weight_g  | [128, 1, 1, 1]\n",
      "WN.4.WN.in_layers.5.0.weight_v  | [128, 1, 7, 7]\n",
      "WN.4.WN.in_layers.5.1.bias      | [256]\n",
      "WN.4.WN.in_layers.5.1.weight_g  | [256, 1, 1, 1]\n",
      "WN.4.WN.in_layers.5.1.weight_v  | [256, 128, 1, 1]\n",
      "WN.4.WN.in_layers.6.0.bias      | [128]\n",
      "WN.4.WN.in_layers.6.0.weight_g  | [128, 1, 1, 1]\n",
      "WN.4.WN.in_layers.6.0.weight_v  | [128, 1, 7, 7]\n",
      "WN.4.WN.in_layers.6.1.bias      | [256]\n",
      "WN.4.WN.in_layers.6.1.weight_g  | [256, 1, 1, 1]\n",
      "WN.4.WN.in_layers.6.1.weight_v  | [256, 128, 1, 1]\n",
      "WN.4.WN.in_layers.7.0.bias      | [128]\n",
      "WN.4.WN.in_layers.7.0.weight_g  | [128, 1, 1, 1]\n",
      "WN.4.WN.in_layers.7.0.weight_v  | [128, 1, 7, 7]\n",
      "WN.4.WN.in_layers.7.1.bias      | [256]\n",
      "WN.4.WN.in_layers.7.1.weight_g  | [256, 1, 1, 1]\n",
      "WN.4.WN.in_layers.7.1.weight_v  | [256, 128, 1, 1]\n",
      "WN.5.WN.in_layers.0.0.bias      | [128]\n",
      "WN.5.WN.in_layers.0.0.weight_g  | [128, 1, 1, 1]\n",
      "WN.5.WN.in_layers.0.0.weight_v  | [128, 1, 7, 7]\n",
      "WN.5.WN.in_layers.0.1.bias      | [256]\n",
      "WN.5.WN.in_layers.0.1.weight_g  | [256, 1, 1, 1]\n",
      "WN.5.WN.in_layers.0.1.weight_v  | [256, 128, 1, 1]\n",
      "WN.5.WN.in_layers.1.0.bias      | [128]\n",
      "WN.5.WN.in_layers.1.0.weight_g  | [128, 1, 1, 1]\n",
      "WN.5.WN.in_layers.1.0.weight_v  | [128, 1, 7, 7]\n",
      "WN.5.WN.in_layers.1.1.bias      | [256]\n",
      "WN.5.WN.in_layers.1.1.weight_g  | [256, 1, 1, 1]\n",
      "WN.5.WN.in_layers.1.1.weight_v  | [256, 128, 1, 1]\n",
      "WN.5.WN.in_layers.2.0.bias      | [128]\n",
      "WN.5.WN.in_layers.2.0.weight_g  | [128, 1, 1, 1]\n",
      "WN.5.WN.in_layers.2.0.weight_v  | [128, 1, 7, 7]\n",
      "WN.5.WN.in_layers.2.1.bias      | [256]\n",
      "WN.5.WN.in_layers.2.1.weight_g  | [256, 1, 1, 1]\n",
      "WN.5.WN.in_layers.2.1.weight_v  | [256, 128, 1, 1]\n",
      "WN.5.WN.in_layers.3.0.bias      | [128]\n",
      "WN.5.WN.in_layers.3.0.weight_g  | [128, 1, 1, 1]\n",
      "WN.5.WN.in_layers.3.0.weight_v  | [128, 1, 7, 7]\n",
      "WN.5.WN.in_layers.3.1.bias      | [256]\n",
      "WN.5.WN.in_layers.3.1.weight_g  | [256, 1, 1, 1]\n",
      "WN.5.WN.in_layers.3.1.weight_v  | [256, 128, 1, 1]\n",
      "WN.5.WN.in_layers.4.0.bias      | [128]\n",
      "WN.5.WN.in_layers.4.0.weight_g  | [128, 1, 1, 1]\n",
      "WN.5.WN.in_layers.4.0.weight_v  | [128, 1, 7, 7]\n",
      "WN.5.WN.in_layers.4.1.bias      | [256]\n",
      "WN.5.WN.in_layers.4.1.weight_g  | [256, 1, 1, 1]\n",
      "WN.5.WN.in_layers.4.1.weight_v  | [256, 128, 1, 1]\n",
      "WN.5.WN.in_layers.5.0.bias      | [128]\n",
      "WN.5.WN.in_layers.5.0.weight_g  | [128, 1, 1, 1]\n",
      "WN.5.WN.in_layers.5.0.weight_v  | [128, 1, 7, 7]\n",
      "WN.5.WN.in_layers.5.1.bias      | [256]\n",
      "WN.5.WN.in_layers.5.1.weight_g  | [256, 1, 1, 1]\n",
      "WN.5.WN.in_layers.5.1.weight_v  | [256, 128, 1, 1]\n",
      "WN.5.WN.in_layers.6.0.bias      | [128]\n",
      "WN.5.WN.in_layers.6.0.weight_g  | [128, 1, 1, 1]\n",
      "WN.5.WN.in_layers.6.0.weight_v  | [128, 1, 7, 7]\n",
      "WN.5.WN.in_layers.6.1.bias      | [256]\n",
      "WN.5.WN.in_layers.6.1.weight_g  | [256, 1, 1, 1]\n",
      "WN.5.WN.in_layers.6.1.weight_v  | [256, 128, 1, 1]\n",
      "WN.5.WN.in_layers.7.0.bias      | [128]\n",
      "WN.5.WN.in_layers.7.0.weight_g  | [128, 1, 1, 1]\n",
      "WN.5.WN.in_layers.7.0.weight_v  | [128, 1, 7, 7]\n",
      "WN.5.WN.in_layers.7.1.bias      | [256]\n",
      "WN.5.WN.in_layers.7.1.weight_g  | [256, 1, 1, 1]\n",
      "WN.5.WN.in_layers.7.1.weight_v  | [256, 128, 1, 1]\n"
     ]
    }
   ],
   "source": [
    "print( \"\\n\".join([f\"{key:32}| {list(state_dict[key].shape)}\" for key in state_dict.keys() if all(x in key for x in ('in_layers',))])  )"
   ]
  },
  {
   "cell_type": "code",
   "execution_count": 25,
   "metadata": {},
   "outputs": [
    {
     "data": {
      "text/plain": [
       "torch.Size([128, 1, 1, 1])"
      ]
     },
     "execution_count": 25,
     "metadata": {},
     "output_type": "execute_result"
    }
   ],
   "source": [
    "state_dict['WN.0.WN.in_layers.0.0.weight_g'].shape"
   ]
  },
  {
   "cell_type": "code",
   "execution_count": null,
   "metadata": {},
   "outputs": [],
   "source": []
  }
 ],
 "metadata": {
  "kernelspec": {
   "display_name": "Python 3",
   "language": "python",
   "name": "python3"
  },
  "language_info": {
   "codemirror_mode": {
    "name": "ipython",
    "version": 3
   },
   "file_extension": ".py",
   "mimetype": "text/x-python",
   "name": "python",
   "nbconvert_exporter": "python",
   "pygments_lexer": "ipython3",
   "version": "3.7.6"
  }
 },
 "nbformat": 4,
 "nbformat_minor": 4
}
