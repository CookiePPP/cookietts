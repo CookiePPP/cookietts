{
 "cells": [
  {
   "cell_type": "code",
   "execution_count": 3,
   "metadata": {},
   "outputs": [],
   "source": [
    "import numpy as np\n",
    "import torch"
   ]
  },
  {
   "cell_type": "code",
   "execution_count": 233,
   "metadata": {},
   "outputs": [],
   "source": [
    "stage = \"0\"\n",
    "pickle = True\n",
    "batch_size2 = np.load(\"debug\"+stage+\"_2.npy\", allow_pickle=pickle)\n",
    "batch_size3 = np.load(\"debug\"+stage+\"_6.npy\", allow_pickle=pickle)"
   ]
  },
  {
   "cell_type": "code",
   "execution_count": 234,
   "metadata": {},
   "outputs": [
    {
     "data": {
      "text/plain": [
       "(8,)"
      ]
     },
     "execution_count": 234,
     "metadata": {},
     "output_type": "execute_result"
    }
   ],
   "source": [
    "batch_size2.shape"
   ]
  },
  {
   "cell_type": "code",
   "execution_count": 235,
   "metadata": {},
   "outputs": [
    {
     "data": {
      "text/plain": [
       "(8,)"
      ]
     },
     "execution_count": 235,
     "metadata": {},
     "output_type": "execute_result"
    }
   ],
   "source": [
    "batch_size3.shape"
   ]
  },
  {
   "cell_type": "code",
   "execution_count": 249,
   "metadata": {},
   "outputs": [
    {
     "name": "stdout",
     "output_type": "stream",
     "text": [
      "tensor(True, device='cuda:0')\n",
      "tensor(True, device='cuda:0')\n",
      "~~~~~ under should be mostly false ~~~~~\n",
      "tensor(False, device='cuda:0')\n"
     ]
    }
   ],
   "source": [
    "text_inputs, text_lengths, mels, max_len, output_lengths, *_, speaker_ids = batch_size2\n",
    "text_inputs2, text_lengths2, mels2, max_len2, output_lengths2, *_2, speaker_ids2 = batch_size3\n",
    "x = speaker_ids\n",
    "y = speaker_ids2\n",
    "print(x[0] == y[0])\n",
    "print(x[1] == y[3])\n",
    "print(\"~~~~~ under should be mostly false ~~~~~\"); print(x[1] == y[2])"
   ]
  },
  {
   "cell_type": "code",
   "execution_count": 232,
   "metadata": {},
   "outputs": [
    {
     "data": {
      "text/plain": [
       "tensor(199, device='cuda:0')"
      ]
     },
     "execution_count": 232,
     "metadata": {},
     "output_type": "execute_result"
    }
   ],
   "source": [
    "speaker_ids[1]"
   ]
  },
  {
   "cell_type": "code",
   "execution_count": 250,
   "metadata": {},
   "outputs": [
    {
     "name": "stdout",
     "output_type": "stream",
     "text": [
      "[tensor([[ 57,  60,  46,  49,  46,  44,  45,  57,  11,  60,  52,  58,  49,  41,\n",
      "          11,  45,  38,  59,  42,  11,  57,  52,  11,  39,  42,  49,  46,  42,\n",
      "          59,  42,   6,  11,  57,  45,  38,  57,  11,  56,  45,  42,   3,  56,\n",
      "          11,  57,  45,  42,  11,  49,  42,  38,  41,  42,  55,  11,  57,  45,\n",
      "          38,  57,  11,  60,  42,  11,  38,  49,  49,  11,  48,  51,  52,  60,\n",
      "          11,  56,  45,  42,  11,  46,  56,   7,   9],\n",
      "        [145, 141,  11, 106,  70, 143,  11,  94, 119, 112,  11,  85,  90, 113,\n",
      "          73,   6,  11,  88, 109, 105,  11, 118,  70, 116,  10,   9,   0,   0,\n",
      "           0,   0,   0,   0,   0,   0,   0,   0,   0,   0,   0,   0,   0,   0,\n",
      "           0,   0,   0,   0,   0,   0,   0,   0,   0,   0,   0,   0,   0,   0,\n",
      "           0,   0,   0,   0,   0,   0,   0,   0,   0,   0,   0,   0,   0,   0,\n",
      "           0,   0,   0,   0,   0,   0,   0,   0,   0]], device='cuda:0')\n",
      " tensor([79, 26], device='cuda:0')\n",
      " tensor([[[ -5.1645,  -5.6108,  -5.9575,  ...,  -5.0840,  -6.1961,  -7.4189],\n",
      "         [ -5.0741,  -5.2913,  -5.4942,  ...,  -4.3245,  -5.2596,  -6.3188],\n",
      "         [ -5.7720,  -5.4631,  -5.3335,  ...,  -5.7310,  -6.2349,  -6.7459],\n",
      "         ...,\n",
      "         [-10.4091, -10.5897, -10.8004,  ..., -10.8262, -10.9445, -10.9439],\n",
      "         [-10.6196, -10.6451, -10.7543,  ..., -10.7161, -10.8307, -10.7639],\n",
      "         [-10.5698, -10.7726, -10.9164,  ..., -10.7405, -10.6445, -10.7109]],\n",
      "\n",
      "        [[ -5.3866,  -4.8551,  -4.5344,  ...,   0.0000,   0.0000,   0.0000],\n",
      "         [ -5.6624,  -4.8216,  -4.8493,  ...,   0.0000,   0.0000,   0.0000],\n",
      "         [ -5.0928,  -4.0923,  -4.0322,  ...,   0.0000,   0.0000,   0.0000],\n",
      "         ...,\n",
      "         [-10.2196, -10.2223, -10.1059,  ...,   0.0000,   0.0000,   0.0000],\n",
      "         [-10.2932, -10.2590, -10.0966,  ...,   0.0000,   0.0000,   0.0000],\n",
      "         [-10.2405, -10.0525, -10.0429,  ...,   0.0000,   0.0000,   0.0000]]],\n",
      "       device='cuda:0')\n",
      " 79 tensor([395,  93], device='cuda:0')\n",
      " tensor([[ 46,  49,  35,  38,  35,  33,  34,  46,  49,  41,  47,  38,  30,  34,\n",
      "          27,  48,  31,  46,  41,  28,  31,  38,  35,  31,  48,  31,  46,  34,\n",
      "          27,  46,  45,  34,  31,  45,  46,  34,  31,  38,  31,  27,  30,  31,\n",
      "          44,  46,  34,  27,  46,  49,  31,  27,  38,  38,  37,  40,  41,  49,\n",
      "          45,  34,  31,  35,  45],\n",
      "        [134, 130,  95,  59, 132,  83, 108, 101,  74,  79, 102,  62,  77,  98,\n",
      "          94, 107,  59, 105,   0,   0,   0,   0,   0,   0,   0,   0,   0,   0,\n",
      "           0,   0,   0,   0,   0,   0,   0,   0,   0,   0,   0,   0,   0,   0,\n",
      "           0,   0,   0,   0,   0,   0,   0,   0,   0,   0,   0,   0,   0,   0,\n",
      "           0,   0,   0,   0,   0]], device='cuda:0')\n",
      " tensor([61, 18], device='cuda:0') tensor([171, 199], device='cuda:0')]\n"
     ]
    }
   ],
   "source": [
    "print(batch_size2)"
   ]
  },
  {
   "cell_type": "code",
   "execution_count": 251,
   "metadata": {},
   "outputs": [
    {
     "name": "stdout",
     "output_type": "stream",
     "text": [
      "[tensor([[ 57,  60,  46,  49,  46,  44,  45,  57,  11,  60,  52,  58,  49,  41,\n",
      "          11,  45,  38,  59,  42,  11,  57,  52,  11,  39,  42,  49,  46,  42,\n",
      "          59,  42,   6,  11,  57,  45,  38,  57,  11,  56,  45,  42,   3,  56,\n",
      "          11,  57,  45,  42,  11,  49,  42,  38,  41,  42,  55,  11,  57,  45,\n",
      "          38,  57,  11,  60,  42,  11,  38,  49,  49,  11,  48,  51,  52,  60,\n",
      "          11,  56,  45,  42,  11,  46,  56,   7,   9],\n",
      "        [132, 137,  90,  11, 144, 113,  11, 133,  94, 117,  11, 106,  98,  11,\n",
      "          91,  70, 133,  11, 144, 113, 143,  11, 116, 117, 109, 130,  90,  11,\n",
      "          82, 133,  11,  82, 130,   6,  11, 106,  73, 118,  11, 118,  74,  91,\n",
      "          97,  11, 104,  74, 116,  97,   7,   9,   0,   0,   0,   0,   0,   0,\n",
      "           0,   0,   0,   0,   0,   0,   0,   0,   0,   0,   0,   0,   0,   0,\n",
      "           0,   0,   0,   0,   0,   0,   0,   0,   0],\n",
      "        [ 46,  51,  57,  42,  51,  57,  11,  52,  51,  11,  56,  57,  42,  38,\n",
      "          49,  46,  51,  44,  11,  42,  54,  58,  42,  56,  57,  55,  46,  38,\n",
      "          51,  11,  50,  38,  44,  46,  40,   7,   9,   0,   0,   0,   0,   0,\n",
      "           0,   0,   0,   0,   0,   0,   0,   0,   0,   0,   0,   0,   0,   0,\n",
      "           0,   0,   0,   0,   0,   0,   0,   0,   0,   0,   0,   0,   0,   0,\n",
      "           0,   0,   0,   0,   0,   0,   0,   0,   0],\n",
      "        [145, 141,  11, 106,  70, 143,  11,  94, 119, 112,  11,  85,  90, 113,\n",
      "          73,   6,  11,  88, 109, 105,  11, 118,  70, 116,  10,   9,   0,   0,\n",
      "           0,   0,   0,   0,   0,   0,   0,   0,   0,   0,   0,   0,   0,   0,\n",
      "           0,   0,   0,   0,   0,   0,   0,   0,   0,   0,   0,   0,   0,   0,\n",
      "           0,   0,   0,   0,   0,   0,   0,   0,   0,   0,   0,   0,   0,   0,\n",
      "           0,   0,   0,   0,   0,   0,   0,   0,   0],\n",
      "        [ 60,  42,  11,  40,  38,  51,  11,  44,  52,  11,  57,  52,  11,  57,\n",
      "          45,  42,  11,  43,  38,  46,  55,   2,   9,   0,   0,   0,   0,   0,\n",
      "           0,   0,   0,   0,   0,   0,   0,   0,   0,   0,   0,   0,   0,   0,\n",
      "           0,   0,   0,   0,   0,   0,   0,   0,   0,   0,   0,   0,   0,   0,\n",
      "           0,   0,   0,   0,   0,   0,   0,   0,   0,   0,   0,   0,   0,   0,\n",
      "           0,   0,   0,   0,   0,   0,   0,   0,   0],\n",
      "        [ 43,  55,  42,  38,  48,  62,  11,  41,  42,  38,  48,  62,   2,   9,\n",
      "           0,   0,   0,   0,   0,   0,   0,   0,   0,   0,   0,   0,   0,   0,\n",
      "           0,   0,   0,   0,   0,   0,   0,   0,   0,   0,   0,   0,   0,   0,\n",
      "           0,   0,   0,   0,   0,   0,   0,   0,   0,   0,   0,   0,   0,   0,\n",
      "           0,   0,   0,   0,   0,   0,   0,   0,   0,   0,   0,   0,   0,   0,\n",
      "           0,   0,   0,   0,   0,   0,   0,   0,   0]], device='cuda:0')\n",
      " tensor([79, 50, 37, 26, 23, 14], device='cuda:0')\n",
      " tensor([[[ -5.1645,  -5.6108,  -5.9575,  ...,  -5.0840,  -6.1961,  -7.4189],\n",
      "         [ -5.0741,  -5.2913,  -5.4942,  ...,  -4.3245,  -5.2596,  -6.3188],\n",
      "         [ -5.7720,  -5.4631,  -5.3335,  ...,  -5.7310,  -6.2349,  -6.7459],\n",
      "         ...,\n",
      "         [-10.4091, -10.5897, -10.8004,  ..., -10.8262, -10.9445, -10.9439],\n",
      "         [-10.6196, -10.6451, -10.7543,  ..., -10.7161, -10.8307, -10.7639],\n",
      "         [-10.5698, -10.7726, -10.9164,  ..., -10.7405, -10.6445, -10.7109]],\n",
      "\n",
      "        [[ -5.0326,  -5.0860,  -4.7822,  ...,   0.0000,   0.0000,   0.0000],\n",
      "         [ -6.3256,  -6.4991,  -6.1770,  ...,   0.0000,   0.0000,   0.0000],\n",
      "         [ -7.4838,  -7.4454,  -7.1105,  ...,   0.0000,   0.0000,   0.0000],\n",
      "         ...,\n",
      "         [ -8.4870,  -8.0702,  -7.4839,  ...,   0.0000,   0.0000,   0.0000],\n",
      "         [ -9.1096,  -8.6665,  -8.1180,  ...,   0.0000,   0.0000,   0.0000],\n",
      "         [ -9.4111,  -8.7992,  -8.3731,  ...,   0.0000,   0.0000,   0.0000]],\n",
      "\n",
      "        [[ -5.3427,  -5.9147,  -6.2950,  ...,   0.0000,   0.0000,   0.0000],\n",
      "         [ -5.1997,  -5.8205,  -5.2659,  ...,   0.0000,   0.0000,   0.0000],\n",
      "         [ -4.6871,  -5.1633,  -4.8226,  ...,   0.0000,   0.0000,   0.0000],\n",
      "         ...,\n",
      "         [ -8.0086,  -7.8815,  -7.7906,  ...,   0.0000,   0.0000,   0.0000],\n",
      "         [ -8.3424,  -8.2370,  -8.1839,  ...,   0.0000,   0.0000,   0.0000],\n",
      "         [ -8.8096,  -8.7772,  -8.9044,  ...,   0.0000,   0.0000,   0.0000]],\n",
      "\n",
      "        [[ -5.3866,  -4.8551,  -4.5344,  ...,   0.0000,   0.0000,   0.0000],\n",
      "         [ -5.6624,  -4.8216,  -4.8493,  ...,   0.0000,   0.0000,   0.0000],\n",
      "         [ -5.0928,  -4.0923,  -4.0322,  ...,   0.0000,   0.0000,   0.0000],\n",
      "         ...,\n",
      "         [-10.2196, -10.2223, -10.1059,  ...,   0.0000,   0.0000,   0.0000],\n",
      "         [-10.2932, -10.2590, -10.0966,  ...,   0.0000,   0.0000,   0.0000],\n",
      "         [-10.2405, -10.0525, -10.0429,  ...,   0.0000,   0.0000,   0.0000]],\n",
      "\n",
      "        [[ -4.8922,  -5.5802,  -6.5012,  ...,   0.0000,   0.0000,   0.0000],\n",
      "         [ -4.6609,  -4.7186,  -5.2007,  ...,   0.0000,   0.0000,   0.0000],\n",
      "         [ -5.1913,  -4.7124,  -5.2823,  ...,   0.0000,   0.0000,   0.0000],\n",
      "         ...,\n",
      "         [-10.5247, -10.7111, -10.2846,  ...,   0.0000,   0.0000,   0.0000],\n",
      "         [-10.7210, -10.8598, -10.8882,  ...,   0.0000,   0.0000,   0.0000],\n",
      "         [-10.6812, -10.8372, -10.7977,  ...,   0.0000,   0.0000,   0.0000]],\n",
      "\n",
      "        [[ -5.0945,  -5.1699,  -5.3220,  ...,   0.0000,   0.0000,   0.0000],\n",
      "         [ -5.9838,  -5.9121,  -5.9224,  ...,   0.0000,   0.0000,   0.0000],\n",
      "         [ -6.6054,  -5.7666,  -5.8107,  ...,   0.0000,   0.0000,   0.0000],\n",
      "         ...,\n",
      "         [ -6.8433,  -6.7424,  -6.8862,  ...,   0.0000,   0.0000,   0.0000],\n",
      "         [ -7.3583,  -7.2775,  -7.2740,  ...,   0.0000,   0.0000,   0.0000],\n",
      "         [ -7.5022,  -7.4491,  -7.4387,  ...,   0.0000,   0.0000,   0.0000]]],\n",
      "       device='cuda:0')\n",
      " 79 tensor([395, 193, 190,  93, 190, 159], device='cuda:0')\n",
      " tensor([[ 46,  49,  35,  38,  35,  33,  34,  46,  49,  41,  47,  38,  30,  34,\n",
      "          27,  48,  31,  46,  41,  28,  31,  38,  35,  31,  48,  31,  46,  34,\n",
      "          27,  46,  45,  34,  31,  45,  46,  34,  31,  38,  31,  27,  30,  31,\n",
      "          44,  46,  34,  27,  46,  49,  31,  27,  38,  38,  37,  40,  41,  49,\n",
      "          45,  34,  31,  35,  45],\n",
      "        [121, 126,  79, 133, 102, 122,  83, 106,  95,  87,  80,  59, 122, 133,\n",
      "         102, 132, 105, 106,  98, 119,  79,  71, 122,  71, 119,  95,  62, 107,\n",
      "         107,  63,  80,  86,  93,  63, 105,  86,   0,   0,   0,   0,   0,   0,\n",
      "           0,   0,   0,   0,   0,   0,   0,   0,   0,   0,   0,   0,   0,   0,\n",
      "           0,   0,   0,   0,   0],\n",
      "        [ 35,  40,  46,  31,  40,  46,  41,  40,  45,  46,  31,  27,  38,  35,\n",
      "          40,  33,  31,  43,  47,  31,  45,  46,  44,  35,  27,  40,  39,  27,\n",
      "          33,  35,  29,   0,   0,   0,   0,   0,   0,   0,   0,   0,   0,   0,\n",
      "           0,   0,   0,   0,   0,   0,   0,   0,   0,   0,   0,   0,   0,   0,\n",
      "           0,   0,   0,   0,   0],\n",
      "        [134, 130,  95,  59, 132,  83, 108, 101,  74,  79, 102,  62,  77,  98,\n",
      "          94, 107,  59, 105,   0,   0,   0,   0,   0,   0,   0,   0,   0,   0,\n",
      "           0,   0,   0,   0,   0,   0,   0,   0,   0,   0,   0,   0,   0,   0,\n",
      "           0,   0,   0,   0,   0,   0,   0,   0,   0,   0,   0,   0,   0,   0,\n",
      "           0,   0,   0,   0,   0],\n",
      "        [ 49,  31,  29,  27,  40,  33,  41,  46,  41,  46,  34,  31,  32,  27,\n",
      "          35,  44,   0,   0,   0,   0,   0,   0,   0,   0,   0,   0,   0,   0,\n",
      "           0,   0,   0,   0,   0,   0,   0,   0,   0,   0,   0,   0,   0,   0,\n",
      "           0,   0,   0,   0,   0,   0,   0,   0,   0,   0,   0,   0,   0,   0,\n",
      "           0,   0,   0,   0,   0],\n",
      "        [ 32,  44,  31,  27,  37,  51,  30,  31,  27,  37,  51,   0,   0,   0,\n",
      "           0,   0,   0,   0,   0,   0,   0,   0,   0,   0,   0,   0,   0,   0,\n",
      "           0,   0,   0,   0,   0,   0,   0,   0,   0,   0,   0,   0,   0,   0,\n",
      "           0,   0,   0,   0,   0,   0,   0,   0,   0,   0,   0,   0,   0,   0,\n",
      "           0,   0,   0,   0,   0]], device='cuda:0')\n",
      " tensor([61, 36, 31, 18, 16, 11], device='cuda:0')\n",
      " tensor([171,  61,  42, 199, 163,   0], device='cuda:0')]\n"
     ]
    }
   ],
   "source": [
    "print(batch_size3)"
   ]
  },
  {
   "cell_type": "code",
   "execution_count": 186,
   "metadata": {
    "scrolled": true
   },
   "outputs": [
    {
     "ename": "IndexError",
     "evalue": "too many indices for array",
     "output_type": "error",
     "traceback": [
      "\u001b[0;31m---------------------------------------------------------------------------\u001b[0m",
      "\u001b[0;31mIndexError\u001b[0m                                Traceback (most recent call last)",
      "\u001b[0;32m<ipython-input-186-90af399160b2>\u001b[0m in \u001b[0;36m<module>\u001b[0;34m\u001b[0m\n\u001b[0;32m----> 1\u001b[0;31m \u001b[0mbatch_size2\u001b[0m\u001b[0;34m[\u001b[0m\u001b[0;36m0\u001b[0m\u001b[0;34m,\u001b[0m\u001b[0;34m:\u001b[0m\u001b[0;34m,\u001b[0m\u001b[0;34m:\u001b[0m\u001b[0;34m]\u001b[0m\u001b[0;34m\u001b[0m\u001b[0;34m\u001b[0m\u001b[0m\n\u001b[0m",
      "\u001b[0;31mIndexError\u001b[0m: too many indices for array"
     ]
    }
   ],
   "source": [
    "batch_size2[0,:,:]"
   ]
  },
  {
   "cell_type": "code",
   "execution_count": 187,
   "metadata": {},
   "outputs": [
    {
     "ename": "IndexError",
     "evalue": "too many indices for array",
     "output_type": "error",
     "traceback": [
      "\u001b[0;31m---------------------------------------------------------------------------\u001b[0m",
      "\u001b[0;31mIndexError\u001b[0m                                Traceback (most recent call last)",
      "\u001b[0;32m<ipython-input-187-76e89fd8e258>\u001b[0m in \u001b[0;36m<module>\u001b[0;34m\u001b[0m\n\u001b[0;32m----> 1\u001b[0;31m \u001b[0mbatch_size3\u001b[0m\u001b[0;34m[\u001b[0m\u001b[0;36m0\u001b[0m\u001b[0;34m,\u001b[0m\u001b[0;34m:\u001b[0m\u001b[0;34m,\u001b[0m\u001b[0;34m:\u001b[0m\u001b[0;34m]\u001b[0m\u001b[0;34m\u001b[0m\u001b[0;34m\u001b[0m\u001b[0m\n\u001b[0m",
      "\u001b[0;31mIndexError\u001b[0m: too many indices for array"
     ]
    }
   ],
   "source": [
    "batch_size3[0,:,:]"
   ]
  },
  {
   "cell_type": "code",
   "execution_count": 188,
   "metadata": {},
   "outputs": [
    {
     "ename": "IndexError",
     "evalue": "too many indices for array",
     "output_type": "error",
     "traceback": [
      "\u001b[0;31m---------------------------------------------------------------------------\u001b[0m",
      "\u001b[0;31mIndexError\u001b[0m                                Traceback (most recent call last)",
      "\u001b[0;32m<ipython-input-188-ce077da1c7d0>\u001b[0m in \u001b[0;36m<module>\u001b[0;34m\u001b[0m\n\u001b[0;32m----> 1\u001b[0;31m \u001b[0mprint\u001b[0m\u001b[0;34m(\u001b[0m\u001b[0mbatch_size2\u001b[0m\u001b[0;34m[\u001b[0m\u001b[0;36m0\u001b[0m\u001b[0;34m,\u001b[0m\u001b[0;34m:\u001b[0m\u001b[0;34m,\u001b[0m\u001b[0;34m:\u001b[0m\u001b[0;34m]\u001b[0m\u001b[0;34m.\u001b[0m\u001b[0mshape\u001b[0m\u001b[0;34m)\u001b[0m\u001b[0;34m\u001b[0m\u001b[0;34m\u001b[0m\u001b[0m\n\u001b[0m\u001b[1;32m      2\u001b[0m \u001b[0mprint\u001b[0m\u001b[0;34m(\u001b[0m\u001b[0mbatch_size3\u001b[0m\u001b[0;34m[\u001b[0m\u001b[0;36m0\u001b[0m\u001b[0;34m,\u001b[0m\u001b[0;34m:\u001b[0m\u001b[0;34m,\u001b[0m\u001b[0;34m:\u001b[0m\u001b[0;34m]\u001b[0m\u001b[0;34m.\u001b[0m\u001b[0mshape\u001b[0m\u001b[0;34m)\u001b[0m\u001b[0;34m\u001b[0m\u001b[0;34m\u001b[0m\u001b[0m\n\u001b[1;32m      3\u001b[0m \u001b[0mcorrect\u001b[0m \u001b[0;34m=\u001b[0m \u001b[0;36m0\u001b[0m\u001b[0;34m\u001b[0m\u001b[0;34m\u001b[0m\u001b[0m\n\u001b[1;32m      4\u001b[0m \u001b[0mtotal\u001b[0m \u001b[0;34m=\u001b[0m \u001b[0mlen\u001b[0m\u001b[0;34m(\u001b[0m\u001b[0mbatch_size2\u001b[0m\u001b[0;34m[\u001b[0m\u001b[0;36m0\u001b[0m\u001b[0;34m,\u001b[0m\u001b[0;34m:\u001b[0m\u001b[0;34m,\u001b[0m\u001b[0;34m:\u001b[0m\u001b[0;34m]\u001b[0m\u001b[0;34m.\u001b[0m\u001b[0mflatten\u001b[0m\u001b[0;34m(\u001b[0m\u001b[0;36m0\u001b[0m\u001b[0;34m)\u001b[0m\u001b[0;34m)\u001b[0m\u001b[0;34m\u001b[0m\u001b[0;34m\u001b[0m\u001b[0m\n\u001b[1;32m      5\u001b[0m \u001b[0;32mfor\u001b[0m \u001b[0mi\u001b[0m \u001b[0;32min\u001b[0m \u001b[0mrange\u001b[0m\u001b[0;34m(\u001b[0m\u001b[0mlen\u001b[0m\u001b[0;34m(\u001b[0m\u001b[0mbatch_size2\u001b[0m\u001b[0;34m[\u001b[0m\u001b[0;36m0\u001b[0m\u001b[0;34m,\u001b[0m\u001b[0;34m:\u001b[0m\u001b[0;34m,\u001b[0m\u001b[0;34m:\u001b[0m\u001b[0;34m]\u001b[0m\u001b[0;34m.\u001b[0m\u001b[0mflatten\u001b[0m\u001b[0;34m(\u001b[0m\u001b[0;36m0\u001b[0m\u001b[0;34m)\u001b[0m\u001b[0;34m)\u001b[0m\u001b[0;34m)\u001b[0m\u001b[0;34m:\u001b[0m\u001b[0;34m\u001b[0m\u001b[0;34m\u001b[0m\u001b[0m\n",
      "\u001b[0;31mIndexError\u001b[0m: too many indices for array"
     ]
    }
   ],
   "source": [
    "print(batch_size2[0,:,:].shape)\n",
    "print(batch_size3[0,:,:].shape)\n",
    "correct = 0\n",
    "total = len(batch_size2[0,:,:].flatten(0))\n",
    "for i in range(len(batch_size2[0,:,:].flatten(0))):\n",
    "    if batch_size2[0,:,:].flatten(0)[i] == batch_size3[0,:,:].flatten(0)[i]: correct+=1\n",
    "print(str((correct/total)*100)+\"% identical\")\n",
    "\n",
    "print(batch_size2[0,:,:] == batch_size3[0,:,:]) # should be the same\n",
    "print(batch_size2[1,:,:] == batch_size3[1,:,:]) # should be the same\n",
    "print(batch_size2[1,:,:] == batch_size3[2,:,:]) # should be different"
   ]
  },
  {
   "cell_type": "code",
   "execution_count": null,
   "metadata": {},
   "outputs": [],
   "source": []
  },
  {
   "cell_type": "code",
   "execution_count": null,
   "metadata": {},
   "outputs": [],
   "source": []
  },
  {
   "cell_type": "code",
   "execution_count": 12,
   "metadata": {},
   "outputs": [],
   "source": [
    "t = torch.tensor([[1,2,3,4],[5,6,7,8],[9,10,11,12]])"
   ]
  },
  {
   "cell_type": "code",
   "execution_count": 13,
   "metadata": {},
   "outputs": [
    {
     "data": {
      "text/plain": [
       "torch.Size([3, 4])"
      ]
     },
     "execution_count": 13,
     "metadata": {},
     "output_type": "execute_result"
    }
   ],
   "source": [
    "t.shape"
   ]
  },
  {
   "cell_type": "code",
   "execution_count": 14,
   "metadata": {},
   "outputs": [
    {
     "data": {
      "text/plain": [
       "tensor([[ 1,  2,  3,  4],\n",
       "        [ 5,  6,  7,  8],\n",
       "        [ 9, 10, 11, 12]])"
      ]
     },
     "execution_count": 14,
     "metadata": {},
     "output_type": "execute_result"
    }
   ],
   "source": [
    "t.squeeze()"
   ]
  },
  {
   "cell_type": "code",
   "execution_count": 15,
   "metadata": {},
   "outputs": [
    {
     "data": {
      "text/plain": [
       "torch.Size([1, 3, 4])"
      ]
     },
     "execution_count": 15,
     "metadata": {},
     "output_type": "execute_result"
    }
   ],
   "source": [
    "t.unsqueeze(0).shape"
   ]
  },
  {
   "cell_type": "code",
   "execution_count": 16,
   "metadata": {},
   "outputs": [
    {
     "name": "stderr",
     "output_type": "stream",
     "text": [
      "/home/cookie/.local/lib/python3.7/site-packages/tensorflow/python/framework/dtypes.py:526: FutureWarning: Passing (type, 1) or '1type' as a synonym of type is deprecated; in a future version of numpy, it will be understood as (type, (1,)) / '(1,)type'.\n",
      "  _np_qint8 = np.dtype([(\"qint8\", np.int8, 1)])\n",
      "/home/cookie/.local/lib/python3.7/site-packages/tensorflow/python/framework/dtypes.py:527: FutureWarning: Passing (type, 1) or '1type' as a synonym of type is deprecated; in a future version of numpy, it will be understood as (type, (1,)) / '(1,)type'.\n",
      "  _np_quint8 = np.dtype([(\"quint8\", np.uint8, 1)])\n",
      "/home/cookie/.local/lib/python3.7/site-packages/tensorflow/python/framework/dtypes.py:528: FutureWarning: Passing (type, 1) or '1type' as a synonym of type is deprecated; in a future version of numpy, it will be understood as (type, (1,)) / '(1,)type'.\n",
      "  _np_qint16 = np.dtype([(\"qint16\", np.int16, 1)])\n",
      "/home/cookie/.local/lib/python3.7/site-packages/tensorflow/python/framework/dtypes.py:529: FutureWarning: Passing (type, 1) or '1type' as a synonym of type is deprecated; in a future version of numpy, it will be understood as (type, (1,)) / '(1,)type'.\n",
      "  _np_quint16 = np.dtype([(\"quint16\", np.uint16, 1)])\n",
      "/home/cookie/.local/lib/python3.7/site-packages/tensorflow/python/framework/dtypes.py:530: FutureWarning: Passing (type, 1) or '1type' as a synonym of type is deprecated; in a future version of numpy, it will be understood as (type, (1,)) / '(1,)type'.\n",
      "  _np_qint32 = np.dtype([(\"qint32\", np.int32, 1)])\n",
      "/home/cookie/.local/lib/python3.7/site-packages/tensorflow/python/framework/dtypes.py:535: FutureWarning: Passing (type, 1) or '1type' as a synonym of type is deprecated; in a future version of numpy, it will be understood as (type, (1,)) / '(1,)type'.\n",
      "  np_resource = np.dtype([(\"resource\", np.ubyte, 1)])\n"
     ]
    },
    {
     "name": "stdout",
     "output_type": "stream",
     "text": [
      "\n",
      "WARNING: The TensorFlow contrib module will not be included in TensorFlow 2.0.\n",
      "For more information, please see:\n",
      "  * https://github.com/tensorflow/community/blob/master/rfcs/20180907-contrib-sunset.md\n",
      "  * https://github.com/tensorflow/addons\n",
      "If you depend on functionality not listed there, please file an issue.\n",
      "\n"
     ]
    }
   ],
   "source": [
    "from layers import TacotronSTFT, STFT\n",
    "from hparams import create_hparams\n",
    "hparams = create_hparams()\n",
    "# allows WaveGlow from Ground Truth\n",
    "from utils import load_wav_to_torch\n",
    "stft = TacotronSTFT(hparams.filter_length, hparams.hop_length, hparams.win_length,\n",
    "                    hparams.n_mel_channels, hparams.sampling_rate, hparams.mel_fmin,\n",
    "                    hparams.mel_fmax)\n",
    "def load_mel(path):\n",
    "    audio, sampling_rate = load_wav_to_torch(path)\n",
    "    if sampling_rate != stft.sampling_rate:\n",
    "        raise ValueError(\"{} {} SR doesn't match target {} SR\".format(\n",
    "            sampling_rate, stft.sampling_rate))\n",
    "    audio_norm = audio / hparams.max_wav_value\n",
    "    audio_norm = audio_norm.unsqueeze(0)\n",
    "    audio_norm = torch.autograd.Variable(audio_norm, requires_grad=False)\n",
    "    melspec = stft.mel_spectrogram(audio_norm)\n",
    "    return melspec"
   ]
  },
  {
   "cell_type": "code",
   "execution_count": 17,
   "metadata": {},
   "outputs": [],
   "source": [
    "x = load_mel(\"/media/cookie/MoreStable/ClipperDatasetV2/SlicedDialogue/Special source/Outtakes/819 outtakes/00_59_34_Starlight_Annoyed Sarcastic__Do you suppose the terrifying trunk escape is too much for a Pony who drinks all the juice and talks nonstop in her sleep_.wav\")"
   ]
  },
  {
   "cell_type": "code",
   "execution_count": 18,
   "metadata": {},
   "outputs": [],
   "source": [
    "y = x.repeat(32,1,1)"
   ]
  },
  {
   "cell_type": "code",
   "execution_count": 19,
   "metadata": {},
   "outputs": [
    {
     "data": {
      "text/plain": [
       "torch.Size([32, 80, 556])"
      ]
     },
     "execution_count": 19,
     "metadata": {},
     "output_type": "execute_result"
    }
   ],
   "source": [
    "y.shape"
   ]
  },
  {
   "cell_type": "code",
   "execution_count": 20,
   "metadata": {},
   "outputs": [
    {
     "data": {
      "text/plain": [
       "torch.Size([32, 1, 556, 80])"
      ]
     },
     "execution_count": 20,
     "metadata": {},
     "output_type": "execute_result"
    }
   ],
   "source": [
    "y.unsqueeze(1).transpose(2,3).shape"
   ]
  },
  {
   "cell_type": "code",
   "execution_count": 23,
   "metadata": {},
   "outputs": [
    {
     "data": {
      "text/plain": [
       "torch.Size([32, 1, 556, 80])"
      ]
     },
     "execution_count": 23,
     "metadata": {},
     "output_type": "execute_result"
    }
   ],
   "source": [
    "y.view(y.size(0), 1, -1, 80).shape"
   ]
  },
  {
   "cell_type": "code",
   "execution_count": 22,
   "metadata": {},
   "outputs": [
    {
     "data": {
      "text/plain": [
       "tensor([[[[ True, False, False,  ..., False, False, False],\n",
       "          [False, False, False,  ..., False, False, False],\n",
       "          [False, False, False,  ..., False, False, False],\n",
       "          ...,\n",
       "          [False, False, False,  ..., False, False, False],\n",
       "          [False, False, False,  ..., False, False, False],\n",
       "          [False, False, False,  ..., False, False,  True]]],\n",
       "\n",
       "\n",
       "        [[[ True, False, False,  ..., False, False, False],\n",
       "          [False, False, False,  ..., False, False, False],\n",
       "          [False, False, False,  ..., False, False, False],\n",
       "          ...,\n",
       "          [False, False, False,  ..., False, False, False],\n",
       "          [False, False, False,  ..., False, False, False],\n",
       "          [False, False, False,  ..., False, False,  True]]],\n",
       "\n",
       "\n",
       "        [[[ True, False, False,  ..., False, False, False],\n",
       "          [False, False, False,  ..., False, False, False],\n",
       "          [False, False, False,  ..., False, False, False],\n",
       "          ...,\n",
       "          [False, False, False,  ..., False, False, False],\n",
       "          [False, False, False,  ..., False, False, False],\n",
       "          [False, False, False,  ..., False, False,  True]]],\n",
       "\n",
       "\n",
       "        ...,\n",
       "\n",
       "\n",
       "        [[[ True, False, False,  ..., False, False, False],\n",
       "          [False, False, False,  ..., False, False, False],\n",
       "          [False, False, False,  ..., False, False, False],\n",
       "          ...,\n",
       "          [False, False, False,  ..., False, False, False],\n",
       "          [False, False, False,  ..., False, False, False],\n",
       "          [False, False, False,  ..., False, False,  True]]],\n",
       "\n",
       "\n",
       "        [[[ True, False, False,  ..., False, False, False],\n",
       "          [False, False, False,  ..., False, False, False],\n",
       "          [False, False, False,  ..., False, False, False],\n",
       "          ...,\n",
       "          [False, False, False,  ..., False, False, False],\n",
       "          [False, False, False,  ..., False, False, False],\n",
       "          [False, False, False,  ..., False, False,  True]]],\n",
       "\n",
       "\n",
       "        [[[ True, False, False,  ..., False, False, False],\n",
       "          [False, False, False,  ..., False, False, False],\n",
       "          [False, False, False,  ..., False, False, False],\n",
       "          ...,\n",
       "          [False, False, False,  ..., False, False, False],\n",
       "          [False, False, False,  ..., False, False, False],\n",
       "          [False, False, False,  ..., False, False,  True]]]])"
      ]
     },
     "execution_count": 22,
     "metadata": {},
     "output_type": "execute_result"
    }
   ],
   "source": [
    "y.unsqueeze(1).transpose(2,3) == y.view(y.size(0), 1, -1, 80)"
   ]
  },
  {
   "cell_type": "code",
   "execution_count": 44,
   "metadata": {},
   "outputs": [],
   "source": [
    "list_ = [0,0,0,0,1,0,0,0,0,0]"
   ]
  },
  {
   "cell_type": "code",
   "execution_count": 45,
   "metadata": {},
   "outputs": [],
   "source": [
    "assert len(list_) == 10 # confirm the list is the correct length (10 in default params)"
   ]
  },
  {
   "cell_type": "code",
   "execution_count": 52,
   "metadata": {},
   "outputs": [
    {
     "data": {
      "text/plain": [
       "tensor([[0., 0., 0., 0., 1., 0., 0., 0., 0., 0.]])"
      ]
     },
     "execution_count": 52,
     "metadata": {},
     "output_type": "execute_result"
    }
   ],
   "source": [
    "torch.FloatTensor(list_).unsqueeze(0)"
   ]
  },
  {
   "cell_type": "code",
   "execution_count": 260,
   "metadata": {},
   "outputs": [
    {
     "name": "stdout",
     "output_type": "stream",
     "text": [
      "tensor([[[ 0.,  1.,  2.,  3.,  4.,  5.],\n",
      "         [ 0.,  1.,  2.,  3.,  4.,  5.],\n",
      "         [ 0.,  1.,  2.,  3.,  4.,  5.],\n",
      "         [ 0.,  1.,  2.,  3.,  4.,  5.]],\n",
      "\n",
      "        [[ 6.,  7.,  8.,  9., 10., 11.],\n",
      "         [ 6.,  7.,  8.,  9., 10., 11.],\n",
      "         [ 6.,  7.,  8.,  9., 10., 11.],\n",
      "         [ 6.,  7.,  8.,  9., 10., 11.]]])\n",
      "torch.Size([2, 4, 6])\n",
      "tensor([[0., 1., 2., 3., 4., 5.],\n",
      "        [0., 1., 2., 3., 4., 5.],\n",
      "        [0., 1., 2., 3., 4., 5.],\n",
      "        [0., 1., 2., 3., 4., 5.]])\n",
      "tensor([[ 6.,  7.,  8.,  9., 10., 11.],\n",
      "        [ 6.,  7.,  8.,  9., 10., 11.],\n",
      "        [ 6.,  7.,  8.,  9., 10., 11.],\n",
      "        [ 6.,  7.,  8.,  9., 10., 11.]])\n"
     ]
    }
   ],
   "source": [
    "tensor = torch.FloatTensor([[[0,1,2,3,4,5],[0,1,2,3,4,5],[0,1,2,3,4,5],[0,1,2,3,4,5]],[[6,7,8,9,10,11],[6,7,8,9,10,11],[6,7,8,9,10,11],[6,7,8,9,10,11]]])\n",
    "print(tensor)\n",
    "print(tensor.shape)\n",
    "print(tensor[0,:])\n",
    "print(tensor[1,:])\n",
    "# (B, n_mel_channels, mel_length)\n",
    "# (n_mel_channels, mel_length)\n",
    "# mel_channels = 4\n",
    "# Batch = 2\n",
    "# mel_length = 6"
   ]
  },
  {
   "cell_type": "code",
   "execution_count": 261,
   "metadata": {},
   "outputs": [
    {
     "name": "stdout",
     "output_type": "stream",
     "text": [
      "tensor([[[[ 0.,  1.,  2.,  3.],\n",
      "          [ 4.,  5.,  0.,  1.],\n",
      "          [ 2.,  3.,  4.,  5.],\n",
      "          [ 0.,  1.,  2.,  3.],\n",
      "          [ 4.,  5.,  0.,  1.],\n",
      "          [ 2.,  3.,  4.,  5.]]],\n",
      "\n",
      "\n",
      "        [[[ 6.,  7.,  8.,  9.],\n",
      "          [10., 11.,  6.,  7.],\n",
      "          [ 8.,  9., 10., 11.],\n",
      "          [ 6.,  7.,  8.,  9.],\n",
      "          [10., 11.,  6.,  7.],\n",
      "          [ 8.,  9., 10., 11.]]]])\n",
      "torch.Size([2, 1, 6, 4])\n",
      "tensor([[[0., 1., 2., 3.],\n",
      "         [4., 5., 0., 1.],\n",
      "         [2., 3., 4., 5.],\n",
      "         [0., 1., 2., 3.],\n",
      "         [4., 5., 0., 1.],\n",
      "         [2., 3., 4., 5.]]])\n"
     ]
    }
   ],
   "source": [
    " # (B, n_mel_channels, mel_length) -> [N, 1, time_domain, n_mel_channels]\n",
    "# mel_channels = 4\n",
    "# Batch = 2\n",
    "# mel_length = 6\n",
    "tensor_ = tensor.view(tensor.size(0),-1,4).unsqueeze(1)\n",
    "print(tensor_)\n",
    "print(tensor_.shape)\n",
    "print(tensor_[0,:])"
   ]
  },
  {
   "cell_type": "code",
   "execution_count": 262,
   "metadata": {},
   "outputs": [
    {
     "name": "stdout",
     "output_type": "stream",
     "text": [
      "tensor([[[[ 0.,  0.,  0.,  0.],\n",
      "          [ 1.,  1.,  1.,  1.],\n",
      "          [ 2.,  2.,  2.,  2.],\n",
      "          [ 3.,  3.,  3.,  3.],\n",
      "          [ 4.,  4.,  4.,  4.],\n",
      "          [ 5.,  5.,  5.,  5.]]],\n",
      "\n",
      "\n",
      "        [[[ 6.,  6.,  6.,  6.],\n",
      "          [ 7.,  7.,  7.,  7.],\n",
      "          [ 8.,  8.,  8.,  8.],\n",
      "          [ 9.,  9.,  9.,  9.],\n",
      "          [10., 10., 10., 10.],\n",
      "          [11., 11., 11., 11.]]]])\n",
      "torch.Size([2, 1, 6, 4])\n",
      "tensor([[[0., 0., 0., 0.],\n",
      "         [1., 1., 1., 1.],\n",
      "         [2., 2., 2., 2.],\n",
      "         [3., 3., 3., 3.],\n",
      "         [4., 4., 4., 4.],\n",
      "         [5., 5., 5., 5.]]])\n"
     ]
    }
   ],
   "source": [
    "# (B, n_mel_channels, mel_length) -> [N, 1, time_domain, n_mel_channels]\n",
    "# mel_channels = 4\n",
    "# Batch = 2\n",
    "# mel_length = 6\n",
    "tensor_ = tensor.transpose(1,2).unsqueeze(1)\n",
    "print(tensor_)\n",
    "print(tensor_.shape)\n",
    "print(tensor_[0,:])"
   ]
  },
  {
   "cell_type": "code",
   "execution_count": 263,
   "metadata": {},
   "outputs": [
    {
     "name": "stdout",
     "output_type": "stream",
     "text": [
      "tensor([[ 0.,  1.,  2.,  3.,  4.,  5.,  0.,  1.,  2.,  3.,  4.,  5.,  0.,  1.,\n",
      "          2.,  3.,  4.,  5.,  0.,  1.,  2.,  3.,  4.,  5.],\n",
      "        [ 6.,  7.,  8.,  9., 10., 11.,  6.,  7.,  8.,  9., 10., 11.,  6.,  7.,\n",
      "          8.,  9., 10., 11.,  6.,  7.,  8.,  9., 10., 11.]])\n",
      "torch.Size([2, 24])\n",
      "tensor([0., 1., 2., 3., 4., 5., 0., 1., 2., 3., 4., 5., 0., 1., 2., 3., 4., 5.,\n",
      "        0., 1., 2., 3., 4., 5.])\n"
     ]
    }
   ],
   "source": [
    "# (B, n_mel_channels, mel_length) -> [N, n_mel_channels * mel_length]\n",
    "# mel_channels = 4\n",
    "# Batch = 2\n",
    "# mel_length = 6\n",
    "tensor_ = tensor.view(tensor.size(0),tensor.size(-2)*tensor.size(-1))\n",
    "print(tensor_)\n",
    "print(tensor_.shape)\n",
    "print(tensor_[0,:])"
   ]
  },
  {
   "cell_type": "code",
   "execution_count": null,
   "metadata": {},
   "outputs": [],
   "source": []
  }
 ],
 "metadata": {
  "kernelspec": {
   "display_name": "Python 3",
   "language": "python",
   "name": "python3"
  },
  "language_info": {
   "codemirror_mode": {
    "name": "ipython",
    "version": 3
   },
   "file_extension": ".py",
   "mimetype": "text/x-python",
   "name": "python",
   "nbconvert_exporter": "python",
   "pygments_lexer": "ipython3",
   "version": "3.7.4"
  }
 },
 "nbformat": 4,
 "nbformat_minor": 2
}
