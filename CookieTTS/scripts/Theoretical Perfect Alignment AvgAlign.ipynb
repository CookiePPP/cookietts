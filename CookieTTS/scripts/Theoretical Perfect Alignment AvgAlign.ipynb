{
 "cells": [
  {
   "cell_type": "code",
   "execution_count": 7,
   "metadata": {},
   "outputs": [
    {
     "name": "stdout",
     "output_type": "stream",
     "text": [
      "36.0\n",
      "12.510752688172042\n",
      "6.394499355393211\n",
      "121.495487752471\n",
      "36.0\n",
      "0.7036926994906622\n"
     ]
    }
   ],
   "source": [
    "text = \"This is a sentence.\"\n",
    "text_length = len(text)\n",
    "window_length = 2400\n",
    "hop_length = 600\n",
    "words_per_minute = 130 # average for podcasts and dialogue\n",
    "characters_per_word = 716/124\n",
    "\n",
    "alignment_during_transition = 0.5\n",
    "transition_time = window_length//hop_length\n",
    "transition_frames = transition_time*(text_length-1)*alignment_during_transition\n",
    "print(transition_frames)\n",
    "chacters_per_second = (characters_per_word*words_per_minute)/60\n",
    "print(chacters_per_second)#letters per second\n",
    "melframes_per_character = 80/chacters_per_second\n",
    "print(melframes_per_character)\n",
    "total_frames = melframes_per_character*text_length\n",
    "print(total_frames)\n",
    "print(transition_frames)\n",
    "print(1-transition_frames/total_frames)"
   ]
  },
  {
   "cell_type": "code",
   "execution_count": 55,
   "metadata": {},
   "outputs": [],
   "source": [
    "from glob import glob\n",
    "import os\n",
    "\n",
    "audio_save_path = r\"D:\\Downloads\\infer\\audio\"\n",
    "output_filename = 'The Reader'\n",
    "\n",
    "n_audio_batches = round(len( glob(os.path.join(audio_save_path, \"audio_*_*.wav\")) ) / 300)\n",
    "if not output_filename[-4:].lower() == '.wav':\n",
    "    output_filename+='.wav'\n",
    "\n",
    "for i in range(n_audio_batches):\n",
    "    os.system(f'sox {os.path.join(audio_save_path, f\"audio_{i:02}_*.wav\")} {os.path.join(audio_save_path, f\"concat_{i:02}.wav\")}')\n",
    "os.system(f'sox \"{os.path.join(audio_save_path, \"concat_*.wav\")}\" \"{os.path.join(audio_save_path, output_filename)}\"')"
   ]
  },
  {
   "cell_type": "code",
   "execution_count": 58,
   "metadata": {},
   "outputs": [],
   "source": [
    "from glob import glob\n",
    "import os"
   ]
  },
  {
   "cell_type": "code",
   "execution_count": 59,
   "metadata": {},
   "outputs": [],
   "source": [
    "audio_save_path = r\"D:\\Downloads\\infer\\audio\"\n",
    "output_filename = 'The Reader'"
   ]
  },
  {
   "cell_type": "code",
   "execution_count": 57,
   "metadata": {},
   "outputs": [
    {
     "data": {
      "text/plain": [
       "0"
      ]
     },
     "execution_count": 57,
     "metadata": {},
     "output_type": "execute_result"
    }
   ],
   "source": [
    "for i in range(n_audio_batches):\n",
    "    os.system(f'sox {os.path.join(audio_save_path, f\"audio_{i:02}_*.wav\")} {os.path.join(audio_save_path, f\"concat_{i:02}.wav\")}')\n",
    "os.system(f'sox \"{os.path.join(audio_save_path, \"concat_*.wav\")}\" \"{os.path.join(audio_save_path, output_filename)}\"')"
   ]
  },
  {
   "cell_type": "code",
   "execution_count": null,
   "metadata": {},
   "outputs": [],
   "source": []
  },
  {
   "cell_type": "code",
   "execution_count": 12,
   "metadata": {},
   "outputs": [
    {
     "name": "stdout",
     "output_type": "stream",
     "text": [
      "Running, Please wait...\n",
      "Dictionary Ready.\n"
     ]
    }
   ],
   "source": [
    "#dictionary_path = r\"/media/cookie/Samsung PM961/TwiBot/tacotron2/filelists/merged.dict_.txt\"\n",
    "dictionary_path = r\"G:\\TwiBot\\tacotron2\\filelists\\merged.dict_.txt\"\n",
    "print(\"Running, Please wait...\")\n",
    "thisdict = {}\n",
    "for line in reversed((open(dictionary_path, \"r\").read()).splitlines()):\n",
    "    thisdict[(line.split(\" \", 1))[0]] = (line.split(\" \", 1))[1].strip()\n",
    "print(\"Dictionary Ready.\")\n",
    "sym = list(\"☺☻♥♦♣♠•◘○◙♂♀♪♫☼►◄↕‼¶§▬↨↑↓→←∟↔▲▼\")\n",
    "def ARPA(text_, punc=r\"!?,.;:␤#-_'\\\"\"):\n",
    "    brackets = text.count(\"{\"), text.count(\"}\")\n",
    "    text = text_.replace(\"\\n\",\" \"); out = ''\n",
    "    for word_ in text.split(\" \"):\n",
    "        word=word_; end_chars = ''; start_chars = ''\n",
    "        while any(elem in word for elem in punc) and len(word) > 1:\n",
    "            if word[-1] in punc: end_chars = word[-1] + end_chars; word = word[:-1]\n",
    "            elif word[0] in punc: start_chars = start_chars + word[0]; word = word[1:]\n",
    "            else: break\n",
    "        try: word_arpa = thisdict[word.upper()]\n",
    "        except: word_arpa = ''\n",
    "        if len(word_arpa)!=0: word = \"{\" + str(word_arpa) + \"}\"\n",
    "        out = (out + \" \" + start_chars + word + end_chars).strip()\n",
    "    #if out[-1] != \"␤\": out = out + \"␤\"\n",
    "    #if out[0] != \"☺\": out = \"☺\" + out\n",
    "    return out"
   ]
  },
  {
   "cell_type": "code",
   "execution_count": 13,
   "metadata": {},
   "outputs": [
    {
     "data": {
      "text/plain": [
       "'{T EH1 S T IH0 NG} {DH AH1} {AA1 R P AH0} {T R AE2 N S K R IH1 P SH AH0 N}.'"
      ]
     },
     "execution_count": 13,
     "metadata": {},
     "output_type": "execute_result"
    }
   ],
   "source": [
    "ARPA(\"Testing the arpa transcription.\")"
   ]
  },
  {
   "cell_type": "code",
   "execution_count": 15,
   "metadata": {},
   "outputs": [
    {
     "data": {
      "text/plain": [
       "'.{T EH1 S T IH0 NG} the-arpa {T R AE2 N S K R IH1 P SH AH0 N}.'"
      ]
     },
     "execution_count": 15,
     "metadata": {},
     "output_type": "execute_result"
    }
   ],
   "source": [
    "ARPA(\".Testing the-arpa transcription.\")"
   ]
  },
  {
   "cell_type": "code",
   "execution_count": 17,
   "metadata": {},
   "outputs": [
    {
     "data": {
      "text/plain": [
       "'{T EH1 S T IH0 NG} {DH AH1} {AA1 {AA1 R} {P IY1} AH0} {T R AE2 N S K R IH1 P SH AH0 N}.'"
      ]
     },
     "execution_count": 17,
     "metadata": {},
     "output_type": "execute_result"
    }
   ],
   "source": [
    "ARPA(\"Testing {DH AH1} {AA1 R P AH0} transcription.\")"
   ]
  },
  {
   "cell_type": "code",
   "execution_count": null,
   "metadata": {},
   "outputs": [],
   "source": [
    "\"Testing {DH AH1} {AA1 R P AH0} transcription.\"\n",
    "\n",
    "\"Testing\" \"{DH\" \"AH1}\" \"{AA1\" \"R\" \"P\" \"AH0}\" \"transcription.\""
   ]
  },
  {
   "cell_type": "code",
   "execution_count": 22,
   "metadata": {},
   "outputs": [
    {
     "data": {
      "text/plain": [
       "('Testing ', 'DH AH1', ' ', 'AA1 R P AH0', ' transcription. With more!')"
      ]
     },
     "execution_count": 22,
     "metadata": {},
     "output_type": "execute_result"
    }
   ],
   "source": [
    "\"Testing {DH AH1} {AA1 R P AH0} transcription. With more!\"\n",
    "\n",
    "# .replace(\"}\",\"{\").split(\"{}\")\n",
    "\n",
    "\"Testing \",\"DH AH1\",\" \",\"AA1 R P AH0\",\" transcription. With more!\""
   ]
  },
  {
   "cell_type": "code",
   "execution_count": 25,
   "metadata": {},
   "outputs": [],
   "source": [
    "text = \"Testing {DH AH1} {AA1 R P AH0} transcription. With more!\""
   ]
  },
  {
   "cell_type": "code",
   "execution_count": 29,
   "metadata": {},
   "outputs": [
    {
     "data": {
      "text/plain": [
       "2"
      ]
     },
     "execution_count": 29,
     "metadata": {},
     "output_type": "execute_result"
    }
   ],
   "source": [
    "text.count(\"{\")"
   ]
  },
  {
   "cell_type": "code",
   "execution_count": 30,
   "metadata": {},
   "outputs": [
    {
     "data": {
      "text/plain": [
       "2"
      ]
     },
     "execution_count": 30,
     "metadata": {},
     "output_type": "execute_result"
    }
   ],
   "source": [
    "text.count(\"}\")"
   ]
  },
  {
   "cell_type": "code",
   "execution_count": null,
   "metadata": {},
   "outputs": [],
   "source": []
  }
 ],
 "metadata": {
  "kernelspec": {
   "display_name": "Python 3",
   "language": "python",
   "name": "python3"
  },
  "language_info": {
   "codemirror_mode": {
    "name": "ipython",
    "version": 3
   },
   "file_extension": ".py",
   "mimetype": "text/x-python",
   "name": "python",
   "nbconvert_exporter": "python",
   "pygments_lexer": "ipython3",
   "version": "3.6.8"
  }
 },
 "nbformat": 4,
 "nbformat_minor": 4
}
